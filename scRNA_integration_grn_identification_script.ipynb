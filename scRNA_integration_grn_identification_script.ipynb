{
 "cells": [
  {
   "cell_type": "markdown",
   "metadata": {},
   "source": []
  },
  {
   "cell_type": "code",
   "execution_count": null,
   "metadata": {
    "vscode": {
     "languageId": "powershell"
    }
   },
   "outputs": [
    {
     "name": "stdout",
     "output_type": "stream",
     "text": [
      "^C\n",
      "Note: you may need to restart the kernel to use updated packages.\n",
      "Requirement already satisfied: scanpy in d:\\coding\\comp_bio\\endometrial_analysis\\.venv\\lib\\site-packages (1.10.4)\n",
      "Requirement already satisfied: scvi-tools in d:\\coding\\comp_bio\\endometrial_analysis\\.venv\\lib\\site-packages (1.2.0)\n",
      "Requirement already satisfied: anndata in d:\\coding\\comp_bio\\endometrial_analysis\\.venv\\lib\\site-packages (0.11.1)\n",
      "Requirement already satisfied: h5py>=3.6 in d:\\coding\\comp_bio\\endometrial_analysis\\.venv\\lib\\site-packages (from scanpy) (3.12.1)\n",
      "Requirement already satisfied: joblib in d:\\coding\\comp_bio\\endometrial_analysis\\.venv\\lib\\site-packages (from scanpy) (1.4.2)\n",
      "Requirement already satisfied: legacy-api-wrap>=1.4 in d:\\coding\\comp_bio\\endometrial_analysis\\.venv\\lib\\site-packages (from scanpy) (1.4)\n",
      "Requirement already satisfied: matplotlib>=3.6 in d:\\coding\\comp_bio\\endometrial_analysis\\.venv\\lib\\site-packages (from scanpy) (3.9.2)\n",
      "Requirement already satisfied: natsort in d:\\coding\\comp_bio\\endometrial_analysis\\.venv\\lib\\site-packages (from scanpy) (8.4.0)\n",
      "Requirement already satisfied: networkx>=2.7 in d:\\coding\\comp_bio\\endometrial_analysis\\.venv\\lib\\site-packages (from scanpy) (3.4.2)\n",
      "Requirement already satisfied: numba>=0.56 in d:\\coding\\comp_bio\\endometrial_analysis\\.venv\\lib\\site-packages (from scanpy) (0.60.0)\n",
      "Requirement already satisfied: numpy>=1.23 in d:\\coding\\comp_bio\\endometrial_analysis\\.venv\\lib\\site-packages (from scanpy) (1.26.4)\n",
      "Requirement already satisfied: packaging>=21.3 in d:\\coding\\comp_bio\\endometrial_analysis\\.venv\\lib\\site-packages (from scanpy) (24.2)\n",
      "Requirement already satisfied: pandas>=1.5 in d:\\coding\\comp_bio\\endometrial_analysis\\.venv\\lib\\site-packages (from scanpy) (2.2.3)\n",
      "Requirement already satisfied: patsy!=1.0.0 in d:\\coding\\comp_bio\\endometrial_analysis\\.venv\\lib\\site-packages (from scanpy) (1.0.1)\n",
      "Requirement already satisfied: pynndescent>=0.5 in d:\\coding\\comp_bio\\endometrial_analysis\\.venv\\lib\\site-packages (from scanpy) (0.5.13)\n",
      "Requirement already satisfied: scikit-learn>=1.1 in d:\\coding\\comp_bio\\endometrial_analysis\\.venv\\lib\\site-packages (from scanpy) (1.5.2)\n",
      "Requirement already satisfied: scipy>=1.8 in d:\\coding\\comp_bio\\endometrial_analysis\\.venv\\lib\\site-packages (from scanpy) (1.14.1)\n",
      "Requirement already satisfied: seaborn>=0.13 in d:\\coding\\comp_bio\\endometrial_analysis\\.venv\\lib\\site-packages (from scanpy) (0.13.2)\n",
      "Requirement already satisfied: session-info in d:\\coding\\comp_bio\\endometrial_analysis\\.venv\\lib\\site-packages (from scanpy) (1.0.0)\n",
      "Requirement already satisfied: statsmodels>=0.13 in d:\\coding\\comp_bio\\endometrial_analysis\\.venv\\lib\\site-packages (from scanpy) (0.14.4)\n",
      "Requirement already satisfied: tqdm in d:\\coding\\comp_bio\\endometrial_analysis\\.venv\\lib\\site-packages (from scanpy) (4.67.0)\n",
      "Requirement already satisfied: umap-learn!=0.5.0,>=0.5 in d:\\coding\\comp_bio\\endometrial_analysis\\.venv\\lib\\site-packages (from scanpy) (0.5.7)\n",
      "Requirement already satisfied: docrep>=0.3.2 in d:\\coding\\comp_bio\\endometrial_analysis\\.venv\\lib\\site-packages (from scvi-tools) (0.3.2)\n",
      "Requirement already satisfied: flax in d:\\coding\\comp_bio\\endometrial_analysis\\.venv\\lib\\site-packages (from scvi-tools) (0.10.1)\n",
      "Requirement already satisfied: jax in d:\\coding\\comp_bio\\endometrial_analysis\\.venv\\lib\\site-packages (from scvi-tools) (0.4.35)\n",
      "Requirement already satisfied: jaxlib in d:\\coding\\comp_bio\\endometrial_analysis\\.venv\\lib\\site-packages (from scvi-tools) (0.4.35)\n",
      "Requirement already satisfied: lightning>=2.0 in d:\\coding\\comp_bio\\endometrial_analysis\\.venv\\lib\\site-packages (from scvi-tools) (2.4.0)\n",
      "Requirement already satisfied: ml-collections>=0.1.1 in d:\\coding\\comp_bio\\endometrial_analysis\\.venv\\lib\\site-packages (from scvi-tools) (1.0.0)\n",
      "Requirement already satisfied: mudata>=0.1.2 in d:\\coding\\comp_bio\\endometrial_analysis\\.venv\\lib\\site-packages (from scvi-tools) (0.3.1)\n",
      "Requirement already satisfied: numpyro>=0.12.1 in d:\\coding\\comp_bio\\endometrial_analysis\\.venv\\lib\\site-packages (from scvi-tools) (0.15.3)\n",
      "Requirement already satisfied: optax in d:\\coding\\comp_bio\\endometrial_analysis\\.venv\\lib\\site-packages (from scvi-tools) (0.2.4)\n",
      "Requirement already satisfied: pyro-ppl>=1.6.0 in d:\\coding\\comp_bio\\endometrial_analysis\\.venv\\lib\\site-packages (from scvi-tools) (1.9.1)\n",
      "Requirement already satisfied: rich>=12.0.0 in d:\\coding\\comp_bio\\endometrial_analysis\\.venv\\lib\\site-packages (from scvi-tools) (13.9.4)\n",
      "Requirement already satisfied: sparse>=0.14.0 in d:\\coding\\comp_bio\\endometrial_analysis\\.venv\\lib\\site-packages (from scvi-tools) (0.15.4)\n",
      "Requirement already satisfied: tensorboard>=2.0 in d:\\coding\\comp_bio\\endometrial_analysis\\.venv\\lib\\site-packages (from scvi-tools) (2.18.0)\n",
      "Requirement already satisfied: torch in d:\\coding\\comp_bio\\endometrial_analysis\\.venv\\lib\\site-packages (from scvi-tools) (2.5.1)\n",
      "Requirement already satisfied: torchmetrics>=0.11.0 in d:\\coding\\comp_bio\\endometrial_analysis\\.venv\\lib\\site-packages (from scvi-tools) (1.6.0)\n",
      "Requirement already satisfied: xarray>=2023.2.0 in d:\\coding\\comp_bio\\endometrial_analysis\\.venv\\lib\\site-packages (from scvi-tools) (2024.10.0)\n",
      "Requirement already satisfied: array-api-compat!=1.5,>1.4 in d:\\coding\\comp_bio\\endometrial_analysis\\.venv\\lib\\site-packages (from anndata) (1.9.1)\n",
      "Requirement already satisfied: six in d:\\coding\\comp_bio\\endometrial_analysis\\.venv\\lib\\site-packages (from docrep>=0.3.2->scvi-tools) (1.16.0)\n",
      "Requirement already satisfied: PyYAML<8.0,>=5.4 in d:\\coding\\comp_bio\\endometrial_analysis\\.venv\\lib\\site-packages (from lightning>=2.0->scvi-tools) (6.0.2)\n",
      "Requirement already satisfied: fsspec<2026.0,>=2022.5.0 in d:\\coding\\comp_bio\\endometrial_analysis\\.venv\\lib\\site-packages (from fsspec[http]<2026.0,>=2022.5.0->lightning>=2.0->scvi-tools) (2024.10.0)\n",
      "Requirement already satisfied: lightning-utilities<2.0,>=0.10.0 in d:\\coding\\comp_bio\\endometrial_analysis\\.venv\\lib\\site-packages (from lightning>=2.0->scvi-tools) (0.11.8)\n",
      "Requirement already satisfied: typing-extensions<6.0,>=4.4.0 in d:\\coding\\comp_bio\\endometrial_analysis\\.venv\\lib\\site-packages (from lightning>=2.0->scvi-tools) (4.12.2)\n",
      "Requirement already satisfied: pytorch-lightning in d:\\coding\\comp_bio\\endometrial_analysis\\.venv\\lib\\site-packages (from lightning>=2.0->scvi-tools) (2.4.0)\n",
      "Requirement already satisfied: contourpy>=1.0.1 in d:\\coding\\comp_bio\\endometrial_analysis\\.venv\\lib\\site-packages (from matplotlib>=3.6->scanpy) (1.3.1)\n",
      "Requirement already satisfied: cycler>=0.10 in d:\\coding\\comp_bio\\endometrial_analysis\\.venv\\lib\\site-packages (from matplotlib>=3.6->scanpy) (0.12.1)\n",
      "Requirement already satisfied: fonttools>=4.22.0 in d:\\coding\\comp_bio\\endometrial_analysis\\.venv\\lib\\site-packages (from matplotlib>=3.6->scanpy) (4.55.0)\n",
      "Requirement already satisfied: kiwisolver>=1.3.1 in d:\\coding\\comp_bio\\endometrial_analysis\\.venv\\lib\\site-packages (from matplotlib>=3.6->scanpy) (1.4.7)\n",
      "Requirement already satisfied: pillow>=8 in d:\\coding\\comp_bio\\endometrial_analysis\\.venv\\lib\\site-packages (from matplotlib>=3.6->scanpy) (11.0.0)\n",
      "Requirement already satisfied: pyparsing>=2.3.1 in d:\\coding\\comp_bio\\endometrial_analysis\\.venv\\lib\\site-packages (from matplotlib>=3.6->scanpy) (3.2.0)\n",
      "Requirement already satisfied: python-dateutil>=2.7 in d:\\coding\\comp_bio\\endometrial_analysis\\.venv\\lib\\site-packages (from matplotlib>=3.6->scanpy) (2.9.0.post0)\n",
      "Requirement already satisfied: absl-py in d:\\coding\\comp_bio\\endometrial_analysis\\.venv\\lib\\site-packages (from ml-collections>=0.1.1->scvi-tools) (2.1.0)\n",
      "Requirement already satisfied: llvmlite<0.44,>=0.43.0dev0 in d:\\coding\\comp_bio\\endometrial_analysis\\.venv\\lib\\site-packages (from numba>=0.56->scanpy) (0.43.0)\n",
      "Requirement already satisfied: multipledispatch in d:\\coding\\comp_bio\\endometrial_analysis\\.venv\\lib\\site-packages (from numpyro>=0.12.1->scvi-tools) (1.0.0)\n",
      "Requirement already satisfied: ml-dtypes>=0.4.0 in d:\\coding\\comp_bio\\endometrial_analysis\\.venv\\lib\\site-packages (from jax->scvi-tools) (0.5.0)\n",
      "Requirement already satisfied: opt-einsum in d:\\coding\\comp_bio\\endometrial_analysis\\.venv\\lib\\site-packages (from jax->scvi-tools) (3.4.0)\n",
      "Requirement already satisfied: pytz>=2020.1 in d:\\coding\\comp_bio\\endometrial_analysis\\.venv\\lib\\site-packages (from pandas>=1.5->scanpy) (2024.2)\n",
      "Requirement already satisfied: tzdata>=2022.7 in d:\\coding\\comp_bio\\endometrial_analysis\\.venv\\lib\\site-packages (from pandas>=1.5->scanpy) (2024.2)\n",
      "Requirement already satisfied: pyro-api>=0.1.1 in d:\\coding\\comp_bio\\endometrial_analysis\\.venv\\lib\\site-packages (from pyro-ppl>=1.6.0->scvi-tools) (0.1.2)\n",
      "Requirement already satisfied: markdown-it-py>=2.2.0 in d:\\coding\\comp_bio\\endometrial_analysis\\.venv\\lib\\site-packages (from rich>=12.0.0->scvi-tools) (3.0.0)\n",
      "Requirement already satisfied: pygments<3.0.0,>=2.13.0 in d:\\coding\\comp_bio\\endometrial_analysis\\.venv\\lib\\site-packages (from rich>=12.0.0->scvi-tools) (2.18.0)\n",
      "Requirement already satisfied: threadpoolctl>=3.1.0 in d:\\coding\\comp_bio\\endometrial_analysis\\.venv\\lib\\site-packages (from scikit-learn>=1.1->scanpy) (3.5.0)\n",
      "Requirement already satisfied: grpcio>=1.48.2 in d:\\coding\\comp_bio\\endometrial_analysis\\.venv\\lib\\site-packages (from tensorboard>=2.0->scvi-tools) (1.68.0)\n",
      "Requirement already satisfied: markdown>=2.6.8 in d:\\coding\\comp_bio\\endometrial_analysis\\.venv\\lib\\site-packages (from tensorboard>=2.0->scvi-tools) (3.7)\n",
      "Requirement already satisfied: protobuf!=4.24.0,>=3.19.6 in d:\\coding\\comp_bio\\endometrial_analysis\\.venv\\lib\\site-packages (from tensorboard>=2.0->scvi-tools) (5.28.3)\n",
      "Requirement already satisfied: setuptools>=41.0.0 in d:\\coding\\comp_bio\\endometrial_analysis\\.venv\\lib\\site-packages (from tensorboard>=2.0->scvi-tools) (75.5.0)\n",
      "Requirement already satisfied: tensorboard-data-server<0.8.0,>=0.7.0 in d:\\coding\\comp_bio\\endometrial_analysis\\.venv\\lib\\site-packages (from tensorboard>=2.0->scvi-tools) (0.7.2)\n",
      "Requirement already satisfied: werkzeug>=1.0.1 in d:\\coding\\comp_bio\\endometrial_analysis\\.venv\\lib\\site-packages (from tensorboard>=2.0->scvi-tools) (3.1.3)\n",
      "Requirement already satisfied: filelock in d:\\coding\\comp_bio\\endometrial_analysis\\.venv\\lib\\site-packages (from torch->scvi-tools) (3.16.1)\n",
      "Requirement already satisfied: jinja2 in d:\\coding\\comp_bio\\endometrial_analysis\\.venv\\lib\\site-packages (from torch->scvi-tools) (3.1.4)\n",
      "Requirement already satisfied: sympy==1.13.1 in d:\\coding\\comp_bio\\endometrial_analysis\\.venv\\lib\\site-packages (from torch->scvi-tools) (1.13.1)\n",
      "Requirement already satisfied: mpmath<1.4,>=1.1.0 in d:\\coding\\comp_bio\\endometrial_analysis\\.venv\\lib\\site-packages (from sympy==1.13.1->torch->scvi-tools) (1.3.0)\n",
      "Requirement already satisfied: colorama in d:\\coding\\comp_bio\\endometrial_analysis\\.venv\\lib\\site-packages (from tqdm->scanpy) (0.4.6)\n",
      "Requirement already satisfied: msgpack in d:\\coding\\comp_bio\\endometrial_analysis\\.venv\\lib\\site-packages (from flax->scvi-tools) (1.1.0)\n",
      "Requirement already satisfied: orbax-checkpoint in d:\\coding\\comp_bio\\endometrial_analysis\\.venv\\lib\\site-packages (from flax->scvi-tools) (0.9.1)\n",
      "Requirement already satisfied: tensorstore in d:\\coding\\comp_bio\\endometrial_analysis\\.venv\\lib\\site-packages (from flax->scvi-tools) (0.1.68)\n",
      "Requirement already satisfied: chex>=0.1.87 in d:\\coding\\comp_bio\\endometrial_analysis\\.venv\\lib\\site-packages (from optax->scvi-tools) (0.1.87)\n",
      "Requirement already satisfied: etils[epy] in d:\\coding\\comp_bio\\endometrial_analysis\\.venv\\lib\\site-packages (from optax->scvi-tools) (1.10.0)\n",
      "Requirement already satisfied: stdlib-list in d:\\coding\\comp_bio\\endometrial_analysis\\.venv\\lib\\site-packages (from session-info->scanpy) (0.11.0)\n",
      "Requirement already satisfied: toolz>=0.9.0 in d:\\coding\\comp_bio\\endometrial_analysis\\.venv\\lib\\site-packages (from chex>=0.1.87->optax->scvi-tools) (1.0.0)\n",
      "Requirement already satisfied: aiohttp!=4.0.0a0,!=4.0.0a1 in d:\\coding\\comp_bio\\endometrial_analysis\\.venv\\lib\\site-packages (from fsspec[http]<2026.0,>=2022.5.0->lightning>=2.0->scvi-tools) (3.11.2)\n",
      "Requirement already satisfied: mdurl~=0.1 in d:\\coding\\comp_bio\\endometrial_analysis\\.venv\\lib\\site-packages (from markdown-it-py>=2.2.0->rich>=12.0.0->scvi-tools) (0.1.2)\n",
      "Requirement already satisfied: MarkupSafe>=2.1.1 in d:\\coding\\comp_bio\\endometrial_analysis\\.venv\\lib\\site-packages (from werkzeug>=1.0.1->tensorboard>=2.0->scvi-tools) (3.0.2)\n",
      "Requirement already satisfied: nest_asyncio in d:\\coding\\comp_bio\\endometrial_analysis\\.venv\\lib\\site-packages (from orbax-checkpoint->flax->scvi-tools) (1.6.0)\n",
      "Requirement already satisfied: humanize in d:\\coding\\comp_bio\\endometrial_analysis\\.venv\\lib\\site-packages (from orbax-checkpoint->flax->scvi-tools) (4.11.0)\n",
      "Requirement already satisfied: aiohappyeyeballs>=2.3.0 in d:\\coding\\comp_bio\\endometrial_analysis\\.venv\\lib\\site-packages (from aiohttp!=4.0.0a0,!=4.0.0a1->fsspec[http]<2026.0,>=2022.5.0->lightning>=2.0->scvi-tools) (2.4.3)\n",
      "Requirement already satisfied: aiosignal>=1.1.2 in d:\\coding\\comp_bio\\endometrial_analysis\\.venv\\lib\\site-packages (from aiohttp!=4.0.0a0,!=4.0.0a1->fsspec[http]<2026.0,>=2022.5.0->lightning>=2.0->scvi-tools) (1.3.1)\n",
      "Requirement already satisfied: attrs>=17.3.0 in d:\\coding\\comp_bio\\endometrial_analysis\\.venv\\lib\\site-packages (from aiohttp!=4.0.0a0,!=4.0.0a1->fsspec[http]<2026.0,>=2022.5.0->lightning>=2.0->scvi-tools) (24.2.0)\n",
      "Requirement already satisfied: frozenlist>=1.1.1 in d:\\coding\\comp_bio\\endometrial_analysis\\.venv\\lib\\site-packages (from aiohttp!=4.0.0a0,!=4.0.0a1->fsspec[http]<2026.0,>=2022.5.0->lightning>=2.0->scvi-tools) (1.5.0)\n",
      "Requirement already satisfied: multidict<7.0,>=4.5 in d:\\coding\\comp_bio\\endometrial_analysis\\.venv\\lib\\site-packages (from aiohttp!=4.0.0a0,!=4.0.0a1->fsspec[http]<2026.0,>=2022.5.0->lightning>=2.0->scvi-tools) (6.1.0)\n",
      "Requirement already satisfied: propcache>=0.2.0 in d:\\coding\\comp_bio\\endometrial_analysis\\.venv\\lib\\site-packages (from aiohttp!=4.0.0a0,!=4.0.0a1->fsspec[http]<2026.0,>=2022.5.0->lightning>=2.0->scvi-tools) (0.2.0)\n",
      "Requirement already satisfied: yarl<2.0,>=1.17.0 in d:\\coding\\comp_bio\\endometrial_analysis\\.venv\\lib\\site-packages (from aiohttp!=4.0.0a0,!=4.0.0a1->fsspec[http]<2026.0,>=2022.5.0->lightning>=2.0->scvi-tools) (1.17.2)\n",
      "Requirement already satisfied: importlib_resources in d:\\coding\\comp_bio\\endometrial_analysis\\.venv\\lib\\site-packages (from etils[epy]->optax->scvi-tools) (6.4.5)\n",
      "Requirement already satisfied: zipp in d:\\coding\\comp_bio\\endometrial_analysis\\.venv\\lib\\site-packages (from etils[epy]->optax->scvi-tools) (3.21.0)\n",
      "Requirement already satisfied: idna>=2.0 in d:\\coding\\comp_bio\\endometrial_analysis\\.venv\\lib\\site-packages (from yarl<2.0,>=1.17.0->aiohttp!=4.0.0a0,!=4.0.0a1->fsspec[http]<2026.0,>=2022.5.0->lightning>=2.0->scvi-tools) (3.10)\n",
      "Note: you may need to restart the kernel to use updated packages.\n",
      "Requirement already satisfied: seaborn in d:\\coding\\comp_bio\\endometrial_analysis\\.venv\\lib\\site-packages (0.13.2)\n",
      "Requirement already satisfied: numpy!=1.24.0,>=1.20 in d:\\coding\\comp_bio\\endometrial_analysis\\.venv\\lib\\site-packages (from seaborn) (1.26.4)\n",
      "Requirement already satisfied: pandas>=1.2 in d:\\coding\\comp_bio\\endometrial_analysis\\.venv\\lib\\site-packages (from seaborn) (2.2.3)\n",
      "Requirement already satisfied: matplotlib!=3.6.1,>=3.4 in d:\\coding\\comp_bio\\endometrial_analysis\\.venv\\lib\\site-packages (from seaborn) (3.9.2)\n",
      "Requirement already satisfied: contourpy>=1.0.1 in d:\\coding\\comp_bio\\endometrial_analysis\\.venv\\lib\\site-packages (from matplotlib!=3.6.1,>=3.4->seaborn) (1.3.1)\n",
      "Requirement already satisfied: cycler>=0.10 in d:\\coding\\comp_bio\\endometrial_analysis\\.venv\\lib\\site-packages (from matplotlib!=3.6.1,>=3.4->seaborn) (0.12.1)\n",
      "Requirement already satisfied: fonttools>=4.22.0 in d:\\coding\\comp_bio\\endometrial_analysis\\.venv\\lib\\site-packages (from matplotlib!=3.6.1,>=3.4->seaborn) (4.55.0)\n",
      "Requirement already satisfied: kiwisolver>=1.3.1 in d:\\coding\\comp_bio\\endometrial_analysis\\.venv\\lib\\site-packages (from matplotlib!=3.6.1,>=3.4->seaborn) (1.4.7)\n",
      "Requirement already satisfied: packaging>=20.0 in d:\\coding\\comp_bio\\endometrial_analysis\\.venv\\lib\\site-packages (from matplotlib!=3.6.1,>=3.4->seaborn) (24.2)\n",
      "Requirement already satisfied: pillow>=8 in d:\\coding\\comp_bio\\endometrial_analysis\\.venv\\lib\\site-packages (from matplotlib!=3.6.1,>=3.4->seaborn) (11.0.0)\n",
      "Requirement already satisfied: pyparsing>=2.3.1 in d:\\coding\\comp_bio\\endometrial_analysis\\.venv\\lib\\site-packages (from matplotlib!=3.6.1,>=3.4->seaborn) (3.2.0)\n",
      "Requirement already satisfied: python-dateutil>=2.7 in d:\\coding\\comp_bio\\endometrial_analysis\\.venv\\lib\\site-packages (from matplotlib!=3.6.1,>=3.4->seaborn) (2.9.0.post0)\n",
      "Requirement already satisfied: pytz>=2020.1 in d:\\coding\\comp_bio\\endometrial_analysis\\.venv\\lib\\site-packages (from pandas>=1.2->seaborn) (2024.2)\n",
      "Requirement already satisfied: tzdata>=2022.7 in d:\\coding\\comp_bio\\endometrial_analysis\\.venv\\lib\\site-packages (from pandas>=1.2->seaborn) (2024.2)\n",
      "Requirement already satisfied: six>=1.5 in d:\\coding\\comp_bio\\endometrial_analysis\\.venv\\lib\\site-packages (from python-dateutil>=2.7->matplotlib!=3.6.1,>=3.4->seaborn) (1.16.0)\n",
      "Note: you may need to restart the kernel to use updated packages.\n",
      "Note: you may need to restart the kernel to use updated packages.\n",
      "Requirement already satisfied: pandas in d:\\coding\\comp_bio\\endometrial_analysis\\.venv\\lib\\site-packages (2.2.3)\n",
      "Requirement already satisfied: numpy>=1.26.0 in d:\\coding\\comp_bio\\endometrial_analysis\\.venv\\lib\\site-packages (from pandas) (1.26.4)\n",
      "Requirement already satisfied: python-dateutil>=2.8.2 in d:\\coding\\comp_bio\\endometrial_analysis\\.venv\\lib\\site-packages (from pandas) (2.9.0.post0)\n",
      "Requirement already satisfied: pytz>=2020.1 in d:\\coding\\comp_bio\\endometrial_analysis\\.venv\\lib\\site-packages (from pandas) (2024.2)\n",
      "Requirement already satisfied: tzdata>=2022.7 in d:\\coding\\comp_bio\\endometrial_analysis\\.venv\\lib\\site-packages (from pandas) (2024.2)\n",
      "Requirement already satisfied: six>=1.5 in d:\\coding\\comp_bio\\endometrial_analysis\\.venv\\lib\\site-packages (from python-dateutil>=2.8.2->pandas) (1.16.0)\n",
      "Note: you may need to restart the kernel to use updated packages.\n",
      "Requirement already satisfied: pyscenic in d:\\coding\\comp_bio\\endometrial_analysis\\.venv\\lib\\site-packages (0.12.1)Note: you may need to restart the kernel to use updated packages.\n",
      "\n",
      "Requirement already satisfied: ctxcore>=0.2.0 in d:\\coding\\comp_bio\\endometrial_analysis\\.venv\\lib\\site-packages (from pyscenic) (0.2.0)\n",
      "Requirement already satisfied: cytoolz in d:\\coding\\comp_bio\\endometrial_analysis\\.venv\\lib\\site-packages (from pyscenic) (1.0.0)\n",
      "Requirement already satisfied: multiprocessing-on-dill in d:\\coding\\comp_bio\\endometrial_analysis\\.venv\\lib\\site-packages (from pyscenic) (3.5.0a4)\n",
      "Requirement already satisfied: llvmlite in d:\\coding\\comp_bio\\endometrial_analysis\\.venv\\lib\\site-packages (from pyscenic) (0.43.0)\n",
      "Requirement already satisfied: numba>=0.51.2 in d:\\coding\\comp_bio\\endometrial_analysis\\.venv\\lib\\site-packages (from pyscenic) (0.60.0)\n",
      "Requirement already satisfied: attrs in d:\\coding\\comp_bio\\endometrial_analysis\\.venv\\lib\\site-packages (from pyscenic) (24.2.0)\n",
      "Requirement already satisfied: frozendict in d:\\coding\\comp_bio\\endometrial_analysis\\.venv\\lib\\site-packages (from pyscenic) (2.4.6)\n",
      "Requirement already satisfied: numpy in d:\\coding\\comp_bio\\endometrial_analysis\\.venv\\lib\\site-packages (from pyscenic) (1.26.4)\n",
      "Requirement already satisfied: pandas>=1.3.5 in d:\\coding\\comp_bio\\endometrial_analysis\\.venv\\lib\\site-packages (from pyscenic) (2.2.3)\n",
      "Requirement already satisfied: numexpr in d:\\coding\\comp_bio\\endometrial_analysis\\.venv\\lib\\site-packages (from pyscenic) (2.10.1)\n",
      "Requirement already satisfied: cloudpickle in d:\\coding\\comp_bio\\endometrial_analysis\\.venv\\lib\\site-packages (from pyscenic) (3.1.0)\n",
      "Requirement already satisfied: dask in d:\\coding\\comp_bio\\endometrial_analysis\\.venv\\lib\\site-packages (from pyscenic) (2024.11.2)\n",
      "Requirement already satisfied: distributed in d:\\coding\\comp_bio\\endometrial_analysis\\.venv\\lib\\site-packages (from pyscenic) (2024.11.2)\n",
      "Requirement already satisfied: arboreto>=0.1.6 in d:\\coding\\comp_bio\\endometrial_analysis\\.venv\\lib\\site-packages (from pyscenic) (0.1.6)\n",
      "Requirement already satisfied: boltons in d:\\coding\\comp_bio\\endometrial_analysis\\.venv\\lib\\site-packages (from pyscenic) (24.1.0)\n",
      "Requirement already satisfied: setuptools in d:\\coding\\comp_bio\\endometrial_analysis\\.venv\\lib\\site-packages (from pyscenic) (75.5.0)\n",
      "Requirement already satisfied: pyyaml in d:\\coding\\comp_bio\\endometrial_analysis\\.venv\\lib\\site-packages (from pyscenic) (6.0.2)\n",
      "Requirement already satisfied: tqdm in d:\\coding\\comp_bio\\endometrial_analysis\\.venv\\lib\\site-packages (from pyscenic) (4.67.0)\n",
      "Requirement already satisfied: interlap in d:\\coding\\comp_bio\\endometrial_analysis\\.venv\\lib\\site-packages (from pyscenic) (0.2.7)\n",
      "Requirement already satisfied: umap-learn in d:\\coding\\comp_bio\\endometrial_analysis\\.venv\\lib\\site-packages (from pyscenic) (0.5.7)\n",
      "Requirement already satisfied: loompy in d:\\coding\\comp_bio\\endometrial_analysis\\.venv\\lib\\site-packages (from pyscenic) (3.0.7)\n",
      "Requirement already satisfied: networkx in d:\\coding\\comp_bio\\endometrial_analysis\\.venv\\lib\\site-packages (from pyscenic) (3.4.2)\n",
      "Requirement already satisfied: scipy in d:\\coding\\comp_bio\\endometrial_analysis\\.venv\\lib\\site-packages (from pyscenic) (1.14.1)\n",
      "Requirement already satisfied: fsspec in d:\\coding\\comp_bio\\endometrial_analysis\\.venv\\lib\\site-packages (from pyscenic) (2024.10.0)\n",
      "Requirement already satisfied: requests in d:\\coding\\comp_bio\\endometrial_analysis\\.venv\\lib\\site-packages (from pyscenic) (2.32.3)\n",
      "Requirement already satisfied: aiohttp in d:\\coding\\comp_bio\\endometrial_analysis\\.venv\\lib\\site-packages (from pyscenic) (3.11.2)\n",
      "Requirement already satisfied: scikit-learn>=0.22.2 in d:\\coding\\comp_bio\\endometrial_analysis\\.venv\\lib\\site-packages (from pyscenic) (1.5.2)\n",
      "Requirement already satisfied: pyarrow>=8.0.0 in d:\\coding\\comp_bio\\endometrial_analysis\\.venv\\lib\\site-packages (from ctxcore>=0.2.0->pyscenic) (18.0.0)\n",
      "Requirement already satisfied: python-dateutil>=2.8.2 in d:\\coding\\comp_bio\\endometrial_analysis\\.venv\\lib\\site-packages (from pandas>=1.3.5->pyscenic) (2.9.0.post0)\n",
      "Requirement already satisfied: pytz>=2020.1 in d:\\coding\\comp_bio\\endometrial_analysis\\.venv\\lib\\site-packages (from pandas>=1.3.5->pyscenic) (2024.2)\n",
      "Requirement already satisfied: tzdata>=2022.7 in d:\\coding\\comp_bio\\endometrial_analysis\\.venv\\lib\\site-packages (from pandas>=1.3.5->pyscenic) (2024.2)\n",
      "Requirement already satisfied: joblib>=1.2.0 in d:\\coding\\comp_bio\\endometrial_analysis\\.venv\\lib\\site-packages (from scikit-learn>=0.22.2->pyscenic) (1.4.2)\n",
      "Requirement already satisfied: threadpoolctl>=3.1.0 in d:\\coding\\comp_bio\\endometrial_analysis\\.venv\\lib\\site-packages (from scikit-learn>=0.22.2->pyscenic) (3.5.0)\n",
      "Requirement already satisfied: aiohappyeyeballs>=2.3.0 in d:\\coding\\comp_bio\\endometrial_analysis\\.venv\\lib\\site-packages (from aiohttp->pyscenic) (2.4.3)\n",
      "Requirement already satisfied: aiosignal>=1.1.2 in d:\\coding\\comp_bio\\endometrial_analysis\\.venv\\lib\\site-packages (from aiohttp->pyscenic) (1.3.1)\n",
      "Requirement already satisfied: frozenlist>=1.1.1 in d:\\coding\\comp_bio\\endometrial_analysis\\.venv\\lib\\site-packages (from aiohttp->pyscenic) (1.5.0)\n",
      "Requirement already satisfied: multidict<7.0,>=4.5 in d:\\coding\\comp_bio\\endometrial_analysis\\.venv\\lib\\site-packages (from aiohttp->pyscenic) (6.1.0)\n",
      "Requirement already satisfied: propcache>=0.2.0 in d:\\coding\\comp_bio\\endometrial_analysis\\.venv\\lib\\site-packages (from aiohttp->pyscenic) (0.2.0)\n",
      "Requirement already satisfied: yarl<2.0,>=1.17.0 in d:\\coding\\comp_bio\\endometrial_analysis\\.venv\\lib\\site-packages (from aiohttp->pyscenic) (1.17.2)\n",
      "Requirement already satisfied: toolz>=0.8.0 in d:\\coding\\comp_bio\\endometrial_analysis\\.venv\\lib\\site-packages (from cytoolz->pyscenic) (1.0.0)\n",
      "Requirement already satisfied: click>=8.1 in d:\\coding\\comp_bio\\endometrial_analysis\\.venv\\lib\\site-packages (from dask->pyscenic) (8.1.7)\n",
      "Requirement already satisfied: packaging>=20.0 in d:\\coding\\comp_bio\\endometrial_analysis\\.venv\\lib\\site-packages (from dask->pyscenic) (24.2)\n",
      "Requirement already satisfied: partd>=1.4.0 in d:\\coding\\comp_bio\\endometrial_analysis\\.venv\\lib\\site-packages (from dask->pyscenic) (1.4.2)\n",
      "Requirement already satisfied: jinja2>=2.10.3 in d:\\coding\\comp_bio\\endometrial_analysis\\.venv\\lib\\site-packages (from distributed->pyscenic) (3.1.4)\n",
      "Requirement already satisfied: locket>=1.0.0 in d:\\coding\\comp_bio\\endometrial_analysis\\.venv\\lib\\site-packages (from distributed->pyscenic) (1.0.0)\n",
      "Requirement already satisfied: msgpack>=1.0.2 in d:\\coding\\comp_bio\\endometrial_analysis\\.venv\\lib\\site-packages (from distributed->pyscenic) (1.1.0)\n",
      "Requirement already satisfied: psutil>=5.8.0 in d:\\coding\\comp_bio\\endometrial_analysis\\.venv\\lib\\site-packages (from distributed->pyscenic) (6.1.0)\n",
      "Requirement already satisfied: sortedcontainers>=2.0.5 in d:\\coding\\comp_bio\\endometrial_analysis\\.venv\\lib\\site-packages (from distributed->pyscenic) (2.4.0)\n",
      "Requirement already satisfied: tblib>=1.6.0 in d:\\coding\\comp_bio\\endometrial_analysis\\.venv\\lib\\site-packages (from distributed->pyscenic) (3.0.0)\n",
      "Requirement already satisfied: tornado>=6.2.0 in d:\\coding\\comp_bio\\endometrial_analysis\\.venv\\lib\\site-packages (from distributed->pyscenic) (6.4.1)\n",
      "Requirement already satisfied: urllib3>=1.26.5 in d:\\coding\\comp_bio\\endometrial_analysis\\.venv\\lib\\site-packages (from distributed->pyscenic) (2.2.3)\n",
      "Requirement already satisfied: zict>=3.0.0 in d:\\coding\\comp_bio\\endometrial_analysis\\.venv\\lib\\site-packages (from distributed->pyscenic) (3.0.0)\n",
      "Requirement already satisfied: h5py in d:\\coding\\comp_bio\\endometrial_analysis\\.venv\\lib\\site-packages (from loompy->pyscenic) (3.12.1)\n",
      "Requirement already satisfied: numpy-groupies in d:\\coding\\comp_bio\\endometrial_analysis\\.venv\\lib\\site-packages (from loompy->pyscenic) (0.11.2)\n",
      "Requirement already satisfied: dill in d:\\coding\\comp_bio\\endometrial_analysis\\.venv\\lib\\site-packages (from multiprocessing-on-dill->pyscenic) (0.3.9)\n",
      "Requirement already satisfied: charset-normalizer<4,>=2 in d:\\coding\\comp_bio\\endometrial_analysis\\.venv\\lib\\site-packages (from requests->pyscenic) (3.4.0)\n",
      "Requirement already satisfied: idna<4,>=2.5 in d:\\coding\\comp_bio\\endometrial_analysis\\.venv\\lib\\site-packages (from requests->pyscenic) (3.10)\n",
      "Requirement already satisfied: certifi>=2017.4.17 in d:\\coding\\comp_bio\\endometrial_analysis\\.venv\\lib\\site-packages (from requests->pyscenic) (2024.8.30)\n",
      "Requirement already satisfied: colorama in d:\\coding\\comp_bio\\endometrial_analysis\\.venv\\lib\\site-packages (from tqdm->pyscenic) (0.4.6)\n",
      "Requirement already satisfied: pynndescent>=0.5 in d:\\coding\\comp_bio\\endometrial_analysis\\.venv\\lib\\site-packages (from umap-learn->pyscenic) (0.5.13)\n",
      "Requirement already satisfied: MarkupSafe>=2.0 in d:\\coding\\comp_bio\\endometrial_analysis\\.venv\\lib\\site-packages (from jinja2>=2.10.3->distributed->pyscenic) (3.0.2)\n",
      "Requirement already satisfied: six>=1.5 in d:\\coding\\comp_bio\\endometrial_analysis\\.venv\\lib\\site-packages (from python-dateutil>=2.8.2->pandas>=1.3.5->pyscenic) (1.16.0)\n",
      "Requirement already satisfied: lz4>=4.3.2 in d:\\coding\\comp_bio\\endometrial_analysis\\.venv\\lib\\site-packages (from dask[complete]->arboreto>=0.1.6->pyscenic) (4.3.3)\n",
      "Requirement already satisfied: dask-expr<1.2,>=1.1 in d:\\coding\\comp_bio\\endometrial_analysis\\.venv\\lib\\site-packages (from dask->pyscenic) (1.1.19)\n",
      "Requirement already satisfied: bokeh>=3.1.0 in d:\\coding\\comp_bio\\endometrial_analysis\\.venv\\lib\\site-packages (from dask->pyscenic) (3.6.1)\n",
      "Requirement already satisfied: contourpy>=1.2 in d:\\coding\\comp_bio\\endometrial_analysis\\.venv\\lib\\site-packages (from bokeh>=3.1.0->dask->pyscenic) (1.3.1)\n",
      "Requirement already satisfied: pillow>=7.1.0 in d:\\coding\\comp_bio\\endometrial_analysis\\.venv\\lib\\site-packages (from bokeh>=3.1.0->dask->pyscenic) (11.0.0)\n",
      "Requirement already satisfied: xyzservices>=2021.09.1 in d:\\coding\\comp_bio\\endometrial_analysis\\.venv\\lib\\site-packages (from bokeh>=3.1.0->dask->pyscenic) (2024.9.0)\n",
      "Requirement already satisfied: ipywidgets in d:\\coding\\comp_bio\\endometrial_analysis\\.venv\\lib\\site-packages (8.1.5)\n",
      "Requirement already satisfied: comm>=0.1.3 in d:\\coding\\comp_bio\\endometrial_analysis\\.venv\\lib\\site-packages (from ipywidgets) (0.2.2)\n",
      "Requirement already satisfied: ipython>=6.1.0 in d:\\coding\\comp_bio\\endometrial_analysis\\.venv\\lib\\site-packages (from ipywidgets) (8.29.0)\n",
      "Requirement already satisfied: traitlets>=4.3.1 in d:\\coding\\comp_bio\\endometrial_analysis\\.venv\\lib\\site-packages (from ipywidgets) (5.14.3)\n",
      "Requirement already satisfied: widgetsnbextension~=4.0.12 in d:\\coding\\comp_bio\\endometrial_analysis\\.venv\\lib\\site-packages (from ipywidgets) (4.0.13)\n",
      "Requirement already satisfied: jupyterlab-widgets~=3.0.12 in d:\\coding\\comp_bio\\endometrial_analysis\\.venv\\lib\\site-packages (from ipywidgets) (3.0.13)\n",
      "Requirement already satisfied: decorator in d:\\coding\\comp_bio\\endometrial_analysis\\.venv\\lib\\site-packages (from ipython>=6.1.0->ipywidgets) (5.1.1)\n",
      "Requirement already satisfied: jedi>=0.16 in d:\\coding\\comp_bio\\endometrial_analysis\\.venv\\lib\\site-packages (from ipython>=6.1.0->ipywidgets) (0.19.2)\n",
      "Requirement already satisfied: matplotlib-inline in d:\\coding\\comp_bio\\endometrial_analysis\\.venv\\lib\\site-packages (from ipython>=6.1.0->ipywidgets) (0.1.7)\n",
      "Requirement already satisfied: prompt-toolkit<3.1.0,>=3.0.41 in d:\\coding\\comp_bio\\endometrial_analysis\\.venv\\lib\\site-packages (from ipython>=6.1.0->ipywidgets) (3.0.48)\n",
      "Requirement already satisfied: pygments>=2.4.0 in d:\\coding\\comp_bio\\endometrial_analysis\\.venv\\lib\\site-packages (from ipython>=6.1.0->ipywidgets) (2.18.0)\n",
      "Requirement already satisfied: stack-data in d:\\coding\\comp_bio\\endometrial_analysis\\.venv\\lib\\site-packages (from ipython>=6.1.0->ipywidgets) (0.6.3)\n",
      "Requirement already satisfied: colorama in d:\\coding\\comp_bio\\endometrial_analysis\\.venv\\lib\\site-packages (from ipython>=6.1.0->ipywidgets) (0.4.6)\n",
      "Requirement already satisfied: parso<0.9.0,>=0.8.4 in d:\\coding\\comp_bio\\endometrial_analysis\\.venv\\lib\\site-packages (from jedi>=0.16->ipython>=6.1.0->ipywidgets) (0.8.4)\n",
      "Requirement already satisfied: wcwidth in d:\\coding\\comp_bio\\endometrial_analysis\\.venv\\lib\\site-packages (from prompt-toolkit<3.1.0,>=3.0.41->ipython>=6.1.0->ipywidgets) (0.2.13)\n",
      "Requirement already satisfied: executing>=1.2.0 in d:\\coding\\comp_bio\\endometrial_analysis\\.venv\\lib\\site-packages (from stack-data->ipython>=6.1.0->ipywidgets) (2.1.0)\n",
      "Requirement already satisfied: asttokens>=2.1.0 in d:\\coding\\comp_bio\\endometrial_analysis\\.venv\\lib\\site-packages (from stack-data->ipython>=6.1.0->ipywidgets) (2.4.1)\n",
      "Requirement already satisfied: pure-eval in d:\\coding\\comp_bio\\endometrial_analysis\\.venv\\lib\\site-packages (from stack-data->ipython>=6.1.0->ipywidgets) (0.2.3)\n",
      "Requirement already satisfied: six>=1.12.0 in d:\\coding\\comp_bio\\endometrial_analysis\\.venv\\lib\\site-packages (from asttokens>=2.1.0->stack-data->ipython>=6.1.0->ipywidgets) (1.16.0)\n",
      "Note: you may need to restart the kernel to use updated packages.\n"
     ]
    }
   ],
   "source": [
    "%pip install scanpy scvi-tools anndata\n",
    "%pip install --quiet gdown\n",
    "%pip install seaborn\n",
    "%pip install --quiet bbknn\n",
    "%pip install pandas\n",
    "%pip install pyscenic\n",
    "%pip install ipywidgets\n",
    "%pip install MulticoreTSNE\n",
    "%pip install scipy\n",
    "%pip install scikit-misc"
   ]
  },
  {
   "cell_type": "markdown",
   "metadata": {},
   "source": [
    "Import packages"
   ]
  },
  {
   "cell_type": "code",
   "execution_count": 1,
   "metadata": {},
   "outputs": [
    {
     "name": "stderr",
     "output_type": "stream",
     "text": [
      "d:\\Coding\\comp_bio\\endometrial_analysis\\.venv\\Lib\\site-packages\\anndata\\utils.py:429: FutureWarning: Importing read_csv from `anndata` is deprecated. Import anndata.io.read_csv instead.\n",
      "  warnings.warn(msg, FutureWarning)\n",
      "d:\\Coding\\comp_bio\\endometrial_analysis\\.venv\\Lib\\site-packages\\anndata\\utils.py:429: FutureWarning: Importing read_loom from `anndata` is deprecated. Import anndata.io.read_loom instead.\n",
      "  warnings.warn(msg, FutureWarning)\n",
      "d:\\Coding\\comp_bio\\endometrial_analysis\\.venv\\Lib\\site-packages\\anndata\\utils.py:429: FutureWarning: Importing read_text from `anndata` is deprecated. Import anndata.io.read_text instead.\n",
      "  warnings.warn(msg, FutureWarning)\n",
      "d:\\Coding\\comp_bio\\endometrial_analysis\\.venv\\Lib\\site-packages\\anndata\\utils.py:429: FutureWarning: Importing CSCDataset from `anndata.experimental` is deprecated. Import anndata.abc.CSCDataset instead.\n",
      "  warnings.warn(msg, FutureWarning)\n",
      "d:\\Coding\\comp_bio\\endometrial_analysis\\.venv\\Lib\\site-packages\\anndata\\utils.py:429: FutureWarning: Importing CSRDataset from `anndata.experimental` is deprecated. Import anndata.abc.CSRDataset instead.\n",
      "  warnings.warn(msg, FutureWarning)\n",
      "d:\\Coding\\comp_bio\\endometrial_analysis\\.venv\\Lib\\site-packages\\anndata\\utils.py:429: FutureWarning: Importing read_elem from `anndata.experimental` is deprecated. Import anndata.io.read_elem instead.\n",
      "  warnings.warn(msg, FutureWarning)\n"
     ]
    }
   ],
   "source": [
    "import scanpy as sc\n",
    "import anndata as ad\n",
    "from anndata.experimental.multi_files import AnnCollection\n",
    "import os\n",
    "import tarfile\n",
    "import scvi\n",
    "import numpy as np\n",
    "import glob\n",
    "#specific requirements of pyscenic\n",
    "import loompy as lp\n",
    "\n",
    "## This is T-SNE, download has wheel error, could fix... could use UM\n",
    "#from MulticoreTSNE import MulticoreTSNE as TSNE\n",
    "\n",
    "#data vis\n",
    "import seaborn as sns\n",
    "import matplotlib.pyplot as plt\n",
    "import seaborn as sns\n",
    "import matplotlib.pyplot as plt\n",
    "import umap"
   ]
  },
  {
   "cell_type": "code",
   "execution_count": null,
   "metadata": {},
   "outputs": [],
   "source": [
    "import shutil\n",
    "\n",
    "total, used, free = shutil.disk_usage(\"/\")\n",
    "print(f\"Total: {total // (2**30)} GiB\")\n",
    "print(f\"Used: {used // (2**30)} GiB\")\n",
    "print(f\"Free: {free // (2**30)} GiB\")"
   ]
  },
  {
   "cell_type": "code",
   "execution_count": null,
   "metadata": {},
   "outputs": [],
   "source": [
    "\n",
    "# Function to extract tar.gz files\n",
    "def extract_tar_gz(tar_gz_path, extract_dir):\n",
    "    with tarfile.open(tar_gz_path, \"r:gz\") as tar:\n",
    "        tar.extractall(path=extract_dir)\n",
    "\n",
    "# Directory containing your datasets\n",
    "input_dir = \"input/biostudiesarrayE-MTAB-14039\"\n",
    "extracted_dir = \"input/extracted_data\"  # Folder to save the extracted files\n",
    "os.makedirs(extracted_dir, exist_ok=True)\n",
    "\n",
    "# List all top-level files in the input directory\n",
    "tar_gz_files = [f for f in os.listdir(input_dir) if f.endswith('.tar.gz')]\n",
    "\n",
    "# Extract tar.gz files\n",
    "for tar_gz_file in tar_gz_files:\n",
    "    tar_gz_path = os.path.join(input_dir, tar_gz_file)\n",
    "    \n",
    "    # Extract the tar.gz file to the extracted directory\n",
    "    extract_tar_gz(tar_gz_path, extracted_dir)\n"
   ]
  },
  {
   "cell_type": "code",
   "execution_count": null,
   "metadata": {},
   "outputs": [],
   "source": [
    "\n",
    "# Directory where the files have been extracted\n",
    "extracted_work_dir = \"input/extracted_data\"  # Directory where you extracted the tar files\n",
    "# List to store directory names under the 'work' directory\n",
    "dataset_dirs = []\n",
    "\n",
    "# Traverse the 'work' directory to find subdirectories\n",
    "for root, dirs, files in os.walk(extracted_work_dir):\n",
    "    # Only consider directories directly under the 'work' directory\n",
    "    if \"work\" in root:\n",
    "        for dir_name in dirs:\n",
    "            path = os.path.join(root, dir_name)\n",
    "            # Append the directory name under 'work'\n",
    "            dataset_dirs.append(path)\n",
    "\n",
    "# Now dataset_dirs contains the names of all subdirectories under 'work'\n",
    "print(\"Dataset directories under 'work':\", dataset_dirs)\n"
   ]
  },
  {
   "cell_type": "code",
   "execution_count": null,
   "metadata": {},
   "outputs": [],
   "source": [
    "print(dataset_dirs)"
   ]
  },
  {
   "cell_type": "markdown",
   "metadata": {},
   "source": [
    "\n",
    "Docs: https://anndata.readthedocs.io/en/latest/tutorials/notebooks/anncollection.html\n",
    "https://ccbskillssem.github.io/assets/scvi_notebook.html\n",
    "\n",
    "warning: \"If you use join='outer' this fills 0s for sparse data when variables are absent in a batch. Use this with care. Dense data is filled with NaN.\"\n",
    "\n",
    "https://discourse.scverse.org/t/how-to-concatenate-anndata-properly/887/2\n",
    "strongly recommends datacleaning each dataset before concatenating -- assuming that they did it for us"
   ]
  },
  {
   "cell_type": "code",
   "execution_count": null,
   "metadata": {},
   "outputs": [],
   "source": [
    "\n",
    "hd5a_files_directory = r\"input/hd5a_files\"\n",
    "if not os.path.exists(hd5a_files_directory):\n",
    "    os.makedirs(hd5a_files_directory) \n",
    "adatas_dict = {}\n",
    "for directory in dataset_dirs:\n",
    "    adata = sc.read_10x_mtx(directory)\n",
    "    adata.X = adata.X.tocsr()\n",
    "    #dir_name = directory.split(\"\\\\\")[-1]\n",
    "    dir_name = os.path.basename(directory) #platform independent\n",
    "    h5ad_filename = f\"{dir_name}.h5ad\"\n",
    "\n",
    "    h5ad_path = os.path.join(hd5a_files_directory, h5ad_filename)\n",
    "    adata.write(h5ad_path)\n",
    "    adatas_dict[dir_name] = h5ad_path\n"
   ]
  },
  {
   "cell_type": "code",
   "execution_count": null,
   "metadata": {},
   "outputs": [],
   "source": [
    "print(adatas_dict)"
   ]
  },
  {
   "cell_type": "code",
   "execution_count": null,
   "metadata": {},
   "outputs": [],
   "source": [
    "output_directory = r\"output/\"\n",
    "combined_on_disk_name = os.path.join(output_directory, 'data_combined_on_disk.h5ad') \n",
    "#os.remove(combined_on_disk_name)\n",
    "ad.experimental.concat_on_disk(\n",
    "    adatas_dict,          # List of paths to the individual .h5ad files\n",
    "    combined_on_disk_name,  # Path to the combined output file\n",
    "    label='dataset'      # Optional: label for the datasets\n",
    ")"
   ]
  },
  {
   "cell_type": "code",
   "execution_count": 2,
   "metadata": {},
   "outputs": [
    {
     "name": "stderr",
     "output_type": "stream",
     "text": [
      "d:\\Coding\\comp_bio\\endometrial_analysis\\.venv\\Lib\\site-packages\\anndata\\_core\\anndata.py:1756: UserWarning: Observation names are not unique. To make them unique, call `.obs_names_make_unique`.\n",
      "  utils.warn_names_duplicates(\"obs\")\n"
     ]
    }
   ],
   "source": [
    "combined_adata = sc.read(\"output/data_combined_on_disk.h5ad\")\n",
    "combined_adata.obs_names_make_unique() \n",
    "##collection -- nice way to interact with the data separately:\n",
    "#ann_collection = AnnCollection(adatas_dict, join_vars='outer', join_obs=None, label='dataset')\n",
    "#collection_name = output_directory + 'data_collection.h5ad'\n",
    "##not sure how to save the object for an easy reload"
   ]
  },
  {
   "cell_type": "code",
   "execution_count": 3,
   "metadata": {},
   "outputs": [],
   "source": [
    "##METHOD USING BATCHING -- broken???\n",
    "# # Directory where the files have been extracted\n",
    "# extracted_work_dir = \"input/extracted_data\"  # Directory where you extracted the tar files\n",
    "# # List to store directory names under the 'work' directory\n",
    "# dataset_dirs = []\n",
    "\n",
    "# # Traverse the 'work' directory to find subdirectories\n",
    "# for root, dirs, files in os.walk(extracted_work_dir):\n",
    "#     # Only consider directories directly under the 'work' directory\n",
    "#     if \"work\" in root:\n",
    "#         for dir_name in dirs:\n",
    "#             path = os.path.join(root, dir_name)\n",
    "#             # Append the directory name under 'work'\n",
    "#             dataset_dirs.append(path)\n",
    "\n",
    "# # Now dataset_dirs contains the names of all subdirectories under 'work'\n",
    "# print(\"Dataset directories under 'work':\", dataset_dirs)\n",
    "\n",
    "\n",
    "\n",
    "# # List to store AnnData objects for merging\n",
    "# adatas = []\n",
    "# batch_size = 5  # Adjust based on available memory\n",
    "# for i in range(0, len(dataset_dirs), batch_size):\n",
    "#     # Get the current batch of files\n",
    "#     batch_files = dataset_dirs[i:i+batch_size]\n",
    "    \n",
    "#     # Load the current batch of datasets\n",
    "#     batch_adatas = []\n",
    "#     for mtx_file in batch_files:\n",
    "#         print(mtx_file)\n",
    "#         # Assuming each batch is loaded from corresponding directories\n",
    "#         adata = sc.read_10x_mtx(mtx_file)\n",
    "#         batch_adatas.append(adata)\n",
    "    \n",
    "#     # Concatenate the current batch\n",
    "#     if adatas:\n",
    "#         adatas[0] = ad.concat([adatas[0]] + batch_adatas)\n",
    "#         adatas[0].obs_names_make_unique() \n",
    "#     else:\n",
    "#         adatas = batch_adatas\n",
    "\n",
    "#     # Free memory by clearing the batch Adatas\n",
    "#     batch_adatas = []"
   ]
  },
  {
   "cell_type": "markdown",
   "metadata": {},
   "source": [
    "Load in data -- OLAF's VERSION. Garrett Depending on what you did you made need to make a different block."
   ]
  },
  {
   "cell_type": "markdown",
   "metadata": {},
   "source": [
    "Data Exploration"
   ]
  },
  {
   "cell_type": "code",
   "execution_count": 8,
   "metadata": {},
   "outputs": [
    {
     "name": "stderr",
     "output_type": "stream",
     "text": [
      "d:\\Coding\\comp_bio\\endometrial_analysis\\.venv\\Lib\\site-packages\\anndata\\_core\\anndata.py:1756: UserWarning: Observation names are not unique. To make them unique, call `.obs_names_make_unique`.\n",
      "  utils.warn_names_duplicates(\"obs\")\n"
     ]
    }
   ],
   "source": [
    "combined_adata = sc.read(\"output/data_combined_on_disk.h5ad\")\n",
    "combined_adata.obs_names_make_unique()"
   ]
  },
  {
   "cell_type": "code",
   "execution_count": 9,
   "metadata": {},
   "outputs": [
    {
     "data": {
      "text/html": [
       "<div>\n",
       "<style scoped>\n",
       "    .dataframe tbody tr th:only-of-type {\n",
       "        vertical-align: middle;\n",
       "    }\n",
       "\n",
       "    .dataframe tbody tr th {\n",
       "        vertical-align: top;\n",
       "    }\n",
       "\n",
       "    .dataframe thead th {\n",
       "        text-align: right;\n",
       "    }\n",
       "</style>\n",
       "<table border=\"1\" class=\"dataframe\">\n",
       "  <thead>\n",
       "    <tr style=\"text-align: right;\">\n",
       "      <th></th>\n",
       "      <th>dataset</th>\n",
       "    </tr>\n",
       "  </thead>\n",
       "  <tbody>\n",
       "    <tr>\n",
       "      <th>AAACCCAAGGCTTTCA-1</th>\n",
       "      <td>FRZFRESH_GX25_ES345</td>\n",
       "    </tr>\n",
       "    <tr>\n",
       "      <th>AAACCCACAAGCTCTA-1</th>\n",
       "      <td>FRZFRESH_GX25_ES345</td>\n",
       "    </tr>\n",
       "    <tr>\n",
       "      <th>AAACCCAGTACGGTTT-1</th>\n",
       "      <td>FRZFRESH_GX25_ES345</td>\n",
       "    </tr>\n",
       "    <tr>\n",
       "      <th>AAACCCAGTAGGACCA-1</th>\n",
       "      <td>FRZFRESH_GX25_ES345</td>\n",
       "    </tr>\n",
       "    <tr>\n",
       "      <th>AAACCCATCCCGAGGT-1</th>\n",
       "      <td>FRZFRESH_GX25_ES345</td>\n",
       "    </tr>\n",
       "  </tbody>\n",
       "</table>\n",
       "</div>"
      ],
      "text/plain": [
       "                                dataset\n",
       "AAACCCAAGGCTTTCA-1  FRZFRESH_GX25_ES345\n",
       "AAACCCACAAGCTCTA-1  FRZFRESH_GX25_ES345\n",
       "AAACCCAGTACGGTTT-1  FRZFRESH_GX25_ES345\n",
       "AAACCCAGTAGGACCA-1  FRZFRESH_GX25_ES345\n",
       "AAACCCATCCCGAGGT-1  FRZFRESH_GX25_ES345"
      ]
     },
     "execution_count": 9,
     "metadata": {},
     "output_type": "execute_result"
    }
   ],
   "source": [
    "combined_adata.obs.head()\n"
   ]
  },
  {
   "cell_type": "code",
   "execution_count": 10,
   "metadata": {},
   "outputs": [],
   "source": [
    "#combined_adata = combined_adata[~combined_adata.obs['dataset'].str.contains('Endo', na=False)]\n",
    "#combined_adata.obs['dataset']"
   ]
  },
  {
   "cell_type": "code",
   "execution_count": 11,
   "metadata": {},
   "outputs": [],
   "source": [
    "from scipy import sparse\n",
    "\n",
    "sparse_X = sparse.csr_matrix(combined_adata.X)\n",
    "combined_adata.X = sparse_X"
   ]
  },
  {
   "cell_type": "code",
   "execution_count": 12,
   "metadata": {},
   "outputs": [
    {
     "data": {
      "text/html": [
       "<div>\n",
       "<style scoped>\n",
       "    .dataframe tbody tr th:only-of-type {\n",
       "        vertical-align: middle;\n",
       "    }\n",
       "\n",
       "    .dataframe tbody tr th {\n",
       "        vertical-align: top;\n",
       "    }\n",
       "\n",
       "    .dataframe thead th {\n",
       "        text-align: right;\n",
       "    }\n",
       "</style>\n",
       "<table border=\"1\" class=\"dataframe\">\n",
       "  <thead>\n",
       "    <tr style=\"text-align: right;\">\n",
       "      <th></th>\n",
       "    </tr>\n",
       "  </thead>\n",
       "  <tbody>\n",
       "    <tr>\n",
       "      <th>MIR1302-2HG</th>\n",
       "    </tr>\n",
       "    <tr>\n",
       "      <th>FAM138A</th>\n",
       "    </tr>\n",
       "    <tr>\n",
       "      <th>OR4F5</th>\n",
       "    </tr>\n",
       "    <tr>\n",
       "      <th>AL627309.1</th>\n",
       "    </tr>\n",
       "    <tr>\n",
       "      <th>AL627309.3</th>\n",
       "    </tr>\n",
       "  </tbody>\n",
       "</table>\n",
       "</div>"
      ],
      "text/plain": [
       "Empty DataFrame\n",
       "Columns: []\n",
       "Index: [MIR1302-2HG, FAM138A, OR4F5, AL627309.1, AL627309.3]"
      ]
     },
     "execution_count": 12,
     "metadata": {},
     "output_type": "execute_result"
    }
   ],
   "source": [
    "\n",
    "\n",
    "combined_adata.var.head()\n",
    "\n"
   ]
  },
  {
   "cell_type": "code",
   "execution_count": 13,
   "metadata": {},
   "outputs": [
    {
     "name": "stdout",
     "output_type": "stream",
     "text": [
      "Index(['MIR1302-2HG', 'FAM138A', 'OR4F5', 'AL627309.1', 'AL627309.3',\n",
      "       'AL627309.2', 'AL627309.5', 'AL627309.4', 'AP006222.2', 'AL732372.1',\n",
      "       ...\n",
      "       'AC133551.1', 'AC136612.1', 'AC136616.1', 'AC136616.3', 'AC136616.2',\n",
      "       'AC141272.1', 'AC023491.2', 'AC007325.1', 'AC007325.4', 'AC007325.2'],\n",
      "      dtype='object', length=36601)\n"
     ]
    },
    {
     "data": {
      "text/plain": [
       "<Compressed Sparse Row sparse matrix of dtype 'float32'\n",
       "\twith 1649327264 stored elements and shape (467190, 36601)>"
      ]
     },
     "execution_count": 13,
     "metadata": {},
     "output_type": "execute_result"
    }
   ],
   "source": [
    "print(combined_adata.var_names)\n",
    "combined_adata.X"
   ]
  },
  {
   "cell_type": "code",
   "execution_count": 14,
   "metadata": {},
   "outputs": [
    {
     "data": {
      "text/html": [
       "<div>\n",
       "<style scoped>\n",
       "    .dataframe tbody tr th:only-of-type {\n",
       "        vertical-align: middle;\n",
       "    }\n",
       "\n",
       "    .dataframe tbody tr th {\n",
       "        vertical-align: top;\n",
       "    }\n",
       "\n",
       "    .dataframe thead th {\n",
       "        text-align: right;\n",
       "    }\n",
       "</style>\n",
       "<table border=\"1\" class=\"dataframe\">\n",
       "  <thead>\n",
       "    <tr style=\"text-align: right;\">\n",
       "      <th></th>\n",
       "      <th>dataset</th>\n",
       "    </tr>\n",
       "  </thead>\n",
       "  <tbody>\n",
       "    <tr>\n",
       "      <th>AAACCCAAGGCTTTCA-1</th>\n",
       "      <td>FRZFRESH_GX25_ES345</td>\n",
       "    </tr>\n",
       "    <tr>\n",
       "      <th>AAACCCACAAGCTCTA-1</th>\n",
       "      <td>FRZFRESH_GX25_ES345</td>\n",
       "    </tr>\n",
       "    <tr>\n",
       "      <th>AAACCCAGTACGGTTT-1</th>\n",
       "      <td>FRZFRESH_GX25_ES345</td>\n",
       "    </tr>\n",
       "    <tr>\n",
       "      <th>AAACCCAGTAGGACCA-1</th>\n",
       "      <td>FRZFRESH_GX25_ES345</td>\n",
       "    </tr>\n",
       "    <tr>\n",
       "      <th>AAACCCATCCCGAGGT-1</th>\n",
       "      <td>FRZFRESH_GX25_ES345</td>\n",
       "    </tr>\n",
       "    <tr>\n",
       "      <th>...</th>\n",
       "      <td>...</td>\n",
       "    </tr>\n",
       "    <tr>\n",
       "      <th>TTGCCTGCACTGAGTT-1</th>\n",
       "      <td>UA_Endo9426402_FX9006</td>\n",
       "    </tr>\n",
       "    <tr>\n",
       "      <th>TTGTGTTTCATTCTTG-1-1</th>\n",
       "      <td>UA_Endo9426402_FX9006</td>\n",
       "    </tr>\n",
       "    <tr>\n",
       "      <th>TTTACTGGTTAGAAAC-1</th>\n",
       "      <td>UA_Endo9426402_FX9006</td>\n",
       "    </tr>\n",
       "    <tr>\n",
       "      <th>TTTCATGCAAAGGCAC-1</th>\n",
       "      <td>UA_Endo9426402_FX9006</td>\n",
       "    </tr>\n",
       "    <tr>\n",
       "      <th>TTTGTTGTCCATTTGT-1</th>\n",
       "      <td>UA_Endo9426402_FX9006</td>\n",
       "    </tr>\n",
       "  </tbody>\n",
       "</table>\n",
       "<p>467190 rows × 1 columns</p>\n",
       "</div>"
      ],
      "text/plain": [
       "                                    dataset\n",
       "AAACCCAAGGCTTTCA-1      FRZFRESH_GX25_ES345\n",
       "AAACCCACAAGCTCTA-1      FRZFRESH_GX25_ES345\n",
       "AAACCCAGTACGGTTT-1      FRZFRESH_GX25_ES345\n",
       "AAACCCAGTAGGACCA-1      FRZFRESH_GX25_ES345\n",
       "AAACCCATCCCGAGGT-1      FRZFRESH_GX25_ES345\n",
       "...                                     ...\n",
       "TTGCCTGCACTGAGTT-1    UA_Endo9426402_FX9006\n",
       "TTGTGTTTCATTCTTG-1-1  UA_Endo9426402_FX9006\n",
       "TTTACTGGTTAGAAAC-1    UA_Endo9426402_FX9006\n",
       "TTTCATGCAAAGGCAC-1    UA_Endo9426402_FX9006\n",
       "TTTGTTGTCCATTTGT-1    UA_Endo9426402_FX9006\n",
       "\n",
       "[467190 rows x 1 columns]"
      ]
     },
     "execution_count": 14,
     "metadata": {},
     "output_type": "execute_result"
    }
   ],
   "source": [
    "combined_adata.obs\n",
    "#output_file = \"output/integrated_data.h5ad\"\n",
    "#combined_adata.write(output_file) # might just be failing because it already exists"
   ]
  },
  {
   "cell_type": "markdown",
   "metadata": {},
   "source": [
    "## Quality Control"
   ]
  },
  {
   "cell_type": "code",
   "execution_count": 15,
   "metadata": {},
   "outputs": [
    {
     "data": {
      "text/html": [
       "<div>\n",
       "<style scoped>\n",
       "    .dataframe tbody tr th:only-of-type {\n",
       "        vertical-align: middle;\n",
       "    }\n",
       "\n",
       "    .dataframe tbody tr th {\n",
       "        vertical-align: top;\n",
       "    }\n",
       "\n",
       "    .dataframe thead th {\n",
       "        text-align: right;\n",
       "    }\n",
       "</style>\n",
       "<table border=\"1\" class=\"dataframe\">\n",
       "  <thead>\n",
       "    <tr style=\"text-align: right;\">\n",
       "      <th></th>\n",
       "      <th>dataset</th>\n",
       "      <th>n_genes_by_counts</th>\n",
       "      <th>total_counts</th>\n",
       "      <th>total_counts_MT</th>\n",
       "      <th>pct_counts_MT</th>\n",
       "    </tr>\n",
       "  </thead>\n",
       "  <tbody>\n",
       "    <tr>\n",
       "      <th>AAACCCAAGGCTTTCA-1</th>\n",
       "      <td>FRZFRESH_GX25_ES345</td>\n",
       "      <td>3737</td>\n",
       "      <td>15451.0</td>\n",
       "      <td>1092.0</td>\n",
       "      <td>7.067504</td>\n",
       "    </tr>\n",
       "    <tr>\n",
       "      <th>AAACCCACAAGCTCTA-1</th>\n",
       "      <td>FRZFRESH_GX25_ES345</td>\n",
       "      <td>2225</td>\n",
       "      <td>4539.0</td>\n",
       "      <td>212.0</td>\n",
       "      <td>4.670632</td>\n",
       "    </tr>\n",
       "    <tr>\n",
       "      <th>AAACCCAGTACGGTTT-1</th>\n",
       "      <td>FRZFRESH_GX25_ES345</td>\n",
       "      <td>3379</td>\n",
       "      <td>11695.0</td>\n",
       "      <td>1544.0</td>\n",
       "      <td>13.202223</td>\n",
       "    </tr>\n",
       "    <tr>\n",
       "      <th>AAACCCAGTAGGACCA-1</th>\n",
       "      <td>FRZFRESH_GX25_ES345</td>\n",
       "      <td>2307</td>\n",
       "      <td>6950.0</td>\n",
       "      <td>700.0</td>\n",
       "      <td>10.071942</td>\n",
       "    </tr>\n",
       "    <tr>\n",
       "      <th>AAACCCATCCCGAGGT-1</th>\n",
       "      <td>FRZFRESH_GX25_ES345</td>\n",
       "      <td>2487</td>\n",
       "      <td>7820.0</td>\n",
       "      <td>658.0</td>\n",
       "      <td>8.414322</td>\n",
       "    </tr>\n",
       "  </tbody>\n",
       "</table>\n",
       "</div>"
      ],
      "text/plain": [
       "                                dataset  n_genes_by_counts  total_counts  \\\n",
       "AAACCCAAGGCTTTCA-1  FRZFRESH_GX25_ES345               3737       15451.0   \n",
       "AAACCCACAAGCTCTA-1  FRZFRESH_GX25_ES345               2225        4539.0   \n",
       "AAACCCAGTACGGTTT-1  FRZFRESH_GX25_ES345               3379       11695.0   \n",
       "AAACCCAGTAGGACCA-1  FRZFRESH_GX25_ES345               2307        6950.0   \n",
       "AAACCCATCCCGAGGT-1  FRZFRESH_GX25_ES345               2487        7820.0   \n",
       "\n",
       "                    total_counts_MT  pct_counts_MT  \n",
       "AAACCCAAGGCTTTCA-1           1092.0       7.067504  \n",
       "AAACCCACAAGCTCTA-1            212.0       4.670632  \n",
       "AAACCCAGTACGGTTT-1           1544.0      13.202223  \n",
       "AAACCCAGTAGGACCA-1            700.0      10.071942  \n",
       "AAACCCATCCCGAGGT-1            658.0       8.414322  "
      ]
     },
     "execution_count": 15,
     "metadata": {},
     "output_type": "execute_result"
    }
   ],
   "source": [
    "combined_adata.var['MT'] = combined_adata.var_names.str.startswith('MT-')  # annotate the group of mitochondrial genes as 'mt'\n",
    "sc.pp.calculate_qc_metrics(combined_adata, qc_vars=['MT'], percent_top=None, log1p=False, inplace=True)\n",
    "\n",
    "\n",
    "combined_adata.obs.head()\n",
    "\n"
   ]
  },
  {
   "cell_type": "code",
   "execution_count": 16,
   "metadata": {},
   "outputs": [
    {
     "data": {
      "image/png": "[encoded data removed]",
      "text/plain": [
       "<Figure size 1511.11x500 with 3 Axes>"
      ]
     },
     "metadata": {},
     "output_type": "display_data"
    }
   ],
   "source": [
    "sc.pl.violin(\n",
    "    combined_adata, \n",
    "    [\n",
    "     'n_genes_by_counts', \n",
    "     'total_counts', \n",
    "     'pct_counts_MT'\n",
    "     ],\n",
    "    multi_panel=True\n",
    ")"
   ]
  },
  {
   "cell_type": "code",
   "execution_count": 17,
   "metadata": {},
   "outputs": [
    {
     "data": {
      "image/png": "[encoded data removed]",
      "text/plain": [
       "<Figure size 728.72x480 with 1 Axes>"
      ]
     },
     "metadata": {},
     "output_type": "display_data"
    }
   ],
   "source": [
    "sc.pl.scatter(combined_adata, \"total_counts\", \"n_genes_by_counts\")"
   ]
  },
  {
   "cell_type": "code",
   "execution_count": 18,
   "metadata": {},
   "outputs": [
    {
     "ename": "MemoryError",
     "evalue": "Unable to allocate 6.14 GiB for an array with shape (1649326510,) and data type float32",
     "output_type": "error",
     "traceback": [
      "\u001b[1;31m---------------------------------------------------------------------------\u001b[0m",
      "\u001b[1;31mMemoryError\u001b[0m                               Traceback (most recent call last)",
      "Cell \u001b[1;32mIn[18], line 2\u001b[0m\n\u001b[0;32m      1\u001b[0m sc\u001b[38;5;241m.\u001b[39mpp\u001b[38;5;241m.\u001b[39mfilter_cells(combined_adata, min_genes\u001b[38;5;241m=\u001b[39m\u001b[38;5;241m100\u001b[39m)\n\u001b[1;32m----> 2\u001b[0m \u001b[43msc\u001b[49m\u001b[38;5;241;43m.\u001b[39;49m\u001b[43mpp\u001b[49m\u001b[38;5;241;43m.\u001b[39;49m\u001b[43mfilter_genes\u001b[49m\u001b[43m(\u001b[49m\u001b[43mcombined_adata\u001b[49m\u001b[43m,\u001b[49m\u001b[43m \u001b[49m\u001b[43mmin_cells\u001b[49m\u001b[38;5;241;43m=\u001b[39;49m\u001b[38;5;241;43m3\u001b[39;49m\u001b[43m)\u001b[49m\n",
      "File \u001b[1;32md:\\Coding\\comp_bio\\endometrial_analysis\\.venv\\Lib\\site-packages\\legacy_api_wrap\\__init__.py:80\u001b[0m, in \u001b[0;36mlegacy_api.<locals>.wrapper.<locals>.fn_compatible\u001b[1;34m(*args_all, **kw)\u001b[0m\n\u001b[0;32m     77\u001b[0m \u001b[38;5;129m@wraps\u001b[39m(fn)\n\u001b[0;32m     78\u001b[0m \u001b[38;5;28;01mdef\u001b[39;00m \u001b[38;5;21mfn_compatible\u001b[39m(\u001b[38;5;241m*\u001b[39margs_all: P\u001b[38;5;241m.\u001b[39margs, \u001b[38;5;241m*\u001b[39m\u001b[38;5;241m*\u001b[39mkw: P\u001b[38;5;241m.\u001b[39mkwargs) \u001b[38;5;241m-\u001b[39m\u001b[38;5;241m>\u001b[39m R:\n\u001b[0;32m     79\u001b[0m     \u001b[38;5;28;01mif\u001b[39;00m \u001b[38;5;28mlen\u001b[39m(args_all) \u001b[38;5;241m<\u001b[39m\u001b[38;5;241m=\u001b[39m n_positional:\n\u001b[1;32m---> 80\u001b[0m         \u001b[38;5;28;01mreturn\u001b[39;00m \u001b[43mfn\u001b[49m\u001b[43m(\u001b[49m\u001b[38;5;241;43m*\u001b[39;49m\u001b[43margs_all\u001b[49m\u001b[43m,\u001b[49m\u001b[43m \u001b[49m\u001b[38;5;241;43m*\u001b[39;49m\u001b[38;5;241;43m*\u001b[39;49m\u001b[43mkw\u001b[49m\u001b[43m)\u001b[49m\n\u001b[0;32m     82\u001b[0m     args_pos: P\u001b[38;5;241m.\u001b[39margs\n\u001b[0;32m     83\u001b[0m     args_pos, args_rest \u001b[38;5;241m=\u001b[39m args_all[:n_positional], args_all[n_positional:]\n",
      "File \u001b[1;32md:\\Coding\\comp_bio\\endometrial_analysis\\.venv\\Lib\\site-packages\\scanpy\\preprocessing\\_simple.py:285\u001b[0m, in \u001b[0;36mfilter_genes\u001b[1;34m(data, min_counts, min_cells, max_counts, max_cells, inplace, copy)\u001b[0m\n\u001b[0;32m    283\u001b[0m     \u001b[38;5;28;01melse\u001b[39;00m:\n\u001b[0;32m    284\u001b[0m         adata\u001b[38;5;241m.\u001b[39mvar[\u001b[38;5;124m\"\u001b[39m\u001b[38;5;124mn_cells\u001b[39m\u001b[38;5;124m\"\u001b[39m] \u001b[38;5;241m=\u001b[39m number\n\u001b[1;32m--> 285\u001b[0m     \u001b[43madata\u001b[49m\u001b[38;5;241;43m.\u001b[39;49m\u001b[43m_inplace_subset_var\u001b[49m\u001b[43m(\u001b[49m\u001b[43mgene_subset\u001b[49m\u001b[43m)\u001b[49m\n\u001b[0;32m    286\u001b[0m     \u001b[38;5;28;01mreturn\u001b[39;00m adata \u001b[38;5;28;01mif\u001b[39;00m copy \u001b[38;5;28;01melse\u001b[39;00m \u001b[38;5;28;01mNone\u001b[39;00m\n\u001b[0;32m    288\u001b[0m X \u001b[38;5;241m=\u001b[39m data  \u001b[38;5;66;03m# proceed with processing the data matrix\u001b[39;00m\n",
      "File \u001b[1;32md:\\Coding\\comp_bio\\endometrial_analysis\\.venv\\Lib\\site-packages\\anndata\\_core\\anndata.py:1157\u001b[0m, in \u001b[0;36mAnnData._inplace_subset_var\u001b[1;34m(self, index)\u001b[0m\n\u001b[0;32m   1151\u001b[0m \u001b[38;5;28;01mdef\u001b[39;00m \u001b[38;5;21m_inplace_subset_var\u001b[39m(\u001b[38;5;28mself\u001b[39m, index: Index1D):\n\u001b[0;32m   1152\u001b[0m \u001b[38;5;250m    \u001b[39m\u001b[38;5;124;03m\"\"\"\\\u001b[39;00m\n\u001b[0;32m   1153\u001b[0m \u001b[38;5;124;03m    Inplace subsetting along variables dimension.\u001b[39;00m\n\u001b[0;32m   1154\u001b[0m \n\u001b[0;32m   1155\u001b[0m \u001b[38;5;124;03m    Same as `adata = adata[:, index]`, but inplace.\u001b[39;00m\n\u001b[0;32m   1156\u001b[0m \u001b[38;5;124;03m    \"\"\"\u001b[39;00m\n\u001b[1;32m-> 1157\u001b[0m     adata_subset \u001b[38;5;241m=\u001b[39m \u001b[38;5;28;43mself\u001b[39;49m\u001b[43m[\u001b[49m\u001b[43m:\u001b[49m\u001b[43m,\u001b[49m\u001b[43m \u001b[49m\u001b[43mindex\u001b[49m\u001b[43m]\u001b[49m\u001b[38;5;241;43m.\u001b[39;49m\u001b[43mcopy\u001b[49m\u001b[43m(\u001b[49m\u001b[43m)\u001b[49m\n\u001b[0;32m   1159\u001b[0m     \u001b[38;5;28mself\u001b[39m\u001b[38;5;241m.\u001b[39m_init_as_actual(adata_subset)\n",
      "File \u001b[1;32md:\\Coding\\comp_bio\\endometrial_analysis\\.venv\\Lib\\site-packages\\anndata\\_core\\anndata.py:1439\u001b[0m, in \u001b[0;36mAnnData.copy\u001b[1;34m(self, filename)\u001b[0m\n\u001b[0;32m   1432\u001b[0m \u001b[38;5;28;01mif\u001b[39;00m \u001b[38;5;129;01mnot\u001b[39;00m \u001b[38;5;28mself\u001b[39m\u001b[38;5;241m.\u001b[39misbacked:\n\u001b[0;32m   1433\u001b[0m     \u001b[38;5;28;01mif\u001b[39;00m \u001b[38;5;28mself\u001b[39m\u001b[38;5;241m.\u001b[39mis_view \u001b[38;5;129;01mand\u001b[39;00m \u001b[38;5;28mself\u001b[39m\u001b[38;5;241m.\u001b[39m_has_X():\n\u001b[0;32m   1434\u001b[0m         \u001b[38;5;66;03m# TODO: How do I unambiguously check if this is a copy?\u001b[39;00m\n\u001b[0;32m   1435\u001b[0m         \u001b[38;5;66;03m# Subsetting this way means we don’t have to have a view type\u001b[39;00m\n\u001b[0;32m   1436\u001b[0m         \u001b[38;5;66;03m# defined for the matrix, which is needed for some of the\u001b[39;00m\n\u001b[0;32m   1437\u001b[0m         \u001b[38;5;66;03m# current distributed backend. Specifically Dask.\u001b[39;00m\n\u001b[0;32m   1438\u001b[0m         \u001b[38;5;28;01mreturn\u001b[39;00m \u001b[38;5;28mself\u001b[39m\u001b[38;5;241m.\u001b[39m_mutated_copy(\n\u001b[1;32m-> 1439\u001b[0m             X\u001b[38;5;241m=\u001b[39m\u001b[43m_subset\u001b[49m\u001b[43m(\u001b[49m\u001b[38;5;28;43mself\u001b[39;49m\u001b[38;5;241;43m.\u001b[39;49m\u001b[43m_adata_ref\u001b[49m\u001b[38;5;241;43m.\u001b[39;49m\u001b[43mX\u001b[49m\u001b[43m,\u001b[49m\u001b[43m \u001b[49m\u001b[43m(\u001b[49m\u001b[38;5;28;43mself\u001b[39;49m\u001b[38;5;241;43m.\u001b[39;49m\u001b[43m_oidx\u001b[49m\u001b[43m,\u001b[49m\u001b[43m \u001b[49m\u001b[38;5;28;43mself\u001b[39;49m\u001b[38;5;241;43m.\u001b[39;49m\u001b[43m_vidx\u001b[49m\u001b[43m)\u001b[49m\u001b[43m)\u001b[49m\u001b[38;5;241;43m.\u001b[39;49m\u001b[43mcopy\u001b[49m\u001b[43m(\u001b[49m\u001b[43m)\u001b[49m\n\u001b[0;32m   1440\u001b[0m         )\n\u001b[0;32m   1441\u001b[0m     \u001b[38;5;28;01melse\u001b[39;00m:\n\u001b[0;32m   1442\u001b[0m         \u001b[38;5;28;01mreturn\u001b[39;00m \u001b[38;5;28mself\u001b[39m\u001b[38;5;241m.\u001b[39m_mutated_copy()\n",
      "File \u001b[1;32md:\\Coding\\comp_bio\\endometrial_analysis\\.venv\\Lib\\site-packages\\scipy\\sparse\\_data.py:96\u001b[0m, in \u001b[0;36m_data_matrix.copy\u001b[1;34m(self)\u001b[0m\n\u001b[0;32m     95\u001b[0m \u001b[38;5;28;01mdef\u001b[39;00m \u001b[38;5;21mcopy\u001b[39m(\u001b[38;5;28mself\u001b[39m):\n\u001b[1;32m---> 96\u001b[0m     \u001b[38;5;28;01mreturn\u001b[39;00m \u001b[38;5;28mself\u001b[39m\u001b[38;5;241m.\u001b[39m_with_data(\u001b[38;5;28;43mself\u001b[39;49m\u001b[38;5;241;43m.\u001b[39;49m\u001b[43mdata\u001b[49m\u001b[38;5;241;43m.\u001b[39;49m\u001b[43mcopy\u001b[49m\u001b[43m(\u001b[49m\u001b[43m)\u001b[49m, copy\u001b[38;5;241m=\u001b[39m\u001b[38;5;28;01mTrue\u001b[39;00m)\n",
      "\u001b[1;31mMemoryError\u001b[0m: Unable to allocate 6.14 GiB for an array with shape (1649326510,) and data type float32"
     ]
    }
   ],
   "source": [
    "sc.pp.filter_cells(combined_adata, min_genes=100)\n",
    "sc.pp.filter_genes(combined_adata, min_cells=3)"
   ]
  },
  {
   "cell_type": "code",
   "execution_count": null,
   "metadata": {},
   "outputs": [],
   "source": [
    "sc.pp.scrublet(adata, batch_key=\"sample\")"
   ]
  },
  {
   "cell_type": "code",
   "execution_count": null,
   "metadata": {},
   "outputs": [],
   "source": [
    "#os.environ[\"KMP_DUPLICATE_LIB_OK\"]=\"TRUE\"\n",
    "#combined_adata = sc.read(\"output/integrated_data.h5ad\")"
   ]
  },
  {
   "cell_type": "markdown",
   "metadata": {},
   "source": [
    "### Normalization"
   ]
  },
  {
   "cell_type": "code",
   "execution_count": null,
   "metadata": {},
   "outputs": [],
   "source": [
    "combined_adata.layers[\"counts\"] = combined_adata.X.copy()\n",
    "sc.pp.normalize_total(combined_adata, target_sum=1e4) \n",
    "sc.pp.log1p(combined_adata) \n",
    "combined_adata.raw = combined_adata"
   ]
  },
  {
   "cell_type": "code",
   "execution_count": null,
   "metadata": {},
   "outputs": [],
   "source": [
    "sc.pp.highly_variable_genes(\n",
    "    combined_adata,\n",
    "    n_top_genes=4000,\n",
    "    # subset=True, # to automatically subset to the 4000 genes\n",
    "    layer=\"counts\",\n",
    "    flavor=\"seurat_v3\"\n",
    ")\n",
    "sc.pl.highly_variable_genes(combined_adata, log=True)"
   ]
  },
  {
   "cell_type": "code",
   "execution_count": null,
   "metadata": {},
   "outputs": [],
   "source": [
    "combined_adata = combined_adata[:, combined_adata.var.highly_variable].copy()\n",
    "combined_adata.raw.to_adata()"
   ]
  },
  {
   "cell_type": "markdown",
   "metadata": {},
   "source": [
    "### Standard Workflow"
   ]
  },
  {
   "cell_type": "code",
   "execution_count": null,
   "metadata": {},
   "outputs": [],
   "source": [
    "sc.pp.scale(combined_adata) # z normalize the columns (genes)\n",
    "sc.tl.pca(combined_adata)\n",
    "\n",
    "\n",
    "combined_adata.obsm[\"X_pca\"]\n",
    "sc.pp.neighbors(combined_adata) # compute nearest neighbors\n",
    "sc.tl.umap(combined_adata)\n",
    "sc.pl.umap(combined_adata, color=\"batch\")"
   ]
  },
  {
   "cell_type": "markdown",
   "metadata": {},
   "source": [
    "IF THE CLUSTERS ARE BY BATCH:: ADD THIS CODE:"
   ]
  },
  {
   "cell_type": "code",
   "execution_count": null,
   "metadata": {},
   "outputs": [],
   "source": [
    "\n",
    "import scanpy.external as sce\n",
    "sce.pp.bbknn(adata, batch_key=\"batch\")\n",
    "sc.tl.umap(adata)\n",
    "sc.pl.umap(adata, color=[\"batch\", \"cell_types\"], ncols=1)\n"
   ]
  },
  {
   "cell_type": "markdown",
   "metadata": {},
   "source": [
    "IF IT STILL DOESN'T WORK THEN REDO THE LOAD IN AND USE SCIVI\n",
    "https://ccbskillssem.github.io/assets/scvi_notebook.html\n",
    "\n",
    "https://www.youtube.com/watch?v=EKTg9NV5hEA"
   ]
  },
  {
   "cell_type": "markdown",
   "metadata": {},
   "source": [
    "## SCENIC"
   ]
  },
  {
   "cell_type": "markdown",
   "metadata": {},
   "source": [
    "##### STEP 1: IDENTIFY TF with arboreto \n"
   ]
  },
  {
   "cell_type": "code",
   "execution_count": null,
   "metadata": {},
   "outputs": [],
   "source": [
    "f_tfs = \"/ddn1/vol1/staging/leuven/stg_00002/lcb/cflerin/resources/allTFs_hg38.txt\"\n",
    "\n",
    "!pyscenic grn {f_loom_path_scenic} {f_tfs} -o adj.csv --num_workers 20\n",
    "\n",
    "adjacencies = pd.read_csv(\"adj.tsv\", index_col=False, sep='\\t')\n",
    "adjacencies.head()"
   ]
  },
  {
   "cell_type": "markdown",
   "metadata": {},
   "source": [
    "##### STEP 2: Refine regulons through pruning "
   ]
  },
  {
   "cell_type": "code",
   "execution_count": null,
   "metadata": {},
   "outputs": [],
   "source": [
    "\n",
    "# ranking databases\n",
    "f_db_glob = \"/ddn1/vol1/staging/leuven/res_00001/databases/cistarget/databases/homo_sapiens/hg38/refseq_r80/mc9nr/gene_based/*feather\"\n",
    "f_db_names = ' '.join( glob.glob(f_db_glob) )\n",
    "\n",
    "# motif databases\n",
    "f_motif_path = \"/ddn1/vol1/staging/leuven/res_00001/databases/cistarget/motif2tf/motifs-v9-nr.hgnc-m0.001-o0.0.tbl\""
   ]
  },
  {
   "cell_type": "code",
   "execution_count": null,
   "metadata": {
    "vscode": {
     "languageId": "powershell"
    }
   },
   "outputs": [],
   "source": [
    "!pyscenic ctx adj.tsv \\\n",
    "    {f_db_names} \\\n",
    "    --annotations_fname {f_motif_path} \\\n",
    "    --expression_mtx_fname {f_loom_path_scenic} \\\n",
    "    --output reg.csv \\\n",
    "    --mask_dropouts \\\n",
    "    --num_workers 20"
   ]
  },
  {
   "cell_type": "code",
   "execution_count": null,
   "metadata": {},
   "outputs": [],
   "source": [
    "nGenesDetectedPerCell = np.sum(adata.X>0, axis=1)\n",
    "percentiles = nGenesDetectedPerCell.quantile([.01, .05, .10, .50, 1])\n",
    "print(percentiles)"
   ]
  },
  {
   "cell_type": "code",
   "execution_count": null,
   "metadata": {},
   "outputs": [],
   "source": [
    "fig, ax = plt.subplots(1, 1, figsize=(8, 5), dpi=150)\n",
    "sns.distplot(nGenesDetectedPerCell, norm_hist=False, kde=False, bins='fd')\n",
    "for i,x in enumerate(percentiles):\n",
    "    fig.gca().axvline(x=x, ymin=0,ymax=1, color='red')\n",
    "    ax.text(x=x, y=ax.get_ylim()[1], s=f'{int(x)} ({percentiles.index.values[i]*100}%)', color='red', rotation=30, size='x-small',rotation_mode='anchor' )\n",
    "ax.set_xlabel('# of genes')\n",
    "ax.set_ylabel('# of cells')\n",
    "fig.tight_layout()"
   ]
  },
  {
   "cell_type": "code",
   "execution_count": null,
   "metadata": {
    "vscode": {
     "languageId": "powershell"
    }
   },
   "outputs": [],
   "source": [
    "!pyscenic aucell \\\n",
    "    {f_loom_path_scenic} \\\n",
    "    reg.csv \\\n",
    "    --output {f_pyscenic_output} \\\n",
    "    --num_workers 20"
   ]
  },
  {
   "cell_type": "markdown",
   "metadata": {},
   "source": [
    "##### STEP 3: Cluster cells around regulons"
   ]
  },
  {
   "cell_type": "code",
   "execution_count": null,
   "metadata": {},
   "outputs": [],
   "source": [
    "lf = lp.connect( f_pyscenic_output, mode='r+', validate=False )\n",
    "auc_mtx = pd.DataFrame( lf.ca.RegulonsAUC, index=lf.ca.CellID)\n",
    "lf.close()"
   ]
  },
  {
   "cell_type": "code",
   "execution_count": null,
   "metadata": {},
   "outputs": [],
   "source": [
    "runUmap = umap.UMAP(n_neighbors=10, min_dist=0.4, metric='correlation').fit_transform\n",
    "dr_umap = runUmap( auc_mtx )\n",
    "pd.DataFrame(dr_umap, columns=['X', 'Y'], index=auc_mtx.index).to_csv( \"scenic_umap.txt\", sep='\\t')\n",
    "# tSNE\n",
    "tsne = TSNE( n_jobs=20 )\n",
    "dr_tsne = tsne.fit_transform( auc_mtx )\n",
    "pd.DataFrame(dr_tsne, columns=['X', 'Y'], index=auc_mtx.index).to_csv( \"scenic_tsne.txt\", sep='\\t')"
   ]
  },
  {
   "cell_type": "markdown",
   "metadata": {},
   "source": [
    "#### STEP 4 Integrate the Output --- THIS LOOKS PROBLEMATIC AND VERY NOT RIGHT"
   ]
  },
  {
   "cell_type": "code",
   "execution_count": null,
   "metadata": {},
   "outputs": [],
   "source": [
    "# scenic output\n",
    "lf = lp.connect( f_pyscenic_output, mode='r+', validate=False )\n",
    "meta = json.loads(zlib.decompress(base64.b64decode( lf.attrs.MetaData )))\n",
    "#exprMat = pd.DataFrame( lf[:,:], index=lf.ra.Gene, columns=lf.ca.CellID)\n",
    "auc_mtx = pd.DataFrame( lf.ca.RegulonsAUC, index=lf.ca.CellID)\n",
    "regulons = lf.ra.Regulons\n",
    "dr_umap = pd.read_csv( 'scenic_umap.txt', sep='\\t', header=0, index_col=0 )\n",
    "dr_tsne = pd.read_csv( 'scenic_tsne.txt', sep='\\t', header=0, index_col=0 )\n",
    "###"
   ]
  },
  {
   "cell_type": "code",
   "execution_count": null,
   "metadata": {},
   "outputs": [],
   "source": [
    "auc_mtx.columns = auc_mtx.columns.str.replace('\\(','_(')\n",
    "regulons.dtype.names = tuple( [ x.replace(\"(\",\"_(\") for x in regulons.dtype.names ] )\n",
    "# regulon thresholds\n",
    "rt = meta['regulonThresholds']\n",
    "for i,x in enumerate(rt):\n",
    "    tmp = x.get('regulon').replace(\"(\",\"_(\")\n",
    "    x.update( {'regulon': tmp} )"
   ]
  },
  {
   "cell_type": "code",
   "execution_count": null,
   "metadata": {},
   "outputs": [],
   "source": [
    "tsneDF = pd.DataFrame(adata.obsm['X_tsne'], columns=['_X', '_Y'])\n",
    "\n",
    "Embeddings_X = pd.DataFrame( index=lf.ca.CellID )\n",
    "Embeddings_X = pd.concat( [\n",
    "        pd.DataFrame(adata.obsm['X_umap'],index=adata.obs.index)[0] ,\n",
    "        pd.DataFrame(adata.obsm['X_pca'],index=adata.obs.index)[0] ,\n",
    "        dr_tsne['X'] ,\n",
    "        dr_umap['X']\n",
    "    ], sort=False, axis=1, join='outer' )\n",
    "Embeddings_X.columns = ['1','2','3','4']\n",
    "\n",
    "Embeddings_Y = pd.DataFrame( index=lf.ca.CellID )\n",
    "Embeddings_Y = pd.concat( [\n",
    "        pd.DataFrame(adata.obsm['X_umap'],index=adata.obs.index)[1] ,\n",
    "        pd.DataFrame(adata.obsm['X_pca'],index=adata.obs.index)[1] ,\n",
    "        dr_tsne['Y'] ,\n",
    "        dr_umap['Y']\n",
    "    ], sort=False, axis=1, join='outer' )\n",
    "Embeddings_Y.columns = ['1','2','3','4']"
   ]
  },
  {
   "cell_type": "code",
   "execution_count": null,
   "metadata": {},
   "outputs": [],
   "source": []
  }
 ],
 "metadata": {
  "kernelspec": {
   "display_name": "Python 3",
   "language": "python",
   "name": "python3"
  },
  "language_info": {
   "codemirror_mode": {
    "name": "ipython",
    "version": 3
   },
   "file_extension": ".py",
   "mimetype": "text/x-python",
   "name": "python",
   "nbconvert_exporter": "python",
   "pygments_lexer": "ipython3",
   "version": "3.12.4"
  }
 },
 "nbformat": 4,
 "nbformat_minor": 2
}
