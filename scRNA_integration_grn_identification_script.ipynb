{
 "cells": [
  {
   "cell_type": "markdown",
   "metadata": {},
   "source": []
  },
  {
   "cell_type": "code",
   "execution_count": 3,
   "metadata": {
    "vscode": {
     "languageId": "powershell"
    }
   },
   "outputs": [
    {
     "name": "stdout",
     "output_type": "stream",
     "text": [
      "Requirement already satisfied: scanpy in c:\\users\\crisi\\desktop\\code\\uw\\compbio\\endometrial_analysis\\.venv\\lib\\site-packages (1.10.3)\n",
      "Requirement already satisfied: scvi-tools in c:\\users\\crisi\\desktop\\code\\uw\\compbio\\endometrial_analysis\\.venv\\lib\\site-packages (1.2.0)\n",
      "Requirement already satisfied: anndata in c:\\users\\crisi\\desktop\\code\\uw\\compbio\\endometrial_analysis\\.venv\\lib\\site-packages (0.10.9)\n",
      "Requirement already satisfied: h5py>=3.1 in c:\\users\\crisi\\desktop\\code\\uw\\compbio\\endometrial_analysis\\.venv\\lib\\site-packages (from scanpy) (3.12.1)\n",
      "Requirement already satisfied: joblib in c:\\users\\crisi\\desktop\\code\\uw\\compbio\\endometrial_analysis\\.venv\\lib\\site-packages (from scanpy) (1.4.2)\n",
      "Requirement already satisfied: legacy-api-wrap>=1.4 in c:\\users\\crisi\\desktop\\code\\uw\\compbio\\endometrial_analysis\\.venv\\lib\\site-packages (from scanpy) (1.4)\n",
      "Requirement already satisfied: matplotlib>=3.6 in c:\\users\\crisi\\desktop\\code\\uw\\compbio\\endometrial_analysis\\.venv\\lib\\site-packages (from scanpy) (3.9.2)\n",
      "Requirement already satisfied: natsort in c:\\users\\crisi\\desktop\\code\\uw\\compbio\\endometrial_analysis\\.venv\\lib\\site-packages (from scanpy) (8.4.0)\n",
      "Requirement already satisfied: networkx>=2.7 in c:\\users\\crisi\\desktop\\code\\uw\\compbio\\endometrial_analysis\\.venv\\lib\\site-packages (from scanpy) (3.4.2)\n",
      "Requirement already satisfied: numba>=0.56 in c:\\users\\crisi\\desktop\\code\\uw\\compbio\\endometrial_analysis\\.venv\\lib\\site-packages (from scanpy) (0.60.0)\n",
      "Requirement already satisfied: numpy>=1.23 in c:\\users\\crisi\\desktop\\code\\uw\\compbio\\endometrial_analysis\\.venv\\lib\\site-packages (from scanpy) (1.26.4)\n",
      "Requirement already satisfied: packaging>=21.3 in c:\\users\\crisi\\desktop\\code\\uw\\compbio\\endometrial_analysis\\.venv\\lib\\site-packages (from scanpy) (24.1)\n",
      "Requirement already satisfied: pandas>=1.5 in c:\\users\\crisi\\desktop\\code\\uw\\compbio\\endometrial_analysis\\.venv\\lib\\site-packages (from scanpy) (2.2.3)\n",
      "Requirement already satisfied: patsy in c:\\users\\crisi\\desktop\\code\\uw\\compbio\\endometrial_analysis\\.venv\\lib\\site-packages (from scanpy) (0.5.6)\n",
      "Requirement already satisfied: pynndescent>=0.5 in c:\\users\\crisi\\desktop\\code\\uw\\compbio\\endometrial_analysis\\.venv\\lib\\site-packages (from scanpy) (0.5.13)\n",
      "Requirement already satisfied: scikit-learn>=0.24 in c:\\users\\crisi\\desktop\\code\\uw\\compbio\\endometrial_analysis\\.venv\\lib\\site-packages (from scanpy) (1.5.2)\n",
      "Requirement already satisfied: scipy>=1.8 in c:\\users\\crisi\\desktop\\code\\uw\\compbio\\endometrial_analysis\\.venv\\lib\\site-packages (from scanpy) (1.14.1)\n",
      "Requirement already satisfied: seaborn>=0.13 in c:\\users\\crisi\\desktop\\code\\uw\\compbio\\endometrial_analysis\\.venv\\lib\\site-packages (from scanpy) (0.13.2)\n",
      "Requirement already satisfied: session-info in c:\\users\\crisi\\desktop\\code\\uw\\compbio\\endometrial_analysis\\.venv\\lib\\site-packages (from scanpy) (1.0.0)\n",
      "Requirement already satisfied: statsmodels>=0.13 in c:\\users\\crisi\\desktop\\code\\uw\\compbio\\endometrial_analysis\\.venv\\lib\\site-packages (from scanpy) (0.14.4)\n",
      "Requirement already satisfied: tqdm in c:\\users\\crisi\\desktop\\code\\uw\\compbio\\endometrial_analysis\\.venv\\lib\\site-packages (from scanpy) (4.67.0)\n",
      "Requirement already satisfied: umap-learn!=0.5.0,>=0.5 in c:\\users\\crisi\\desktop\\code\\uw\\compbio\\endometrial_analysis\\.venv\\lib\\site-packages (from scanpy) (0.5.7)\n",
      "Requirement already satisfied: docrep>=0.3.2 in c:\\users\\crisi\\desktop\\code\\uw\\compbio\\endometrial_analysis\\.venv\\lib\\site-packages (from scvi-tools) (0.3.2)\n",
      "Requirement already satisfied: flax in c:\\users\\crisi\\desktop\\code\\uw\\compbio\\endometrial_analysis\\.venv\\lib\\site-packages (from scvi-tools) (0.10.1)\n",
      "Requirement already satisfied: jax in c:\\users\\crisi\\desktop\\code\\uw\\compbio\\endometrial_analysis\\.venv\\lib\\site-packages (from scvi-tools) (0.4.35)\n",
      "Requirement already satisfied: jaxlib in c:\\users\\crisi\\desktop\\code\\uw\\compbio\\endometrial_analysis\\.venv\\lib\\site-packages (from scvi-tools) (0.4.35)\n",
      "Requirement already satisfied: lightning>=2.0 in c:\\users\\crisi\\desktop\\code\\uw\\compbio\\endometrial_analysis\\.venv\\lib\\site-packages (from scvi-tools) (2.4.0)\n",
      "Requirement already satisfied: ml-collections>=0.1.1 in c:\\users\\crisi\\desktop\\code\\uw\\compbio\\endometrial_analysis\\.venv\\lib\\site-packages (from scvi-tools) (0.1.1)\n",
      "Requirement already satisfied: mudata>=0.1.2 in c:\\users\\crisi\\desktop\\code\\uw\\compbio\\endometrial_analysis\\.venv\\lib\\site-packages (from scvi-tools) (0.3.1)\n",
      "Requirement already satisfied: numpyro>=0.12.1 in c:\\users\\crisi\\desktop\\code\\uw\\compbio\\endometrial_analysis\\.venv\\lib\\site-packages (from scvi-tools) (0.15.3)\n",
      "Requirement already satisfied: optax in c:\\users\\crisi\\desktop\\code\\uw\\compbio\\endometrial_analysis\\.venv\\lib\\site-packages (from scvi-tools) (0.2.3)\n",
      "Requirement already satisfied: pyro-ppl>=1.6.0 in c:\\users\\crisi\\desktop\\code\\uw\\compbio\\endometrial_analysis\\.venv\\lib\\site-packages (from scvi-tools) (1.9.1)\n",
      "Requirement already satisfied: rich>=12.0.0 in c:\\users\\crisi\\desktop\\code\\uw\\compbio\\endometrial_analysis\\.venv\\lib\\site-packages (from scvi-tools) (13.9.4)\n",
      "Requirement already satisfied: sparse>=0.14.0 in c:\\users\\crisi\\desktop\\code\\uw\\compbio\\endometrial_analysis\\.venv\\lib\\site-packages (from scvi-tools) (0.15.4)\n",
      "Requirement already satisfied: tensorboard>=2.0 in c:\\users\\crisi\\desktop\\code\\uw\\compbio\\endometrial_analysis\\.venv\\lib\\site-packages (from scvi-tools) (2.18.0)\n",
      "Requirement already satisfied: torch in c:\\users\\crisi\\desktop\\code\\uw\\compbio\\endometrial_analysis\\.venv\\lib\\site-packages (from scvi-tools) (2.5.1)\n",
      "Requirement already satisfied: torchmetrics>=0.11.0 in c:\\users\\crisi\\desktop\\code\\uw\\compbio\\endometrial_analysis\\.venv\\lib\\site-packages (from scvi-tools) (1.5.1)\n",
      "Requirement already satisfied: xarray>=2023.2.0 in c:\\users\\crisi\\desktop\\code\\uw\\compbio\\endometrial_analysis\\.venv\\lib\\site-packages (from scvi-tools) (2024.10.0)\n",
      "Requirement already satisfied: array-api-compat!=1.5,>1.4 in c:\\users\\crisi\\desktop\\code\\uw\\compbio\\endometrial_analysis\\.venv\\lib\\site-packages (from anndata) (1.9.1)\n",
      "Requirement already satisfied: six in c:\\users\\crisi\\desktop\\code\\uw\\compbio\\endometrial_analysis\\.venv\\lib\\site-packages (from docrep>=0.3.2->scvi-tools) (1.16.0)\n",
      "Requirement already satisfied: PyYAML<8.0,>=5.4 in c:\\users\\crisi\\desktop\\code\\uw\\compbio\\endometrial_analysis\\.venv\\lib\\site-packages (from lightning>=2.0->scvi-tools) (6.0.2)\n",
      "Requirement already satisfied: fsspec<2026.0,>=2022.5.0 in c:\\users\\crisi\\desktop\\code\\uw\\compbio\\endometrial_analysis\\.venv\\lib\\site-packages (from fsspec[http]<2026.0,>=2022.5.0->lightning>=2.0->scvi-tools) (2024.10.0)\n",
      "Requirement already satisfied: lightning-utilities<2.0,>=0.10.0 in c:\\users\\crisi\\desktop\\code\\uw\\compbio\\endometrial_analysis\\.venv\\lib\\site-packages (from lightning>=2.0->scvi-tools) (0.11.8)\n",
      "Requirement already satisfied: typing-extensions<6.0,>=4.4.0 in c:\\users\\crisi\\desktop\\code\\uw\\compbio\\endometrial_analysis\\.venv\\lib\\site-packages (from lightning>=2.0->scvi-tools) (4.12.2)\n",
      "Requirement already satisfied: pytorch-lightning in c:\\users\\crisi\\desktop\\code\\uw\\compbio\\endometrial_analysis\\.venv\\lib\\site-packages (from lightning>=2.0->scvi-tools) (2.4.0)\n",
      "Requirement already satisfied: contourpy>=1.0.1 in c:\\users\\crisi\\desktop\\code\\uw\\compbio\\endometrial_analysis\\.venv\\lib\\site-packages (from matplotlib>=3.6->scanpy) (1.3.0)\n",
      "Requirement already satisfied: cycler>=0.10 in c:\\users\\crisi\\desktop\\code\\uw\\compbio\\endometrial_analysis\\.venv\\lib\\site-packages (from matplotlib>=3.6->scanpy) (0.12.1)\n",
      "Requirement already satisfied: fonttools>=4.22.0 in c:\\users\\crisi\\desktop\\code\\uw\\compbio\\endometrial_analysis\\.venv\\lib\\site-packages (from matplotlib>=3.6->scanpy) (4.54.1)\n",
      "Requirement already satisfied: kiwisolver>=1.3.1 in c:\\users\\crisi\\desktop\\code\\uw\\compbio\\endometrial_analysis\\.venv\\lib\\site-packages (from matplotlib>=3.6->scanpy) (1.4.7)\n",
      "Requirement already satisfied: pillow>=8 in c:\\users\\crisi\\desktop\\code\\uw\\compbio\\endometrial_analysis\\.venv\\lib\\site-packages (from matplotlib>=3.6->scanpy) (11.0.0)\n",
      "Requirement already satisfied: pyparsing>=2.3.1 in c:\\users\\crisi\\desktop\\code\\uw\\compbio\\endometrial_analysis\\.venv\\lib\\site-packages (from matplotlib>=3.6->scanpy) (3.2.0)\n",
      "Requirement already satisfied: python-dateutil>=2.7 in c:\\users\\crisi\\desktop\\code\\uw\\compbio\\endometrial_analysis\\.venv\\lib\\site-packages (from matplotlib>=3.6->scanpy) (2.9.0.post0)\n",
      "Requirement already satisfied: absl-py in c:\\users\\crisi\\desktop\\code\\uw\\compbio\\endometrial_analysis\\.venv\\lib\\site-packages (from ml-collections>=0.1.1->scvi-tools) (2.1.0)\n",
      "Requirement already satisfied: contextlib2 in c:\\users\\crisi\\desktop\\code\\uw\\compbio\\endometrial_analysis\\.venv\\lib\\site-packages (from ml-collections>=0.1.1->scvi-tools) (21.6.0)\n",
      "Requirement already satisfied: llvmlite<0.44,>=0.43.0dev0 in c:\\users\\crisi\\desktop\\code\\uw\\compbio\\endometrial_analysis\\.venv\\lib\\site-packages (from numba>=0.56->scanpy) (0.43.0)\n",
      "Requirement already satisfied: multipledispatch in c:\\users\\crisi\\desktop\\code\\uw\\compbio\\endometrial_analysis\\.venv\\lib\\site-packages (from numpyro>=0.12.1->scvi-tools) (1.0.0)\n",
      "Requirement already satisfied: ml-dtypes>=0.4.0 in c:\\users\\crisi\\desktop\\code\\uw\\compbio\\endometrial_analysis\\.venv\\lib\\site-packages (from jax->scvi-tools) (0.5.0)\n",
      "Requirement already satisfied: opt-einsum in c:\\users\\crisi\\desktop\\code\\uw\\compbio\\endometrial_analysis\\.venv\\lib\\site-packages (from jax->scvi-tools) (3.4.0)\n",
      "Requirement already satisfied: pytz>=2020.1 in c:\\users\\crisi\\desktop\\code\\uw\\compbio\\endometrial_analysis\\.venv\\lib\\site-packages (from pandas>=1.5->scanpy) (2024.2)\n",
      "Requirement already satisfied: tzdata>=2022.7 in c:\\users\\crisi\\desktop\\code\\uw\\compbio\\endometrial_analysis\\.venv\\lib\\site-packages (from pandas>=1.5->scanpy) (2024.2)\n",
      "Requirement already satisfied: pyro-api>=0.1.1 in c:\\users\\crisi\\desktop\\code\\uw\\compbio\\endometrial_analysis\\.venv\\lib\\site-packages (from pyro-ppl>=1.6.0->scvi-tools) (0.1.2)\n",
      "Requirement already satisfied: markdown-it-py>=2.2.0 in c:\\users\\crisi\\desktop\\code\\uw\\compbio\\endometrial_analysis\\.venv\\lib\\site-packages (from rich>=12.0.0->scvi-tools) (3.0.0)\n",
      "Requirement already satisfied: pygments<3.0.0,>=2.13.0 in c:\\users\\crisi\\desktop\\code\\uw\\compbio\\endometrial_analysis\\.venv\\lib\\site-packages (from rich>=12.0.0->scvi-tools) (2.18.0)\n",
      "Requirement already satisfied: threadpoolctl>=3.1.0 in c:\\users\\crisi\\desktop\\code\\uw\\compbio\\endometrial_analysis\\.venv\\lib\\site-packages (from scikit-learn>=0.24->scanpy) (3.5.0)\n",
      "Requirement already satisfied: grpcio>=1.48.2 in c:\\users\\crisi\\desktop\\code\\uw\\compbio\\endometrial_analysis\\.venv\\lib\\site-packages (from tensorboard>=2.0->scvi-tools) (1.67.1)\n",
      "Requirement already satisfied: markdown>=2.6.8 in c:\\users\\crisi\\desktop\\code\\uw\\compbio\\endometrial_analysis\\.venv\\lib\\site-packages (from tensorboard>=2.0->scvi-tools) (3.7)\n",
      "Requirement already satisfied: protobuf!=4.24.0,>=3.19.6 in c:\\users\\crisi\\desktop\\code\\uw\\compbio\\endometrial_analysis\\.venv\\lib\\site-packages (from tensorboard>=2.0->scvi-tools) (5.28.3)\n",
      "Requirement already satisfied: setuptools>=41.0.0 in c:\\users\\crisi\\desktop\\code\\uw\\compbio\\endometrial_analysis\\.venv\\lib\\site-packages (from tensorboard>=2.0->scvi-tools) (75.3.0)\n",
      "Requirement already satisfied: tensorboard-data-server<0.8.0,>=0.7.0 in c:\\users\\crisi\\desktop\\code\\uw\\compbio\\endometrial_analysis\\.venv\\lib\\site-packages (from tensorboard>=2.0->scvi-tools) (0.7.2)\n",
      "Requirement already satisfied: werkzeug>=1.0.1 in c:\\users\\crisi\\desktop\\code\\uw\\compbio\\endometrial_analysis\\.venv\\lib\\site-packages (from tensorboard>=2.0->scvi-tools) (3.1.2)\n",
      "Requirement already satisfied: filelock in c:\\users\\crisi\\desktop\\code\\uw\\compbio\\endometrial_analysis\\.venv\\lib\\site-packages (from torch->scvi-tools) (3.16.1)\n",
      "Requirement already satisfied: jinja2 in c:\\users\\crisi\\desktop\\code\\uw\\compbio\\endometrial_analysis\\.venv\\lib\\site-packages (from torch->scvi-tools) (3.1.4)\n",
      "Requirement already satisfied: sympy==1.13.1 in c:\\users\\crisi\\desktop\\code\\uw\\compbio\\endometrial_analysis\\.venv\\lib\\site-packages (from torch->scvi-tools) (1.13.1)\n",
      "Requirement already satisfied: mpmath<1.4,>=1.1.0 in c:\\users\\crisi\\desktop\\code\\uw\\compbio\\endometrial_analysis\\.venv\\lib\\site-packages (from sympy==1.13.1->torch->scvi-tools) (1.3.0)\n",
      "Requirement already satisfied: colorama in c:\\users\\crisi\\desktop\\code\\uw\\compbio\\endometrial_analysis\\.venv\\lib\\site-packages (from tqdm->scanpy) (0.4.6)\n",
      "Requirement already satisfied: msgpack in c:\\users\\crisi\\desktop\\code\\uw\\compbio\\endometrial_analysis\\.venv\\lib\\site-packages (from flax->scvi-tools) (1.1.0)\n",
      "Requirement already satisfied: orbax-checkpoint in c:\\users\\crisi\\desktop\\code\\uw\\compbio\\endometrial_analysis\\.venv\\lib\\site-packages (from flax->scvi-tools) (0.8.0)\n",
      "Requirement already satisfied: tensorstore in c:\\users\\crisi\\desktop\\code\\uw\\compbio\\endometrial_analysis\\.venv\\lib\\site-packages (from flax->scvi-tools) (0.1.67)\n",
      "Requirement already satisfied: chex>=0.1.86 in c:\\users\\crisi\\desktop\\code\\uw\\compbio\\endometrial_analysis\\.venv\\lib\\site-packages (from optax->scvi-tools) (0.1.87)\n",
      "Requirement already satisfied: etils[epy] in c:\\users\\crisi\\desktop\\code\\uw\\compbio\\endometrial_analysis\\.venv\\lib\\site-packages (from optax->scvi-tools) (1.10.0)\n",
      "Requirement already satisfied: stdlib-list in c:\\users\\crisi\\desktop\\code\\uw\\compbio\\endometrial_analysis\\.venv\\lib\\site-packages (from session-info->scanpy) (0.11.0)\n",
      "Requirement already satisfied: toolz>=0.9.0 in c:\\users\\crisi\\desktop\\code\\uw\\compbio\\endometrial_analysis\\.venv\\lib\\site-packages (from chex>=0.1.86->optax->scvi-tools) (1.0.0)\n",
      "Requirement already satisfied: aiohttp!=4.0.0a0,!=4.0.0a1 in c:\\users\\crisi\\desktop\\code\\uw\\compbio\\endometrial_analysis\\.venv\\lib\\site-packages (from fsspec[http]<2026.0,>=2022.5.0->lightning>=2.0->scvi-tools) (3.10.10)\n",
      "Requirement already satisfied: mdurl~=0.1 in c:\\users\\crisi\\desktop\\code\\uw\\compbio\\endometrial_analysis\\.venv\\lib\\site-packages (from markdown-it-py>=2.2.0->rich>=12.0.0->scvi-tools) (0.1.2)\n",
      "Requirement already satisfied: MarkupSafe>=2.1.1 in c:\\users\\crisi\\desktop\\code\\uw\\compbio\\endometrial_analysis\\.venv\\lib\\site-packages (from werkzeug>=1.0.1->tensorboard>=2.0->scvi-tools) (3.0.2)\n",
      "Requirement already satisfied: nest_asyncio in c:\\users\\crisi\\desktop\\code\\uw\\compbio\\endometrial_analysis\\.venv\\lib\\site-packages (from orbax-checkpoint->flax->scvi-tools) (1.6.0)\n",
      "Requirement already satisfied: humanize in c:\\users\\crisi\\desktop\\code\\uw\\compbio\\endometrial_analysis\\.venv\\lib\\site-packages (from orbax-checkpoint->flax->scvi-tools) (4.11.0)\n",
      "Requirement already satisfied: aiohappyeyeballs>=2.3.0 in c:\\users\\crisi\\desktop\\code\\uw\\compbio\\endometrial_analysis\\.venv\\lib\\site-packages (from aiohttp!=4.0.0a0,!=4.0.0a1->fsspec[http]<2026.0,>=2022.5.0->lightning>=2.0->scvi-tools) (2.4.3)\n",
      "Requirement already satisfied: aiosignal>=1.1.2 in c:\\users\\crisi\\desktop\\code\\uw\\compbio\\endometrial_analysis\\.venv\\lib\\site-packages (from aiohttp!=4.0.0a0,!=4.0.0a1->fsspec[http]<2026.0,>=2022.5.0->lightning>=2.0->scvi-tools) (1.3.1)\n",
      "Requirement already satisfied: attrs>=17.3.0 in c:\\users\\crisi\\desktop\\code\\uw\\compbio\\endometrial_analysis\\.venv\\lib\\site-packages (from aiohttp!=4.0.0a0,!=4.0.0a1->fsspec[http]<2026.0,>=2022.5.0->lightning>=2.0->scvi-tools) (24.2.0)\n",
      "Requirement already satisfied: frozenlist>=1.1.1 in c:\\users\\crisi\\desktop\\code\\uw\\compbio\\endometrial_analysis\\.venv\\lib\\site-packages (from aiohttp!=4.0.0a0,!=4.0.0a1->fsspec[http]<2026.0,>=2022.5.0->lightning>=2.0->scvi-tools) (1.5.0)\n",
      "Requirement already satisfied: multidict<7.0,>=4.5 in c:\\users\\crisi\\desktop\\code\\uw\\compbio\\endometrial_analysis\\.venv\\lib\\site-packages (from aiohttp!=4.0.0a0,!=4.0.0a1->fsspec[http]<2026.0,>=2022.5.0->lightning>=2.0->scvi-tools) (6.1.0)\n",
      "Requirement already satisfied: yarl<2.0,>=1.12.0 in c:\\users\\crisi\\desktop\\code\\uw\\compbio\\endometrial_analysis\\.venv\\lib\\site-packages (from aiohttp!=4.0.0a0,!=4.0.0a1->fsspec[http]<2026.0,>=2022.5.0->lightning>=2.0->scvi-tools) (1.17.1)\n",
      "Requirement already satisfied: importlib_resources in c:\\users\\crisi\\desktop\\code\\uw\\compbio\\endometrial_analysis\\.venv\\lib\\site-packages (from etils[epy]->optax->scvi-tools) (6.4.5)\n",
      "Requirement already satisfied: zipp in c:\\users\\crisi\\desktop\\code\\uw\\compbio\\endometrial_analysis\\.venv\\lib\\site-packages (from etils[epy]->optax->scvi-tools) (3.20.2)\n",
      "Requirement already satisfied: idna>=2.0 in c:\\users\\crisi\\desktop\\code\\uw\\compbio\\endometrial_analysis\\.venv\\lib\\site-packages (from yarl<2.0,>=1.12.0->aiohttp!=4.0.0a0,!=4.0.0a1->fsspec[http]<2026.0,>=2022.5.0->lightning>=2.0->scvi-tools) (3.10)\n",
      "Requirement already satisfied: propcache>=0.2.0 in c:\\users\\crisi\\desktop\\code\\uw\\compbio\\endometrial_analysis\\.venv\\lib\\site-packages (from yarl<2.0,>=1.12.0->aiohttp!=4.0.0a0,!=4.0.0a1->fsspec[http]<2026.0,>=2022.5.0->lightning>=2.0->scvi-tools) (0.2.0)\n",
      "Note: you may need to restart the kernel to use updated packages.\n",
      "Note: you may need to restart the kernel to use updated packages.\n",
      "Requirement already satisfied: seaborn in c:\\users\\crisi\\desktop\\code\\uw\\compbio\\endometrial_analysis\\.venv\\lib\\site-packages (0.13.2)\n",
      "Requirement already satisfied: numpy!=1.24.0,>=1.20 in c:\\users\\crisi\\desktop\\code\\uw\\compbio\\endometrial_analysis\\.venv\\lib\\site-packages (from seaborn) (1.26.4)\n",
      "Requirement already satisfied: pandas>=1.2 in c:\\users\\crisi\\desktop\\code\\uw\\compbio\\endometrial_analysis\\.venv\\lib\\site-packages (from seaborn) (2.2.3)\n",
      "Requirement already satisfied: matplotlib!=3.6.1,>=3.4 in c:\\users\\crisi\\desktop\\code\\uw\\compbio\\endometrial_analysis\\.venv\\lib\\site-packages (from seaborn) (3.9.2)\n",
      "Requirement already satisfied: contourpy>=1.0.1 in c:\\users\\crisi\\desktop\\code\\uw\\compbio\\endometrial_analysis\\.venv\\lib\\site-packages (from matplotlib!=3.6.1,>=3.4->seaborn) (1.3.0)\n",
      "Requirement already satisfied: cycler>=0.10 in c:\\users\\crisi\\desktop\\code\\uw\\compbio\\endometrial_analysis\\.venv\\lib\\site-packages (from matplotlib!=3.6.1,>=3.4->seaborn) (0.12.1)\n",
      "Requirement already satisfied: fonttools>=4.22.0 in c:\\users\\crisi\\desktop\\code\\uw\\compbio\\endometrial_analysis\\.venv\\lib\\site-packages (from matplotlib!=3.6.1,>=3.4->seaborn) (4.54.1)\n",
      "Requirement already satisfied: kiwisolver>=1.3.1 in c:\\users\\crisi\\desktop\\code\\uw\\compbio\\endometrial_analysis\\.venv\\lib\\site-packages (from matplotlib!=3.6.1,>=3.4->seaborn) (1.4.7)\n",
      "Requirement already satisfied: packaging>=20.0 in c:\\users\\crisi\\desktop\\code\\uw\\compbio\\endometrial_analysis\\.venv\\lib\\site-packages (from matplotlib!=3.6.1,>=3.4->seaborn) (24.1)\n",
      "Requirement already satisfied: pillow>=8 in c:\\users\\crisi\\desktop\\code\\uw\\compbio\\endometrial_analysis\\.venv\\lib\\site-packages (from matplotlib!=3.6.1,>=3.4->seaborn) (11.0.0)\n",
      "Requirement already satisfied: pyparsing>=2.3.1 in c:\\users\\crisi\\desktop\\code\\uw\\compbio\\endometrial_analysis\\.venv\\lib\\site-packages (from matplotlib!=3.6.1,>=3.4->seaborn) (3.2.0)\n",
      "Requirement already satisfied: python-dateutil>=2.7 in c:\\users\\crisi\\desktop\\code\\uw\\compbio\\endometrial_analysis\\.venv\\lib\\site-packages (from matplotlib!=3.6.1,>=3.4->seaborn) (2.9.0.post0)\n",
      "Requirement already satisfied: pytz>=2020.1 in c:\\users\\crisi\\desktop\\code\\uw\\compbio\\endometrial_analysis\\.venv\\lib\\site-packages (from pandas>=1.2->seaborn) (2024.2)\n",
      "Requirement already satisfied: tzdata>=2022.7 in c:\\users\\crisi\\desktop\\code\\uw\\compbio\\endometrial_analysis\\.venv\\lib\\site-packages (from pandas>=1.2->seaborn) (2024.2)\n",
      "Requirement already satisfied: six>=1.5 in c:\\users\\crisi\\desktop\\code\\uw\\compbio\\endometrial_analysis\\.venv\\lib\\site-packages (from python-dateutil>=2.7->matplotlib!=3.6.1,>=3.4->seaborn) (1.16.0)\n",
      "Note: you may need to restart the kernel to use updated packages.\n",
      "Note: you may need to restart the kernel to use updated packages.\n",
      "Requirement already satisfied: pandas in c:\\users\\crisi\\desktop\\code\\uw\\compbio\\endometrial_analysis\\.venv\\lib\\site-packages (2.2.3)\n",
      "Requirement already satisfied: numpy>=1.26.0 in c:\\users\\crisi\\desktop\\code\\uw\\compbio\\endometrial_analysis\\.venv\\lib\\site-packages (from pandas) (1.26.4)\n",
      "Requirement already satisfied: python-dateutil>=2.8.2 in c:\\users\\crisi\\desktop\\code\\uw\\compbio\\endometrial_analysis\\.venv\\lib\\site-packages (from pandas) (2.9.0.post0)\n",
      "Requirement already satisfied: pytz>=2020.1 in c:\\users\\crisi\\desktop\\code\\uw\\compbio\\endometrial_analysis\\.venv\\lib\\site-packages (from pandas) (2024.2)\n",
      "Requirement already satisfied: tzdata>=2022.7 in c:\\users\\crisi\\desktop\\code\\uw\\compbio\\endometrial_analysis\\.venv\\lib\\site-packages (from pandas) (2024.2)\n",
      "Requirement already satisfied: six>=1.5 in c:\\users\\crisi\\desktop\\code\\uw\\compbio\\endometrial_analysis\\.venv\\lib\\site-packages (from python-dateutil>=2.8.2->pandas) (1.16.0)\n",
      "Note: you may need to restart the kernel to use updated packages.\n",
      "Requirement already satisfied: pyscenic in c:\\users\\crisi\\desktop\\code\\uw\\compbio\\endometrial_analysis\\.venv\\lib\\site-packages (0.12.1)\n",
      "Requirement already satisfied: ctxcore>=0.2.0 in c:\\users\\crisi\\desktop\\code\\uw\\compbio\\endometrial_analysis\\.venv\\lib\\site-packages (from pyscenic) (0.2.0)\n",
      "Requirement already satisfied: cytoolz in c:\\users\\crisi\\desktop\\code\\uw\\compbio\\endometrial_analysis\\.venv\\lib\\site-packages (from pyscenic) (1.0.0)\n",
      "Requirement already satisfied: multiprocessing-on-dill in c:\\users\\crisi\\desktop\\code\\uw\\compbio\\endometrial_analysis\\.venv\\lib\\site-packages (from pyscenic) (3.5.0a4)\n",
      "Requirement already satisfied: llvmlite in c:\\users\\crisi\\desktop\\code\\uw\\compbio\\endometrial_analysis\\.venv\\lib\\site-packages (from pyscenic) (0.43.0)\n",
      "Requirement already satisfied: numba>=0.51.2 in c:\\users\\crisi\\desktop\\code\\uw\\compbio\\endometrial_analysis\\.venv\\lib\\site-packages (from pyscenic) (0.60.0)\n",
      "Requirement already satisfied: attrs in c:\\users\\crisi\\desktop\\code\\uw\\compbio\\endometrial_analysis\\.venv\\lib\\site-packages (from pyscenic) (24.2.0)\n",
      "Requirement already satisfied: frozendict in c:\\users\\crisi\\desktop\\code\\uw\\compbio\\endometrial_analysis\\.venv\\lib\\site-packages (from pyscenic) (2.4.6)\n",
      "Requirement already satisfied: numpy in c:\\users\\crisi\\desktop\\code\\uw\\compbio\\endometrial_analysis\\.venv\\lib\\site-packages (from pyscenic) (1.26.4)\n",
      "Requirement already satisfied: pandas>=1.3.5 in c:\\users\\crisi\\desktop\\code\\uw\\compbio\\endometrial_analysis\\.venv\\lib\\site-packages (from pyscenic) (2.2.3)\n",
      "Requirement already satisfied: numexpr in c:\\users\\crisi\\desktop\\code\\uw\\compbio\\endometrial_analysis\\.venv\\lib\\site-packages (from pyscenic) (2.10.1)\n",
      "Requirement already satisfied: cloudpickle in c:\\users\\crisi\\desktop\\code\\uw\\compbio\\endometrial_analysis\\.venv\\lib\\site-packages (from pyscenic) (3.1.0)\n",
      "Requirement already satisfied: dask in c:\\users\\crisi\\desktop\\code\\uw\\compbio\\endometrial_analysis\\.venv\\lib\\site-packages (from pyscenic) (2024.10.0)\n",
      "Requirement already satisfied: distributed in c:\\users\\crisi\\desktop\\code\\uw\\compbio\\endometrial_analysis\\.venv\\lib\\site-packages (from pyscenic) (2024.10.0)\n",
      "Requirement already satisfied: arboreto>=0.1.6 in c:\\users\\crisi\\desktop\\code\\uw\\compbio\\endometrial_analysis\\.venv\\lib\\site-packages (from pyscenic) (0.1.6)\n",
      "Requirement already satisfied: boltons in c:\\users\\crisi\\desktop\\code\\uw\\compbio\\endometrial_analysis\\.venv\\lib\\site-packages (from pyscenic) (24.1.0)\n",
      "Requirement already satisfied: setuptools in c:\\users\\crisi\\desktop\\code\\uw\\compbio\\endometrial_analysis\\.venv\\lib\\site-packages (from pyscenic) (75.3.0)\n",
      "Requirement already satisfied: pyyaml in c:\\users\\crisi\\desktop\\code\\uw\\compbio\\endometrial_analysis\\.venv\\lib\\site-packages (from pyscenic) (6.0.2)\n",
      "Requirement already satisfied: tqdm in c:\\users\\crisi\\desktop\\code\\uw\\compbio\\endometrial_analysis\\.venv\\lib\\site-packages (from pyscenic) (4.67.0)\n",
      "Requirement already satisfied: interlap in c:\\users\\crisi\\desktop\\code\\uw\\compbio\\endometrial_analysis\\.venv\\lib\\site-packages (from pyscenic) (0.2.7)\n",
      "Requirement already satisfied: umap-learn in c:\\users\\crisi\\desktop\\code\\uw\\compbio\\endometrial_analysis\\.venv\\lib\\site-packages (from pyscenic) (0.5.7)\n",
      "Requirement already satisfied: loompy in c:\\users\\crisi\\desktop\\code\\uw\\compbio\\endometrial_analysis\\.venv\\lib\\site-packages (from pyscenic) (3.0.7)\n",
      "Requirement already satisfied: networkx in c:\\users\\crisi\\desktop\\code\\uw\\compbio\\endometrial_analysis\\.venv\\lib\\site-packages (from pyscenic) (3.4.2)\n",
      "Requirement already satisfied: scipy in c:\\users\\crisi\\desktop\\code\\uw\\compbio\\endometrial_analysis\\.venv\\lib\\site-packages (from pyscenic) (1.14.1)\n",
      "Requirement already satisfied: fsspec in c:\\users\\crisi\\desktop\\code\\uw\\compbio\\endometrial_analysis\\.venv\\lib\\site-packages (from pyscenic) (2024.10.0)\n",
      "Requirement already satisfied: requests in c:\\users\\crisi\\desktop\\code\\uw\\compbio\\endometrial_analysis\\.venv\\lib\\site-packages (from pyscenic) (2.32.3)\n",
      "Requirement already satisfied: aiohttp in c:\\users\\crisi\\desktop\\code\\uw\\compbio\\endometrial_analysis\\.venv\\lib\\site-packages (from pyscenic) (3.10.10)\n",
      "Requirement already satisfied: scikit-learn>=0.22.2 in c:\\users\\crisi\\desktop\\code\\uw\\compbio\\endometrial_analysis\\.venv\\lib\\site-packages (from pyscenic) (1.5.2)\n",
      "Requirement already satisfied: pyarrow>=8.0.0 in c:\\users\\crisi\\desktop\\code\\uw\\compbio\\endometrial_analysis\\.venv\\lib\\site-packages (from ctxcore>=0.2.0->pyscenic) (18.0.0)\n",
      "Requirement already satisfied: python-dateutil>=2.8.2 in c:\\users\\crisi\\desktop\\code\\uw\\compbio\\endometrial_analysis\\.venv\\lib\\site-packages (from pandas>=1.3.5->pyscenic) (2.9.0.post0)\n",
      "Requirement already satisfied: pytz>=2020.1 in c:\\users\\crisi\\desktop\\code\\uw\\compbio\\endometrial_analysis\\.venv\\lib\\site-packages (from pandas>=1.3.5->pyscenic) (2024.2)\n",
      "Requirement already satisfied: tzdata>=2022.7 in c:\\users\\crisi\\desktop\\code\\uw\\compbio\\endometrial_analysis\\.venv\\lib\\site-packages (from pandas>=1.3.5->pyscenic) (2024.2)\n",
      "Requirement already satisfied: joblib>=1.2.0 in c:\\users\\crisi\\desktop\\code\\uw\\compbio\\endometrial_analysis\\.venv\\lib\\site-packages (from scikit-learn>=0.22.2->pyscenic) (1.4.2)\n",
      "Requirement already satisfied: threadpoolctl>=3.1.0 in c:\\users\\crisi\\desktop\\code\\uw\\compbio\\endometrial_analysis\\.venv\\lib\\site-packages (from scikit-learn>=0.22.2->pyscenic) (3.5.0)\n",
      "Requirement already satisfied: aiohappyeyeballs>=2.3.0 in c:\\users\\crisi\\desktop\\code\\uw\\compbio\\endometrial_analysis\\.venv\\lib\\site-packages (from aiohttp->pyscenic) (2.4.3)\n",
      "Requirement already satisfied: aiosignal>=1.1.2 in c:\\users\\crisi\\desktop\\code\\uw\\compbio\\endometrial_analysis\\.venv\\lib\\site-packages (from aiohttp->pyscenic) (1.3.1)\n",
      "Requirement already satisfied: frozenlist>=1.1.1 in c:\\users\\crisi\\desktop\\code\\uw\\compbio\\endometrial_analysis\\.venv\\lib\\site-packages (from aiohttp->pyscenic) (1.5.0)\n",
      "Requirement already satisfied: multidict<7.0,>=4.5 in c:\\users\\crisi\\desktop\\code\\uw\\compbio\\endometrial_analysis\\.venv\\lib\\site-packages (from aiohttp->pyscenic) (6.1.0)\n",
      "Requirement already satisfied: yarl<2.0,>=1.12.0 in c:\\users\\crisi\\desktop\\code\\uw\\compbio\\endometrial_analysis\\.venv\\lib\\site-packages (from aiohttp->pyscenic) (1.17.1)\n",
      "Requirement already satisfied: toolz>=0.8.0 in c:\\users\\crisi\\desktop\\code\\uw\\compbio\\endometrial_analysis\\.venv\\lib\\site-packages (from cytoolz->pyscenic) (1.0.0)\n",
      "Requirement already satisfied: click>=8.1 in c:\\users\\crisi\\desktop\\code\\uw\\compbio\\endometrial_analysis\\.venv\\lib\\site-packages (from dask->pyscenic) (8.1.7)\n",
      "Requirement already satisfied: packaging>=20.0 in c:\\users\\crisi\\desktop\\code\\uw\\compbio\\endometrial_analysis\\.venv\\lib\\site-packages (from dask->pyscenic) (24.1)\n",
      "Requirement already satisfied: partd>=1.4.0 in c:\\users\\crisi\\desktop\\code\\uw\\compbio\\endometrial_analysis\\.venv\\lib\\site-packages (from dask->pyscenic) (1.4.2)\n",
      "Requirement already satisfied: jinja2>=2.10.3 in c:\\users\\crisi\\desktop\\code\\uw\\compbio\\endometrial_analysis\\.venv\\lib\\site-packages (from distributed->pyscenic) (3.1.4)\n",
      "Requirement already satisfied: locket>=1.0.0 in c:\\users\\crisi\\desktop\\code\\uw\\compbio\\endometrial_analysis\\.venv\\lib\\site-packages (from distributed->pyscenic) (1.0.0)\n",
      "Requirement already satisfied: msgpack>=1.0.2 in c:\\users\\crisi\\desktop\\code\\uw\\compbio\\endometrial_analysis\\.venv\\lib\\site-packages (from distributed->pyscenic) (1.1.0)\n",
      "Requirement already satisfied: psutil>=5.8.0 in c:\\users\\crisi\\desktop\\code\\uw\\compbio\\endometrial_analysis\\.venv\\lib\\site-packages (from distributed->pyscenic) (6.1.0)\n",
      "Requirement already satisfied: sortedcontainers>=2.0.5 in c:\\users\\crisi\\desktop\\code\\uw\\compbio\\endometrial_analysis\\.venv\\lib\\site-packages (from distributed->pyscenic) (2.4.0)\n",
      "Requirement already satisfied: tblib>=1.6.0 in c:\\users\\crisi\\desktop\\code\\uw\\compbio\\endometrial_analysis\\.venv\\lib\\site-packages (from distributed->pyscenic) (3.0.0)\n",
      "Requirement already satisfied: tornado>=6.2.0 in c:\\users\\crisi\\desktop\\code\\uw\\compbio\\endometrial_analysis\\.venv\\lib\\site-packages (from distributed->pyscenic) (6.4.1)\n",
      "Requirement already satisfied: urllib3>=1.26.5 in c:\\users\\crisi\\desktop\\code\\uw\\compbio\\endometrial_analysis\\.venv\\lib\\site-packages (from distributed->pyscenic) (1.26.20)\n",
      "Requirement already satisfied: zict>=3.0.0 in c:\\users\\crisi\\desktop\\code\\uw\\compbio\\endometrial_analysis\\.venv\\lib\\site-packages (from distributed->pyscenic) (3.0.0)\n",
      "Requirement already satisfied: h5py in c:\\users\\crisi\\desktop\\code\\uw\\compbio\\endometrial_analysis\\.venv\\lib\\site-packages (from loompy->pyscenic) (3.12.1)\n",
      "Requirement already satisfied: numpy-groupies in c:\\users\\crisi\\desktop\\code\\uw\\compbio\\endometrial_analysis\\.venv\\lib\\site-packages (from loompy->pyscenic) (0.11.2)\n",
      "Requirement already satisfied: dill in c:\\users\\crisi\\desktop\\code\\uw\\compbio\\endometrial_analysis\\.venv\\lib\\site-packages (from multiprocessing-on-dill->pyscenic) (0.3.9)\n",
      "Requirement already satisfied: charset-normalizer<4,>=2 in c:\\users\\crisi\\desktop\\code\\uw\\compbio\\endometrial_analysis\\.venv\\lib\\site-packages (from requests->pyscenic) (3.4.0)\n",
      "Requirement already satisfied: idna<4,>=2.5 in c:\\users\\crisi\\desktop\\code\\uw\\compbio\\endometrial_analysis\\.venv\\lib\\site-packages (from requests->pyscenic) (3.10)\n",
      "Requirement already satisfied: certifi>=2017.4.17 in c:\\users\\crisi\\desktop\\code\\uw\\compbio\\endometrial_analysis\\.venv\\lib\\site-packages (from requests->pyscenic) (2024.8.30)\n",
      "Requirement already satisfied: colorama in c:\\users\\crisi\\desktop\\code\\uw\\compbio\\endometrial_analysis\\.venv\\lib\\site-packages (from tqdm->pyscenic) (0.4.6)\n",
      "Requirement already satisfied: pynndescent>=0.5 in c:\\users\\crisi\\desktop\\code\\uw\\compbio\\endometrial_analysis\\.venv\\lib\\site-packages (from umap-learn->pyscenic) (0.5.13)\n",
      "Requirement already satisfied: MarkupSafe>=2.0 in c:\\users\\crisi\\desktop\\code\\uw\\compbio\\endometrial_analysis\\.venv\\lib\\site-packages (from jinja2>=2.10.3->distributed->pyscenic) (3.0.2)\n",
      "Requirement already satisfied: six>=1.5 in c:\\users\\crisi\\desktop\\code\\uw\\compbio\\endometrial_analysis\\.venv\\lib\\site-packages (from python-dateutil>=2.8.2->pandas>=1.3.5->pyscenic) (1.16.0)\n",
      "Requirement already satisfied: propcache>=0.2.0 in c:\\users\\crisi\\desktop\\code\\uw\\compbio\\endometrial_analysis\\.venv\\lib\\site-packages (from yarl<2.0,>=1.12.0->aiohttp->pyscenic) (0.2.0)\n",
      "Requirement already satisfied: lz4>=4.3.2 in c:\\users\\crisi\\desktop\\code\\uw\\compbio\\endometrial_analysis\\.venv\\lib\\site-packages (from dask[complete]->arboreto>=0.1.6->pyscenic) (4.3.3)\n",
      "Requirement already satisfied: dask-expr<1.2,>=1.1 in c:\\users\\crisi\\desktop\\code\\uw\\compbio\\endometrial_analysis\\.venv\\lib\\site-packages (from dask->pyscenic) (1.1.16)\n",
      "Requirement already satisfied: bokeh>=3.1.0 in c:\\users\\crisi\\desktop\\code\\uw\\compbio\\endometrial_analysis\\.venv\\lib\\site-packages (from dask->pyscenic) (3.6.1)\n",
      "Requirement already satisfied: contourpy>=1.2 in c:\\users\\crisi\\desktop\\code\\uw\\compbio\\endometrial_analysis\\.venv\\lib\\site-packages (from bokeh>=3.1.0->dask->pyscenic) (1.3.0)\n",
      "Requirement already satisfied: pillow>=7.1.0 in c:\\users\\crisi\\desktop\\code\\uw\\compbio\\endometrial_analysis\\.venv\\lib\\site-packages (from bokeh>=3.1.0->dask->pyscenic) (11.0.0)\n",
      "Requirement already satisfied: xyzservices>=2021.09.1 in c:\\users\\crisi\\desktop\\code\\uw\\compbio\\endometrial_analysis\\.venv\\lib\\site-packages (from bokeh>=3.1.0->dask->pyscenic) (2024.9.0)\n",
      "Note: you may need to restart the kernel to use updated packages.\n",
      "Requirement already satisfied: ipywidgets in c:\\users\\crisi\\desktop\\code\\uw\\compbio\\endometrial_analysis\\.venv\\lib\\site-packages (8.1.5)\n",
      "Requirement already satisfied: comm>=0.1.3 in c:\\users\\crisi\\desktop\\code\\uw\\compbio\\endometrial_analysis\\.venv\\lib\\site-packages (from ipywidgets) (0.2.2)\n",
      "Requirement already satisfied: ipython>=6.1.0 in c:\\users\\crisi\\desktop\\code\\uw\\compbio\\endometrial_analysis\\.venv\\lib\\site-packages (from ipywidgets) (8.29.0)\n",
      "Requirement already satisfied: traitlets>=4.3.1 in c:\\users\\crisi\\desktop\\code\\uw\\compbio\\endometrial_analysis\\.venv\\lib\\site-packages (from ipywidgets) (5.14.3)\n",
      "Requirement already satisfied: widgetsnbextension~=4.0.12 in c:\\users\\crisi\\desktop\\code\\uw\\compbio\\endometrial_analysis\\.venv\\lib\\site-packages (from ipywidgets) (4.0.13)\n",
      "Requirement already satisfied: jupyterlab-widgets~=3.0.12 in c:\\users\\crisi\\desktop\\code\\uw\\compbio\\endometrial_analysis\\.venv\\lib\\site-packages (from ipywidgets) (3.0.13)\n",
      "Requirement already satisfied: decorator in c:\\users\\crisi\\desktop\\code\\uw\\compbio\\endometrial_analysis\\.venv\\lib\\site-packages (from ipython>=6.1.0->ipywidgets) (5.1.1)\n",
      "Requirement already satisfied: jedi>=0.16 in c:\\users\\crisi\\desktop\\code\\uw\\compbio\\endometrial_analysis\\.venv\\lib\\site-packages (from ipython>=6.1.0->ipywidgets) (0.19.1)\n",
      "Requirement already satisfied: matplotlib-inline in c:\\users\\crisi\\desktop\\code\\uw\\compbio\\endometrial_analysis\\.venv\\lib\\site-packages (from ipython>=6.1.0->ipywidgets) (0.1.7)\n",
      "Requirement already satisfied: prompt-toolkit<3.1.0,>=3.0.41 in c:\\users\\crisi\\desktop\\code\\uw\\compbio\\endometrial_analysis\\.venv\\lib\\site-packages (from ipython>=6.1.0->ipywidgets) (3.0.48)\n",
      "Requirement already satisfied: pygments>=2.4.0 in c:\\users\\crisi\\desktop\\code\\uw\\compbio\\endometrial_analysis\\.venv\\lib\\site-packages (from ipython>=6.1.0->ipywidgets) (2.18.0)\n",
      "Requirement already satisfied: stack-data in c:\\users\\crisi\\desktop\\code\\uw\\compbio\\endometrial_analysis\\.venv\\lib\\site-packages (from ipython>=6.1.0->ipywidgets) (0.6.3)\n",
      "Requirement already satisfied: colorama in c:\\users\\crisi\\desktop\\code\\uw\\compbio\\endometrial_analysis\\.venv\\lib\\site-packages (from ipython>=6.1.0->ipywidgets) (0.4.6)\n",
      "Requirement already satisfied: parso<0.9.0,>=0.8.3 in c:\\users\\crisi\\desktop\\code\\uw\\compbio\\endometrial_analysis\\.venv\\lib\\site-packages (from jedi>=0.16->ipython>=6.1.0->ipywidgets) (0.8.4)\n",
      "Requirement already satisfied: wcwidth in c:\\users\\crisi\\desktop\\code\\uw\\compbio\\endometrial_analysis\\.venv\\lib\\site-packages (from prompt-toolkit<3.1.0,>=3.0.41->ipython>=6.1.0->ipywidgets) (0.2.13)\n",
      "Requirement already satisfied: executing>=1.2.0 in c:\\users\\crisi\\desktop\\code\\uw\\compbio\\endometrial_analysis\\.venv\\lib\\site-packages (from stack-data->ipython>=6.1.0->ipywidgets) (2.1.0)\n",
      "Requirement already satisfied: asttokens>=2.1.0 in c:\\users\\crisi\\desktop\\code\\uw\\compbio\\endometrial_analysis\\.venv\\lib\\site-packages (from stack-data->ipython>=6.1.0->ipywidgets) (2.4.1)\n",
      "Requirement already satisfied: pure-eval in c:\\users\\crisi\\desktop\\code\\uw\\compbio\\endometrial_analysis\\.venv\\lib\\site-packages (from stack-data->ipython>=6.1.0->ipywidgets) (0.2.3)\n",
      "Requirement already satisfied: six>=1.12.0 in c:\\users\\crisi\\desktop\\code\\uw\\compbio\\endometrial_analysis\\.venv\\lib\\site-packages (from asttokens>=2.1.0->stack-data->ipython>=6.1.0->ipywidgets) (1.16.0)\n",
      "Note: you may need to restart the kernel to use updated packages.\n",
      "Collecting MulticoreTSNE\n",
      "  Using cached MulticoreTSNE-0.1.tar.gz (20 kB)\n",
      "  Preparing metadata (setup.py): started\n",
      "  Preparing metadata (setup.py): finished with status 'done'\n",
      "Requirement already satisfied: numpy in c:\\users\\crisi\\desktop\\code\\uw\\compbio\\endometrial_analysis\\.venv\\lib\\site-packages (from MulticoreTSNE) (1.26.4)\n",
      "Requirement already satisfied: cffi in c:\\users\\crisi\\desktop\\code\\uw\\compbio\\endometrial_analysis\\.venv\\lib\\site-packages (from MulticoreTSNE) (1.17.1)\n",
      "Requirement already satisfied: pycparser in c:\\users\\crisi\\desktop\\code\\uw\\compbio\\endometrial_analysis\\.venv\\lib\\site-packages (from cffi->MulticoreTSNE) (2.22)\n",
      "Building wheels for collected packages: MulticoreTSNE\n",
      "  Building wheel for MulticoreTSNE (setup.py): started\n",
      "Note: you may need to restart the kernel to use updated packages.\n",
      "  Building wheel for MulticoreTSNE (setup.py): finished with status 'error'\n",
      "  Running setup.py clean for MulticoreTSNE\n",
      "Failed to build MulticoreTSNE\n"
     ]
    },
    {
     "name": "stderr",
     "output_type": "stream",
     "text": [
      "  error: subprocess-exited-with-error\n",
      "  \n",
      "  × python setup.py bdist_wheel did not run successfully.\n",
      "  │ exit code: 1\n",
      "  ╰─> [26 lines of output]\n",
      "      c:\\Users\\crisi\\Desktop\\Code\\UW\\CompBio\\endometrial_analysis\\.venv\\Lib\\site-packages\\setuptools\\_distutils\\dist.py:261: UserWarning: Unknown distribution option: 'test_suite'\n",
      "        warnings.warn(msg)\n",
      "      c:\\Users\\crisi\\Desktop\\Code\\UW\\CompBio\\endometrial_analysis\\.venv\\Lib\\site-packages\\setuptools\\_distutils\\dist.py:261: UserWarning: Unknown distribution option: 'tests_require'\n",
      "        warnings.warn(msg)\n",
      "      running bdist_wheel\n",
      "      running build\n",
      "      running build_py\n",
      "      creating build\\lib.win-amd64-cpython-312\\MulticoreTSNE\n",
      "      copying MulticoreTSNE\\__init__.py -> build\\lib.win-amd64-cpython-312\\MulticoreTSNE\n",
      "      creating build\\lib.win-amd64-cpython-312\\MulticoreTSNE\\tests\n",
      "      copying MulticoreTSNE\\tests\\test_base.py -> build\\lib.win-amd64-cpython-312\\MulticoreTSNE\\tests\n",
      "      copying MulticoreTSNE\\tests\\__init__.py -> build\\lib.win-amd64-cpython-312\\MulticoreTSNE\\tests\n",
      "      running egg_info\n",
      "      writing MulticoreTSNE.egg-info\\PKG-INFO\n",
      "      writing dependency_links to MulticoreTSNE.egg-info\\dependency_links.txt\n",
      "      writing requirements to MulticoreTSNE.egg-info\\requires.txt\n",
      "      writing top-level names to MulticoreTSNE.egg-info\\top_level.txt\n",
      "      reading manifest file 'MulticoreTSNE.egg-info\\SOURCES.txt'\n",
      "      reading manifest template 'MANIFEST.in'\n",
      "      adding license file 'LICENSE.txt'\n",
      "      writing manifest file 'MulticoreTSNE.egg-info\\SOURCES.txt'\n",
      "      running build_ext\n",
      "      'cmake' is not recognized as an internal or external command,\n",
      "      operable program or batch file.\n",
      "      \n",
      "      Error: Cannot find cmake. Install cmake, e.g. `pip install cmake`.\n",
      "      [end of output]\n",
      "  \n",
      "  note: This error originates from a subprocess, and is likely not a problem with pip.\n",
      "  ERROR: Failed building wheel for MulticoreTSNE\n",
      "ERROR: ERROR: Failed to build installable wheels for some pyproject.toml based projects (MulticoreTSNE)\n"
     ]
    },
    {
     "name": "stdout",
     "output_type": "stream",
     "text": [
      "Requirement already satisfied: scipy in c:\\users\\crisi\\desktop\\code\\uw\\compbio\\endometrial_analysis\\.venv\\lib\\site-packages (1.14.1)\n",
      "Requirement already satisfied: numpy<2.3,>=1.23.5 in c:\\users\\crisi\\desktop\\code\\uw\\compbio\\endometrial_analysis\\.venv\\lib\\site-packages (from scipy) (1.26.4)\n",
      "Note: you may need to restart the kernel to use updated packages.\n"
     ]
    }
   ],
   "source": [
    "%pip install scanpy scvi-tools anndata\n",
    "%pip install --quiet gdown\n",
    "%pip install seaborn\n",
    "%pip install --quiet bbknn\n",
    "%pip install pandas\n",
    "%pip install pyscenic\n",
    "%pip install ipywidgets\n",
    "%pip install MulticoreTSNE\n",
    "%pip install scipy"
   ]
  },
  {
   "cell_type": "markdown",
   "metadata": {},
   "source": [
    "Import packages"
   ]
  },
  {
   "cell_type": "code",
   "execution_count": 2,
   "metadata": {},
   "outputs": [],
   "source": [
    "import scanpy as sc\n",
    "import anndata as ad\n",
    "from anndata.experimental.multi_files import AnnCollection\n",
    "import os\n",
    "import tarfile\n",
    "import scvi\n",
    "import numpy as np\n",
    "import glob\n",
    "#specific requirements of pyscenic\n",
    "import loompy as lp\n",
    "\n",
    "## This is T-SNE, download has wheel error, could fix... could use UM\n",
    "#from MulticoreTSNE import MulticoreTSNE as TSNE\n",
    "\n",
    "#data vis\n",
    "import seaborn as sns\n",
    "import matplotlib.pyplot as plt\n",
    "import seaborn as sns\n",
    "import matplotlib.pyplot as plt\n",
    "import umap"
   ]
  },
  {
   "cell_type": "code",
   "execution_count": null,
   "metadata": {},
   "outputs": [
    {
     "name": "stdout",
     "output_type": "stream",
     "text": [
      "Total: 475 GiB\n",
      "Used: 366 GiB\n",
      "Free: 108 GiB\n"
     ]
    }
   ],
   "source": [
    "import shutil\n",
    "\n",
    "total, used, free = shutil.disk_usage(\"/\")\n",
    "print(f\"Total: {total // (2**30)} GiB\")\n",
    "print(f\"Used: {used // (2**30)} GiB\")\n",
    "print(f\"Free: {free // (2**30)} GiB\")"
   ]
  },
  {
   "cell_type": "code",
   "execution_count": 6,
   "metadata": {},
   "outputs": [],
   "source": [
    "\n",
    "# Function to extract tar.gz files\n",
    "def extract_tar_gz(tar_gz_path, extract_dir):\n",
    "    with tarfile.open(tar_gz_path, \"r:gz\") as tar:\n",
    "        tar.extractall(path=extract_dir)\n",
    "\n",
    "# Directory containing your datasets\n",
    "input_dir = \"input/biostudiesarrayE-MTAB-14039\"\n",
    "extracted_dir = \"input/extracted_data\"  # Folder to save the extracted files\n",
    "os.makedirs(extracted_dir, exist_ok=True)\n",
    "\n",
    "# List all top-level files in the input directory\n",
    "tar_gz_files = [f for f in os.listdir(input_dir) if f.endswith('.tar.gz')]\n",
    "\n",
    "# Extract tar.gz files\n",
    "for tar_gz_file in tar_gz_files:\n",
    "    tar_gz_path = os.path.join(input_dir, tar_gz_file)\n",
    "    \n",
    "    # Extract the tar.gz file to the extracted directory\n",
    "    extract_tar_gz(tar_gz_path, extracted_dir)\n"
   ]
  },
  {
   "cell_type": "code",
   "execution_count": 3,
   "metadata": {},
   "outputs": [
    {
     "name": "stdout",
     "output_type": "stream",
     "text": [
      "Dataset directories under 'work': ['input/extracted_data\\\\work\\\\FRZFRESH_GX25_ES345', 'input/extracted_data\\\\work\\\\FRZFRESH_GX26_ES345', 'input/extracted_data\\\\work\\\\FRZFRESH_GX27_ES345', 'input/extracted_data\\\\work\\\\FRZFRESH_GX28_ES345', 'input/extracted_data\\\\work\\\\HCA_A_RepT_RNA13247830_A70', 'input/extracted_data\\\\work\\\\UA_Endo10281925_FX1101', 'input/extracted_data\\\\work\\\\UA_Endo10281926_FX1101', 'input/extracted_data\\\\work\\\\UA_Endo10298210_FX1125', 'input/extracted_data\\\\work\\\\UA_Endo10298210_FX1176', 'input/extracted_data\\\\work\\\\UA_Endo10298211_FX1125', 'input/extracted_data\\\\work\\\\UA_Endo10298211_FX1176', 'input/extracted_data\\\\work\\\\UA_Endo10298212_FX1156', 'input/extracted_data\\\\work\\\\UA_Endo10298212_FX9006', 'input/extracted_data\\\\work\\\\UA_Endo10298213_FX1156', 'input/extracted_data\\\\work\\\\UA_Endo10298213_FX9006', 'input/extracted_data\\\\work\\\\UA_Endo11173480_FX0052', 'input/extracted_data\\\\work\\\\UA_Endo11173480_FX1205', 'input/extracted_data\\\\work\\\\UA_Endo11173481_FX9022', 'input/extracted_data\\\\work\\\\UA_Endo11173482_FX9011', 'input/extracted_data\\\\work\\\\UA_Endo11282193_EX0540', 'input/extracted_data\\\\work\\\\UA_Endo11282193_FX1146', 'input/extracted_data\\\\work\\\\UA_Endo11460960_EX0366', 'input/extracted_data\\\\work\\\\UA_Endo11460960_FX1100', 'input/extracted_data\\\\work\\\\UA_Endo11460961_FX0011', 'input/extracted_data\\\\work\\\\UA_Endo11460961_FX1097', 'input/extracted_data\\\\work\\\\UA_Endo11460962_FX1141', 'input/extracted_data\\\\work\\\\UA_Endo11460962_FX1170', 'input/extracted_data\\\\work\\\\UA_Endo11460963_FX1215', 'input/extracted_data\\\\work\\\\UA_Endo11460963_FX9006', 'input/extracted_data\\\\work\\\\UA_Endo11596521_FX1236', 'input/extracted_data\\\\work\\\\UA_Endo11596522_FX1104', 'input/extracted_data\\\\work\\\\UA_Endo11596522_FX9005', 'input/extracted_data\\\\work\\\\UA_Endo12061415_FX1158', 'input/extracted_data\\\\work\\\\UA_Endo12061415_FX1223', 'input/extracted_data\\\\work\\\\UA_Endo12061703_FX0056', 'input/extracted_data\\\\work\\\\UA_Endo12061703_FX9020', 'input/extracted_data\\\\work\\\\UA_Endo12061704_FX1163', 'input/extracted_data\\\\work\\\\UA_Endo12061704_FX9024', 'input/extracted_data\\\\work\\\\UA_Endo12061705_FX1129', 'input/extracted_data\\\\work\\\\UA_Endo12061705_FX9009', 'input/extracted_data\\\\work\\\\UA_Endo12269810_FX0033', 'input/extracted_data\\\\work\\\\UA_Endo12269810_FX1106', 'input/extracted_data\\\\work\\\\UA_Endo12269811_FX0022', 'input/extracted_data\\\\work\\\\UA_Endo12269811_FX0060', 'input/extracted_data\\\\work\\\\UA_Endo12269813_FX1233', 'input/extracted_data\\\\work\\\\UA_Endo12269814_EX0661', 'input/extracted_data\\\\work\\\\UA_Endo12269814_EX0789', 'input/extracted_data\\\\work\\\\UA_Endo12296823_EX0795', 'input/extracted_data\\\\work\\\\UA_Endo12296823_FX1119', 'input/extracted_data\\\\work\\\\UA_Endo12296824_FX1125', 'input/extracted_data\\\\work\\\\UA_Endo12296824_FX9008', 'input/extracted_data\\\\work\\\\UA_Endo12449298_FX1156', 'input/extracted_data\\\\work\\\\UA_Endo12449298_FX1160', 'input/extracted_data\\\\work\\\\UA_Endo12449299_EX0277', 'input/extracted_data\\\\work\\\\UA_Endo12449299_EX0288', 'input/extracted_data\\\\work\\\\UA_Endo12449300_EX0045', 'input/extracted_data\\\\work\\\\UA_Endo12449300_FX9027', 'input/extracted_data\\\\work\\\\UA_Endo12449301_FX1136', 'input/extracted_data\\\\work\\\\UA_Endo12449301_FX1150', 'input/extracted_data\\\\work\\\\UA_Endo12604667_FX0028', 'input/extracted_data\\\\work\\\\UA_Endo12604667_FX1130', 'input/extracted_data\\\\work\\\\UA_Endo12604668_FX9016', 'input/extracted_data\\\\work\\\\UA_Endo12680031_FX1119', 'input/extracted_data\\\\work\\\\UA_Endo12680031_FX1259', 'input/extracted_data\\\\work\\\\UA_Endo12680032_FX1259', 'input/extracted_data\\\\work\\\\UA_Endo12680033_FX1249', 'input/extracted_data\\\\work\\\\UA_Endo12680033_FX1254', 'input/extracted_data\\\\work\\\\UA_Endo12680034_FX1249', 'input/extracted_data\\\\work\\\\UA_Endo12680034_FX1254', 'input/extracted_data\\\\work\\\\UA_Endo12821480_FX1074', 'input/extracted_data\\\\work\\\\UA_Endo12821480_FX1122', 'input/extracted_data\\\\work\\\\UA_Endo12821481_FX1111', 'input/extracted_data\\\\work\\\\UA_Endo12821481_FX9007', 'input/extracted_data\\\\work\\\\UA_Endo12821482_FX0024', 'input/extracted_data\\\\work\\\\UA_Endo12821483_FX1080', 'input/extracted_data\\\\work\\\\UA_Endo12821484_FX9010', 'input/extracted_data\\\\work\\\\UA_Endo12821485_FX0065', 'input/extracted_data\\\\work\\\\UA_Endo12821487_FX1191', 'input/extracted_data\\\\work\\\\UA_Endo12821488_FX9018', 'input/extracted_data\\\\work\\\\UA_Endo12865960_FX1170', 'input/extracted_data\\\\work\\\\UA_Endo12865960_FX9013', 'input/extracted_data\\\\work\\\\UA_Endo12865961_FX9006', 'input/extracted_data\\\\work\\\\UA_Endo12865961_FX9014', 'input/extracted_data\\\\work\\\\UA_Endo12865962_FX1236', 'input/extracted_data\\\\work\\\\UA_Endo12865962_FX9012', 'input/extracted_data\\\\work\\\\UA_Endo12865963_FX1087', 'input/extracted_data\\\\work\\\\UA_Endo12865963_FX9021', 'input/extracted_data\\\\work\\\\UA_Endo12865966_FX1223', 'input/extracted_data\\\\work\\\\UA_Endo12961679_FX1285', 'input/extracted_data\\\\work\\\\UA_Endo12961679_SE02', 'input/extracted_data\\\\work\\\\UA_Endo12961680_FX1285', 'input/extracted_data\\\\work\\\\UA_Endo12961680_SE02', 'input/extracted_data\\\\work\\\\UA_Endo12961681_FX1289', 'input/extracted_data\\\\work\\\\UA_Endo12961681_SE03', 'input/extracted_data\\\\work\\\\UA_Endo12961682_FX1289', 'input/extracted_data\\\\work\\\\UA_Endo12961682_SE03', 'input/extracted_data\\\\work\\\\UA_Endo13646709_SE06', 'input/extracted_data\\\\work\\\\UA_Endo9426399_FX1146', 'input/extracted_data\\\\work\\\\UA_Endo9426400_FX1146', 'input/extracted_data\\\\work\\\\UA_Endo9426401_FX1156', 'input/extracted_data\\\\work\\\\UA_Endo9426401_FX9006', 'input/extracted_data\\\\work\\\\UA_Endo9426402_FX1156', 'input/extracted_data\\\\work\\\\UA_Endo9426402_FX9006']\n"
     ]
    }
   ],
   "source": [
    "\n",
    "# Directory where the files have been extracted\n",
    "extracted_work_dir = \"input/extracted_data\"  # Directory where you extracted the tar files\n",
    "# List to store directory names under the 'work' directory\n",
    "dataset_dirs = []\n",
    "\n",
    "# Traverse the 'work' directory to find subdirectories\n",
    "for root, dirs, files in os.walk(extracted_work_dir):\n",
    "    # Only consider directories directly under the 'work' directory\n",
    "    if \"work\" in root:\n",
    "        for dir_name in dirs:\n",
    "            path = os.path.join(root, dir_name)\n",
    "            # Append the directory name under 'work'\n",
    "            dataset_dirs.append(path)\n",
    "\n",
    "# Now dataset_dirs contains the names of all subdirectories under 'work'\n",
    "print(\"Dataset directories under 'work':\", dataset_dirs)\n"
   ]
  },
  {
   "cell_type": "code",
   "execution_count": 4,
   "metadata": {},
   "outputs": [
    {
     "name": "stdout",
     "output_type": "stream",
     "text": [
      "['input/extracted_data\\\\work\\\\FRZFRESH_GX25_ES345', 'input/extracted_data\\\\work\\\\FRZFRESH_GX26_ES345', 'input/extracted_data\\\\work\\\\FRZFRESH_GX27_ES345', 'input/extracted_data\\\\work\\\\FRZFRESH_GX28_ES345', 'input/extracted_data\\\\work\\\\HCA_A_RepT_RNA13247830_A70', 'input/extracted_data\\\\work\\\\UA_Endo10281925_FX1101', 'input/extracted_data\\\\work\\\\UA_Endo10281926_FX1101', 'input/extracted_data\\\\work\\\\UA_Endo10298210_FX1125', 'input/extracted_data\\\\work\\\\UA_Endo10298210_FX1176', 'input/extracted_data\\\\work\\\\UA_Endo10298211_FX1125', 'input/extracted_data\\\\work\\\\UA_Endo10298211_FX1176', 'input/extracted_data\\\\work\\\\UA_Endo10298212_FX1156', 'input/extracted_data\\\\work\\\\UA_Endo10298212_FX9006', 'input/extracted_data\\\\work\\\\UA_Endo10298213_FX1156', 'input/extracted_data\\\\work\\\\UA_Endo10298213_FX9006', 'input/extracted_data\\\\work\\\\UA_Endo11173480_FX0052', 'input/extracted_data\\\\work\\\\UA_Endo11173480_FX1205', 'input/extracted_data\\\\work\\\\UA_Endo11173481_FX9022', 'input/extracted_data\\\\work\\\\UA_Endo11173482_FX9011', 'input/extracted_data\\\\work\\\\UA_Endo11282193_EX0540', 'input/extracted_data\\\\work\\\\UA_Endo11282193_FX1146', 'input/extracted_data\\\\work\\\\UA_Endo11460960_EX0366', 'input/extracted_data\\\\work\\\\UA_Endo11460960_FX1100', 'input/extracted_data\\\\work\\\\UA_Endo11460961_FX0011', 'input/extracted_data\\\\work\\\\UA_Endo11460961_FX1097', 'input/extracted_data\\\\work\\\\UA_Endo11460962_FX1141', 'input/extracted_data\\\\work\\\\UA_Endo11460962_FX1170', 'input/extracted_data\\\\work\\\\UA_Endo11460963_FX1215', 'input/extracted_data\\\\work\\\\UA_Endo11460963_FX9006', 'input/extracted_data\\\\work\\\\UA_Endo11596521_FX1236', 'input/extracted_data\\\\work\\\\UA_Endo11596522_FX1104', 'input/extracted_data\\\\work\\\\UA_Endo11596522_FX9005', 'input/extracted_data\\\\work\\\\UA_Endo12061415_FX1158', 'input/extracted_data\\\\work\\\\UA_Endo12061415_FX1223', 'input/extracted_data\\\\work\\\\UA_Endo12061703_FX0056', 'input/extracted_data\\\\work\\\\UA_Endo12061703_FX9020', 'input/extracted_data\\\\work\\\\UA_Endo12061704_FX1163', 'input/extracted_data\\\\work\\\\UA_Endo12061704_FX9024', 'input/extracted_data\\\\work\\\\UA_Endo12061705_FX1129', 'input/extracted_data\\\\work\\\\UA_Endo12061705_FX9009', 'input/extracted_data\\\\work\\\\UA_Endo12269810_FX0033', 'input/extracted_data\\\\work\\\\UA_Endo12269810_FX1106', 'input/extracted_data\\\\work\\\\UA_Endo12269811_FX0022', 'input/extracted_data\\\\work\\\\UA_Endo12269811_FX0060', 'input/extracted_data\\\\work\\\\UA_Endo12269813_FX1233', 'input/extracted_data\\\\work\\\\UA_Endo12269814_EX0661', 'input/extracted_data\\\\work\\\\UA_Endo12269814_EX0789', 'input/extracted_data\\\\work\\\\UA_Endo12296823_EX0795', 'input/extracted_data\\\\work\\\\UA_Endo12296823_FX1119', 'input/extracted_data\\\\work\\\\UA_Endo12296824_FX1125', 'input/extracted_data\\\\work\\\\UA_Endo12296824_FX9008', 'input/extracted_data\\\\work\\\\UA_Endo12449298_FX1156', 'input/extracted_data\\\\work\\\\UA_Endo12449298_FX1160', 'input/extracted_data\\\\work\\\\UA_Endo12449299_EX0277', 'input/extracted_data\\\\work\\\\UA_Endo12449299_EX0288', 'input/extracted_data\\\\work\\\\UA_Endo12449300_EX0045', 'input/extracted_data\\\\work\\\\UA_Endo12449300_FX9027', 'input/extracted_data\\\\work\\\\UA_Endo12449301_FX1136', 'input/extracted_data\\\\work\\\\UA_Endo12449301_FX1150', 'input/extracted_data\\\\work\\\\UA_Endo12604667_FX0028', 'input/extracted_data\\\\work\\\\UA_Endo12604667_FX1130', 'input/extracted_data\\\\work\\\\UA_Endo12604668_FX9016', 'input/extracted_data\\\\work\\\\UA_Endo12680031_FX1119', 'input/extracted_data\\\\work\\\\UA_Endo12680031_FX1259', 'input/extracted_data\\\\work\\\\UA_Endo12680032_FX1259', 'input/extracted_data\\\\work\\\\UA_Endo12680033_FX1249', 'input/extracted_data\\\\work\\\\UA_Endo12680033_FX1254', 'input/extracted_data\\\\work\\\\UA_Endo12680034_FX1249', 'input/extracted_data\\\\work\\\\UA_Endo12680034_FX1254', 'input/extracted_data\\\\work\\\\UA_Endo12821480_FX1074', 'input/extracted_data\\\\work\\\\UA_Endo12821480_FX1122', 'input/extracted_data\\\\work\\\\UA_Endo12821481_FX1111', 'input/extracted_data\\\\work\\\\UA_Endo12821481_FX9007', 'input/extracted_data\\\\work\\\\UA_Endo12821482_FX0024', 'input/extracted_data\\\\work\\\\UA_Endo12821483_FX1080', 'input/extracted_data\\\\work\\\\UA_Endo12821484_FX9010', 'input/extracted_data\\\\work\\\\UA_Endo12821485_FX0065', 'input/extracted_data\\\\work\\\\UA_Endo12821487_FX1191', 'input/extracted_data\\\\work\\\\UA_Endo12821488_FX9018', 'input/extracted_data\\\\work\\\\UA_Endo12865960_FX1170', 'input/extracted_data\\\\work\\\\UA_Endo12865960_FX9013', 'input/extracted_data\\\\work\\\\UA_Endo12865961_FX9006', 'input/extracted_data\\\\work\\\\UA_Endo12865961_FX9014', 'input/extracted_data\\\\work\\\\UA_Endo12865962_FX1236', 'input/extracted_data\\\\work\\\\UA_Endo12865962_FX9012', 'input/extracted_data\\\\work\\\\UA_Endo12865963_FX1087', 'input/extracted_data\\\\work\\\\UA_Endo12865963_FX9021', 'input/extracted_data\\\\work\\\\UA_Endo12865966_FX1223', 'input/extracted_data\\\\work\\\\UA_Endo12961679_FX1285', 'input/extracted_data\\\\work\\\\UA_Endo12961679_SE02', 'input/extracted_data\\\\work\\\\UA_Endo12961680_FX1285', 'input/extracted_data\\\\work\\\\UA_Endo12961680_SE02', 'input/extracted_data\\\\work\\\\UA_Endo12961681_FX1289', 'input/extracted_data\\\\work\\\\UA_Endo12961681_SE03', 'input/extracted_data\\\\work\\\\UA_Endo12961682_FX1289', 'input/extracted_data\\\\work\\\\UA_Endo12961682_SE03', 'input/extracted_data\\\\work\\\\UA_Endo13646709_SE06', 'input/extracted_data\\\\work\\\\UA_Endo9426399_FX1146', 'input/extracted_data\\\\work\\\\UA_Endo9426400_FX1146', 'input/extracted_data\\\\work\\\\UA_Endo9426401_FX1156', 'input/extracted_data\\\\work\\\\UA_Endo9426401_FX9006', 'input/extracted_data\\\\work\\\\UA_Endo9426402_FX1156', 'input/extracted_data\\\\work\\\\UA_Endo9426402_FX9006']\n"
     ]
    }
   ],
   "source": [
    "print(dataset_dirs)"
   ]
  },
  {
   "cell_type": "markdown",
   "metadata": {},
   "source": [
    "\n",
    "Docs: https://anndata.readthedocs.io/en/latest/tutorials/notebooks/anncollection.html\n",
    "https://ccbskillssem.github.io/assets/scvi_notebook.html\n",
    "\n",
    "warning: \"If you use join='outer' this fills 0s for sparse data when variables are absent in a batch. Use this with care. Dense data is filled with NaN.\"\n",
    "\n",
    "https://discourse.scverse.org/t/how-to-concatenate-anndata-properly/887/2\n",
    "strongly recommends datacleaning each dataset before concatenating -- assuming that they did it for us"
   ]
  },
  {
   "cell_type": "code",
   "execution_count": null,
   "metadata": {},
   "outputs": [],
   "source": [
    "\n",
    "hd5a_files_directory = r\"input/hd5a_files\"\n",
    "if not os.path.exists(hd5a_files_directory):\n",
    "    os.makedirs(hd5a_files_directory) \n",
    "adatas_dict = {}\n",
    "for directory in dataset_dirs:\n",
    "    adata = sc.read_10x_mtx(directory)\n",
    "    adata.X = adata.X.tocsr()\n",
    "    #dir_name = directory.split(\"\\\\\")[-1]\n",
    "    dir_name = os.path.basename(directory) #platform independent\n",
    "    h5ad_filename = f\"{dir_name}.h5ad\"\n",
    "\n",
    "    h5ad_path = os.path.join(hd5a_files_directory, h5ad_filename)\n",
    "    adata.write(h5ad_path)\n",
    "    adatas_dict[dir_name] = h5ad_path\n"
   ]
  },
  {
   "cell_type": "code",
   "execution_count": 6,
   "metadata": {},
   "outputs": [
    {
     "name": "stdout",
     "output_type": "stream",
     "text": [
      "{'FRZFRESH_GX25_ES345': 'input/hd5a_files\\\\FRZFRESH_GX25_ES345.h5ad', 'FRZFRESH_GX26_ES345': 'input/hd5a_files\\\\FRZFRESH_GX26_ES345.h5ad', 'FRZFRESH_GX27_ES345': 'input/hd5a_files\\\\FRZFRESH_GX27_ES345.h5ad', 'FRZFRESH_GX28_ES345': 'input/hd5a_files\\\\FRZFRESH_GX28_ES345.h5ad', 'HCA_A_RepT_RNA13247830_A70': 'input/hd5a_files\\\\HCA_A_RepT_RNA13247830_A70.h5ad', 'UA_Endo10281925_FX1101': 'input/hd5a_files\\\\UA_Endo10281925_FX1101.h5ad', 'UA_Endo10281926_FX1101': 'input/hd5a_files\\\\UA_Endo10281926_FX1101.h5ad', 'UA_Endo10298210_FX1125': 'input/hd5a_files\\\\UA_Endo10298210_FX1125.h5ad', 'UA_Endo10298210_FX1176': 'input/hd5a_files\\\\UA_Endo10298210_FX1176.h5ad', 'UA_Endo10298211_FX1125': 'input/hd5a_files\\\\UA_Endo10298211_FX1125.h5ad', 'UA_Endo10298211_FX1176': 'input/hd5a_files\\\\UA_Endo10298211_FX1176.h5ad', 'UA_Endo10298212_FX1156': 'input/hd5a_files\\\\UA_Endo10298212_FX1156.h5ad', 'UA_Endo10298212_FX9006': 'input/hd5a_files\\\\UA_Endo10298212_FX9006.h5ad', 'UA_Endo10298213_FX1156': 'input/hd5a_files\\\\UA_Endo10298213_FX1156.h5ad', 'UA_Endo10298213_FX9006': 'input/hd5a_files\\\\UA_Endo10298213_FX9006.h5ad', 'UA_Endo11173480_FX0052': 'input/hd5a_files\\\\UA_Endo11173480_FX0052.h5ad', 'UA_Endo11173480_FX1205': 'input/hd5a_files\\\\UA_Endo11173480_FX1205.h5ad', 'UA_Endo11173481_FX9022': 'input/hd5a_files\\\\UA_Endo11173481_FX9022.h5ad', 'UA_Endo11173482_FX9011': 'input/hd5a_files\\\\UA_Endo11173482_FX9011.h5ad', 'UA_Endo11282193_EX0540': 'input/hd5a_files\\\\UA_Endo11282193_EX0540.h5ad', 'UA_Endo11282193_FX1146': 'input/hd5a_files\\\\UA_Endo11282193_FX1146.h5ad', 'UA_Endo11460960_EX0366': 'input/hd5a_files\\\\UA_Endo11460960_EX0366.h5ad', 'UA_Endo11460960_FX1100': 'input/hd5a_files\\\\UA_Endo11460960_FX1100.h5ad', 'UA_Endo11460961_FX0011': 'input/hd5a_files\\\\UA_Endo11460961_FX0011.h5ad', 'UA_Endo11460961_FX1097': 'input/hd5a_files\\\\UA_Endo11460961_FX1097.h5ad', 'UA_Endo11460962_FX1141': 'input/hd5a_files\\\\UA_Endo11460962_FX1141.h5ad', 'UA_Endo11460962_FX1170': 'input/hd5a_files\\\\UA_Endo11460962_FX1170.h5ad', 'UA_Endo11460963_FX1215': 'input/hd5a_files\\\\UA_Endo11460963_FX1215.h5ad', 'UA_Endo11460963_FX9006': 'input/hd5a_files\\\\UA_Endo11460963_FX9006.h5ad', 'UA_Endo11596521_FX1236': 'input/hd5a_files\\\\UA_Endo11596521_FX1236.h5ad', 'UA_Endo11596522_FX1104': 'input/hd5a_files\\\\UA_Endo11596522_FX1104.h5ad', 'UA_Endo11596522_FX9005': 'input/hd5a_files\\\\UA_Endo11596522_FX9005.h5ad', 'UA_Endo12061415_FX1158': 'input/hd5a_files\\\\UA_Endo12061415_FX1158.h5ad', 'UA_Endo12061415_FX1223': 'input/hd5a_files\\\\UA_Endo12061415_FX1223.h5ad', 'UA_Endo12061703_FX0056': 'input/hd5a_files\\\\UA_Endo12061703_FX0056.h5ad', 'UA_Endo12061703_FX9020': 'input/hd5a_files\\\\UA_Endo12061703_FX9020.h5ad', 'UA_Endo12061704_FX1163': 'input/hd5a_files\\\\UA_Endo12061704_FX1163.h5ad', 'UA_Endo12061704_FX9024': 'input/hd5a_files\\\\UA_Endo12061704_FX9024.h5ad', 'UA_Endo12061705_FX1129': 'input/hd5a_files\\\\UA_Endo12061705_FX1129.h5ad', 'UA_Endo12061705_FX9009': 'input/hd5a_files\\\\UA_Endo12061705_FX9009.h5ad', 'UA_Endo12269810_FX0033': 'input/hd5a_files\\\\UA_Endo12269810_FX0033.h5ad', 'UA_Endo12269810_FX1106': 'input/hd5a_files\\\\UA_Endo12269810_FX1106.h5ad', 'UA_Endo12269811_FX0022': 'input/hd5a_files\\\\UA_Endo12269811_FX0022.h5ad', 'UA_Endo12269811_FX0060': 'input/hd5a_files\\\\UA_Endo12269811_FX0060.h5ad', 'UA_Endo12269813_FX1233': 'input/hd5a_files\\\\UA_Endo12269813_FX1233.h5ad', 'UA_Endo12269814_EX0661': 'input/hd5a_files\\\\UA_Endo12269814_EX0661.h5ad', 'UA_Endo12269814_EX0789': 'input/hd5a_files\\\\UA_Endo12269814_EX0789.h5ad', 'UA_Endo12296823_EX0795': 'input/hd5a_files\\\\UA_Endo12296823_EX0795.h5ad', 'UA_Endo12296823_FX1119': 'input/hd5a_files\\\\UA_Endo12296823_FX1119.h5ad', 'UA_Endo12296824_FX1125': 'input/hd5a_files\\\\UA_Endo12296824_FX1125.h5ad', 'UA_Endo12296824_FX9008': 'input/hd5a_files\\\\UA_Endo12296824_FX9008.h5ad', 'UA_Endo12449298_FX1156': 'input/hd5a_files\\\\UA_Endo12449298_FX1156.h5ad', 'UA_Endo12449298_FX1160': 'input/hd5a_files\\\\UA_Endo12449298_FX1160.h5ad', 'UA_Endo12449299_EX0277': 'input/hd5a_files\\\\UA_Endo12449299_EX0277.h5ad', 'UA_Endo12449299_EX0288': 'input/hd5a_files\\\\UA_Endo12449299_EX0288.h5ad', 'UA_Endo12449300_EX0045': 'input/hd5a_files\\\\UA_Endo12449300_EX0045.h5ad', 'UA_Endo12449300_FX9027': 'input/hd5a_files\\\\UA_Endo12449300_FX9027.h5ad', 'UA_Endo12449301_FX1136': 'input/hd5a_files\\\\UA_Endo12449301_FX1136.h5ad', 'UA_Endo12449301_FX1150': 'input/hd5a_files\\\\UA_Endo12449301_FX1150.h5ad', 'UA_Endo12604667_FX0028': 'input/hd5a_files\\\\UA_Endo12604667_FX0028.h5ad', 'UA_Endo12604667_FX1130': 'input/hd5a_files\\\\UA_Endo12604667_FX1130.h5ad', 'UA_Endo12604668_FX9016': 'input/hd5a_files\\\\UA_Endo12604668_FX9016.h5ad', 'UA_Endo12680031_FX1119': 'input/hd5a_files\\\\UA_Endo12680031_FX1119.h5ad', 'UA_Endo12680031_FX1259': 'input/hd5a_files\\\\UA_Endo12680031_FX1259.h5ad', 'UA_Endo12680032_FX1259': 'input/hd5a_files\\\\UA_Endo12680032_FX1259.h5ad', 'UA_Endo12680033_FX1249': 'input/hd5a_files\\\\UA_Endo12680033_FX1249.h5ad', 'UA_Endo12680033_FX1254': 'input/hd5a_files\\\\UA_Endo12680033_FX1254.h5ad', 'UA_Endo12680034_FX1249': 'input/hd5a_files\\\\UA_Endo12680034_FX1249.h5ad', 'UA_Endo12680034_FX1254': 'input/hd5a_files\\\\UA_Endo12680034_FX1254.h5ad', 'UA_Endo12821480_FX1074': 'input/hd5a_files\\\\UA_Endo12821480_FX1074.h5ad', 'UA_Endo12821480_FX1122': 'input/hd5a_files\\\\UA_Endo12821480_FX1122.h5ad', 'UA_Endo12821481_FX1111': 'input/hd5a_files\\\\UA_Endo12821481_FX1111.h5ad', 'UA_Endo12821481_FX9007': 'input/hd5a_files\\\\UA_Endo12821481_FX9007.h5ad', 'UA_Endo12821482_FX0024': 'input/hd5a_files\\\\UA_Endo12821482_FX0024.h5ad', 'UA_Endo12821483_FX1080': 'input/hd5a_files\\\\UA_Endo12821483_FX1080.h5ad', 'UA_Endo12821484_FX9010': 'input/hd5a_files\\\\UA_Endo12821484_FX9010.h5ad', 'UA_Endo12821485_FX0065': 'input/hd5a_files\\\\UA_Endo12821485_FX0065.h5ad', 'UA_Endo12821487_FX1191': 'input/hd5a_files\\\\UA_Endo12821487_FX1191.h5ad', 'UA_Endo12821488_FX9018': 'input/hd5a_files\\\\UA_Endo12821488_FX9018.h5ad', 'UA_Endo12865960_FX1170': 'input/hd5a_files\\\\UA_Endo12865960_FX1170.h5ad', 'UA_Endo12865960_FX9013': 'input/hd5a_files\\\\UA_Endo12865960_FX9013.h5ad', 'UA_Endo12865961_FX9006': 'input/hd5a_files\\\\UA_Endo12865961_FX9006.h5ad', 'UA_Endo12865961_FX9014': 'input/hd5a_files\\\\UA_Endo12865961_FX9014.h5ad', 'UA_Endo12865962_FX1236': 'input/hd5a_files\\\\UA_Endo12865962_FX1236.h5ad', 'UA_Endo12865962_FX9012': 'input/hd5a_files\\\\UA_Endo12865962_FX9012.h5ad', 'UA_Endo12865963_FX1087': 'input/hd5a_files\\\\UA_Endo12865963_FX1087.h5ad', 'UA_Endo12865963_FX9021': 'input/hd5a_files\\\\UA_Endo12865963_FX9021.h5ad', 'UA_Endo12865966_FX1223': 'input/hd5a_files\\\\UA_Endo12865966_FX1223.h5ad', 'UA_Endo12961679_FX1285': 'input/hd5a_files\\\\UA_Endo12961679_FX1285.h5ad', 'UA_Endo12961679_SE02': 'input/hd5a_files\\\\UA_Endo12961679_SE02.h5ad', 'UA_Endo12961680_FX1285': 'input/hd5a_files\\\\UA_Endo12961680_FX1285.h5ad', 'UA_Endo12961680_SE02': 'input/hd5a_files\\\\UA_Endo12961680_SE02.h5ad', 'UA_Endo12961681_FX1289': 'input/hd5a_files\\\\UA_Endo12961681_FX1289.h5ad', 'UA_Endo12961681_SE03': 'input/hd5a_files\\\\UA_Endo12961681_SE03.h5ad', 'UA_Endo12961682_FX1289': 'input/hd5a_files\\\\UA_Endo12961682_FX1289.h5ad', 'UA_Endo12961682_SE03': 'input/hd5a_files\\\\UA_Endo12961682_SE03.h5ad', 'UA_Endo13646709_SE06': 'input/hd5a_files\\\\UA_Endo13646709_SE06.h5ad', 'UA_Endo9426399_FX1146': 'input/hd5a_files\\\\UA_Endo9426399_FX1146.h5ad', 'UA_Endo9426400_FX1146': 'input/hd5a_files\\\\UA_Endo9426400_FX1146.h5ad', 'UA_Endo9426401_FX1156': 'input/hd5a_files\\\\UA_Endo9426401_FX1156.h5ad', 'UA_Endo9426401_FX9006': 'input/hd5a_files\\\\UA_Endo9426401_FX9006.h5ad', 'UA_Endo9426402_FX1156': 'input/hd5a_files\\\\UA_Endo9426402_FX1156.h5ad', 'UA_Endo9426402_FX9006': 'input/hd5a_files\\\\UA_Endo9426402_FX9006.h5ad'}\n"
     ]
    }
   ],
   "source": [
    "print(adatas_dict)"
   ]
  },
  {
   "cell_type": "code",
   "execution_count": 11,
   "metadata": {},
   "outputs": [],
   "source": [
    "output_directory = r\"output/\"\n",
    "combined_on_disk_name = os.path.join(output_directory, 'data_combined_on_disk.h5ad') \n",
    "#os.remove(combined_on_disk_name)\n",
    "ad.experimental.concat_on_disk(\n",
    "    adatas_dict,          # List of paths to the individual .h5ad files\n",
    "    combined_on_disk_name,  # Path to the combined output file\n",
    "    label='dataset'      # Optional: label for the datasets\n",
    ")"
   ]
  },
  {
   "cell_type": "code",
   "execution_count": null,
   "metadata": {},
   "outputs": [],
   "source": [
    "combined_adata = sc.read(\"output/data_combined_on_disk.h5ad\")\n",
    "combined_adata.obs_names_make_unique() \n",
    "##collection -- nice way to interact with the data separately:\n",
    "#ann_collection = AnnCollection(adatas_dict, join_vars='outer', join_obs=None, label='dataset')\n",
    "#collection_name = output_directory + 'data_collection.h5ad'\n",
    "##not sure how to save the object for an easy reload"
   ]
  },
  {
   "cell_type": "code",
   "execution_count": null,
   "metadata": {},
   "outputs": [],
   "source": [
    "##METHOD USING BATCHING -- broken???\n",
    "# # Directory where the files have been extracted\n",
    "# extracted_work_dir = \"input/extracted_data\"  # Directory where you extracted the tar files\n",
    "# # List to store directory names under the 'work' directory\n",
    "# dataset_dirs = []\n",
    "\n",
    "# # Traverse the 'work' directory to find subdirectories\n",
    "# for root, dirs, files in os.walk(extracted_work_dir):\n",
    "#     # Only consider directories directly under the 'work' directory\n",
    "#     if \"work\" in root:\n",
    "#         for dir_name in dirs:\n",
    "#             path = os.path.join(root, dir_name)\n",
    "#             # Append the directory name under 'work'\n",
    "#             dataset_dirs.append(path)\n",
    "\n",
    "# # Now dataset_dirs contains the names of all subdirectories under 'work'\n",
    "# print(\"Dataset directories under 'work':\", dataset_dirs)\n",
    "\n",
    "\n",
    "\n",
    "# # List to store AnnData objects for merging\n",
    "# adatas = []\n",
    "# batch_size = 5  # Adjust based on available memory\n",
    "# for i in range(0, len(dataset_dirs), batch_size):\n",
    "#     # Get the current batch of files\n",
    "#     batch_files = dataset_dirs[i:i+batch_size]\n",
    "    \n",
    "#     # Load the current batch of datasets\n",
    "#     batch_adatas = []\n",
    "#     for mtx_file in batch_files:\n",
    "#         print(mtx_file)\n",
    "#         # Assuming each batch is loaded from corresponding directories\n",
    "#         adata = sc.read_10x_mtx(mtx_file)\n",
    "#         batch_adatas.append(adata)\n",
    "    \n",
    "#     # Concatenate the current batch\n",
    "#     if adatas:\n",
    "#         adatas[0] = ad.concat([adatas[0]] + batch_adatas)\n",
    "#         adatas[0].obs_names_make_unique() \n",
    "#     else:\n",
    "#         adatas = batch_adatas\n",
    "\n",
    "#     # Free memory by clearing the batch Adatas\n",
    "#     batch_adatas = []"
   ]
  },
  {
   "cell_type": "markdown",
   "metadata": {},
   "source": [
    "Load in data -- OLAF's VERSION. Garrett Depending on what you did you made need to make a different block."
   ]
  },
  {
   "cell_type": "markdown",
   "metadata": {},
   "source": [
    "Data Exploration"
   ]
  },
  {
   "cell_type": "code",
   "execution_count": null,
   "metadata": {},
   "outputs": [
    {
     "ename": "NameError",
     "evalue": "name 'adatas' is not defined",
     "output_type": "error",
     "traceback": [
      "\u001b[1;31m---------------------------------------------------------------------------\u001b[0m",
      "\u001b[1;31mNameError\u001b[0m                                 Traceback (most recent call last)",
      "Cell \u001b[1;32mIn[8], line 1\u001b[0m\n\u001b[1;32m----> 1\u001b[0m bdata \u001b[38;5;241m=\u001b[39m \u001b[43madatas\u001b[49m[\u001b[38;5;241m0\u001b[39m]\u001b[38;5;241m.\u001b[39mcopy()\n\u001b[0;32m      2\u001b[0m bdata\u001b[38;5;241m.\u001b[39mobs\u001b[38;5;241m.\u001b[39mhead()\n",
      "\u001b[1;31mNameError\u001b[0m: name 'adatas' is not defined"
     ]
    }
   ],
   "source": [
    "combined_adata.obs.head()\n"
   ]
  },
  {
   "cell_type": "code",
   "execution_count": null,
   "metadata": {},
   "outputs": [
    {
     "data": {
      "text/html": [
       "<div>\n",
       "<style scoped>\n",
       "    .dataframe tbody tr th:only-of-type {\n",
       "        vertical-align: middle;\n",
       "    }\n",
       "\n",
       "    .dataframe tbody tr th {\n",
       "        vertical-align: top;\n",
       "    }\n",
       "\n",
       "    .dataframe thead th {\n",
       "        text-align: right;\n",
       "    }\n",
       "</style>\n",
       "<table border=\"1\" class=\"dataframe\">\n",
       "  <thead>\n",
       "    <tr style=\"text-align: right;\">\n",
       "      <th></th>\n",
       "    </tr>\n",
       "  </thead>\n",
       "  <tbody>\n",
       "    <tr>\n",
       "      <th>MIR1302-2HG</th>\n",
       "    </tr>\n",
       "    <tr>\n",
       "      <th>FAM138A</th>\n",
       "    </tr>\n",
       "    <tr>\n",
       "      <th>OR4F5</th>\n",
       "    </tr>\n",
       "    <tr>\n",
       "      <th>AL627309.1</th>\n",
       "    </tr>\n",
       "    <tr>\n",
       "      <th>AL627309.3</th>\n",
       "    </tr>\n",
       "  </tbody>\n",
       "</table>\n",
       "</div>"
      ],
      "text/plain": [
       "Empty DataFrame\n",
       "Columns: []\n",
       "Index: [MIR1302-2HG, FAM138A, OR4F5, AL627309.1, AL627309.3]"
      ]
     },
     "execution_count": 105,
     "metadata": {},
     "output_type": "execute_result"
    }
   ],
   "source": [
    "\n",
    "\n",
    "combined_adata.var.head()\n",
    "\n"
   ]
  },
  {
   "cell_type": "code",
   "execution_count": null,
   "metadata": {},
   "outputs": [
    {
     "name": "stdout",
     "output_type": "stream",
     "text": [
      "Index(['MIR1302-2HG', 'FAM138A', 'OR4F5', 'AL627309.1', 'AL627309.3',\n",
      "       'AL627309.2', 'AL627309.5', 'AL627309.4', 'AP006222.2', 'AL732372.1',\n",
      "       ...\n",
      "       'AC133551.1', 'AC136612.1', 'AC136616.1', 'AC136616.3', 'AC136616.2',\n",
      "       'AC141272.1', 'AC023491.2', 'AC007325.1', 'AC007325.4', 'AC007325.2'],\n",
      "      dtype='object', length=36601)\n"
     ]
    },
    {
     "data": {
      "text/plain": [
       "<Compressed Sparse Row sparse matrix of dtype 'float32'\n",
       "\twith 99304128 stored elements and shape (15642, 36601)>"
      ]
     },
     "execution_count": 104,
     "metadata": {},
     "output_type": "execute_result"
    }
   ],
   "source": [
    "print(combined_adata.var_names)\n",
    "combined_adata.X"
   ]
  },
  {
   "cell_type": "code",
   "execution_count": null,
   "metadata": {},
   "outputs": [
    {
     "ename": "NameError",
     "evalue": "name 'bdata' is not defined",
     "output_type": "error",
     "traceback": [
      "\u001b[1;31m---------------------------------------------------------------------------\u001b[0m",
      "\u001b[1;31mNameError\u001b[0m                                 Traceback (most recent call last)",
      "Cell \u001b[1;32mIn[24], line 1\u001b[0m\n\u001b[1;32m----> 1\u001b[0m \u001b[43mbdata\u001b[49m\u001b[38;5;241m.\u001b[39mobs\n\u001b[0;32m      2\u001b[0m output_file \u001b[38;5;241m=\u001b[39m \u001b[38;5;124m\"\u001b[39m\u001b[38;5;124moutput/integrated_data.h5ad\u001b[39m\u001b[38;5;124m\"\u001b[39m\n\u001b[0;32m      3\u001b[0m bdata\u001b[38;5;241m.\u001b[39mwrite(output_file) \u001b[38;5;66;03m# might just be failing because it already exists\u001b[39;00m\n",
      "\u001b[1;31mNameError\u001b[0m: name 'bdata' is not defined"
     ]
    }
   ],
   "source": [
    "combined_adata.obs\n",
    "output_file = \"output/integrated_data.h5ad\"\n",
    "combined_adata.write(output_file) # might just be failing because it already exists"
   ]
  },
  {
   "cell_type": "markdown",
   "metadata": {},
   "source": [
    "## Quality Control"
   ]
  },
  {
   "cell_type": "code",
   "execution_count": null,
   "metadata": {},
   "outputs": [
    {
     "data": {
      "text/html": [
       "<div>\n",
       "<style scoped>\n",
       "    .dataframe tbody tr th:only-of-type {\n",
       "        vertical-align: middle;\n",
       "    }\n",
       "\n",
       "    .dataframe tbody tr th {\n",
       "        vertical-align: top;\n",
       "    }\n",
       "\n",
       "    .dataframe thead th {\n",
       "        text-align: right;\n",
       "    }\n",
       "</style>\n",
       "<table border=\"1\" class=\"dataframe\">\n",
       "  <thead>\n",
       "    <tr style=\"text-align: right;\">\n",
       "      <th></th>\n",
       "      <th>n_genes_by_counts</th>\n",
       "      <th>total_counts</th>\n",
       "      <th>total_counts_mt</th>\n",
       "      <th>pct_counts_mt</th>\n",
       "    </tr>\n",
       "  </thead>\n",
       "  <tbody>\n",
       "    <tr>\n",
       "      <th>AAAGTGAGTTTACACG-1</th>\n",
       "      <td>4830</td>\n",
       "      <td>16046.0</td>\n",
       "      <td>0.0</td>\n",
       "      <td>0.0</td>\n",
       "    </tr>\n",
       "    <tr>\n",
       "      <th>AACAACCTCGTAGCCG-1</th>\n",
       "      <td>7833</td>\n",
       "      <td>53484.0</td>\n",
       "      <td>0.0</td>\n",
       "      <td>0.0</td>\n",
       "    </tr>\n",
       "    <tr>\n",
       "      <th>AACCATGGTAAGATTG-1</th>\n",
       "      <td>2547</td>\n",
       "      <td>5951.0</td>\n",
       "      <td>0.0</td>\n",
       "      <td>0.0</td>\n",
       "    </tr>\n",
       "    <tr>\n",
       "      <th>AACCTTTTCTAGACCA-1</th>\n",
       "      <td>2329</td>\n",
       "      <td>5552.0</td>\n",
       "      <td>0.0</td>\n",
       "      <td>0.0</td>\n",
       "    </tr>\n",
       "    <tr>\n",
       "      <th>AACGGGACAGCAATTC-1</th>\n",
       "      <td>6761</td>\n",
       "      <td>38715.0</td>\n",
       "      <td>0.0</td>\n",
       "      <td>0.0</td>\n",
       "    </tr>\n",
       "  </tbody>\n",
       "</table>\n",
       "</div>"
      ],
      "text/plain": [
       "                    n_genes_by_counts  total_counts  total_counts_mt  \\\n",
       "AAAGTGAGTTTACACG-1               4830       16046.0              0.0   \n",
       "AACAACCTCGTAGCCG-1               7833       53484.0              0.0   \n",
       "AACCATGGTAAGATTG-1               2547        5951.0              0.0   \n",
       "AACCTTTTCTAGACCA-1               2329        5552.0              0.0   \n",
       "AACGGGACAGCAATTC-1               6761       38715.0              0.0   \n",
       "\n",
       "                    pct_counts_mt  \n",
       "AAAGTGAGTTTACACG-1            0.0  \n",
       "AACAACCTCGTAGCCG-1            0.0  \n",
       "AACCATGGTAAGATTG-1            0.0  \n",
       "AACCTTTTCTAGACCA-1            0.0  \n",
       "AACGGGACAGCAATTC-1            0.0  "
      ]
     },
     "execution_count": 109,
     "metadata": {},
     "output_type": "execute_result"
    }
   ],
   "source": [
    "adata.var['MT'] = adata.var_names.str.startswith('MT-')  # annotate the group of mitochondrial genes as 'mt'\n",
    "sc.pp.calculate_qc_metrics(adata, qc_vars=['MT'], percent_top=None, log1p=False, inplace=True)\n",
    "\n",
    "\n",
    "adata.obs.head()\n",
    "\n"
   ]
  },
  {
   "cell_type": "code",
   "execution_count": null,
   "metadata": {},
   "outputs": [
    {
     "data": {
      "image/png": "[encoded data removed]",
      "text/plain": [
       "<Figure size 1511.11x500 with 3 Axes>"
      ]
     },
     "metadata": {},
     "output_type": "display_data"
    }
   ],
   "source": [
    "sc.pl.violin(\n",
    "    adata, \n",
    "    [\n",
    "     'n_genes_by_counts', \n",
    "     'total_counts', \n",
    "     'pct_counts_MT'\n",
    "     ],\n",
    "    multi_panel=True\n",
    ")"
   ]
  },
  {
   "cell_type": "code",
   "execution_count": null,
   "metadata": {},
   "outputs": [
    {
     "data": {
      "image/png": "[encoded data removed]",
      "text/plain": [
       "<Figure size 728.72x480 with 1 Axes>"
      ]
     },
     "metadata": {},
     "output_type": "display_data"
    }
   ],
   "source": [
    "sc.pl.scatter(adata, \"total_counts\", \"n_genes_by_counts\")"
   ]
  },
  {
   "cell_type": "markdown",
   "metadata": {},
   "source": [
    "### Normalization"
   ]
  },
  {
   "cell_type": "code",
   "execution_count": 23,
   "metadata": {},
   "outputs": [
    {
     "ename": "OSError",
     "evalue": "Unable to synchronously open file (bad object header version number)",
     "output_type": "error",
     "traceback": [
      "\u001b[1;31m---------------------------------------------------------------------------\u001b[0m",
      "\u001b[1;31mOSError\u001b[0m                                   Traceback (most recent call last)",
      "Cell \u001b[1;32mIn[23], line 1\u001b[0m\n\u001b[1;32m----> 1\u001b[0m adata \u001b[38;5;241m=\u001b[39m \u001b[43mad\u001b[49m\u001b[38;5;241;43m.\u001b[39;49m\u001b[43mread_h5ad\u001b[49m\u001b[43m(\u001b[49m\u001b[38;5;124;43m\"\u001b[39;49m\u001b[38;5;124;43moutput/integrated_data.h5ad\u001b[39;49m\u001b[38;5;124;43m\"\u001b[39;49m\u001b[43m)\u001b[49m\n\u001b[0;32m      2\u001b[0m adata\u001b[38;5;241m.\u001b[39mlayers[\u001b[38;5;124m\"\u001b[39m\u001b[38;5;124mcounts\u001b[39m\u001b[38;5;124m\"\u001b[39m] \u001b[38;5;241m=\u001b[39m adata\u001b[38;5;241m.\u001b[39mX\u001b[38;5;241m.\u001b[39mcopy()\n\u001b[0;32m      3\u001b[0m sc\u001b[38;5;241m.\u001b[39mpp\u001b[38;5;241m.\u001b[39mnormalize_total(adata, target_sum\u001b[38;5;241m=\u001b[39m\u001b[38;5;241m1e4\u001b[39m) \n",
      "File \u001b[1;32mc:\\Users\\crisi\\Desktop\\Code\\UW\\CompBio\\endometrial_analysis\\.venv\\Lib\\site-packages\\anndata\\_io\\h5ad.py:234\u001b[0m, in \u001b[0;36mread_h5ad\u001b[1;34m(filename, backed, as_sparse, as_sparse_fmt, chunk_size)\u001b[0m\n\u001b[0;32m    226\u001b[0m         \u001b[38;5;28;01mraise\u001b[39;00m \u001b[38;5;167;01mNotImplementedError\u001b[39;00m(\n\u001b[0;32m    227\u001b[0m             \u001b[38;5;124m\"\u001b[39m\u001b[38;5;124mCurrently only `X` and `raw/X` can be read as sparse.\u001b[39m\u001b[38;5;124m\"\u001b[39m\n\u001b[0;32m    228\u001b[0m         )\n\u001b[0;32m    230\u001b[0m rdasp \u001b[38;5;241m=\u001b[39m partial(\n\u001b[0;32m    231\u001b[0m     read_dense_as_sparse, sparse_format\u001b[38;5;241m=\u001b[39mas_sparse_fmt, axis_chunk\u001b[38;5;241m=\u001b[39mchunk_size\n\u001b[0;32m    232\u001b[0m )\n\u001b[1;32m--> 234\u001b[0m \u001b[38;5;28;01mwith\u001b[39;00m \u001b[43mh5py\u001b[49m\u001b[38;5;241;43m.\u001b[39;49m\u001b[43mFile\u001b[49m\u001b[43m(\u001b[49m\u001b[43mfilename\u001b[49m\u001b[43m,\u001b[49m\u001b[43m \u001b[49m\u001b[38;5;124;43m\"\u001b[39;49m\u001b[38;5;124;43mr\u001b[39;49m\u001b[38;5;124;43m\"\u001b[39;49m\u001b[43m)\u001b[49m \u001b[38;5;28;01mas\u001b[39;00m f:\n\u001b[0;32m    236\u001b[0m     \u001b[38;5;28;01mdef\u001b[39;00m \u001b[38;5;21mcallback\u001b[39m(func, elem_name: \u001b[38;5;28mstr\u001b[39m, elem, iospec):\n\u001b[0;32m    237\u001b[0m         \u001b[38;5;28;01mif\u001b[39;00m iospec\u001b[38;5;241m.\u001b[39mencoding_type \u001b[38;5;241m==\u001b[39m \u001b[38;5;124m\"\u001b[39m\u001b[38;5;124manndata\u001b[39m\u001b[38;5;124m\"\u001b[39m \u001b[38;5;129;01mor\u001b[39;00m elem_name\u001b[38;5;241m.\u001b[39mendswith(\u001b[38;5;124m\"\u001b[39m\u001b[38;5;124m/\u001b[39m\u001b[38;5;124m\"\u001b[39m):\n",
      "File \u001b[1;32mc:\\Users\\crisi\\Desktop\\Code\\UW\\CompBio\\endometrial_analysis\\.venv\\Lib\\site-packages\\h5py\\_hl\\files.py:561\u001b[0m, in \u001b[0;36mFile.__init__\u001b[1;34m(self, name, mode, driver, libver, userblock_size, swmr, rdcc_nslots, rdcc_nbytes, rdcc_w0, track_order, fs_strategy, fs_persist, fs_threshold, fs_page_size, page_buf_size, min_meta_keep, min_raw_keep, locking, alignment_threshold, alignment_interval, meta_block_size, **kwds)\u001b[0m\n\u001b[0;32m    552\u001b[0m     fapl \u001b[38;5;241m=\u001b[39m make_fapl(driver, libver, rdcc_nslots, rdcc_nbytes, rdcc_w0,\n\u001b[0;32m    553\u001b[0m                      locking, page_buf_size, min_meta_keep, min_raw_keep,\n\u001b[0;32m    554\u001b[0m                      alignment_threshold\u001b[38;5;241m=\u001b[39malignment_threshold,\n\u001b[0;32m    555\u001b[0m                      alignment_interval\u001b[38;5;241m=\u001b[39malignment_interval,\n\u001b[0;32m    556\u001b[0m                      meta_block_size\u001b[38;5;241m=\u001b[39mmeta_block_size,\n\u001b[0;32m    557\u001b[0m                      \u001b[38;5;241m*\u001b[39m\u001b[38;5;241m*\u001b[39mkwds)\n\u001b[0;32m    558\u001b[0m     fcpl \u001b[38;5;241m=\u001b[39m make_fcpl(track_order\u001b[38;5;241m=\u001b[39mtrack_order, fs_strategy\u001b[38;5;241m=\u001b[39mfs_strategy,\n\u001b[0;32m    559\u001b[0m                      fs_persist\u001b[38;5;241m=\u001b[39mfs_persist, fs_threshold\u001b[38;5;241m=\u001b[39mfs_threshold,\n\u001b[0;32m    560\u001b[0m                      fs_page_size\u001b[38;5;241m=\u001b[39mfs_page_size)\n\u001b[1;32m--> 561\u001b[0m     fid \u001b[38;5;241m=\u001b[39m \u001b[43mmake_fid\u001b[49m\u001b[43m(\u001b[49m\u001b[43mname\u001b[49m\u001b[43m,\u001b[49m\u001b[43m \u001b[49m\u001b[43mmode\u001b[49m\u001b[43m,\u001b[49m\u001b[43m \u001b[49m\u001b[43muserblock_size\u001b[49m\u001b[43m,\u001b[49m\u001b[43m \u001b[49m\u001b[43mfapl\u001b[49m\u001b[43m,\u001b[49m\u001b[43m \u001b[49m\u001b[43mfcpl\u001b[49m\u001b[43m,\u001b[49m\u001b[43m \u001b[49m\u001b[43mswmr\u001b[49m\u001b[38;5;241;43m=\u001b[39;49m\u001b[43mswmr\u001b[49m\u001b[43m)\u001b[49m\n\u001b[0;32m    563\u001b[0m \u001b[38;5;28;01mif\u001b[39;00m \u001b[38;5;28misinstance\u001b[39m(libver, \u001b[38;5;28mtuple\u001b[39m):\n\u001b[0;32m    564\u001b[0m     \u001b[38;5;28mself\u001b[39m\u001b[38;5;241m.\u001b[39m_libver \u001b[38;5;241m=\u001b[39m libver\n",
      "File \u001b[1;32mc:\\Users\\crisi\\Desktop\\Code\\UW\\CompBio\\endometrial_analysis\\.venv\\Lib\\site-packages\\h5py\\_hl\\files.py:235\u001b[0m, in \u001b[0;36mmake_fid\u001b[1;34m(name, mode, userblock_size, fapl, fcpl, swmr)\u001b[0m\n\u001b[0;32m    233\u001b[0m     \u001b[38;5;28;01mif\u001b[39;00m swmr \u001b[38;5;129;01mand\u001b[39;00m swmr_support:\n\u001b[0;32m    234\u001b[0m         flags \u001b[38;5;241m|\u001b[39m\u001b[38;5;241m=\u001b[39m h5f\u001b[38;5;241m.\u001b[39mACC_SWMR_READ\n\u001b[1;32m--> 235\u001b[0m     fid \u001b[38;5;241m=\u001b[39m \u001b[43mh5f\u001b[49m\u001b[38;5;241;43m.\u001b[39;49m\u001b[43mopen\u001b[49m\u001b[43m(\u001b[49m\u001b[43mname\u001b[49m\u001b[43m,\u001b[49m\u001b[43m \u001b[49m\u001b[43mflags\u001b[49m\u001b[43m,\u001b[49m\u001b[43m \u001b[49m\u001b[43mfapl\u001b[49m\u001b[38;5;241;43m=\u001b[39;49m\u001b[43mfapl\u001b[49m\u001b[43m)\u001b[49m\n\u001b[0;32m    236\u001b[0m \u001b[38;5;28;01melif\u001b[39;00m mode \u001b[38;5;241m==\u001b[39m \u001b[38;5;124m'\u001b[39m\u001b[38;5;124mr+\u001b[39m\u001b[38;5;124m'\u001b[39m:\n\u001b[0;32m    237\u001b[0m     fid \u001b[38;5;241m=\u001b[39m h5f\u001b[38;5;241m.\u001b[39mopen(name, h5f\u001b[38;5;241m.\u001b[39mACC_RDWR, fapl\u001b[38;5;241m=\u001b[39mfapl)\n",
      "File \u001b[1;32mh5py\\\\_objects.pyx:54\u001b[0m, in \u001b[0;36mh5py._objects.with_phil.wrapper\u001b[1;34m()\u001b[0m\n",
      "File \u001b[1;32mh5py\\\\_objects.pyx:55\u001b[0m, in \u001b[0;36mh5py._objects.with_phil.wrapper\u001b[1;34m()\u001b[0m\n",
      "File \u001b[1;32mh5py\\\\h5f.pyx:102\u001b[0m, in \u001b[0;36mh5py.h5f.open\u001b[1;34m()\u001b[0m\n",
      "\u001b[1;31mOSError\u001b[0m: Unable to synchronously open file (bad object header version number)"
     ]
    }
   ],
   "source": [
    "adata = ad.read_h5ad(\"output/integrated_data.h5ad\")\n",
    "adata.layers[\"counts\"] = adata.X.copy()\n",
    "sc.pp.normalize_total(adata, target_sum=1e4) \n",
    "sc.pp.log1p(adata) \n",
    "adata.raw = adata"
   ]
  },
  {
   "cell_type": "code",
   "execution_count": null,
   "metadata": {},
   "outputs": [
    {
     "ename": "ImportError",
     "evalue": "Please install skmisc package via `pip install --user scikit-misc",
     "output_type": "error",
     "traceback": [
      "\u001b[1;31m---------------------------------------------------------------------------\u001b[0m",
      "\u001b[1;31mModuleNotFoundError\u001b[0m                       Traceback (most recent call last)",
      "File \u001b[1;32mc:\\Users\\crisi\\Desktop\\Code\\UW\\CompBio\\endometrial_analysis\\.venv\\Lib\\site-packages\\scanpy\\preprocessing\\_highly_variable_genes.py:66\u001b[0m, in \u001b[0;36m_highly_variable_genes_seurat_v3\u001b[1;34m(adata, flavor, layer, n_top_genes, batch_key, check_values, span, subset, inplace)\u001b[0m\n\u001b[0;32m     65\u001b[0m \u001b[38;5;28;01mtry\u001b[39;00m:\n\u001b[1;32m---> 66\u001b[0m     \u001b[38;5;28;01mfrom\u001b[39;00m \u001b[38;5;21;01mskmisc\u001b[39;00m\u001b[38;5;21;01m.\u001b[39;00m\u001b[38;5;21;01mloess\u001b[39;00m \u001b[38;5;28;01mimport\u001b[39;00m loess\n\u001b[0;32m     67\u001b[0m \u001b[38;5;28;01mexcept\u001b[39;00m \u001b[38;5;167;01mImportError\u001b[39;00m:\n",
      "\u001b[1;31mModuleNotFoundError\u001b[0m: No module named 'skmisc'",
      "\nDuring handling of the above exception, another exception occurred:\n",
      "\u001b[1;31mImportError\u001b[0m                               Traceback (most recent call last)",
      "Cell \u001b[1;32mIn[113], line 1\u001b[0m\n\u001b[1;32m----> 1\u001b[0m \u001b[43msc\u001b[49m\u001b[38;5;241;43m.\u001b[39;49m\u001b[43mpp\u001b[49m\u001b[38;5;241;43m.\u001b[39;49m\u001b[43mhighly_variable_genes\u001b[49m\u001b[43m(\u001b[49m\n\u001b[0;32m      2\u001b[0m \u001b[43m    \u001b[49m\u001b[43madata\u001b[49m\u001b[43m,\u001b[49m\n\u001b[0;32m      3\u001b[0m \u001b[43m    \u001b[49m\u001b[43mn_top_genes\u001b[49m\u001b[38;5;241;43m=\u001b[39;49m\u001b[38;5;241;43m4000\u001b[39;49m\u001b[43m,\u001b[49m\n\u001b[0;32m      4\u001b[0m \u001b[43m    \u001b[49m\u001b[38;5;66;43;03m# subset=True, # to automatically subset to the 4000 genes\u001b[39;49;00m\n\u001b[0;32m      5\u001b[0m \u001b[43m    \u001b[49m\u001b[43mlayer\u001b[49m\u001b[38;5;241;43m=\u001b[39;49m\u001b[38;5;124;43m\"\u001b[39;49m\u001b[38;5;124;43mcounts\u001b[39;49m\u001b[38;5;124;43m\"\u001b[39;49m\u001b[43m,\u001b[49m\n\u001b[0;32m      6\u001b[0m \u001b[43m    \u001b[49m\u001b[43mflavor\u001b[49m\u001b[38;5;241;43m=\u001b[39;49m\u001b[38;5;124;43m\"\u001b[39;49m\u001b[38;5;124;43mseurat_v3\u001b[39;49m\u001b[38;5;124;43m\"\u001b[39;49m\n\u001b[0;32m      7\u001b[0m \u001b[43m)\u001b[49m\n\u001b[0;32m      8\u001b[0m sc\u001b[38;5;241m.\u001b[39mpl\u001b[38;5;241m.\u001b[39mhighly_variable_genes(adata, log\u001b[38;5;241m=\u001b[39m\u001b[38;5;28;01mTrue\u001b[39;00m)\n",
      "File \u001b[1;32mc:\\Users\\crisi\\Desktop\\Code\\UW\\CompBio\\endometrial_analysis\\.venv\\Lib\\site-packages\\legacy_api_wrap\\__init__.py:80\u001b[0m, in \u001b[0;36mlegacy_api.<locals>.wrapper.<locals>.fn_compatible\u001b[1;34m(*args_all, **kw)\u001b[0m\n\u001b[0;32m     77\u001b[0m \u001b[38;5;129m@wraps\u001b[39m(fn)\n\u001b[0;32m     78\u001b[0m \u001b[38;5;28;01mdef\u001b[39;00m \u001b[38;5;21mfn_compatible\u001b[39m(\u001b[38;5;241m*\u001b[39margs_all: P\u001b[38;5;241m.\u001b[39margs, \u001b[38;5;241m*\u001b[39m\u001b[38;5;241m*\u001b[39mkw: P\u001b[38;5;241m.\u001b[39mkwargs) \u001b[38;5;241m-\u001b[39m\u001b[38;5;241m>\u001b[39m R:\n\u001b[0;32m     79\u001b[0m     \u001b[38;5;28;01mif\u001b[39;00m \u001b[38;5;28mlen\u001b[39m(args_all) \u001b[38;5;241m<\u001b[39m\u001b[38;5;241m=\u001b[39m n_positional:\n\u001b[1;32m---> 80\u001b[0m         \u001b[38;5;28;01mreturn\u001b[39;00m \u001b[43mfn\u001b[49m\u001b[43m(\u001b[49m\u001b[38;5;241;43m*\u001b[39;49m\u001b[43margs_all\u001b[49m\u001b[43m,\u001b[49m\u001b[43m \u001b[49m\u001b[38;5;241;43m*\u001b[39;49m\u001b[38;5;241;43m*\u001b[39;49m\u001b[43mkw\u001b[49m\u001b[43m)\u001b[49m\n\u001b[0;32m     82\u001b[0m     args_pos: P\u001b[38;5;241m.\u001b[39margs\n\u001b[0;32m     83\u001b[0m     args_pos, args_rest \u001b[38;5;241m=\u001b[39m args_all[:n_positional], args_all[n_positional:]\n",
      "File \u001b[1;32mc:\\Users\\crisi\\Desktop\\Code\\UW\\CompBio\\endometrial_analysis\\.venv\\Lib\\site-packages\\scanpy\\preprocessing\\_highly_variable_genes.py:658\u001b[0m, in \u001b[0;36mhighly_variable_genes\u001b[1;34m(adata, layer, n_top_genes, min_disp, max_disp, min_mean, max_mean, span, n_bins, flavor, subset, inplace, batch_key, check_values)\u001b[0m\n\u001b[0;32m    656\u001b[0m         sig \u001b[38;5;241m=\u001b[39m signature(_highly_variable_genes_seurat_v3)\n\u001b[0;32m    657\u001b[0m         n_top_genes \u001b[38;5;241m=\u001b[39m cast(\u001b[38;5;28mint\u001b[39m, sig\u001b[38;5;241m.\u001b[39mparameters[\u001b[38;5;124m\"\u001b[39m\u001b[38;5;124mn_top_genes\u001b[39m\u001b[38;5;124m\"\u001b[39m]\u001b[38;5;241m.\u001b[39mdefault)\n\u001b[1;32m--> 658\u001b[0m     \u001b[38;5;28;01mreturn\u001b[39;00m \u001b[43m_highly_variable_genes_seurat_v3\u001b[49m\u001b[43m(\u001b[49m\n\u001b[0;32m    659\u001b[0m \u001b[43m        \u001b[49m\u001b[43madata\u001b[49m\u001b[43m,\u001b[49m\n\u001b[0;32m    660\u001b[0m \u001b[43m        \u001b[49m\u001b[43mflavor\u001b[49m\u001b[38;5;241;43m=\u001b[39;49m\u001b[43mflavor\u001b[49m\u001b[43m,\u001b[49m\n\u001b[0;32m    661\u001b[0m \u001b[43m        \u001b[49m\u001b[43mlayer\u001b[49m\u001b[38;5;241;43m=\u001b[39;49m\u001b[43mlayer\u001b[49m\u001b[43m,\u001b[49m\n\u001b[0;32m    662\u001b[0m \u001b[43m        \u001b[49m\u001b[43mn_top_genes\u001b[49m\u001b[38;5;241;43m=\u001b[39;49m\u001b[43mn_top_genes\u001b[49m\u001b[43m,\u001b[49m\n\u001b[0;32m    663\u001b[0m \u001b[43m        \u001b[49m\u001b[43mbatch_key\u001b[49m\u001b[38;5;241;43m=\u001b[39;49m\u001b[43mbatch_key\u001b[49m\u001b[43m,\u001b[49m\n\u001b[0;32m    664\u001b[0m \u001b[43m        \u001b[49m\u001b[43mcheck_values\u001b[49m\u001b[38;5;241;43m=\u001b[39;49m\u001b[43mcheck_values\u001b[49m\u001b[43m,\u001b[49m\n\u001b[0;32m    665\u001b[0m \u001b[43m        \u001b[49m\u001b[43mspan\u001b[49m\u001b[38;5;241;43m=\u001b[39;49m\u001b[43mspan\u001b[49m\u001b[43m,\u001b[49m\n\u001b[0;32m    666\u001b[0m \u001b[43m        \u001b[49m\u001b[43msubset\u001b[49m\u001b[38;5;241;43m=\u001b[39;49m\u001b[43msubset\u001b[49m\u001b[43m,\u001b[49m\n\u001b[0;32m    667\u001b[0m \u001b[43m        \u001b[49m\u001b[43minplace\u001b[49m\u001b[38;5;241;43m=\u001b[39;49m\u001b[43minplace\u001b[49m\u001b[43m,\u001b[49m\n\u001b[0;32m    668\u001b[0m \u001b[43m    \u001b[49m\u001b[43m)\u001b[49m\n\u001b[0;32m    670\u001b[0m cutoff \u001b[38;5;241m=\u001b[39m _Cutoffs\u001b[38;5;241m.\u001b[39mvalidate(\n\u001b[0;32m    671\u001b[0m     n_top_genes\u001b[38;5;241m=\u001b[39mn_top_genes,\n\u001b[0;32m    672\u001b[0m     min_disp\u001b[38;5;241m=\u001b[39mmin_disp,\n\u001b[1;32m   (...)\u001b[0m\n\u001b[0;32m    675\u001b[0m     max_mean\u001b[38;5;241m=\u001b[39mmax_mean,\n\u001b[0;32m    676\u001b[0m )\n\u001b[0;32m    677\u001b[0m \u001b[38;5;28;01mdel\u001b[39;00m min_disp, max_disp, min_mean, max_mean, n_top_genes\n",
      "File \u001b[1;32mc:\\Users\\crisi\\Desktop\\Code\\UW\\CompBio\\endometrial_analysis\\.venv\\Lib\\site-packages\\scanpy\\preprocessing\\_highly_variable_genes.py:68\u001b[0m, in \u001b[0;36m_highly_variable_genes_seurat_v3\u001b[1;34m(adata, flavor, layer, n_top_genes, batch_key, check_values, span, subset, inplace)\u001b[0m\n\u001b[0;32m     66\u001b[0m     \u001b[38;5;28;01mfrom\u001b[39;00m \u001b[38;5;21;01mskmisc\u001b[39;00m\u001b[38;5;21;01m.\u001b[39;00m\u001b[38;5;21;01mloess\u001b[39;00m \u001b[38;5;28;01mimport\u001b[39;00m loess\n\u001b[0;32m     67\u001b[0m \u001b[38;5;28;01mexcept\u001b[39;00m \u001b[38;5;167;01mImportError\u001b[39;00m:\n\u001b[1;32m---> 68\u001b[0m     \u001b[38;5;28;01mraise\u001b[39;00m \u001b[38;5;167;01mImportError\u001b[39;00m(\n\u001b[0;32m     69\u001b[0m         \u001b[38;5;124m\"\u001b[39m\u001b[38;5;124mPlease install skmisc package via `pip install --user scikit-misc\u001b[39m\u001b[38;5;124m\"\u001b[39m\n\u001b[0;32m     70\u001b[0m     )\n\u001b[0;32m     71\u001b[0m df \u001b[38;5;241m=\u001b[39m pd\u001b[38;5;241m.\u001b[39mDataFrame(index\u001b[38;5;241m=\u001b[39madata\u001b[38;5;241m.\u001b[39mvar_names)\n\u001b[0;32m     72\u001b[0m data \u001b[38;5;241m=\u001b[39m _get_obs_rep(adata, layer\u001b[38;5;241m=\u001b[39mlayer)\n",
      "\u001b[1;31mImportError\u001b[0m: Please install skmisc package via `pip install --user scikit-misc"
     ]
    }
   ],
   "source": [
    "sc.pp.highly_variable_genes(\n",
    "    adata,\n",
    "    n_top_genes=4000,\n",
    "    # subset=True, # to automatically subset to the 4000 genes\n",
    "    layer=\"counts\",\n",
    "    flavor=\"seurat_v3\"\n",
    ")\n",
    "sc.pl.highly_variable_genes(adata, log=True)"
   ]
  },
  {
   "cell_type": "code",
   "execution_count": null,
   "metadata": {},
   "outputs": [],
   "source": [
    "adata = adata[:, adata.var.highly_variable].copy()\n",
    "adata.raw.to_adata()"
   ]
  },
  {
   "cell_type": "markdown",
   "metadata": {},
   "source": [
    "### Standard Workflow"
   ]
  },
  {
   "cell_type": "code",
   "execution_count": null,
   "metadata": {},
   "outputs": [],
   "source": [
    "sc.pp.scale(adata) # z normalize the columns (genes)\n",
    "sc.tl.pca(adata)\n",
    "\n",
    "\n",
    "adata.obsm[\"X_pca\"]\n",
    "sc.pp.neighbors(adata) # compute nearest neighbors\n",
    "sc.tl.umap(adata)\n",
    "sc.pl.umap(adata, color=\"batch\")"
   ]
  },
  {
   "cell_type": "markdown",
   "metadata": {},
   "source": [
    "IF THE CLUSTERS ARE BY BATCH:: ADD THIS CODE:"
   ]
  },
  {
   "cell_type": "code",
   "execution_count": null,
   "metadata": {},
   "outputs": [],
   "source": [
    "\n",
    "import scanpy.external as sce\n",
    "sce.pp.bbknn(adata, batch_key=\"batch\")\n",
    "sc.tl.umap(adata)\n",
    "sc.pl.umap(adata, color=[\"batch\", \"cell_types\"], ncols=1)\n"
   ]
  },
  {
   "cell_type": "markdown",
   "metadata": {},
   "source": [
    "IF IT STILL DOESN'T WORK THEN REDO THE LOAD IN AND USE SCIVI\n",
    "https://ccbskillssem.github.io/assets/scvi_notebook.html\n",
    "\n",
    "https://www.youtube.com/watch?v=EKTg9NV5hEA"
   ]
  },
  {
   "cell_type": "markdown",
   "metadata": {},
   "source": [
    "## SCENIC"
   ]
  },
  {
   "cell_type": "markdown",
   "metadata": {},
   "source": [
    "##### STEP 1: IDENTIFY TF with arboreto \n"
   ]
  },
  {
   "cell_type": "code",
   "execution_count": null,
   "metadata": {},
   "outputs": [],
   "source": [
    "f_tfs = \"/ddn1/vol1/staging/leuven/stg_00002/lcb/cflerin/resources/allTFs_hg38.txt\"\n",
    "\n",
    "!pyscenic grn {f_loom_path_scenic} {f_tfs} -o adj.csv --num_workers 20\n",
    "\n",
    "adjacencies = pd.read_csv(\"adj.tsv\", index_col=False, sep='\\t')\n",
    "adjacencies.head()"
   ]
  },
  {
   "cell_type": "markdown",
   "metadata": {},
   "source": [
    "##### STEP 2: Refine regulons through pruning "
   ]
  },
  {
   "cell_type": "code",
   "execution_count": null,
   "metadata": {},
   "outputs": [],
   "source": [
    "\n",
    "# ranking databases\n",
    "f_db_glob = \"/ddn1/vol1/staging/leuven/res_00001/databases/cistarget/databases/homo_sapiens/hg38/refseq_r80/mc9nr/gene_based/*feather\"\n",
    "f_db_names = ' '.join( glob.glob(f_db_glob) )\n",
    "\n",
    "# motif databases\n",
    "f_motif_path = \"/ddn1/vol1/staging/leuven/res_00001/databases/cistarget/motif2tf/motifs-v9-nr.hgnc-m0.001-o0.0.tbl\""
   ]
  },
  {
   "cell_type": "code",
   "execution_count": null,
   "metadata": {
    "vscode": {
     "languageId": "powershell"
    }
   },
   "outputs": [],
   "source": [
    "!pyscenic ctx adj.tsv \\\n",
    "    {f_db_names} \\\n",
    "    --annotations_fname {f_motif_path} \\\n",
    "    --expression_mtx_fname {f_loom_path_scenic} \\\n",
    "    --output reg.csv \\\n",
    "    --mask_dropouts \\\n",
    "    --num_workers 20"
   ]
  },
  {
   "cell_type": "code",
   "execution_count": null,
   "metadata": {},
   "outputs": [],
   "source": [
    "nGenesDetectedPerCell = np.sum(adata.X>0, axis=1)\n",
    "percentiles = nGenesDetectedPerCell.quantile([.01, .05, .10, .50, 1])\n",
    "print(percentiles)"
   ]
  },
  {
   "cell_type": "code",
   "execution_count": null,
   "metadata": {},
   "outputs": [],
   "source": [
    "fig, ax = plt.subplots(1, 1, figsize=(8, 5), dpi=150)\n",
    "sns.distplot(nGenesDetectedPerCell, norm_hist=False, kde=False, bins='fd')\n",
    "for i,x in enumerate(percentiles):\n",
    "    fig.gca().axvline(x=x, ymin=0,ymax=1, color='red')\n",
    "    ax.text(x=x, y=ax.get_ylim()[1], s=f'{int(x)} ({percentiles.index.values[i]*100}%)', color='red', rotation=30, size='x-small',rotation_mode='anchor' )\n",
    "ax.set_xlabel('# of genes')\n",
    "ax.set_ylabel('# of cells')\n",
    "fig.tight_layout()"
   ]
  },
  {
   "cell_type": "code",
   "execution_count": null,
   "metadata": {
    "vscode": {
     "languageId": "powershell"
    }
   },
   "outputs": [],
   "source": [
    "!pyscenic aucell \\\n",
    "    {f_loom_path_scenic} \\\n",
    "    reg.csv \\\n",
    "    --output {f_pyscenic_output} \\\n",
    "    --num_workers 20"
   ]
  },
  {
   "cell_type": "markdown",
   "metadata": {},
   "source": [
    "##### STEP 3: Cluster cells around regulons"
   ]
  },
  {
   "cell_type": "code",
   "execution_count": null,
   "metadata": {},
   "outputs": [],
   "source": [
    "lf = lp.connect( f_pyscenic_output, mode='r+', validate=False )\n",
    "auc_mtx = pd.DataFrame( lf.ca.RegulonsAUC, index=lf.ca.CellID)\n",
    "lf.close()"
   ]
  },
  {
   "cell_type": "code",
   "execution_count": null,
   "metadata": {},
   "outputs": [],
   "source": [
    "runUmap = umap.UMAP(n_neighbors=10, min_dist=0.4, metric='correlation').fit_transform\n",
    "dr_umap = runUmap( auc_mtx )\n",
    "pd.DataFrame(dr_umap, columns=['X', 'Y'], index=auc_mtx.index).to_csv( \"scenic_umap.txt\", sep='\\t')\n",
    "# tSNE\n",
    "tsne = TSNE( n_jobs=20 )\n",
    "dr_tsne = tsne.fit_transform( auc_mtx )\n",
    "pd.DataFrame(dr_tsne, columns=['X', 'Y'], index=auc_mtx.index).to_csv( \"scenic_tsne.txt\", sep='\\t')"
   ]
  },
  {
   "cell_type": "markdown",
   "metadata": {},
   "source": [
    "#### STEP 4 Integrate the Output --- THIS LOOKS PROBLEMATIC AND VERY NOT RIGHT"
   ]
  },
  {
   "cell_type": "code",
   "execution_count": null,
   "metadata": {},
   "outputs": [],
   "source": [
    "# scenic output\n",
    "lf = lp.connect( f_pyscenic_output, mode='r+', validate=False )\n",
    "meta = json.loads(zlib.decompress(base64.b64decode( lf.attrs.MetaData )))\n",
    "#exprMat = pd.DataFrame( lf[:,:], index=lf.ra.Gene, columns=lf.ca.CellID)\n",
    "auc_mtx = pd.DataFrame( lf.ca.RegulonsAUC, index=lf.ca.CellID)\n",
    "regulons = lf.ra.Regulons\n",
    "dr_umap = pd.read_csv( 'scenic_umap.txt', sep='\\t', header=0, index_col=0 )\n",
    "dr_tsne = pd.read_csv( 'scenic_tsne.txt', sep='\\t', header=0, index_col=0 )\n",
    "###"
   ]
  },
  {
   "cell_type": "code",
   "execution_count": null,
   "metadata": {},
   "outputs": [],
   "source": [
    "auc_mtx.columns = auc_mtx.columns.str.replace('\\(','_(')\n",
    "regulons.dtype.names = tuple( [ x.replace(\"(\",\"_(\") for x in regulons.dtype.names ] )\n",
    "# regulon thresholds\n",
    "rt = meta['regulonThresholds']\n",
    "for i,x in enumerate(rt):\n",
    "    tmp = x.get('regulon').replace(\"(\",\"_(\")\n",
    "    x.update( {'regulon': tmp} )"
   ]
  },
  {
   "cell_type": "code",
   "execution_count": null,
   "metadata": {},
   "outputs": [],
   "source": [
    "tsneDF = pd.DataFrame(adata.obsm['X_tsne'], columns=['_X', '_Y'])\n",
    "\n",
    "Embeddings_X = pd.DataFrame( index=lf.ca.CellID )\n",
    "Embeddings_X = pd.concat( [\n",
    "        pd.DataFrame(adata.obsm['X_umap'],index=adata.obs.index)[0] ,\n",
    "        pd.DataFrame(adata.obsm['X_pca'],index=adata.obs.index)[0] ,\n",
    "        dr_tsne['X'] ,\n",
    "        dr_umap['X']\n",
    "    ], sort=False, axis=1, join='outer' )\n",
    "Embeddings_X.columns = ['1','2','3','4']\n",
    "\n",
    "Embeddings_Y = pd.DataFrame( index=lf.ca.CellID )\n",
    "Embeddings_Y = pd.concat( [\n",
    "        pd.DataFrame(adata.obsm['X_umap'],index=adata.obs.index)[1] ,\n",
    "        pd.DataFrame(adata.obsm['X_pca'],index=adata.obs.index)[1] ,\n",
    "        dr_tsne['Y'] ,\n",
    "        dr_umap['Y']\n",
    "    ], sort=False, axis=1, join='outer' )\n",
    "Embeddings_Y.columns = ['1','2','3','4']"
   ]
  },
  {
   "cell_type": "code",
   "execution_count": null,
   "metadata": {},
   "outputs": [],
   "source": []
  }
 ],
 "metadata": {
  "kernelspec": {
   "display_name": ".venv",
   "language": "python",
   "name": "python3"
  },
  "language_info": {
   "codemirror_mode": {
    "name": "ipython",
    "version": 3
   },
   "file_extension": ".py",
   "mimetype": "text/x-python",
   "name": "python",
   "nbconvert_exporter": "python",
   "pygments_lexer": "ipython3",
   "version": "3.12.0"
  }
 },
 "nbformat": 4,
 "nbformat_minor": 2
}
