{
 "cells": [
  {
   "cell_type": "markdown",
   "metadata": {},
   "source": []
  },
  {
   "cell_type": "code",
   "execution_count": null,
   "metadata": {
    "vscode": {
     "languageId": "powershell"
    }
   },
   "outputs": [
    {
     "name": "stdout",
     "output_type": "stream",
     "text": [
      "Requirement already satisfied: scanpy in c:\\users\\crisi\\desktop\\code\\uw\\compbio\\endometrial_analysis\\.venv\\lib\\site-packages (1.10.3)\n",
      "Requirement already satisfied: scvi-tools in c:\\users\\crisi\\desktop\\code\\uw\\compbio\\endometrial_analysis\\.venv\\lib\\site-packages (1.2.0)\n",
      "Requirement already satisfied: anndata in c:\\users\\crisi\\desktop\\code\\uw\\compbio\\endometrial_analysis\\.venv\\lib\\site-packages (0.10.9)\n",
      "Requirement already satisfied: h5py>=3.1 in c:\\users\\crisi\\desktop\\code\\uw\\compbio\\endometrial_analysis\\.venv\\lib\\site-packages (from scanpy) (3.12.1)\n",
      "Requirement already satisfied: joblib in c:\\users\\crisi\\desktop\\code\\uw\\compbio\\endometrial_analysis\\.venv\\lib\\site-packages (from scanpy) (1.4.2)\n",
      "Requirement already satisfied: legacy-api-wrap>=1.4 in c:\\users\\crisi\\desktop\\code\\uw\\compbio\\endometrial_analysis\\.venv\\lib\\site-packages (from scanpy) (1.4)\n",
      "Requirement already satisfied: matplotlib>=3.6 in c:\\users\\crisi\\desktop\\code\\uw\\compbio\\endometrial_analysis\\.venv\\lib\\site-packages (from scanpy) (3.9.2)\n",
      "Requirement already satisfied: natsort in c:\\users\\crisi\\desktop\\code\\uw\\compbio\\endometrial_analysis\\.venv\\lib\\site-packages (from scanpy) (8.4.0)\n",
      "Requirement already satisfied: networkx>=2.7 in c:\\users\\crisi\\desktop\\code\\uw\\compbio\\endometrial_analysis\\.venv\\lib\\site-packages (from scanpy) (3.4.2)\n",
      "Requirement already satisfied: numba>=0.56 in c:\\users\\crisi\\desktop\\code\\uw\\compbio\\endometrial_analysis\\.venv\\lib\\site-packages (from scanpy) (0.60.0)\n",
      "Requirement already satisfied: numpy>=1.23 in c:\\users\\crisi\\desktop\\code\\uw\\compbio\\endometrial_analysis\\.venv\\lib\\site-packages (from scanpy) (1.26.4)\n",
      "Requirement already satisfied: packaging>=21.3 in c:\\users\\crisi\\desktop\\code\\uw\\compbio\\endometrial_analysis\\.venv\\lib\\site-packages (from scanpy) (24.1)\n",
      "Requirement already satisfied: pandas>=1.5 in c:\\users\\crisi\\desktop\\code\\uw\\compbio\\endometrial_analysis\\.venv\\lib\\site-packages (from scanpy) (2.2.3)\n",
      "Requirement already satisfied: patsy in c:\\users\\crisi\\desktop\\code\\uw\\compbio\\endometrial_analysis\\.venv\\lib\\site-packages (from scanpy) (0.5.6)\n",
      "Requirement already satisfied: pynndescent>=0.5 in c:\\users\\crisi\\desktop\\code\\uw\\compbio\\endometrial_analysis\\.venv\\lib\\site-packages (from scanpy) (0.5.13)\n",
      "Requirement already satisfied: scikit-learn>=0.24 in c:\\users\\crisi\\desktop\\code\\uw\\compbio\\endometrial_analysis\\.venv\\lib\\site-packages (from scanpy) (1.5.2)\n",
      "Requirement already satisfied: scipy>=1.8 in c:\\users\\crisi\\desktop\\code\\uw\\compbio\\endometrial_analysis\\.venv\\lib\\site-packages (from scanpy) (1.14.1)\n",
      "Requirement already satisfied: seaborn>=0.13 in c:\\users\\crisi\\desktop\\code\\uw\\compbio\\endometrial_analysis\\.venv\\lib\\site-packages (from scanpy) (0.13.2)\n",
      "Requirement already satisfied: session-info in c:\\users\\crisi\\desktop\\code\\uw\\compbio\\endometrial_analysis\\.venv\\lib\\site-packages (from scanpy) (1.0.0)\n",
      "Requirement already satisfied: statsmodels>=0.13 in c:\\users\\crisi\\desktop\\code\\uw\\compbio\\endometrial_analysis\\.venv\\lib\\site-packages (from scanpy) (0.14.4)\n",
      "Requirement already satisfied: tqdm in c:\\users\\crisi\\desktop\\code\\uw\\compbio\\endometrial_analysis\\.venv\\lib\\site-packages (from scanpy) (4.67.0)\n",
      "Requirement already satisfied: umap-learn!=0.5.0,>=0.5 in c:\\users\\crisi\\desktop\\code\\uw\\compbio\\endometrial_analysis\\.venv\\lib\\site-packages (from scanpy) (0.5.7)\n",
      "Requirement already satisfied: docrep>=0.3.2 in c:\\users\\crisi\\desktop\\code\\uw\\compbio\\endometrial_analysis\\.venv\\lib\\site-packages (from scvi-tools) (0.3.2)\n",
      "Requirement already satisfied: flax in c:\\users\\crisi\\desktop\\code\\uw\\compbio\\endometrial_analysis\\.venv\\lib\\site-packages (from scvi-tools) (0.10.1)\n",
      "Requirement already satisfied: jax in c:\\users\\crisi\\desktop\\code\\uw\\compbio\\endometrial_analysis\\.venv\\lib\\site-packages (from scvi-tools) (0.4.35)\n",
      "Requirement already satisfied: jaxlib in c:\\users\\crisi\\desktop\\code\\uw\\compbio\\endometrial_analysis\\.venv\\lib\\site-packages (from scvi-tools) (0.4.35)\n",
      "Requirement already satisfied: lightning>=2.0 in c:\\users\\crisi\\desktop\\code\\uw\\compbio\\endometrial_analysis\\.venv\\lib\\site-packages (from scvi-tools) (2.4.0)\n",
      "Requirement already satisfied: ml-collections>=0.1.1 in c:\\users\\crisi\\desktop\\code\\uw\\compbio\\endometrial_analysis\\.venv\\lib\\site-packages (from scvi-tools) (0.1.1)\n",
      "Requirement already satisfied: mudata>=0.1.2 in c:\\users\\crisi\\desktop\\code\\uw\\compbio\\endometrial_analysis\\.venv\\lib\\site-packages (from scvi-tools) (0.3.1)\n",
      "Requirement already satisfied: numpyro>=0.12.1 in c:\\users\\crisi\\desktop\\code\\uw\\compbio\\endometrial_analysis\\.venv\\lib\\site-packages (from scvi-tools) (0.15.3)\n",
      "Requirement already satisfied: optax in c:\\users\\crisi\\desktop\\code\\uw\\compbio\\endometrial_analysis\\.venv\\lib\\site-packages (from scvi-tools) (0.2.3)\n",
      "Requirement already satisfied: pyro-ppl>=1.6.0 in c:\\users\\crisi\\desktop\\code\\uw\\compbio\\endometrial_analysis\\.venv\\lib\\site-packages (from scvi-tools) (1.9.1)\n",
      "Requirement already satisfied: rich>=12.0.0 in c:\\users\\crisi\\desktop\\code\\uw\\compbio\\endometrial_analysis\\.venv\\lib\\site-packages (from scvi-tools) (13.9.4)\n",
      "Requirement already satisfied: sparse>=0.14.0 in c:\\users\\crisi\\desktop\\code\\uw\\compbio\\endometrial_analysis\\.venv\\lib\\site-packages (from scvi-tools) (0.15.4)\n",
      "Requirement already satisfied: tensorboard>=2.0 in c:\\users\\crisi\\desktop\\code\\uw\\compbio\\endometrial_analysis\\.venv\\lib\\site-packages (from scvi-tools) (2.18.0)\n",
      "Requirement already satisfied: torch in c:\\users\\crisi\\desktop\\code\\uw\\compbio\\endometrial_analysis\\.venv\\lib\\site-packages (from scvi-tools) (2.5.1)\n",
      "Requirement already satisfied: torchmetrics>=0.11.0 in c:\\users\\crisi\\desktop\\code\\uw\\compbio\\endometrial_analysis\\.venv\\lib\\site-packages (from scvi-tools) (1.5.1)\n",
      "Requirement already satisfied: xarray>=2023.2.0 in c:\\users\\crisi\\desktop\\code\\uw\\compbio\\endometrial_analysis\\.venv\\lib\\site-packages (from scvi-tools) (2024.10.0)\n",
      "Requirement already satisfied: array-api-compat!=1.5,>1.4 in c:\\users\\crisi\\desktop\\code\\uw\\compbio\\endometrial_analysis\\.venv\\lib\\site-packages (from anndata) (1.9.1)\n",
      "Requirement already satisfied: six in c:\\users\\crisi\\desktop\\code\\uw\\compbio\\endometrial_analysis\\.venv\\lib\\site-packages (from docrep>=0.3.2->scvi-tools) (1.16.0)\n",
      "Requirement already satisfied: PyYAML<8.0,>=5.4 in c:\\users\\crisi\\desktop\\code\\uw\\compbio\\endometrial_analysis\\.venv\\lib\\site-packages (from lightning>=2.0->scvi-tools) (6.0.2)\n",
      "Requirement already satisfied: fsspec<2026.0,>=2022.5.0 in c:\\users\\crisi\\desktop\\code\\uw\\compbio\\endometrial_analysis\\.venv\\lib\\site-packages (from fsspec[http]<2026.0,>=2022.5.0->lightning>=2.0->scvi-tools) (2024.10.0)\n",
      "Requirement already satisfied: lightning-utilities<2.0,>=0.10.0 in c:\\users\\crisi\\desktop\\code\\uw\\compbio\\endometrial_analysis\\.venv\\lib\\site-packages (from lightning>=2.0->scvi-tools) (0.11.8)\n",
      "Requirement already satisfied: typing-extensions<6.0,>=4.4.0 in c:\\users\\crisi\\desktop\\code\\uw\\compbio\\endometrial_analysis\\.venv\\lib\\site-packages (from lightning>=2.0->scvi-tools) (4.12.2)\n",
      "Requirement already satisfied: pytorch-lightning in c:\\users\\crisi\\desktop\\code\\uw\\compbio\\endometrial_analysis\\.venv\\lib\\site-packages (from lightning>=2.0->scvi-tools) (2.4.0)\n",
      "Requirement already satisfied: contourpy>=1.0.1 in c:\\users\\crisi\\desktop\\code\\uw\\compbio\\endometrial_analysis\\.venv\\lib\\site-packages (from matplotlib>=3.6->scanpy) (1.3.0)\n",
      "Requirement already satisfied: cycler>=0.10 in c:\\users\\crisi\\desktop\\code\\uw\\compbio\\endometrial_analysis\\.venv\\lib\\site-packages (from matplotlib>=3.6->scanpy) (0.12.1)\n",
      "Requirement already satisfied: fonttools>=4.22.0 in c:\\users\\crisi\\desktop\\code\\uw\\compbio\\endometrial_analysis\\.venv\\lib\\site-packages (from matplotlib>=3.6->scanpy) (4.54.1)\n",
      "Requirement already satisfied: kiwisolver>=1.3.1 in c:\\users\\crisi\\desktop\\code\\uw\\compbio\\endometrial_analysis\\.venv\\lib\\site-packages (from matplotlib>=3.6->scanpy) (1.4.7)\n",
      "Requirement already satisfied: pillow>=8 in c:\\users\\crisi\\desktop\\code\\uw\\compbio\\endometrial_analysis\\.venv\\lib\\site-packages (from matplotlib>=3.6->scanpy) (11.0.0)\n",
      "Requirement already satisfied: pyparsing>=2.3.1 in c:\\users\\crisi\\desktop\\code\\uw\\compbio\\endometrial_analysis\\.venv\\lib\\site-packages (from matplotlib>=3.6->scanpy) (3.2.0)\n",
      "Requirement already satisfied: python-dateutil>=2.7 in c:\\users\\crisi\\desktop\\code\\uw\\compbio\\endometrial_analysis\\.venv\\lib\\site-packages (from matplotlib>=3.6->scanpy) (2.9.0.post0)\n",
      "Requirement already satisfied: absl-py in c:\\users\\crisi\\desktop\\code\\uw\\compbio\\endometrial_analysis\\.venv\\lib\\site-packages (from ml-collections>=0.1.1->scvi-tools) (2.1.0)\n",
      "Requirement already satisfied: contextlib2 in c:\\users\\crisi\\desktop\\code\\uw\\compbio\\endometrial_analysis\\.venv\\lib\\site-packages (from ml-collections>=0.1.1->scvi-tools) (21.6.0)\n",
      "Requirement already satisfied: llvmlite<0.44,>=0.43.0dev0 in c:\\users\\crisi\\desktop\\code\\uw\\compbio\\endometrial_analysis\\.venv\\lib\\site-packages (from numba>=0.56->scanpy) (0.43.0)\n",
      "Requirement already satisfied: multipledispatch in c:\\users\\crisi\\desktop\\code\\uw\\compbio\\endometrial_analysis\\.venv\\lib\\site-packages (from numpyro>=0.12.1->scvi-tools) (1.0.0)\n",
      "Requirement already satisfied: ml-dtypes>=0.4.0 in c:\\users\\crisi\\desktop\\code\\uw\\compbio\\endometrial_analysis\\.venv\\lib\\site-packages (from jax->scvi-tools) (0.5.0)\n",
      "Requirement already satisfied: opt-einsum in c:\\users\\crisi\\desktop\\code\\uw\\compbio\\endometrial_analysis\\.venv\\lib\\site-packages (from jax->scvi-tools) (3.4.0)\n",
      "Requirement already satisfied: pytz>=2020.1 in c:\\users\\crisi\\desktop\\code\\uw\\compbio\\endometrial_analysis\\.venv\\lib\\site-packages (from pandas>=1.5->scanpy) (2024.2)\n",
      "Requirement already satisfied: tzdata>=2022.7 in c:\\users\\crisi\\desktop\\code\\uw\\compbio\\endometrial_analysis\\.venv\\lib\\site-packages (from pandas>=1.5->scanpy) (2024.2)\n",
      "Requirement already satisfied: pyro-api>=0.1.1 in c:\\users\\crisi\\desktop\\code\\uw\\compbio\\endometrial_analysis\\.venv\\lib\\site-packages (from pyro-ppl>=1.6.0->scvi-tools) (0.1.2)\n",
      "Requirement already satisfied: markdown-it-py>=2.2.0 in c:\\users\\crisi\\desktop\\code\\uw\\compbio\\endometrial_analysis\\.venv\\lib\\site-packages (from rich>=12.0.0->scvi-tools) (3.0.0)\n",
      "Requirement already satisfied: pygments<3.0.0,>=2.13.0 in c:\\users\\crisi\\desktop\\code\\uw\\compbio\\endometrial_analysis\\.venv\\lib\\site-packages (from rich>=12.0.0->scvi-tools) (2.18.0)\n",
      "Requirement already satisfied: threadpoolctl>=3.1.0 in c:\\users\\crisi\\desktop\\code\\uw\\compbio\\endometrial_analysis\\.venv\\lib\\site-packages (from scikit-learn>=0.24->scanpy) (3.5.0)\n",
      "Requirement already satisfied: grpcio>=1.48.2 in c:\\users\\crisi\\desktop\\code\\uw\\compbio\\endometrial_analysis\\.venv\\lib\\site-packages (from tensorboard>=2.0->scvi-tools) (1.67.1)\n",
      "Requirement already satisfied: markdown>=2.6.8 in c:\\users\\crisi\\desktop\\code\\uw\\compbio\\endometrial_analysis\\.venv\\lib\\site-packages (from tensorboard>=2.0->scvi-tools) (3.7)\n",
      "Requirement already satisfied: protobuf!=4.24.0,>=3.19.6 in c:\\users\\crisi\\desktop\\code\\uw\\compbio\\endometrial_analysis\\.venv\\lib\\site-packages (from tensorboard>=2.0->scvi-tools) (5.28.3)\n",
      "Requirement already satisfied: setuptools>=41.0.0 in c:\\users\\crisi\\desktop\\code\\uw\\compbio\\endometrial_analysis\\.venv\\lib\\site-packages (from tensorboard>=2.0->scvi-tools) (75.3.0)\n",
      "Requirement already satisfied: tensorboard-data-server<0.8.0,>=0.7.0 in c:\\users\\crisi\\desktop\\code\\uw\\compbio\\endometrial_analysis\\.venv\\lib\\site-packages (from tensorboard>=2.0->scvi-tools) (0.7.2)\n",
      "Requirement already satisfied: werkzeug>=1.0.1 in c:\\users\\crisi\\desktop\\code\\uw\\compbio\\endometrial_analysis\\.venv\\lib\\site-packages (from tensorboard>=2.0->scvi-tools) (3.1.2)\n",
      "Requirement already satisfied: filelock in c:\\users\\crisi\\desktop\\code\\uw\\compbio\\endometrial_analysis\\.venv\\lib\\site-packages (from torch->scvi-tools) (3.16.1)\n",
      "Requirement already satisfied: jinja2 in c:\\users\\crisi\\desktop\\code\\uw\\compbio\\endometrial_analysis\\.venv\\lib\\site-packages (from torch->scvi-tools) (3.1.4)\n",
      "Requirement already satisfied: sympy==1.13.1 in c:\\users\\crisi\\desktop\\code\\uw\\compbio\\endometrial_analysis\\.venv\\lib\\site-packages (from torch->scvi-tools) (1.13.1)\n",
      "Requirement already satisfied: mpmath<1.4,>=1.1.0 in c:\\users\\crisi\\desktop\\code\\uw\\compbio\\endometrial_analysis\\.venv\\lib\\site-packages (from sympy==1.13.1->torch->scvi-tools) (1.3.0)\n",
      "Requirement already satisfied: colorama in c:\\users\\crisi\\desktop\\code\\uw\\compbio\\endometrial_analysis\\.venv\\lib\\site-packages (from tqdm->scanpy) (0.4.6)\n",
      "Requirement already satisfied: msgpack in c:\\users\\crisi\\desktop\\code\\uw\\compbio\\endometrial_analysis\\.venv\\lib\\site-packages (from flax->scvi-tools) (1.1.0)\n",
      "Requirement already satisfied: orbax-checkpoint in c:\\users\\crisi\\desktop\\code\\uw\\compbio\\endometrial_analysis\\.venv\\lib\\site-packages (from flax->scvi-tools) (0.8.0)\n",
      "Requirement already satisfied: tensorstore in c:\\users\\crisi\\desktop\\code\\uw\\compbio\\endometrial_analysis\\.venv\\lib\\site-packages (from flax->scvi-tools) (0.1.67)\n",
      "Requirement already satisfied: chex>=0.1.86 in c:\\users\\crisi\\desktop\\code\\uw\\compbio\\endometrial_analysis\\.venv\\lib\\site-packages (from optax->scvi-tools) (0.1.87)\n",
      "Requirement already satisfied: etils[epy] in c:\\users\\crisi\\desktop\\code\\uw\\compbio\\endometrial_analysis\\.venv\\lib\\site-packages (from optax->scvi-tools) (1.10.0)\n",
      "Requirement already satisfied: stdlib-list in c:\\users\\crisi\\desktop\\code\\uw\\compbio\\endometrial_analysis\\.venv\\lib\\site-packages (from session-info->scanpy) (0.11.0)\n",
      "Requirement already satisfied: toolz>=0.9.0 in c:\\users\\crisi\\desktop\\code\\uw\\compbio\\endometrial_analysis\\.venv\\lib\\site-packages (from chex>=0.1.86->optax->scvi-tools) (1.0.0)\n",
      "Requirement already satisfied: aiohttp!=4.0.0a0,!=4.0.0a1 in c:\\users\\crisi\\desktop\\code\\uw\\compbio\\endometrial_analysis\\.venv\\lib\\site-packages (from fsspec[http]<2026.0,>=2022.5.0->lightning>=2.0->scvi-tools) (3.10.10)\n",
      "Requirement already satisfied: mdurl~=0.1 in c:\\users\\crisi\\desktop\\code\\uw\\compbio\\endometrial_analysis\\.venv\\lib\\site-packages (from markdown-it-py>=2.2.0->rich>=12.0.0->scvi-tools) (0.1.2)\n",
      "Requirement already satisfied: MarkupSafe>=2.1.1 in c:\\users\\crisi\\desktop\\code\\uw\\compbio\\endometrial_analysis\\.venv\\lib\\site-packages (from werkzeug>=1.0.1->tensorboard>=2.0->scvi-tools) (3.0.2)\n",
      "Requirement already satisfied: nest_asyncio in c:\\users\\crisi\\desktop\\code\\uw\\compbio\\endometrial_analysis\\.venv\\lib\\site-packages (from orbax-checkpoint->flax->scvi-tools) (1.6.0)\n",
      "Requirement already satisfied: humanize in c:\\users\\crisi\\desktop\\code\\uw\\compbio\\endometrial_analysis\\.venv\\lib\\site-packages (from orbax-checkpoint->flax->scvi-tools) (4.11.0)\n",
      "Requirement already satisfied: aiohappyeyeballs>=2.3.0 in c:\\users\\crisi\\desktop\\code\\uw\\compbio\\endometrial_analysis\\.venv\\lib\\site-packages (from aiohttp!=4.0.0a0,!=4.0.0a1->fsspec[http]<2026.0,>=2022.5.0->lightning>=2.0->scvi-tools) (2.4.3)\n",
      "Requirement already satisfied: aiosignal>=1.1.2 in c:\\users\\crisi\\desktop\\code\\uw\\compbio\\endometrial_analysis\\.venv\\lib\\site-packages (from aiohttp!=4.0.0a0,!=4.0.0a1->fsspec[http]<2026.0,>=2022.5.0->lightning>=2.0->scvi-tools) (1.3.1)\n",
      "Requirement already satisfied: attrs>=17.3.0 in c:\\users\\crisi\\desktop\\code\\uw\\compbio\\endometrial_analysis\\.venv\\lib\\site-packages (from aiohttp!=4.0.0a0,!=4.0.0a1->fsspec[http]<2026.0,>=2022.5.0->lightning>=2.0->scvi-tools) (24.2.0)\n",
      "Requirement already satisfied: frozenlist>=1.1.1 in c:\\users\\crisi\\desktop\\code\\uw\\compbio\\endometrial_analysis\\.venv\\lib\\site-packages (from aiohttp!=4.0.0a0,!=4.0.0a1->fsspec[http]<2026.0,>=2022.5.0->lightning>=2.0->scvi-tools) (1.5.0)\n",
      "Requirement already satisfied: multidict<7.0,>=4.5 in c:\\users\\crisi\\desktop\\code\\uw\\compbio\\endometrial_analysis\\.venv\\lib\\site-packages (from aiohttp!=4.0.0a0,!=4.0.0a1->fsspec[http]<2026.0,>=2022.5.0->lightning>=2.0->scvi-tools) (6.1.0)\n",
      "Requirement already satisfied: yarl<2.0,>=1.12.0 in c:\\users\\crisi\\desktop\\code\\uw\\compbio\\endometrial_analysis\\.venv\\lib\\site-packages (from aiohttp!=4.0.0a0,!=4.0.0a1->fsspec[http]<2026.0,>=2022.5.0->lightning>=2.0->scvi-tools) (1.17.1)\n",
      "Requirement already satisfied: importlib_resources in c:\\users\\crisi\\desktop\\code\\uw\\compbio\\endometrial_analysis\\.venv\\lib\\site-packages (from etils[epy]->optax->scvi-tools) (6.4.5)\n",
      "Requirement already satisfied: zipp in c:\\users\\crisi\\desktop\\code\\uw\\compbio\\endometrial_analysis\\.venv\\lib\\site-packages (from etils[epy]->optax->scvi-tools) (3.20.2)\n",
      "Requirement already satisfied: idna>=2.0 in c:\\users\\crisi\\desktop\\code\\uw\\compbio\\endometrial_analysis\\.venv\\lib\\site-packages (from yarl<2.0,>=1.12.0->aiohttp!=4.0.0a0,!=4.0.0a1->fsspec[http]<2026.0,>=2022.5.0->lightning>=2.0->scvi-tools) (3.10)\n",
      "Requirement already satisfied: propcache>=0.2.0 in c:\\users\\crisi\\desktop\\code\\uw\\compbio\\endometrial_analysis\\.venv\\lib\\site-packages (from yarl<2.0,>=1.12.0->aiohttp!=4.0.0a0,!=4.0.0a1->fsspec[http]<2026.0,>=2022.5.0->lightning>=2.0->scvi-tools) (0.2.0)\n",
      "Note: you may need to restart the kernel to use updated packages.\n",
      "Note: you may need to restart the kernel to use updated packages.\n",
      "Requirement already satisfied: seaborn in c:\\users\\crisi\\desktop\\code\\uw\\compbio\\endometrial_analysis\\.venv\\lib\\site-packages (0.13.2)\n",
      "Requirement already satisfied: numpy!=1.24.0,>=1.20 in c:\\users\\crisi\\desktop\\code\\uw\\compbio\\endometrial_analysis\\.venv\\lib\\site-packages (from seaborn) (1.26.4)\n",
      "Requirement already satisfied: pandas>=1.2 in c:\\users\\crisi\\desktop\\code\\uw\\compbio\\endometrial_analysis\\.venv\\lib\\site-packages (from seaborn) (2.2.3)\n",
      "Requirement already satisfied: matplotlib!=3.6.1,>=3.4 in c:\\users\\crisi\\desktop\\code\\uw\\compbio\\endometrial_analysis\\.venv\\lib\\site-packages (from seaborn) (3.9.2)\n",
      "Requirement already satisfied: contourpy>=1.0.1 in c:\\users\\crisi\\desktop\\code\\uw\\compbio\\endometrial_analysis\\.venv\\lib\\site-packages (from matplotlib!=3.6.1,>=3.4->seaborn) (1.3.0)\n",
      "Requirement already satisfied: cycler>=0.10 in c:\\users\\crisi\\desktop\\code\\uw\\compbio\\endometrial_analysis\\.venv\\lib\\site-packages (from matplotlib!=3.6.1,>=3.4->seaborn) (0.12.1)\n",
      "Requirement already satisfied: fonttools>=4.22.0 in c:\\users\\crisi\\desktop\\code\\uw\\compbio\\endometrial_analysis\\.venv\\lib\\site-packages (from matplotlib!=3.6.1,>=3.4->seaborn) (4.54.1)\n",
      "Requirement already satisfied: kiwisolver>=1.3.1 in c:\\users\\crisi\\desktop\\code\\uw\\compbio\\endometrial_analysis\\.venv\\lib\\site-packages (from matplotlib!=3.6.1,>=3.4->seaborn) (1.4.7)\n",
      "Requirement already satisfied: packaging>=20.0 in c:\\users\\crisi\\desktop\\code\\uw\\compbio\\endometrial_analysis\\.venv\\lib\\site-packages (from matplotlib!=3.6.1,>=3.4->seaborn) (24.1)\n",
      "Requirement already satisfied: pillow>=8 in c:\\users\\crisi\\desktop\\code\\uw\\compbio\\endometrial_analysis\\.venv\\lib\\site-packages (from matplotlib!=3.6.1,>=3.4->seaborn) (11.0.0)\n",
      "Requirement already satisfied: pyparsing>=2.3.1 in c:\\users\\crisi\\desktop\\code\\uw\\compbio\\endometrial_analysis\\.venv\\lib\\site-packages (from matplotlib!=3.6.1,>=3.4->seaborn) (3.2.0)\n",
      "Requirement already satisfied: python-dateutil>=2.7 in c:\\users\\crisi\\desktop\\code\\uw\\compbio\\endometrial_analysis\\.venv\\lib\\site-packages (from matplotlib!=3.6.1,>=3.4->seaborn) (2.9.0.post0)\n",
      "Requirement already satisfied: pytz>=2020.1 in c:\\users\\crisi\\desktop\\code\\uw\\compbio\\endometrial_analysis\\.venv\\lib\\site-packages (from pandas>=1.2->seaborn) (2024.2)\n",
      "Requirement already satisfied: tzdata>=2022.7 in c:\\users\\crisi\\desktop\\code\\uw\\compbio\\endometrial_analysis\\.venv\\lib\\site-packages (from pandas>=1.2->seaborn) (2024.2)\n",
      "Requirement already satisfied: six>=1.5 in c:\\users\\crisi\\desktop\\code\\uw\\compbio\\endometrial_analysis\\.venv\\lib\\site-packages (from python-dateutil>=2.7->matplotlib!=3.6.1,>=3.4->seaborn) (1.16.0)\n",
      "Note: you may need to restart the kernel to use updated packages.\n",
      "Note: you may need to restart the kernel to use updated packages.\n",
      "Requirement already satisfied: pandas in c:\\users\\crisi\\desktop\\code\\uw\\compbio\\endometrial_analysis\\.venv\\lib\\site-packages (2.2.3)\n",
      "Requirement already satisfied: numpy>=1.26.0 in c:\\users\\crisi\\desktop\\code\\uw\\compbio\\endometrial_analysis\\.venv\\lib\\site-packages (from pandas) (1.26.4)\n",
      "Requirement already satisfied: python-dateutil>=2.8.2 in c:\\users\\crisi\\desktop\\code\\uw\\compbio\\endometrial_analysis\\.venv\\lib\\site-packages (from pandas) (2.9.0.post0)\n",
      "Requirement already satisfied: pytz>=2020.1 in c:\\users\\crisi\\desktop\\code\\uw\\compbio\\endometrial_analysis\\.venv\\lib\\site-packages (from pandas) (2024.2)\n",
      "Requirement already satisfied: tzdata>=2022.7 in c:\\users\\crisi\\desktop\\code\\uw\\compbio\\endometrial_analysis\\.venv\\lib\\site-packages (from pandas) (2024.2)\n",
      "Requirement already satisfied: six>=1.5 in c:\\users\\crisi\\desktop\\code\\uw\\compbio\\endometrial_analysis\\.venv\\lib\\site-packages (from python-dateutil>=2.8.2->pandas) (1.16.0)\n",
      "Note: you may need to restart the kernel to use updated packages.\n",
      "Requirement already satisfied: pyscenic in c:\\users\\crisi\\desktop\\code\\uw\\compbio\\endometrial_analysis\\.venv\\lib\\site-packages (0.12.1)\n",
      "Requirement already satisfied: ctxcore>=0.2.0 in c:\\users\\crisi\\desktop\\code\\uw\\compbio\\endometrial_analysis\\.venv\\lib\\site-packages (from pyscenic) (0.2.0)\n",
      "Requirement already satisfied: cytoolz in c:\\users\\crisi\\desktop\\code\\uw\\compbio\\endometrial_analysis\\.venv\\lib\\site-packages (from pyscenic) (1.0.0)\n",
      "Requirement already satisfied: multiprocessing-on-dill in c:\\users\\crisi\\desktop\\code\\uw\\compbio\\endometrial_analysis\\.venv\\lib\\site-packages (from pyscenic) (3.5.0a4)\n",
      "Requirement already satisfied: llvmlite in c:\\users\\crisi\\desktop\\code\\uw\\compbio\\endometrial_analysis\\.venv\\lib\\site-packages (from pyscenic) (0.43.0)\n",
      "Requirement already satisfied: numba>=0.51.2 in c:\\users\\crisi\\desktop\\code\\uw\\compbio\\endometrial_analysis\\.venv\\lib\\site-packages (from pyscenic) (0.60.0)\n",
      "Requirement already satisfied: attrs in c:\\users\\crisi\\desktop\\code\\uw\\compbio\\endometrial_analysis\\.venv\\lib\\site-packages (from pyscenic) (24.2.0)\n",
      "Requirement already satisfied: frozendict in c:\\users\\crisi\\desktop\\code\\uw\\compbio\\endometrial_analysis\\.venv\\lib\\site-packages (from pyscenic) (2.4.6)\n",
      "Requirement already satisfied: numpy in c:\\users\\crisi\\desktop\\code\\uw\\compbio\\endometrial_analysis\\.venv\\lib\\site-packages (from pyscenic) (1.26.4)\n",
      "Requirement already satisfied: pandas>=1.3.5 in c:\\users\\crisi\\desktop\\code\\uw\\compbio\\endometrial_analysis\\.venv\\lib\\site-packages (from pyscenic) (2.2.3)\n",
      "Requirement already satisfied: numexpr in c:\\users\\crisi\\desktop\\code\\uw\\compbio\\endometrial_analysis\\.venv\\lib\\site-packages (from pyscenic) (2.10.1)\n",
      "Requirement already satisfied: cloudpickle in c:\\users\\crisi\\desktop\\code\\uw\\compbio\\endometrial_analysis\\.venv\\lib\\site-packages (from pyscenic) (3.1.0)\n",
      "Requirement already satisfied: dask in c:\\users\\crisi\\desktop\\code\\uw\\compbio\\endometrial_analysis\\.venv\\lib\\site-packages (from pyscenic) (2024.10.0)\n",
      "Requirement already satisfied: distributed in c:\\users\\crisi\\desktop\\code\\uw\\compbio\\endometrial_analysis\\.venv\\lib\\site-packages (from pyscenic) (2024.10.0)\n",
      "Requirement already satisfied: arboreto>=0.1.6 in c:\\users\\crisi\\desktop\\code\\uw\\compbio\\endometrial_analysis\\.venv\\lib\\site-packages (from pyscenic) (0.1.6)\n",
      "Requirement already satisfied: boltons in c:\\users\\crisi\\desktop\\code\\uw\\compbio\\endometrial_analysis\\.venv\\lib\\site-packages (from pyscenic) (24.1.0)\n",
      "Requirement already satisfied: setuptools in c:\\users\\crisi\\desktop\\code\\uw\\compbio\\endometrial_analysis\\.venv\\lib\\site-packages (from pyscenic) (75.3.0)\n",
      "Requirement already satisfied: pyyaml in c:\\users\\crisi\\desktop\\code\\uw\\compbio\\endometrial_analysis\\.venv\\lib\\site-packages (from pyscenic) (6.0.2)\n",
      "Requirement already satisfied: tqdm in c:\\users\\crisi\\desktop\\code\\uw\\compbio\\endometrial_analysis\\.venv\\lib\\site-packages (from pyscenic) (4.67.0)\n",
      "Requirement already satisfied: interlap in c:\\users\\crisi\\desktop\\code\\uw\\compbio\\endometrial_analysis\\.venv\\lib\\site-packages (from pyscenic) (0.2.7)\n",
      "Requirement already satisfied: umap-learn in c:\\users\\crisi\\desktop\\code\\uw\\compbio\\endometrial_analysis\\.venv\\lib\\site-packages (from pyscenic) (0.5.7)\n",
      "Requirement already satisfied: loompy in c:\\users\\crisi\\desktop\\code\\uw\\compbio\\endometrial_analysis\\.venv\\lib\\site-packages (from pyscenic) (3.0.7)\n",
      "Requirement already satisfied: networkx in c:\\users\\crisi\\desktop\\code\\uw\\compbio\\endometrial_analysis\\.venv\\lib\\site-packages (from pyscenic) (3.4.2)\n",
      "Requirement already satisfied: scipy in c:\\users\\crisi\\desktop\\code\\uw\\compbio\\endometrial_analysis\\.venv\\lib\\site-packages (from pyscenic) (1.14.1)\n",
      "Requirement already satisfied: fsspec in c:\\users\\crisi\\desktop\\code\\uw\\compbio\\endometrial_analysis\\.venv\\lib\\site-packages (from pyscenic) (2024.10.0)\n",
      "Requirement already satisfied: requests in c:\\users\\crisi\\desktop\\code\\uw\\compbio\\endometrial_analysis\\.venv\\lib\\site-packages (from pyscenic) (2.32.3)\n",
      "Requirement already satisfied: aiohttp in c:\\users\\crisi\\desktop\\code\\uw\\compbio\\endometrial_analysis\\.venv\\lib\\site-packages (from pyscenic) (3.10.10)\n",
      "Requirement already satisfied: scikit-learn>=0.22.2 in c:\\users\\crisi\\desktop\\code\\uw\\compbio\\endometrial_analysis\\.venv\\lib\\site-packages (from pyscenic) (1.5.2)\n",
      "Requirement already satisfied: pyarrow>=8.0.0 in c:\\users\\crisi\\desktop\\code\\uw\\compbio\\endometrial_analysis\\.venv\\lib\\site-packages (from ctxcore>=0.2.0->pyscenic) (18.0.0)\n",
      "Requirement already satisfied: python-dateutil>=2.8.2 in c:\\users\\crisi\\desktop\\code\\uw\\compbio\\endometrial_analysis\\.venv\\lib\\site-packages (from pandas>=1.3.5->pyscenic) (2.9.0.post0)\n",
      "Requirement already satisfied: pytz>=2020.1 in c:\\users\\crisi\\desktop\\code\\uw\\compbio\\endometrial_analysis\\.venv\\lib\\site-packages (from pandas>=1.3.5->pyscenic) (2024.2)\n",
      "Requirement already satisfied: tzdata>=2022.7 in c:\\users\\crisi\\desktop\\code\\uw\\compbio\\endometrial_analysis\\.venv\\lib\\site-packages (from pandas>=1.3.5->pyscenic) (2024.2)\n",
      "Requirement already satisfied: joblib>=1.2.0 in c:\\users\\crisi\\desktop\\code\\uw\\compbio\\endometrial_analysis\\.venv\\lib\\site-packages (from scikit-learn>=0.22.2->pyscenic) (1.4.2)\n",
      "Requirement already satisfied: threadpoolctl>=3.1.0 in c:\\users\\crisi\\desktop\\code\\uw\\compbio\\endometrial_analysis\\.venv\\lib\\site-packages (from scikit-learn>=0.22.2->pyscenic) (3.5.0)\n",
      "Requirement already satisfied: aiohappyeyeballs>=2.3.0 in c:\\users\\crisi\\desktop\\code\\uw\\compbio\\endometrial_analysis\\.venv\\lib\\site-packages (from aiohttp->pyscenic) (2.4.3)\n",
      "Requirement already satisfied: aiosignal>=1.1.2 in c:\\users\\crisi\\desktop\\code\\uw\\compbio\\endometrial_analysis\\.venv\\lib\\site-packages (from aiohttp->pyscenic) (1.3.1)\n",
      "Requirement already satisfied: frozenlist>=1.1.1 in c:\\users\\crisi\\desktop\\code\\uw\\compbio\\endometrial_analysis\\.venv\\lib\\site-packages (from aiohttp->pyscenic) (1.5.0)\n",
      "Requirement already satisfied: multidict<7.0,>=4.5 in c:\\users\\crisi\\desktop\\code\\uw\\compbio\\endometrial_analysis\\.venv\\lib\\site-packages (from aiohttp->pyscenic) (6.1.0)\n",
      "Requirement already satisfied: yarl<2.0,>=1.12.0 in c:\\users\\crisi\\desktop\\code\\uw\\compbio\\endometrial_analysis\\.venv\\lib\\site-packages (from aiohttp->pyscenic) (1.17.1)\n",
      "Requirement already satisfied: toolz>=0.8.0 in c:\\users\\crisi\\desktop\\code\\uw\\compbio\\endometrial_analysis\\.venv\\lib\\site-packages (from cytoolz->pyscenic) (1.0.0)\n",
      "Requirement already satisfied: click>=8.1 in c:\\users\\crisi\\desktop\\code\\uw\\compbio\\endometrial_analysis\\.venv\\lib\\site-packages (from dask->pyscenic) (8.1.7)\n",
      "Requirement already satisfied: packaging>=20.0 in c:\\users\\crisi\\desktop\\code\\uw\\compbio\\endometrial_analysis\\.venv\\lib\\site-packages (from dask->pyscenic) (24.1)\n",
      "Requirement already satisfied: partd>=1.4.0 in c:\\users\\crisi\\desktop\\code\\uw\\compbio\\endometrial_analysis\\.venv\\lib\\site-packages (from dask->pyscenic) (1.4.2)\n",
      "Requirement already satisfied: jinja2>=2.10.3 in c:\\users\\crisi\\desktop\\code\\uw\\compbio\\endometrial_analysis\\.venv\\lib\\site-packages (from distributed->pyscenic) (3.1.4)\n",
      "Requirement already satisfied: locket>=1.0.0 in c:\\users\\crisi\\desktop\\code\\uw\\compbio\\endometrial_analysis\\.venv\\lib\\site-packages (from distributed->pyscenic) (1.0.0)\n",
      "Requirement already satisfied: msgpack>=1.0.2 in c:\\users\\crisi\\desktop\\code\\uw\\compbio\\endometrial_analysis\\.venv\\lib\\site-packages (from distributed->pyscenic) (1.1.0)\n",
      "Requirement already satisfied: psutil>=5.8.0 in c:\\users\\crisi\\desktop\\code\\uw\\compbio\\endometrial_analysis\\.venv\\lib\\site-packages (from distributed->pyscenic) (6.1.0)\n",
      "Requirement already satisfied: sortedcontainers>=2.0.5 in c:\\users\\crisi\\desktop\\code\\uw\\compbio\\endometrial_analysis\\.venv\\lib\\site-packages (from distributed->pyscenic) (2.4.0)\n",
      "Requirement already satisfied: tblib>=1.6.0 in c:\\users\\crisi\\desktop\\code\\uw\\compbio\\endometrial_analysis\\.venv\\lib\\site-packages (from distributed->pyscenic) (3.0.0)\n",
      "Requirement already satisfied: tornado>=6.2.0 in c:\\users\\crisi\\desktop\\code\\uw\\compbio\\endometrial_analysis\\.venv\\lib\\site-packages (from distributed->pyscenic) (6.4.1)\n",
      "Requirement already satisfied: urllib3>=1.26.5 in c:\\users\\crisi\\desktop\\code\\uw\\compbio\\endometrial_analysis\\.venv\\lib\\site-packages (from distributed->pyscenic) (1.26.20)\n",
      "Requirement already satisfied: zict>=3.0.0 in c:\\users\\crisi\\desktop\\code\\uw\\compbio\\endometrial_analysis\\.venv\\lib\\site-packages (from distributed->pyscenic) (3.0.0)\n",
      "Requirement already satisfied: h5py in c:\\users\\crisi\\desktop\\code\\uw\\compbio\\endometrial_analysis\\.venv\\lib\\site-packages (from loompy->pyscenic) (3.12.1)\n",
      "Requirement already satisfied: numpy-groupies in c:\\users\\crisi\\desktop\\code\\uw\\compbio\\endometrial_analysis\\.venv\\lib\\site-packages (from loompy->pyscenic) (0.11.2)\n",
      "Requirement already satisfied: dill in c:\\users\\crisi\\desktop\\code\\uw\\compbio\\endometrial_analysis\\.venv\\lib\\site-packages (from multiprocessing-on-dill->pyscenic) (0.3.9)\n",
      "Requirement already satisfied: charset-normalizer<4,>=2 in c:\\users\\crisi\\desktop\\code\\uw\\compbio\\endometrial_analysis\\.venv\\lib\\site-packages (from requests->pyscenic) (3.4.0)\n",
      "Requirement already satisfied: idna<4,>=2.5 in c:\\users\\crisi\\desktop\\code\\uw\\compbio\\endometrial_analysis\\.venv\\lib\\site-packages (from requests->pyscenic) (3.10)\n",
      "Requirement already satisfied: certifi>=2017.4.17 in c:\\users\\crisi\\desktop\\code\\uw\\compbio\\endometrial_analysis\\.venv\\lib\\site-packages (from requests->pyscenic) (2024.8.30)\n",
      "Requirement already satisfied: colorama in c:\\users\\crisi\\desktop\\code\\uw\\compbio\\endometrial_analysis\\.venv\\lib\\site-packages (from tqdm->pyscenic) (0.4.6)\n",
      "Requirement already satisfied: pynndescent>=0.5 in c:\\users\\crisi\\desktop\\code\\uw\\compbio\\endometrial_analysis\\.venv\\lib\\site-packages (from umap-learn->pyscenic) (0.5.13)\n",
      "Requirement already satisfied: MarkupSafe>=2.0 in c:\\users\\crisi\\desktop\\code\\uw\\compbio\\endometrial_analysis\\.venv\\lib\\site-packages (from jinja2>=2.10.3->distributed->pyscenic) (3.0.2)\n",
      "Requirement already satisfied: six>=1.5 in c:\\users\\crisi\\desktop\\code\\uw\\compbio\\endometrial_analysis\\.venv\\lib\\site-packages (from python-dateutil>=2.8.2->pandas>=1.3.5->pyscenic) (1.16.0)\n",
      "Requirement already satisfied: propcache>=0.2.0 in c:\\users\\crisi\\desktop\\code\\uw\\compbio\\endometrial_analysis\\.venv\\lib\\site-packages (from yarl<2.0,>=1.12.0->aiohttp->pyscenic) (0.2.0)\n",
      "Requirement already satisfied: lz4>=4.3.2 in c:\\users\\crisi\\desktop\\code\\uw\\compbio\\endometrial_analysis\\.venv\\lib\\site-packages (from dask[complete]->arboreto>=0.1.6->pyscenic) (4.3.3)\n",
      "Requirement already satisfied: dask-expr<1.2,>=1.1 in c:\\users\\crisi\\desktop\\code\\uw\\compbio\\endometrial_analysis\\.venv\\lib\\site-packages (from dask->pyscenic) (1.1.16)\n",
      "Requirement already satisfied: bokeh>=3.1.0 in c:\\users\\crisi\\desktop\\code\\uw\\compbio\\endometrial_analysis\\.venv\\lib\\site-packages (from dask->pyscenic) (3.6.1)\n",
      "Requirement already satisfied: contourpy>=1.2 in c:\\users\\crisi\\desktop\\code\\uw\\compbio\\endometrial_analysis\\.venv\\lib\\site-packages (from bokeh>=3.1.0->dask->pyscenic) (1.3.0)\n",
      "Requirement already satisfied: pillow>=7.1.0 in c:\\users\\crisi\\desktop\\code\\uw\\compbio\\endometrial_analysis\\.venv\\lib\\site-packages (from bokeh>=3.1.0->dask->pyscenic) (11.0.0)\n",
      "Requirement already satisfied: xyzservices>=2021.09.1 in c:\\users\\crisi\\desktop\\code\\uw\\compbio\\endometrial_analysis\\.venv\\lib\\site-packages (from bokeh>=3.1.0->dask->pyscenic) (2024.9.0)\n",
      "Note: you may need to restart the kernel to use updated packages.\n",
      "Requirement already satisfied: ipywidgets in c:\\users\\crisi\\desktop\\code\\uw\\compbio\\endometrial_analysis\\.venv\\lib\\site-packages (8.1.5)\n",
      "Requirement already satisfied: comm>=0.1.3 in c:\\users\\crisi\\desktop\\code\\uw\\compbio\\endometrial_analysis\\.venv\\lib\\site-packages (from ipywidgets) (0.2.2)\n",
      "Requirement already satisfied: ipython>=6.1.0 in c:\\users\\crisi\\desktop\\code\\uw\\compbio\\endometrial_analysis\\.venv\\lib\\site-packages (from ipywidgets) (8.29.0)\n",
      "Requirement already satisfied: traitlets>=4.3.1 in c:\\users\\crisi\\desktop\\code\\uw\\compbio\\endometrial_analysis\\.venv\\lib\\site-packages (from ipywidgets) (5.14.3)\n",
      "Requirement already satisfied: widgetsnbextension~=4.0.12 in c:\\users\\crisi\\desktop\\code\\uw\\compbio\\endometrial_analysis\\.venv\\lib\\site-packages (from ipywidgets) (4.0.13)\n",
      "Requirement already satisfied: jupyterlab-widgets~=3.0.12 in c:\\users\\crisi\\desktop\\code\\uw\\compbio\\endometrial_analysis\\.venv\\lib\\site-packages (from ipywidgets) (3.0.13)\n",
      "Requirement already satisfied: decorator in c:\\users\\crisi\\desktop\\code\\uw\\compbio\\endometrial_analysis\\.venv\\lib\\site-packages (from ipython>=6.1.0->ipywidgets) (5.1.1)\n",
      "Requirement already satisfied: jedi>=0.16 in c:\\users\\crisi\\desktop\\code\\uw\\compbio\\endometrial_analysis\\.venv\\lib\\site-packages (from ipython>=6.1.0->ipywidgets) (0.19.1)\n",
      "Requirement already satisfied: matplotlib-inline in c:\\users\\crisi\\desktop\\code\\uw\\compbio\\endometrial_analysis\\.venv\\lib\\site-packages (from ipython>=6.1.0->ipywidgets) (0.1.7)\n",
      "Requirement already satisfied: prompt-toolkit<3.1.0,>=3.0.41 in c:\\users\\crisi\\desktop\\code\\uw\\compbio\\endometrial_analysis\\.venv\\lib\\site-packages (from ipython>=6.1.0->ipywidgets) (3.0.48)\n",
      "Requirement already satisfied: pygments>=2.4.0 in c:\\users\\crisi\\desktop\\code\\uw\\compbio\\endometrial_analysis\\.venv\\lib\\site-packages (from ipython>=6.1.0->ipywidgets) (2.18.0)\n",
      "Requirement already satisfied: stack-data in c:\\users\\crisi\\desktop\\code\\uw\\compbio\\endometrial_analysis\\.venv\\lib\\site-packages (from ipython>=6.1.0->ipywidgets) (0.6.3)\n",
      "Requirement already satisfied: colorama in c:\\users\\crisi\\desktop\\code\\uw\\compbio\\endometrial_analysis\\.venv\\lib\\site-packages (from ipython>=6.1.0->ipywidgets) (0.4.6)\n",
      "Requirement already satisfied: parso<0.9.0,>=0.8.3 in c:\\users\\crisi\\desktop\\code\\uw\\compbio\\endometrial_analysis\\.venv\\lib\\site-packages (from jedi>=0.16->ipython>=6.1.0->ipywidgets) (0.8.4)\n",
      "Requirement already satisfied: wcwidth in c:\\users\\crisi\\desktop\\code\\uw\\compbio\\endometrial_analysis\\.venv\\lib\\site-packages (from prompt-toolkit<3.1.0,>=3.0.41->ipython>=6.1.0->ipywidgets) (0.2.13)\n",
      "Requirement already satisfied: executing>=1.2.0 in c:\\users\\crisi\\desktop\\code\\uw\\compbio\\endometrial_analysis\\.venv\\lib\\site-packages (from stack-data->ipython>=6.1.0->ipywidgets) (2.1.0)\n",
      "Requirement already satisfied: asttokens>=2.1.0 in c:\\users\\crisi\\desktop\\code\\uw\\compbio\\endometrial_analysis\\.venv\\lib\\site-packages (from stack-data->ipython>=6.1.0->ipywidgets) (2.4.1)\n",
      "Requirement already satisfied: pure-eval in c:\\users\\crisi\\desktop\\code\\uw\\compbio\\endometrial_analysis\\.venv\\lib\\site-packages (from stack-data->ipython>=6.1.0->ipywidgets) (0.2.3)\n",
      "Requirement already satisfied: six>=1.12.0 in c:\\users\\crisi\\desktop\\code\\uw\\compbio\\endometrial_analysis\\.venv\\lib\\site-packages (from asttokens>=2.1.0->stack-data->ipython>=6.1.0->ipywidgets) (1.16.0)\n",
      "Note: you may need to restart the kernel to use updated packages.\n",
      "Collecting MulticoreTSNE\n",
      "  Using cached MulticoreTSNE-0.1.tar.gz (20 kB)\n",
      "  Preparing metadata (setup.py): started\n",
      "  Preparing metadata (setup.py): finished with status 'done'\n",
      "Requirement already satisfied: numpy in c:\\users\\crisi\\desktop\\code\\uw\\compbio\\endometrial_analysis\\.venv\\lib\\site-packages (from MulticoreTSNE) (1.26.4)\n",
      "Requirement already satisfied: cffi in c:\\users\\crisi\\desktop\\code\\uw\\compbio\\endometrial_analysis\\.venv\\lib\\site-packages (from MulticoreTSNE) (1.17.1)\n",
      "Requirement already satisfied: pycparser in c:\\users\\crisi\\desktop\\code\\uw\\compbio\\endometrial_analysis\\.venv\\lib\\site-packages (from cffi->MulticoreTSNE) (2.22)\n",
      "Building wheels for collected packages: MulticoreTSNE\n",
      "  Building wheel for MulticoreTSNE (setup.py): started\n",
      "  Building wheel for MulticoreTSNE (setup.py): finished with status 'error'\n",
      "  Running setup.py clean for MulticoreTSNE\n",
      "Failed to build MulticoreTSNE\n",
      "Note: you may need to restart the kernel to use updated packages.\n"
     ]
    },
    {
     "name": "stderr",
     "output_type": "stream",
     "text": [
      "  error: subprocess-exited-with-error\n",
      "  \n",
      "  × python setup.py bdist_wheel did not run successfully.\n",
      "  │ exit code: 1\n",
      "  ╰─> [26 lines of output]\n",
      "      c:\\Users\\crisi\\Desktop\\Code\\UW\\CompBio\\endometrial_analysis\\.venv\\Lib\\site-packages\\setuptools\\_distutils\\dist.py:261: UserWarning: Unknown distribution option: 'test_suite'\n",
      "        warnings.warn(msg)\n",
      "      c:\\Users\\crisi\\Desktop\\Code\\UW\\CompBio\\endometrial_analysis\\.venv\\Lib\\site-packages\\setuptools\\_distutils\\dist.py:261: UserWarning: Unknown distribution option: 'tests_require'\n",
      "        warnings.warn(msg)\n",
      "      running bdist_wheel\n",
      "      running build\n",
      "      running build_py\n",
      "      creating build\\lib.win-amd64-cpython-312\\MulticoreTSNE\n",
      "      copying MulticoreTSNE\\__init__.py -> build\\lib.win-amd64-cpython-312\\MulticoreTSNE\n",
      "      creating build\\lib.win-amd64-cpython-312\\MulticoreTSNE\\tests\n",
      "      copying MulticoreTSNE\\tests\\test_base.py -> build\\lib.win-amd64-cpython-312\\MulticoreTSNE\\tests\n",
      "      copying MulticoreTSNE\\tests\\__init__.py -> build\\lib.win-amd64-cpython-312\\MulticoreTSNE\\tests\n",
      "      running egg_info\n",
      "      writing MulticoreTSNE.egg-info\\PKG-INFO\n",
      "      writing dependency_links to MulticoreTSNE.egg-info\\dependency_links.txt\n",
      "      writing requirements to MulticoreTSNE.egg-info\\requires.txt\n",
      "      writing top-level names to MulticoreTSNE.egg-info\\top_level.txt\n",
      "      reading manifest file 'MulticoreTSNE.egg-info\\SOURCES.txt'\n",
      "      reading manifest template 'MANIFEST.in'\n",
      "      adding license file 'LICENSE.txt'\n",
      "      writing manifest file 'MulticoreTSNE.egg-info\\SOURCES.txt'\n",
      "      running build_ext\n",
      "      'cmake' is not recognized as an internal or external command,\n",
      "      operable program or batch file.\n",
      "      \n",
      "      Error: Cannot find cmake. Install cmake, e.g. `pip install cmake`.\n",
      "      [end of output]\n",
      "  \n",
      "  note: This error originates from a subprocess, and is likely not a problem with pip.\n",
      "  ERROR: Failed building wheel for MulticoreTSNE\n",
      "ERROR: ERROR: Failed to build installable wheels for some pyproject.toml based projects (MulticoreTSNE)\n"
     ]
    },
    {
     "name": "stdout",
     "output_type": "stream",
     "text": [
      "Note: you may need to restart the kernel to use updated packages.\n"
     ]
    },
    {
     "name": "stderr",
     "output_type": "stream",
     "text": [
      "ERROR: Could not find a version that satisfies the requirement scipy.io (from versions: none)\n",
      "ERROR: No matching distribution found for scipy.io\n"
     ]
    }
   ],
   "source": [
    "%pip install scanpy scvi-tools anndata\n",
    "%pip install --quiet gdown\n",
    "%pip install seaborn\n",
    "%pip install --quiet bbknn\n",
    "%pip install pandas\n",
    "%pip install pyscenic\n",
    "%pip install ipywidgets\n",
    "%pip install MulticoreTSNE\n",
    "%pip install scipy"
   ]
  },
  {
   "cell_type": "markdown",
   "metadata": {},
   "source": [
    "Import packages"
   ]
  },
  {
   "cell_type": "code",
   "execution_count": 33,
   "metadata": {},
   "outputs": [],
   "source": [
    "import scanpy as sc\n",
    "import anndata as ad\n",
    "import os\n",
    "import tarfile\n",
    "import scvi\n",
    "import numpy as np\n",
    "import glob\n",
    "\n",
    "#specific requirements of pyscenic\n",
    "import loompy as lp\n",
    "## This is T-SNE, download has wheel error, could fix... could use UM\n",
    "#from MulticoreTSNE import MulticoreTSNE as TSNE\n",
    "\n",
    "#data vis\n",
    "import seaborn as sns\n",
    "import matplotlib.pyplot as plt\n",
    "import seaborn as sns\n",
    "import matplotlib.pyplot as plt\n",
    "import umap"
   ]
  },
  {
   "cell_type": "code",
   "execution_count": 65,
   "metadata": {},
   "outputs": [
    {
     "name": "stdout",
     "output_type": "stream",
     "text": [
      "Total: 475 GiB\n",
      "Used: 441 GiB\n",
      "Free: 34 GiB\n"
     ]
    }
   ],
   "source": [
    "import shutil\n",
    "\n",
    "total, used, free = shutil.disk_usage(\"/\")\n",
    "print(f\"Total: {total // (2**30)} GiB\")\n",
    "print(f\"Used: {used // (2**30)} GiB\")\n",
    "print(f\"Free: {free // (2**30)} GiB\")"
   ]
  },
  {
   "cell_type": "code",
   "execution_count": 77,
   "metadata": {},
   "outputs": [
    {
     "ename": "FileNotFoundError",
     "evalue": "Did not find file FRZFRESH_GX26_ES345\\matrix.mtx.gz.",
     "output_type": "error",
     "traceback": [
      "\u001b[1;31m---------------------------------------------------------------------------\u001b[0m",
      "\u001b[1;31mFileNotFoundError\u001b[0m                         Traceback (most recent call last)",
      "Cell \u001b[1;32mIn[77], line 4\u001b[0m\n\u001b[0;32m      1\u001b[0m \u001b[38;5;28;01mimport\u001b[39;00m \u001b[38;5;21;01mscanpy\u001b[39;00m \u001b[38;5;28;01mas\u001b[39;00m \u001b[38;5;21;01msc\u001b[39;00m\n\u001b[0;32m      2\u001b[0m \u001b[38;5;28;01mimport\u001b[39;00m \u001b[38;5;21;01manndata\u001b[39;00m\n\u001b[1;32m----> 4\u001b[0m adata_example \u001b[38;5;241m=\u001b[39m \u001b[43msc\u001b[49m\u001b[38;5;241;43m.\u001b[39;49m\u001b[43mread_10x_mtx\u001b[49m\u001b[43m(\u001b[49m\u001b[38;5;124;43m\"\u001b[39;49m\u001b[38;5;124;43mFRZFRESH_GX26_ES345\u001b[39;49m\u001b[38;5;124;43m\"\u001b[39;49m\u001b[43m)\u001b[49m\n\u001b[0;32m      5\u001b[0m adata_example\n",
      "File \u001b[1;32mc:\\Users\\crisi\\Desktop\\Code\\UW\\CompBio\\endometrial_analysis\\.venv\\Lib\\site-packages\\legacy_api_wrap\\__init__.py:80\u001b[0m, in \u001b[0;36mlegacy_api.<locals>.wrapper.<locals>.fn_compatible\u001b[1;34m(*args_all, **kw)\u001b[0m\n\u001b[0;32m     77\u001b[0m \u001b[38;5;129m@wraps\u001b[39m(fn)\n\u001b[0;32m     78\u001b[0m \u001b[38;5;28;01mdef\u001b[39;00m \u001b[38;5;21mfn_compatible\u001b[39m(\u001b[38;5;241m*\u001b[39margs_all: P\u001b[38;5;241m.\u001b[39margs, \u001b[38;5;241m*\u001b[39m\u001b[38;5;241m*\u001b[39mkw: P\u001b[38;5;241m.\u001b[39mkwargs) \u001b[38;5;241m-\u001b[39m\u001b[38;5;241m>\u001b[39m R:\n\u001b[0;32m     79\u001b[0m     \u001b[38;5;28;01mif\u001b[39;00m \u001b[38;5;28mlen\u001b[39m(args_all) \u001b[38;5;241m<\u001b[39m\u001b[38;5;241m=\u001b[39m n_positional:\n\u001b[1;32m---> 80\u001b[0m         \u001b[38;5;28;01mreturn\u001b[39;00m \u001b[43mfn\u001b[49m\u001b[43m(\u001b[49m\u001b[38;5;241;43m*\u001b[39;49m\u001b[43margs_all\u001b[49m\u001b[43m,\u001b[49m\u001b[43m \u001b[49m\u001b[38;5;241;43m*\u001b[39;49m\u001b[38;5;241;43m*\u001b[39;49m\u001b[43mkw\u001b[49m\u001b[43m)\u001b[49m\n\u001b[0;32m     82\u001b[0m     args_pos: P\u001b[38;5;241m.\u001b[39margs\n\u001b[0;32m     83\u001b[0m     args_pos, args_rest \u001b[38;5;241m=\u001b[39m args_all[:n_positional], args_all[n_positional:]\n",
      "File \u001b[1;32mc:\\Users\\crisi\\Desktop\\Code\\UW\\CompBio\\endometrial_analysis\\.venv\\Lib\\site-packages\\scanpy\\readwrite.py:561\u001b[0m, in \u001b[0;36mread_10x_mtx\u001b[1;34m(path, var_names, make_unique, cache, cache_compression, gex_only, prefix)\u001b[0m\n\u001b[0;32m    559\u001b[0m prefix \u001b[38;5;241m=\u001b[39m \u001b[38;5;124m\"\u001b[39m\u001b[38;5;124m\"\u001b[39m \u001b[38;5;28;01mif\u001b[39;00m prefix \u001b[38;5;129;01mis\u001b[39;00m \u001b[38;5;28;01mNone\u001b[39;00m \u001b[38;5;28;01melse\u001b[39;00m prefix\n\u001b[0;32m    560\u001b[0m is_legacy \u001b[38;5;241m=\u001b[39m (path \u001b[38;5;241m/\u001b[39m \u001b[38;5;124mf\u001b[39m\u001b[38;5;124m\"\u001b[39m\u001b[38;5;132;01m{\u001b[39;00mprefix\u001b[38;5;132;01m}\u001b[39;00m\u001b[38;5;124mgenes.tsv\u001b[39m\u001b[38;5;124m\"\u001b[39m)\u001b[38;5;241m.\u001b[39mis_file()\n\u001b[1;32m--> 561\u001b[0m adata \u001b[38;5;241m=\u001b[39m \u001b[43m_read_10x_mtx\u001b[49m\u001b[43m(\u001b[49m\n\u001b[0;32m    562\u001b[0m \u001b[43m    \u001b[49m\u001b[43mpath\u001b[49m\u001b[43m,\u001b[49m\n\u001b[0;32m    563\u001b[0m \u001b[43m    \u001b[49m\u001b[43mvar_names\u001b[49m\u001b[38;5;241;43m=\u001b[39;49m\u001b[43mvar_names\u001b[49m\u001b[43m,\u001b[49m\n\u001b[0;32m    564\u001b[0m \u001b[43m    \u001b[49m\u001b[43mmake_unique\u001b[49m\u001b[38;5;241;43m=\u001b[39;49m\u001b[43mmake_unique\u001b[49m\u001b[43m,\u001b[49m\n\u001b[0;32m    565\u001b[0m \u001b[43m    \u001b[49m\u001b[43mcache\u001b[49m\u001b[38;5;241;43m=\u001b[39;49m\u001b[43mcache\u001b[49m\u001b[43m,\u001b[49m\n\u001b[0;32m    566\u001b[0m \u001b[43m    \u001b[49m\u001b[43mcache_compression\u001b[49m\u001b[38;5;241;43m=\u001b[39;49m\u001b[43mcache_compression\u001b[49m\u001b[43m,\u001b[49m\n\u001b[0;32m    567\u001b[0m \u001b[43m    \u001b[49m\u001b[43mprefix\u001b[49m\u001b[38;5;241;43m=\u001b[39;49m\u001b[43mprefix\u001b[49m\u001b[43m,\u001b[49m\n\u001b[0;32m    568\u001b[0m \u001b[43m    \u001b[49m\u001b[43mis_legacy\u001b[49m\u001b[38;5;241;43m=\u001b[39;49m\u001b[43mis_legacy\u001b[49m\u001b[43m,\u001b[49m\n\u001b[0;32m    569\u001b[0m \u001b[43m\u001b[49m\u001b[43m)\u001b[49m\n\u001b[0;32m    570\u001b[0m \u001b[38;5;28;01mif\u001b[39;00m is_legacy \u001b[38;5;129;01mor\u001b[39;00m \u001b[38;5;129;01mnot\u001b[39;00m gex_only:\n\u001b[0;32m    571\u001b[0m     \u001b[38;5;28;01mreturn\u001b[39;00m adata\n",
      "File \u001b[1;32mc:\\Users\\crisi\\Desktop\\Code\\UW\\CompBio\\endometrial_analysis\\.venv\\Lib\\site-packages\\scanpy\\readwrite.py:590\u001b[0m, in \u001b[0;36m_read_10x_mtx\u001b[1;34m(path, var_names, make_unique, cache, cache_compression, prefix, is_legacy)\u001b[0m\n\u001b[0;32m    586\u001b[0m \u001b[38;5;250m\u001b[39m\u001b[38;5;124;03m\"\"\"\u001b[39;00m\n\u001b[0;32m    587\u001b[0m \u001b[38;5;124;03mRead mex from output from Cell Ranger v2- or v3+\u001b[39;00m\n\u001b[0;32m    588\u001b[0m \u001b[38;5;124;03m\"\"\"\u001b[39;00m\n\u001b[0;32m    589\u001b[0m suffix \u001b[38;5;241m=\u001b[39m \u001b[38;5;124m\"\u001b[39m\u001b[38;5;124m\"\u001b[39m \u001b[38;5;28;01mif\u001b[39;00m is_legacy \u001b[38;5;28;01melse\u001b[39;00m \u001b[38;5;124m\"\u001b[39m\u001b[38;5;124m.gz\u001b[39m\u001b[38;5;124m\"\u001b[39m\n\u001b[1;32m--> 590\u001b[0m adata \u001b[38;5;241m=\u001b[39m \u001b[43mread\u001b[49m\u001b[43m(\u001b[49m\n\u001b[0;32m    591\u001b[0m \u001b[43m    \u001b[49m\u001b[43mpath\u001b[49m\u001b[43m \u001b[49m\u001b[38;5;241;43m/\u001b[39;49m\u001b[43m \u001b[49m\u001b[38;5;124;43mf\u001b[39;49m\u001b[38;5;124;43m\"\u001b[39;49m\u001b[38;5;132;43;01m{\u001b[39;49;00m\u001b[43mprefix\u001b[49m\u001b[38;5;132;43;01m}\u001b[39;49;00m\u001b[38;5;124;43mmatrix.mtx\u001b[39;49m\u001b[38;5;132;43;01m{\u001b[39;49;00m\u001b[43msuffix\u001b[49m\u001b[38;5;132;43;01m}\u001b[39;49;00m\u001b[38;5;124;43m\"\u001b[39;49m\u001b[43m,\u001b[49m\n\u001b[0;32m    592\u001b[0m \u001b[43m    \u001b[49m\u001b[43mcache\u001b[49m\u001b[38;5;241;43m=\u001b[39;49m\u001b[43mcache\u001b[49m\u001b[43m,\u001b[49m\n\u001b[0;32m    593\u001b[0m \u001b[43m    \u001b[49m\u001b[43mcache_compression\u001b[49m\u001b[38;5;241;43m=\u001b[39;49m\u001b[43mcache_compression\u001b[49m\u001b[43m,\u001b[49m\n\u001b[0;32m    594\u001b[0m \u001b[43m\u001b[49m\u001b[43m)\u001b[49m\u001b[38;5;241m.\u001b[39mT  \u001b[38;5;66;03m# transpose the data\u001b[39;00m\n\u001b[0;32m    595\u001b[0m genes \u001b[38;5;241m=\u001b[39m pd\u001b[38;5;241m.\u001b[39mread_csv(\n\u001b[0;32m    596\u001b[0m     path \u001b[38;5;241m/\u001b[39m \u001b[38;5;124mf\u001b[39m\u001b[38;5;124m\"\u001b[39m\u001b[38;5;132;01m{\u001b[39;00mprefix\u001b[38;5;132;01m}\u001b[39;00m\u001b[38;5;132;01m{\u001b[39;00m\u001b[38;5;124m'\u001b[39m\u001b[38;5;124mgenes\u001b[39m\u001b[38;5;124m'\u001b[39m\u001b[38;5;250m \u001b[39m\u001b[38;5;28;01mif\u001b[39;00m\u001b[38;5;250m \u001b[39mis_legacy\u001b[38;5;250m \u001b[39m\u001b[38;5;28;01melse\u001b[39;00m\u001b[38;5;250m \u001b[39m\u001b[38;5;124m'\u001b[39m\u001b[38;5;124mfeatures\u001b[39m\u001b[38;5;124m'\u001b[39m\u001b[38;5;132;01m}\u001b[39;00m\u001b[38;5;124m.tsv\u001b[39m\u001b[38;5;132;01m{\u001b[39;00msuffix\u001b[38;5;132;01m}\u001b[39;00m\u001b[38;5;124m\"\u001b[39m,\n\u001b[0;32m    597\u001b[0m     header\u001b[38;5;241m=\u001b[39m\u001b[38;5;28;01mNone\u001b[39;00m,\n\u001b[0;32m    598\u001b[0m     sep\u001b[38;5;241m=\u001b[39m\u001b[38;5;124m\"\u001b[39m\u001b[38;5;130;01m\\t\u001b[39;00m\u001b[38;5;124m\"\u001b[39m,\n\u001b[0;32m    599\u001b[0m )\n\u001b[0;32m    600\u001b[0m \u001b[38;5;28;01mif\u001b[39;00m var_names \u001b[38;5;241m==\u001b[39m \u001b[38;5;124m\"\u001b[39m\u001b[38;5;124mgene_symbols\u001b[39m\u001b[38;5;124m\"\u001b[39m:\n",
      "File \u001b[1;32mc:\\Users\\crisi\\Desktop\\Code\\UW\\CompBio\\endometrial_analysis\\.venv\\Lib\\site-packages\\legacy_api_wrap\\__init__.py:80\u001b[0m, in \u001b[0;36mlegacy_api.<locals>.wrapper.<locals>.fn_compatible\u001b[1;34m(*args_all, **kw)\u001b[0m\n\u001b[0;32m     77\u001b[0m \u001b[38;5;129m@wraps\u001b[39m(fn)\n\u001b[0;32m     78\u001b[0m \u001b[38;5;28;01mdef\u001b[39;00m \u001b[38;5;21mfn_compatible\u001b[39m(\u001b[38;5;241m*\u001b[39margs_all: P\u001b[38;5;241m.\u001b[39margs, \u001b[38;5;241m*\u001b[39m\u001b[38;5;241m*\u001b[39mkw: P\u001b[38;5;241m.\u001b[39mkwargs) \u001b[38;5;241m-\u001b[39m\u001b[38;5;241m>\u001b[39m R:\n\u001b[0;32m     79\u001b[0m     \u001b[38;5;28;01mif\u001b[39;00m \u001b[38;5;28mlen\u001b[39m(args_all) \u001b[38;5;241m<\u001b[39m\u001b[38;5;241m=\u001b[39m n_positional:\n\u001b[1;32m---> 80\u001b[0m         \u001b[38;5;28;01mreturn\u001b[39;00m \u001b[43mfn\u001b[49m\u001b[43m(\u001b[49m\u001b[38;5;241;43m*\u001b[39;49m\u001b[43margs_all\u001b[49m\u001b[43m,\u001b[49m\u001b[43m \u001b[49m\u001b[38;5;241;43m*\u001b[39;49m\u001b[38;5;241;43m*\u001b[39;49m\u001b[43mkw\u001b[49m\u001b[43m)\u001b[49m\n\u001b[0;32m     82\u001b[0m     args_pos: P\u001b[38;5;241m.\u001b[39margs\n\u001b[0;32m     83\u001b[0m     args_pos, args_rest \u001b[38;5;241m=\u001b[39m args_all[:n_positional], args_all[n_positional:]\n",
      "File \u001b[1;32mc:\\Users\\crisi\\Desktop\\Code\\UW\\CompBio\\endometrial_analysis\\.venv\\Lib\\site-packages\\scanpy\\readwrite.py:130\u001b[0m, in \u001b[0;36mread\u001b[1;34m(filename, backed, sheet, ext, delimiter, first_column_names, backup_url, cache, cache_compression, **kwargs)\u001b[0m\n\u001b[0;32m    128\u001b[0m filename \u001b[38;5;241m=\u001b[39m Path(filename)  \u001b[38;5;66;03m# allow passing strings\u001b[39;00m\n\u001b[0;32m    129\u001b[0m \u001b[38;5;28;01mif\u001b[39;00m is_valid_filename(filename):\n\u001b[1;32m--> 130\u001b[0m     \u001b[38;5;28;01mreturn\u001b[39;00m \u001b[43m_read\u001b[49m\u001b[43m(\u001b[49m\n\u001b[0;32m    131\u001b[0m \u001b[43m        \u001b[49m\u001b[43mfilename\u001b[49m\u001b[43m,\u001b[49m\n\u001b[0;32m    132\u001b[0m \u001b[43m        \u001b[49m\u001b[43mbacked\u001b[49m\u001b[38;5;241;43m=\u001b[39;49m\u001b[43mbacked\u001b[49m\u001b[43m,\u001b[49m\n\u001b[0;32m    133\u001b[0m \u001b[43m        \u001b[49m\u001b[43msheet\u001b[49m\u001b[38;5;241;43m=\u001b[39;49m\u001b[43msheet\u001b[49m\u001b[43m,\u001b[49m\n\u001b[0;32m    134\u001b[0m \u001b[43m        \u001b[49m\u001b[43mext\u001b[49m\u001b[38;5;241;43m=\u001b[39;49m\u001b[43mext\u001b[49m\u001b[43m,\u001b[49m\n\u001b[0;32m    135\u001b[0m \u001b[43m        \u001b[49m\u001b[43mdelimiter\u001b[49m\u001b[38;5;241;43m=\u001b[39;49m\u001b[43mdelimiter\u001b[49m\u001b[43m,\u001b[49m\n\u001b[0;32m    136\u001b[0m \u001b[43m        \u001b[49m\u001b[43mfirst_column_names\u001b[49m\u001b[38;5;241;43m=\u001b[39;49m\u001b[43mfirst_column_names\u001b[49m\u001b[43m,\u001b[49m\n\u001b[0;32m    137\u001b[0m \u001b[43m        \u001b[49m\u001b[43mbackup_url\u001b[49m\u001b[38;5;241;43m=\u001b[39;49m\u001b[43mbackup_url\u001b[49m\u001b[43m,\u001b[49m\n\u001b[0;32m    138\u001b[0m \u001b[43m        \u001b[49m\u001b[43mcache\u001b[49m\u001b[38;5;241;43m=\u001b[39;49m\u001b[43mcache\u001b[49m\u001b[43m,\u001b[49m\n\u001b[0;32m    139\u001b[0m \u001b[43m        \u001b[49m\u001b[43mcache_compression\u001b[49m\u001b[38;5;241;43m=\u001b[39;49m\u001b[43mcache_compression\u001b[49m\u001b[43m,\u001b[49m\n\u001b[0;32m    140\u001b[0m \u001b[43m        \u001b[49m\u001b[38;5;241;43m*\u001b[39;49m\u001b[38;5;241;43m*\u001b[39;49m\u001b[43mkwargs\u001b[49m\u001b[43m,\u001b[49m\n\u001b[0;32m    141\u001b[0m \u001b[43m    \u001b[49m\u001b[43m)\u001b[49m\n\u001b[0;32m    142\u001b[0m \u001b[38;5;66;03m# generate filename and read to dict\u001b[39;00m\n\u001b[0;32m    143\u001b[0m filekey \u001b[38;5;241m=\u001b[39m \u001b[38;5;28mstr\u001b[39m(filename)\n",
      "File \u001b[1;32mc:\\Users\\crisi\\Desktop\\Code\\UW\\CompBio\\endometrial_analysis\\.venv\\Lib\\site-packages\\scanpy\\readwrite.py:781\u001b[0m, in \u001b[0;36m_read\u001b[1;34m(filename, backed, sheet, ext, delimiter, first_column_names, backup_url, cache, cache_compression, suppress_cache_warning, **kwargs)\u001b[0m\n\u001b[0;32m    778\u001b[0m     \u001b[38;5;28;01mreturn\u001b[39;00m read_h5ad(path_cache)\n\u001b[0;32m    780\u001b[0m \u001b[38;5;28;01mif\u001b[39;00m \u001b[38;5;129;01mnot\u001b[39;00m is_present:\n\u001b[1;32m--> 781\u001b[0m     \u001b[38;5;28;01mraise\u001b[39;00m \u001b[38;5;167;01mFileNotFoundError\u001b[39;00m(\u001b[38;5;124mf\u001b[39m\u001b[38;5;124m\"\u001b[39m\u001b[38;5;124mDid not find file \u001b[39m\u001b[38;5;132;01m{\u001b[39;00mfilename\u001b[38;5;132;01m}\u001b[39;00m\u001b[38;5;124m.\u001b[39m\u001b[38;5;124m\"\u001b[39m)\n\u001b[0;32m    782\u001b[0m logg\u001b[38;5;241m.\u001b[39mdebug(\u001b[38;5;124mf\u001b[39m\u001b[38;5;124m\"\u001b[39m\u001b[38;5;124mreading \u001b[39m\u001b[38;5;132;01m{\u001b[39;00mfilename\u001b[38;5;132;01m}\u001b[39;00m\u001b[38;5;124m\"\u001b[39m)\n\u001b[0;32m    783\u001b[0m \u001b[38;5;28;01mif\u001b[39;00m \u001b[38;5;129;01mnot\u001b[39;00m cache \u001b[38;5;129;01mand\u001b[39;00m \u001b[38;5;129;01mnot\u001b[39;00m suppress_cache_warning:\n",
      "\u001b[1;31mFileNotFoundError\u001b[0m: Did not find file FRZFRESH_GX26_ES345\\matrix.mtx.gz."
     ]
    }
   ],
   "source": [
    "import scanpy as sc\n",
    "import anndata\n",
    "\n",
    "adata_example = sc.read_10x_mtx(\"FRZFRESH_GX26_ES345\")\n",
    "adata_example"
   ]
  },
  {
   "cell_type": "code",
   "execution_count": 80,
   "metadata": {},
   "outputs": [],
   "source": [
    "import os\n",
    "import tarfile\n",
    "\n",
    "# Function to extract tar.gz files\n",
    "def extract_tar_gz(tar_gz_path, extract_dir):\n",
    "    with tarfile.open(tar_gz_path, \"r:gz\") as tar:\n",
    "        tar.extractall(path=extract_dir)\n",
    "\n",
    "# Directory containing your datasets\n",
    "input_dir = \"input/biostudiesarrayE-MTAB-14039\"\n",
    "extracted_dir = \"input/extracted_data\"  # Folder to save the extracted files\n",
    "os.makedirs(extracted_dir, exist_ok=True)\n",
    "\n",
    "# List all top-level files in the input directory\n",
    "tar_gz_files = [f for f in os.listdir(input_dir) if f.endswith('.tar.gz')]\n",
    "\n",
    "# Extract tar.gz files\n",
    "for tar_gz_file in tar_gz_files:\n",
    "    tar_gz_path = os.path.join(input_dir, tar_gz_file)\n",
    "    \n",
    "    # Extract the tar.gz file to the extracted directory\n",
    "    extract_tar_gz(tar_gz_path, extracted_dir)\n"
   ]
  },
  {
   "cell_type": "code",
   "execution_count": 94,
   "metadata": {},
   "outputs": [
    {
     "name": "stdout",
     "output_type": "stream",
     "text": [
      "Dataset directories under 'work': ['input/extracted_data/work/UA_Endo9426402_FX9006', 'input/extracted_data/work/UA_Endo9426402_FX9006', 'input/extracted_data/work/UA_Endo9426402_FX9006', 'input/extracted_data/work/UA_Endo9426402_FX9006', 'input/extracted_data/work/UA_Endo9426402_FX9006', 'input/extracted_data/work/UA_Endo9426402_FX9006', 'input/extracted_data/work/UA_Endo9426402_FX9006', 'input/extracted_data/work/UA_Endo9426402_FX9006', 'input/extracted_data/work/UA_Endo9426402_FX9006', 'input/extracted_data/work/UA_Endo9426402_FX9006', 'input/extracted_data/work/UA_Endo9426402_FX9006', 'input/extracted_data/work/UA_Endo9426402_FX9006', 'input/extracted_data/work/UA_Endo9426402_FX9006', 'input/extracted_data/work/UA_Endo9426402_FX9006', 'input/extracted_data/work/UA_Endo9426402_FX9006', 'input/extracted_data/work/UA_Endo9426402_FX9006', 'input/extracted_data/work/UA_Endo9426402_FX9006', 'input/extracted_data/work/UA_Endo9426402_FX9006', 'input/extracted_data/work/UA_Endo9426402_FX9006', 'input/extracted_data/work/UA_Endo9426402_FX9006', 'input/extracted_data/work/UA_Endo9426402_FX9006', 'input/extracted_data/work/UA_Endo9426402_FX9006', 'input/extracted_data/work/UA_Endo9426402_FX9006', 'input/extracted_data/work/UA_Endo9426402_FX9006', 'input/extracted_data/work/UA_Endo9426402_FX9006', 'input/extracted_data/work/UA_Endo9426402_FX9006', 'input/extracted_data/work/UA_Endo9426402_FX9006', 'input/extracted_data/work/UA_Endo9426402_FX9006', 'input/extracted_data/work/UA_Endo9426402_FX9006', 'input/extracted_data/work/UA_Endo9426402_FX9006', 'input/extracted_data/work/UA_Endo9426402_FX9006', 'input/extracted_data/work/UA_Endo9426402_FX9006', 'input/extracted_data/work/UA_Endo9426402_FX9006', 'input/extracted_data/work/UA_Endo9426402_FX9006', 'input/extracted_data/work/UA_Endo9426402_FX9006', 'input/extracted_data/work/UA_Endo9426402_FX9006', 'input/extracted_data/work/UA_Endo9426402_FX9006', 'input/extracted_data/work/UA_Endo9426402_FX9006', 'input/extracted_data/work/UA_Endo9426402_FX9006', 'input/extracted_data/work/UA_Endo9426402_FX9006', 'input/extracted_data/work/UA_Endo9426402_FX9006', 'input/extracted_data/work/UA_Endo9426402_FX9006', 'input/extracted_data/work/UA_Endo9426402_FX9006', 'input/extracted_data/work/UA_Endo9426402_FX9006', 'input/extracted_data/work/UA_Endo9426402_FX9006', 'input/extracted_data/work/UA_Endo9426402_FX9006', 'input/extracted_data/work/UA_Endo9426402_FX9006', 'input/extracted_data/work/UA_Endo9426402_FX9006', 'input/extracted_data/work/UA_Endo9426402_FX9006', 'input/extracted_data/work/UA_Endo9426402_FX9006', 'input/extracted_data/work/UA_Endo9426402_FX9006', 'input/extracted_data/work/UA_Endo9426402_FX9006', 'input/extracted_data/work/UA_Endo9426402_FX9006', 'input/extracted_data/work/UA_Endo9426402_FX9006', 'input/extracted_data/work/UA_Endo9426402_FX9006', 'input/extracted_data/work/UA_Endo9426402_FX9006', 'input/extracted_data/work/UA_Endo9426402_FX9006', 'input/extracted_data/work/UA_Endo9426402_FX9006', 'input/extracted_data/work/UA_Endo9426402_FX9006', 'input/extracted_data/work/UA_Endo9426402_FX9006', 'input/extracted_data/work/UA_Endo9426402_FX9006', 'input/extracted_data/work/UA_Endo9426402_FX9006', 'input/extracted_data/work/UA_Endo9426402_FX9006', 'input/extracted_data/work/UA_Endo9426402_FX9006', 'input/extracted_data/work/UA_Endo9426402_FX9006', 'input/extracted_data/work/UA_Endo9426402_FX9006', 'input/extracted_data/work/UA_Endo9426402_FX9006', 'input/extracted_data/work/UA_Endo9426402_FX9006', 'input/extracted_data/work/UA_Endo9426402_FX9006', 'input/extracted_data/work/UA_Endo9426402_FX9006', 'input/extracted_data/work/UA_Endo9426402_FX9006', 'input/extracted_data/work/UA_Endo9426402_FX9006', 'input/extracted_data/work/UA_Endo9426402_FX9006', 'input/extracted_data/work/UA_Endo9426402_FX9006', 'input/extracted_data/work/UA_Endo9426402_FX9006', 'input/extracted_data/work/UA_Endo9426402_FX9006', 'input/extracted_data/work/UA_Endo9426402_FX9006', 'input/extracted_data/work/UA_Endo9426402_FX9006', 'input/extracted_data/work/UA_Endo9426402_FX9006', 'input/extracted_data/work/UA_Endo9426402_FX9006', 'input/extracted_data/work/UA_Endo9426402_FX9006', 'input/extracted_data/work/UA_Endo9426402_FX9006', 'input/extracted_data/work/UA_Endo9426402_FX9006', 'input/extracted_data/work/UA_Endo9426402_FX9006', 'input/extracted_data/work/UA_Endo9426402_FX9006', 'input/extracted_data/work/UA_Endo9426402_FX9006', 'input/extracted_data/work/UA_Endo9426402_FX9006', 'input/extracted_data/work/UA_Endo9426402_FX9006', 'input/extracted_data/work/UA_Endo9426402_FX9006', 'input/extracted_data/work/UA_Endo9426402_FX9006', 'input/extracted_data/work/UA_Endo9426402_FX9006', 'input/extracted_data/work/UA_Endo9426402_FX9006', 'input/extracted_data/work/UA_Endo9426402_FX9006', 'input/extracted_data/work/UA_Endo9426402_FX9006', 'input/extracted_data/work/UA_Endo9426402_FX9006', 'input/extracted_data/work/UA_Endo9426402_FX9006', 'input/extracted_data/work/UA_Endo9426402_FX9006', 'input/extracted_data/work/UA_Endo9426402_FX9006', 'input/extracted_data/work/UA_Endo9426402_FX9006', 'input/extracted_data/work/UA_Endo9426402_FX9006', 'input/extracted_data/work/UA_Endo9426402_FX9006', 'input/extracted_data/work/UA_Endo9426402_FX9006', 'input/extracted_data/work/UA_Endo9426402_FX9006']\n",
      "input/extracted_data/work/UA_Endo9426402_FX9006\n",
      "input/extracted_data/work/UA_Endo9426402_FX9006\n",
      "input/extracted_data/work/UA_Endo9426402_FX9006\n",
      "input/extracted_data/work/UA_Endo9426402_FX9006\n",
      "input/extracted_data/work/UA_Endo9426402_FX9006\n",
      "input/extracted_data/work/UA_Endo9426402_FX9006\n",
      "input/extracted_data/work/UA_Endo9426402_FX9006\n",
      "input/extracted_data/work/UA_Endo9426402_FX9006\n",
      "input/extracted_data/work/UA_Endo9426402_FX9006\n",
      "input/extracted_data/work/UA_Endo9426402_FX9006\n"
     ]
    },
    {
     "name": "stderr",
     "output_type": "stream",
     "text": [
      "c:\\Users\\crisi\\Desktop\\Code\\UW\\CompBio\\endometrial_analysis\\.venv\\Lib\\site-packages\\anndata\\_core\\anndata.py:1754: UserWarning: Observation names are not unique. To make them unique, call `.obs_names_make_unique`.\n",
      "  utils.warn_names_duplicates(\"obs\")\n"
     ]
    },
    {
     "name": "stdout",
     "output_type": "stream",
     "text": [
      "input/extracted_data/work/UA_Endo9426402_FX9006\n",
      "input/extracted_data/work/UA_Endo9426402_FX9006\n",
      "input/extracted_data/work/UA_Endo9426402_FX9006\n",
      "input/extracted_data/work/UA_Endo9426402_FX9006\n",
      "input/extracted_data/work/UA_Endo9426402_FX9006\n"
     ]
    },
    {
     "name": "stderr",
     "output_type": "stream",
     "text": [
      "c:\\Users\\crisi\\Desktop\\Code\\UW\\CompBio\\endometrial_analysis\\.venv\\Lib\\site-packages\\anndata\\_core\\anndata.py:1754: UserWarning: Observation names are not unique. To make them unique, call `.obs_names_make_unique`.\n",
      "  utils.warn_names_duplicates(\"obs\")\n",
      "c:\\Users\\crisi\\Desktop\\Code\\UW\\CompBio\\endometrial_analysis\\.venv\\Lib\\site-packages\\anndata\\utils.py:261: UserWarning: Suffix used (-[0-9]+) to deduplicate index values may make index values difficult to interpret. There values with a similar suffixes in the index. Consider using a different delimiter by passing `join={delimiter}`Example key collisions generated by the make_index_unique algorithm: ['AAAGTGAGTTTACACG-1-1', 'AAAGTGAGTTTACACG-1-2', 'AAAGTGAGTTTACACG-1-3', 'AAAGTGAGTTTACACG-1-4', 'AAAGTGAGTTTACACG-1-5']\n",
      "  warnings.warn(\n"
     ]
    },
    {
     "name": "stdout",
     "output_type": "stream",
     "text": [
      "input/extracted_data/work/UA_Endo9426402_FX9006\n",
      "input/extracted_data/work/UA_Endo9426402_FX9006\n",
      "input/extracted_data/work/UA_Endo9426402_FX9006\n",
      "input/extracted_data/work/UA_Endo9426402_FX9006\n",
      "input/extracted_data/work/UA_Endo9426402_FX9006\n"
     ]
    },
    {
     "name": "stderr",
     "output_type": "stream",
     "text": [
      "c:\\Users\\crisi\\Desktop\\Code\\UW\\CompBio\\endometrial_analysis\\.venv\\Lib\\site-packages\\anndata\\_core\\anndata.py:1754: UserWarning: Observation names are not unique. To make them unique, call `.obs_names_make_unique`.\n",
      "  utils.warn_names_duplicates(\"obs\")\n",
      "c:\\Users\\crisi\\Desktop\\Code\\UW\\CompBio\\endometrial_analysis\\.venv\\Lib\\site-packages\\anndata\\utils.py:261: UserWarning: Suffix used (-[0-9]+) to deduplicate index values may make index values difficult to interpret. There values with a similar suffixes in the index. Consider using a different delimiter by passing `join={delimiter}`Example key collisions generated by the make_index_unique algorithm: ['AAAGTGAGTTTACACG-1-1', 'AAAGTGAGTTTACACG-1-2', 'AAAGTGAGTTTACACG-1-3', 'AAAGTGAGTTTACACG-1-4', 'AAAGTGAGTTTACACG-1-5']\n",
      "  warnings.warn(\n"
     ]
    },
    {
     "name": "stdout",
     "output_type": "stream",
     "text": [
      "input/extracted_data/work/UA_Endo9426402_FX9006\n",
      "input/extracted_data/work/UA_Endo9426402_FX9006\n",
      "input/extracted_data/work/UA_Endo9426402_FX9006\n",
      "input/extracted_data/work/UA_Endo9426402_FX9006\n",
      "input/extracted_data/work/UA_Endo9426402_FX9006\n"
     ]
    },
    {
     "name": "stderr",
     "output_type": "stream",
     "text": [
      "c:\\Users\\crisi\\Desktop\\Code\\UW\\CompBio\\endometrial_analysis\\.venv\\Lib\\site-packages\\anndata\\_core\\anndata.py:1754: UserWarning: Observation names are not unique. To make them unique, call `.obs_names_make_unique`.\n",
      "  utils.warn_names_duplicates(\"obs\")\n",
      "c:\\Users\\crisi\\Desktop\\Code\\UW\\CompBio\\endometrial_analysis\\.venv\\Lib\\site-packages\\anndata\\utils.py:261: UserWarning: Suffix used (-[0-9]+) to deduplicate index values may make index values difficult to interpret. There values with a similar suffixes in the index. Consider using a different delimiter by passing `join={delimiter}`Example key collisions generated by the make_index_unique algorithm: ['AAAGTGAGTTTACACG-1-1', 'AAAGTGAGTTTACACG-1-2', 'AAAGTGAGTTTACACG-1-3', 'AAAGTGAGTTTACACG-1-4', 'AAAGTGAGTTTACACG-1-5']\n",
      "  warnings.warn(\n"
     ]
    },
    {
     "name": "stdout",
     "output_type": "stream",
     "text": [
      "input/extracted_data/work/UA_Endo9426402_FX9006\n",
      "input/extracted_data/work/UA_Endo9426402_FX9006\n",
      "input/extracted_data/work/UA_Endo9426402_FX9006\n",
      "input/extracted_data/work/UA_Endo9426402_FX9006\n",
      "input/extracted_data/work/UA_Endo9426402_FX9006\n"
     ]
    },
    {
     "name": "stderr",
     "output_type": "stream",
     "text": [
      "c:\\Users\\crisi\\Desktop\\Code\\UW\\CompBio\\endometrial_analysis\\.venv\\Lib\\site-packages\\anndata\\_core\\anndata.py:1754: UserWarning: Observation names are not unique. To make them unique, call `.obs_names_make_unique`.\n",
      "  utils.warn_names_duplicates(\"obs\")\n",
      "c:\\Users\\crisi\\Desktop\\Code\\UW\\CompBio\\endometrial_analysis\\.venv\\Lib\\site-packages\\anndata\\utils.py:261: UserWarning: Suffix used (-[0-9]+) to deduplicate index values may make index values difficult to interpret. There values with a similar suffixes in the index. Consider using a different delimiter by passing `join={delimiter}`Example key collisions generated by the make_index_unique algorithm: ['AAAGTGAGTTTACACG-1-1', 'AAAGTGAGTTTACACG-1-2', 'AAAGTGAGTTTACACG-1-3', 'AAAGTGAGTTTACACG-1-4', 'AAAGTGAGTTTACACG-1-5']\n",
      "  warnings.warn(\n"
     ]
    },
    {
     "name": "stdout",
     "output_type": "stream",
     "text": [
      "input/extracted_data/work/UA_Endo9426402_FX9006\n",
      "input/extracted_data/work/UA_Endo9426402_FX9006\n",
      "input/extracted_data/work/UA_Endo9426402_FX9006\n",
      "input/extracted_data/work/UA_Endo9426402_FX9006\n",
      "input/extracted_data/work/UA_Endo9426402_FX9006\n"
     ]
    },
    {
     "name": "stderr",
     "output_type": "stream",
     "text": [
      "c:\\Users\\crisi\\Desktop\\Code\\UW\\CompBio\\endometrial_analysis\\.venv\\Lib\\site-packages\\anndata\\_core\\anndata.py:1754: UserWarning: Observation names are not unique. To make them unique, call `.obs_names_make_unique`.\n",
      "  utils.warn_names_duplicates(\"obs\")\n",
      "c:\\Users\\crisi\\Desktop\\Code\\UW\\CompBio\\endometrial_analysis\\.venv\\Lib\\site-packages\\anndata\\utils.py:261: UserWarning: Suffix used (-[0-9]+) to deduplicate index values may make index values difficult to interpret. There values with a similar suffixes in the index. Consider using a different delimiter by passing `join={delimiter}`Example key collisions generated by the make_index_unique algorithm: ['AAAGTGAGTTTACACG-1-1', 'AAAGTGAGTTTACACG-1-2', 'AAAGTGAGTTTACACG-1-3', 'AAAGTGAGTTTACACG-1-4', 'AAAGTGAGTTTACACG-1-5']\n",
      "  warnings.warn(\n"
     ]
    },
    {
     "name": "stdout",
     "output_type": "stream",
     "text": [
      "input/extracted_data/work/UA_Endo9426402_FX9006\n",
      "input/extracted_data/work/UA_Endo9426402_FX9006\n",
      "input/extracted_data/work/UA_Endo9426402_FX9006\n",
      "input/extracted_data/work/UA_Endo9426402_FX9006\n",
      "input/extracted_data/work/UA_Endo9426402_FX9006\n"
     ]
    },
    {
     "name": "stderr",
     "output_type": "stream",
     "text": [
      "c:\\Users\\crisi\\Desktop\\Code\\UW\\CompBio\\endometrial_analysis\\.venv\\Lib\\site-packages\\anndata\\_core\\anndata.py:1754: UserWarning: Observation names are not unique. To make them unique, call `.obs_names_make_unique`.\n",
      "  utils.warn_names_duplicates(\"obs\")\n",
      "c:\\Users\\crisi\\Desktop\\Code\\UW\\CompBio\\endometrial_analysis\\.venv\\Lib\\site-packages\\anndata\\utils.py:261: UserWarning: Suffix used (-[0-9]+) to deduplicate index values may make index values difficult to interpret. There values with a similar suffixes in the index. Consider using a different delimiter by passing `join={delimiter}`Example key collisions generated by the make_index_unique algorithm: ['AAAGTGAGTTTACACG-1-1', 'AAAGTGAGTTTACACG-1-2', 'AAAGTGAGTTTACACG-1-3', 'AAAGTGAGTTTACACG-1-4', 'AAAGTGAGTTTACACG-1-5']\n",
      "  warnings.warn(\n"
     ]
    },
    {
     "name": "stdout",
     "output_type": "stream",
     "text": [
      "input/extracted_data/work/UA_Endo9426402_FX9006\n",
      "input/extracted_data/work/UA_Endo9426402_FX9006\n",
      "input/extracted_data/work/UA_Endo9426402_FX9006\n",
      "input/extracted_data/work/UA_Endo9426402_FX9006\n",
      "input/extracted_data/work/UA_Endo9426402_FX9006\n"
     ]
    },
    {
     "name": "stderr",
     "output_type": "stream",
     "text": [
      "c:\\Users\\crisi\\Desktop\\Code\\UW\\CompBio\\endometrial_analysis\\.venv\\Lib\\site-packages\\anndata\\_core\\anndata.py:1754: UserWarning: Observation names are not unique. To make them unique, call `.obs_names_make_unique`.\n",
      "  utils.warn_names_duplicates(\"obs\")\n",
      "c:\\Users\\crisi\\Desktop\\Code\\UW\\CompBio\\endometrial_analysis\\.venv\\Lib\\site-packages\\anndata\\utils.py:261: UserWarning: Suffix used (-[0-9]+) to deduplicate index values may make index values difficult to interpret. There values with a similar suffixes in the index. Consider using a different delimiter by passing `join={delimiter}`Example key collisions generated by the make_index_unique algorithm: ['AAAGTGAGTTTACACG-1-1', 'AAAGTGAGTTTACACG-1-2', 'AAAGTGAGTTTACACG-1-3', 'AAAGTGAGTTTACACG-1-4', 'AAAGTGAGTTTACACG-1-5']\n",
      "  warnings.warn(\n"
     ]
    },
    {
     "name": "stdout",
     "output_type": "stream",
     "text": [
      "input/extracted_data/work/UA_Endo9426402_FX9006\n",
      "input/extracted_data/work/UA_Endo9426402_FX9006\n",
      "input/extracted_data/work/UA_Endo9426402_FX9006\n",
      "input/extracted_data/work/UA_Endo9426402_FX9006\n",
      "input/extracted_data/work/UA_Endo9426402_FX9006\n"
     ]
    },
    {
     "name": "stderr",
     "output_type": "stream",
     "text": [
      "c:\\Users\\crisi\\Desktop\\Code\\UW\\CompBio\\endometrial_analysis\\.venv\\Lib\\site-packages\\anndata\\_core\\anndata.py:1754: UserWarning: Observation names are not unique. To make them unique, call `.obs_names_make_unique`.\n",
      "  utils.warn_names_duplicates(\"obs\")\n",
      "c:\\Users\\crisi\\Desktop\\Code\\UW\\CompBio\\endometrial_analysis\\.venv\\Lib\\site-packages\\anndata\\utils.py:261: UserWarning: Suffix used (-[0-9]+) to deduplicate index values may make index values difficult to interpret. There values with a similar suffixes in the index. Consider using a different delimiter by passing `join={delimiter}`Example key collisions generated by the make_index_unique algorithm: ['AAAGTGAGTTTACACG-1-1', 'AAAGTGAGTTTACACG-1-2', 'AAAGTGAGTTTACACG-1-3', 'AAAGTGAGTTTACACG-1-4', 'AAAGTGAGTTTACACG-1-5']\n",
      "  warnings.warn(\n"
     ]
    },
    {
     "name": "stdout",
     "output_type": "stream",
     "text": [
      "input/extracted_data/work/UA_Endo9426402_FX9006\n",
      "input/extracted_data/work/UA_Endo9426402_FX9006\n",
      "input/extracted_data/work/UA_Endo9426402_FX9006\n",
      "input/extracted_data/work/UA_Endo9426402_FX9006\n",
      "input/extracted_data/work/UA_Endo9426402_FX9006\n"
     ]
    },
    {
     "name": "stderr",
     "output_type": "stream",
     "text": [
      "c:\\Users\\crisi\\Desktop\\Code\\UW\\CompBio\\endometrial_analysis\\.venv\\Lib\\site-packages\\anndata\\_core\\anndata.py:1754: UserWarning: Observation names are not unique. To make them unique, call `.obs_names_make_unique`.\n",
      "  utils.warn_names_duplicates(\"obs\")\n",
      "c:\\Users\\crisi\\Desktop\\Code\\UW\\CompBio\\endometrial_analysis\\.venv\\Lib\\site-packages\\anndata\\utils.py:261: UserWarning: Suffix used (-[0-9]+) to deduplicate index values may make index values difficult to interpret. There values with a similar suffixes in the index. Consider using a different delimiter by passing `join={delimiter}`Example key collisions generated by the make_index_unique algorithm: ['AAAGTGAGTTTACACG-1-1', 'AAAGTGAGTTTACACG-1-2', 'AAAGTGAGTTTACACG-1-3', 'AAAGTGAGTTTACACG-1-4', 'AAAGTGAGTTTACACG-1-5']\n",
      "  warnings.warn(\n"
     ]
    },
    {
     "name": "stdout",
     "output_type": "stream",
     "text": [
      "input/extracted_data/work/UA_Endo9426402_FX9006\n",
      "input/extracted_data/work/UA_Endo9426402_FX9006\n",
      "input/extracted_data/work/UA_Endo9426402_FX9006\n",
      "input/extracted_data/work/UA_Endo9426402_FX9006\n",
      "input/extracted_data/work/UA_Endo9426402_FX9006\n"
     ]
    },
    {
     "name": "stderr",
     "output_type": "stream",
     "text": [
      "c:\\Users\\crisi\\Desktop\\Code\\UW\\CompBio\\endometrial_analysis\\.venv\\Lib\\site-packages\\anndata\\_core\\anndata.py:1754: UserWarning: Observation names are not unique. To make them unique, call `.obs_names_make_unique`.\n",
      "  utils.warn_names_duplicates(\"obs\")\n",
      "c:\\Users\\crisi\\Desktop\\Code\\UW\\CompBio\\endometrial_analysis\\.venv\\Lib\\site-packages\\anndata\\utils.py:261: UserWarning: Suffix used (-[0-9]+) to deduplicate index values may make index values difficult to interpret. There values with a similar suffixes in the index. Consider using a different delimiter by passing `join={delimiter}`Example key collisions generated by the make_index_unique algorithm: ['AAAGTGAGTTTACACG-1-1', 'AAAGTGAGTTTACACG-1-2', 'AAAGTGAGTTTACACG-1-3', 'AAAGTGAGTTTACACG-1-4', 'AAAGTGAGTTTACACG-1-5']\n",
      "  warnings.warn(\n"
     ]
    },
    {
     "name": "stdout",
     "output_type": "stream",
     "text": [
      "input/extracted_data/work/UA_Endo9426402_FX9006\n",
      "input/extracted_data/work/UA_Endo9426402_FX9006\n",
      "input/extracted_data/work/UA_Endo9426402_FX9006\n",
      "input/extracted_data/work/UA_Endo9426402_FX9006\n",
      "input/extracted_data/work/UA_Endo9426402_FX9006\n"
     ]
    },
    {
     "name": "stderr",
     "output_type": "stream",
     "text": [
      "c:\\Users\\crisi\\Desktop\\Code\\UW\\CompBio\\endometrial_analysis\\.venv\\Lib\\site-packages\\anndata\\_core\\anndata.py:1754: UserWarning: Observation names are not unique. To make them unique, call `.obs_names_make_unique`.\n",
      "  utils.warn_names_duplicates(\"obs\")\n",
      "c:\\Users\\crisi\\Desktop\\Code\\UW\\CompBio\\endometrial_analysis\\.venv\\Lib\\site-packages\\anndata\\utils.py:261: UserWarning: Suffix used (-[0-9]+) to deduplicate index values may make index values difficult to interpret. There values with a similar suffixes in the index. Consider using a different delimiter by passing `join={delimiter}`Example key collisions generated by the make_index_unique algorithm: ['AAAGTGAGTTTACACG-1-1', 'AAAGTGAGTTTACACG-1-2', 'AAAGTGAGTTTACACG-1-3', 'AAAGTGAGTTTACACG-1-4', 'AAAGTGAGTTTACACG-1-5']\n",
      "  warnings.warn(\n"
     ]
    },
    {
     "name": "stdout",
     "output_type": "stream",
     "text": [
      "input/extracted_data/work/UA_Endo9426402_FX9006\n",
      "input/extracted_data/work/UA_Endo9426402_FX9006\n",
      "input/extracted_data/work/UA_Endo9426402_FX9006\n",
      "input/extracted_data/work/UA_Endo9426402_FX9006\n",
      "input/extracted_data/work/UA_Endo9426402_FX9006\n"
     ]
    },
    {
     "name": "stderr",
     "output_type": "stream",
     "text": [
      "c:\\Users\\crisi\\Desktop\\Code\\UW\\CompBio\\endometrial_analysis\\.venv\\Lib\\site-packages\\anndata\\_core\\anndata.py:1754: UserWarning: Observation names are not unique. To make them unique, call `.obs_names_make_unique`.\n",
      "  utils.warn_names_duplicates(\"obs\")\n",
      "c:\\Users\\crisi\\Desktop\\Code\\UW\\CompBio\\endometrial_analysis\\.venv\\Lib\\site-packages\\anndata\\utils.py:261: UserWarning: Suffix used (-[0-9]+) to deduplicate index values may make index values difficult to interpret. There values with a similar suffixes in the index. Consider using a different delimiter by passing `join={delimiter}`Example key collisions generated by the make_index_unique algorithm: ['AAAGTGAGTTTACACG-1-1', 'AAAGTGAGTTTACACG-1-2', 'AAAGTGAGTTTACACG-1-3', 'AAAGTGAGTTTACACG-1-4', 'AAAGTGAGTTTACACG-1-5']\n",
      "  warnings.warn(\n"
     ]
    },
    {
     "name": "stdout",
     "output_type": "stream",
     "text": [
      "input/extracted_data/work/UA_Endo9426402_FX9006\n",
      "input/extracted_data/work/UA_Endo9426402_FX9006\n",
      "input/extracted_data/work/UA_Endo9426402_FX9006\n",
      "input/extracted_data/work/UA_Endo9426402_FX9006\n",
      "input/extracted_data/work/UA_Endo9426402_FX9006\n"
     ]
    },
    {
     "name": "stderr",
     "output_type": "stream",
     "text": [
      "c:\\Users\\crisi\\Desktop\\Code\\UW\\CompBio\\endometrial_analysis\\.venv\\Lib\\site-packages\\anndata\\_core\\anndata.py:1754: UserWarning: Observation names are not unique. To make them unique, call `.obs_names_make_unique`.\n",
      "  utils.warn_names_duplicates(\"obs\")\n",
      "c:\\Users\\crisi\\Desktop\\Code\\UW\\CompBio\\endometrial_analysis\\.venv\\Lib\\site-packages\\anndata\\utils.py:261: UserWarning: Suffix used (-[0-9]+) to deduplicate index values may make index values difficult to interpret. There values with a similar suffixes in the index. Consider using a different delimiter by passing `join={delimiter}`Example key collisions generated by the make_index_unique algorithm: ['AAAGTGAGTTTACACG-1-1', 'AAAGTGAGTTTACACG-1-2', 'AAAGTGAGTTTACACG-1-3', 'AAAGTGAGTTTACACG-1-4', 'AAAGTGAGTTTACACG-1-5']\n",
      "  warnings.warn(\n"
     ]
    },
    {
     "name": "stdout",
     "output_type": "stream",
     "text": [
      "input/extracted_data/work/UA_Endo9426402_FX9006\n",
      "input/extracted_data/work/UA_Endo9426402_FX9006\n",
      "input/extracted_data/work/UA_Endo9426402_FX9006\n",
      "input/extracted_data/work/UA_Endo9426402_FX9006\n",
      "input/extracted_data/work/UA_Endo9426402_FX9006\n"
     ]
    },
    {
     "name": "stderr",
     "output_type": "stream",
     "text": [
      "c:\\Users\\crisi\\Desktop\\Code\\UW\\CompBio\\endometrial_analysis\\.venv\\Lib\\site-packages\\anndata\\_core\\anndata.py:1754: UserWarning: Observation names are not unique. To make them unique, call `.obs_names_make_unique`.\n",
      "  utils.warn_names_duplicates(\"obs\")\n",
      "c:\\Users\\crisi\\Desktop\\Code\\UW\\CompBio\\endometrial_analysis\\.venv\\Lib\\site-packages\\anndata\\utils.py:261: UserWarning: Suffix used (-[0-9]+) to deduplicate index values may make index values difficult to interpret. There values with a similar suffixes in the index. Consider using a different delimiter by passing `join={delimiter}`Example key collisions generated by the make_index_unique algorithm: ['AAAGTGAGTTTACACG-1-1', 'AAAGTGAGTTTACACG-1-2', 'AAAGTGAGTTTACACG-1-3', 'AAAGTGAGTTTACACG-1-4', 'AAAGTGAGTTTACACG-1-5']\n",
      "  warnings.warn(\n"
     ]
    },
    {
     "name": "stdout",
     "output_type": "stream",
     "text": [
      "input/extracted_data/work/UA_Endo9426402_FX9006\n",
      "input/extracted_data/work/UA_Endo9426402_FX9006\n",
      "input/extracted_data/work/UA_Endo9426402_FX9006\n",
      "input/extracted_data/work/UA_Endo9426402_FX9006\n",
      "input/extracted_data/work/UA_Endo9426402_FX9006\n"
     ]
    },
    {
     "name": "stderr",
     "output_type": "stream",
     "text": [
      "c:\\Users\\crisi\\Desktop\\Code\\UW\\CompBio\\endometrial_analysis\\.venv\\Lib\\site-packages\\anndata\\_core\\anndata.py:1754: UserWarning: Observation names are not unique. To make them unique, call `.obs_names_make_unique`.\n",
      "  utils.warn_names_duplicates(\"obs\")\n",
      "c:\\Users\\crisi\\Desktop\\Code\\UW\\CompBio\\endometrial_analysis\\.venv\\Lib\\site-packages\\anndata\\utils.py:261: UserWarning: Suffix used (-[0-9]+) to deduplicate index values may make index values difficult to interpret. There values with a similar suffixes in the index. Consider using a different delimiter by passing `join={delimiter}`Example key collisions generated by the make_index_unique algorithm: ['AAAGTGAGTTTACACG-1-1', 'AAAGTGAGTTTACACG-1-2', 'AAAGTGAGTTTACACG-1-3', 'AAAGTGAGTTTACACG-1-4', 'AAAGTGAGTTTACACG-1-5']\n",
      "  warnings.warn(\n"
     ]
    },
    {
     "name": "stdout",
     "output_type": "stream",
     "text": [
      "input/extracted_data/work/UA_Endo9426402_FX9006\n",
      "input/extracted_data/work/UA_Endo9426402_FX9006\n",
      "input/extracted_data/work/UA_Endo9426402_FX9006\n",
      "input/extracted_data/work/UA_Endo9426402_FX9006\n",
      "input/extracted_data/work/UA_Endo9426402_FX9006\n"
     ]
    },
    {
     "name": "stderr",
     "output_type": "stream",
     "text": [
      "c:\\Users\\crisi\\Desktop\\Code\\UW\\CompBio\\endometrial_analysis\\.venv\\Lib\\site-packages\\anndata\\_core\\anndata.py:1754: UserWarning: Observation names are not unique. To make them unique, call `.obs_names_make_unique`.\n",
      "  utils.warn_names_duplicates(\"obs\")\n",
      "c:\\Users\\crisi\\Desktop\\Code\\UW\\CompBio\\endometrial_analysis\\.venv\\Lib\\site-packages\\anndata\\utils.py:261: UserWarning: Suffix used (-[0-9]+) to deduplicate index values may make index values difficult to interpret. There values with a similar suffixes in the index. Consider using a different delimiter by passing `join={delimiter}`Example key collisions generated by the make_index_unique algorithm: ['AAAGTGAGTTTACACG-1-1', 'AAAGTGAGTTTACACG-1-2', 'AAAGTGAGTTTACACG-1-3', 'AAAGTGAGTTTACACG-1-4', 'AAAGTGAGTTTACACG-1-5']\n",
      "  warnings.warn(\n"
     ]
    },
    {
     "name": "stdout",
     "output_type": "stream",
     "text": [
      "input/extracted_data/work/UA_Endo9426402_FX9006\n",
      "input/extracted_data/work/UA_Endo9426402_FX9006\n",
      "input/extracted_data/work/UA_Endo9426402_FX9006\n",
      "input/extracted_data/work/UA_Endo9426402_FX9006\n",
      "input/extracted_data/work/UA_Endo9426402_FX9006\n"
     ]
    },
    {
     "name": "stderr",
     "output_type": "stream",
     "text": [
      "c:\\Users\\crisi\\Desktop\\Code\\UW\\CompBio\\endometrial_analysis\\.venv\\Lib\\site-packages\\anndata\\_core\\anndata.py:1754: UserWarning: Observation names are not unique. To make them unique, call `.obs_names_make_unique`.\n",
      "  utils.warn_names_duplicates(\"obs\")\n",
      "c:\\Users\\crisi\\Desktop\\Code\\UW\\CompBio\\endometrial_analysis\\.venv\\Lib\\site-packages\\anndata\\utils.py:261: UserWarning: Suffix used (-[0-9]+) to deduplicate index values may make index values difficult to interpret. There values with a similar suffixes in the index. Consider using a different delimiter by passing `join={delimiter}`Example key collisions generated by the make_index_unique algorithm: ['AAAGTGAGTTTACACG-1-1', 'AAAGTGAGTTTACACG-1-2', 'AAAGTGAGTTTACACG-1-3', 'AAAGTGAGTTTACACG-1-4', 'AAAGTGAGTTTACACG-1-5']\n",
      "  warnings.warn(\n"
     ]
    },
    {
     "name": "stdout",
     "output_type": "stream",
     "text": [
      "input/extracted_data/work/UA_Endo9426402_FX9006\n",
      "input/extracted_data/work/UA_Endo9426402_FX9006\n",
      "input/extracted_data/work/UA_Endo9426402_FX9006\n",
      "input/extracted_data/work/UA_Endo9426402_FX9006\n",
      "input/extracted_data/work/UA_Endo9426402_FX9006\n"
     ]
    },
    {
     "name": "stderr",
     "output_type": "stream",
     "text": [
      "c:\\Users\\crisi\\Desktop\\Code\\UW\\CompBio\\endometrial_analysis\\.venv\\Lib\\site-packages\\anndata\\_core\\anndata.py:1754: UserWarning: Observation names are not unique. To make them unique, call `.obs_names_make_unique`.\n",
      "  utils.warn_names_duplicates(\"obs\")\n",
      "c:\\Users\\crisi\\Desktop\\Code\\UW\\CompBio\\endometrial_analysis\\.venv\\Lib\\site-packages\\anndata\\utils.py:261: UserWarning: Suffix used (-[0-9]+) to deduplicate index values may make index values difficult to interpret. There values with a similar suffixes in the index. Consider using a different delimiter by passing `join={delimiter}`Example key collisions generated by the make_index_unique algorithm: ['AAAGTGAGTTTACACG-1-1', 'AAAGTGAGTTTACACG-1-2', 'AAAGTGAGTTTACACG-1-3', 'AAAGTGAGTTTACACG-1-4', 'AAAGTGAGTTTACACG-1-5']\n",
      "  warnings.warn(\n"
     ]
    },
    {
     "name": "stdout",
     "output_type": "stream",
     "text": [
      "input/extracted_data/work/UA_Endo9426402_FX9006\n",
      "input/extracted_data/work/UA_Endo9426402_FX9006\n",
      "input/extracted_data/work/UA_Endo9426402_FX9006\n"
     ]
    },
    {
     "name": "stderr",
     "output_type": "stream",
     "text": [
      "c:\\Users\\crisi\\Desktop\\Code\\UW\\CompBio\\endometrial_analysis\\.venv\\Lib\\site-packages\\anndata\\_core\\anndata.py:1754: UserWarning: Observation names are not unique. To make them unique, call `.obs_names_make_unique`.\n",
      "  utils.warn_names_duplicates(\"obs\")\n",
      "c:\\Users\\crisi\\Desktop\\Code\\UW\\CompBio\\endometrial_analysis\\.venv\\Lib\\site-packages\\anndata\\utils.py:261: UserWarning: Suffix used (-[0-9]+) to deduplicate index values may make index values difficult to interpret. There values with a similar suffixes in the index. Consider using a different delimiter by passing `join={delimiter}`Example key collisions generated by the make_index_unique algorithm: ['AAAGTGAGTTTACACG-1-1', 'AAAGTGAGTTTACACG-1-2', 'AAAGTGAGTTTACACG-1-3', 'AAAGTGAGTTTACACG-1-4', 'AAAGTGAGTTTACACG-1-5']\n",
      "  warnings.warn(\n"
     ]
    }
   ],
   "source": [
    "import os\n",
    "import scanpy as sc\n",
    "# Directory where the files have been extracted\n",
    "extracted_work_dir = \"input/extracted_data\"  # Directory where you extracted the tar files\n",
    "\n",
    "# List to store directory names under the 'work' directory\n",
    "dataset_dirs = []\n",
    "\n",
    "# Traverse the 'work' directory to find subdirectories\n",
    "for root, dirs, files in os.walk(extracted_work_dir):\n",
    "    # Only consider directories directly under the 'work' directory\n",
    "    if \"work\" in root:\n",
    "        for dir_name in dirs:\n",
    "            \n",
    "            # Append the directory name under 'work'\n",
    "            dataset_dirs.append(path)\n",
    "\n",
    "# Now dataset_dirs contains the names of all subdirectories under 'work'\n",
    "print(\"Dataset directories under 'work':\", dataset_dirs)\n",
    "\n",
    "\n",
    "# List to store AnnData objects for merging\n",
    "adatas = []\n",
    "batch_size = 5  # Adjust based on available memory\n",
    "for i in range(0, len(dataset_dirs), batch_size):\n",
    "    # Get the current batch of files\n",
    "    batch_files = dataset_dirs[i:i+batch_size]\n",
    "    \n",
    "    # Load the current batch of datasets\n",
    "    batch_adatas = []\n",
    "    for mtx_file in batch_files:\n",
    "        print(mtx_file)\n",
    "        # Assuming each batch is loaded from corresponding directories\n",
    "        adata = sc.read_10x_mtx(mtx_file)\n",
    "        batch_adatas.append(adata)\n",
    "    \n",
    "    # Concatenate the current batch\n",
    "    if adatas:\n",
    "        adatas[0] = anndata.concat([adatas[0]] + batch_adatas)\n",
    "        adatas[0].obs_names_make_unique() \n",
    "    else:\n",
    "        adatas = batch_adatas\n",
    "\n",
    "    # Free memory by clearing the batch Adatas\n",
    "    batch_adatas = []"
   ]
  },
  {
   "cell_type": "markdown",
   "metadata": {},
   "source": [
    "Load in data -- OLAF's VERSION. Garrett Depending on what you did you made need to make a different block."
   ]
  },
  {
   "cell_type": "markdown",
   "metadata": {},
   "source": [
    "Data Exploration"
   ]
  },
  {
   "cell_type": "code",
   "execution_count": 95,
   "metadata": {},
   "outputs": [
    {
     "data": {
      "text/html": [
       "<div>\n",
       "<style scoped>\n",
       "    .dataframe tbody tr th:only-of-type {\n",
       "        vertical-align: middle;\n",
       "    }\n",
       "\n",
       "    .dataframe tbody tr th {\n",
       "        vertical-align: top;\n",
       "    }\n",
       "\n",
       "    .dataframe thead th {\n",
       "        text-align: right;\n",
       "    }\n",
       "</style>\n",
       "<table border=\"1\" class=\"dataframe\">\n",
       "  <thead>\n",
       "    <tr style=\"text-align: right;\">\n",
       "      <th></th>\n",
       "    </tr>\n",
       "  </thead>\n",
       "  <tbody>\n",
       "    <tr>\n",
       "      <th>AAAGTGAGTTTACACG-1</th>\n",
       "    </tr>\n",
       "    <tr>\n",
       "      <th>AACAACCTCGTAGCCG-1</th>\n",
       "    </tr>\n",
       "    <tr>\n",
       "      <th>AACCATGGTAAGATTG-1</th>\n",
       "    </tr>\n",
       "    <tr>\n",
       "      <th>AACCTTTTCTAGACCA-1</th>\n",
       "    </tr>\n",
       "    <tr>\n",
       "      <th>AACGGGACAGCAATTC-1</th>\n",
       "    </tr>\n",
       "  </tbody>\n",
       "</table>\n",
       "</div>"
      ],
      "text/plain": [
       "Empty DataFrame\n",
       "Columns: []\n",
       "Index: [AAAGTGAGTTTACACG-1, AACAACCTCGTAGCCG-1, AACCATGGTAAGATTG-1, AACCTTTTCTAGACCA-1, AACGGGACAGCAATTC-1]"
      ]
     },
     "execution_count": 95,
     "metadata": {},
     "output_type": "execute_result"
    }
   ],
   "source": [
    "bdata = adatas[0].copy()\n",
    "bdata.obs.head()\n"
   ]
  },
  {
   "cell_type": "code",
   "execution_count": 96,
   "metadata": {},
   "outputs": [
    {
     "data": {
      "text/html": [
       "<div>\n",
       "<style scoped>\n",
       "    .dataframe tbody tr th:only-of-type {\n",
       "        vertical-align: middle;\n",
       "    }\n",
       "\n",
       "    .dataframe tbody tr th {\n",
       "        vertical-align: top;\n",
       "    }\n",
       "\n",
       "    .dataframe thead th {\n",
       "        text-align: right;\n",
       "    }\n",
       "</style>\n",
       "<table border=\"1\" class=\"dataframe\">\n",
       "  <thead>\n",
       "    <tr style=\"text-align: right;\">\n",
       "      <th></th>\n",
       "    </tr>\n",
       "  </thead>\n",
       "  <tbody>\n",
       "    <tr>\n",
       "      <th>MIR1302-2HG</th>\n",
       "    </tr>\n",
       "    <tr>\n",
       "      <th>FAM138A</th>\n",
       "    </tr>\n",
       "    <tr>\n",
       "      <th>OR4F5</th>\n",
       "    </tr>\n",
       "    <tr>\n",
       "      <th>AL627309.1</th>\n",
       "    </tr>\n",
       "    <tr>\n",
       "      <th>AL627309.3</th>\n",
       "    </tr>\n",
       "  </tbody>\n",
       "</table>\n",
       "</div>"
      ],
      "text/plain": [
       "Empty DataFrame\n",
       "Columns: []\n",
       "Index: [MIR1302-2HG, FAM138A, OR4F5, AL627309.1, AL627309.3]"
      ]
     },
     "execution_count": 96,
     "metadata": {},
     "output_type": "execute_result"
    }
   ],
   "source": [
    "\n",
    "\n",
    "bdata.var.head()\n",
    "\n"
   ]
  },
  {
   "cell_type": "code",
   "execution_count": 99,
   "metadata": {},
   "outputs": [
    {
     "name": "stdout",
     "output_type": "stream",
     "text": [
      "Index(['MIR1302-2HG', 'FAM138A', 'OR4F5', 'AL627309.1', 'AL627309.3',\n",
      "       'AL627309.2', 'AL627309.5', 'AL627309.4', 'AP006222.2', 'AL732372.1',\n",
      "       ...\n",
      "       'AC133551.1', 'AC136612.1', 'AC136616.1', 'AC136616.3', 'AC136616.2',\n",
      "       'AC141272.1', 'AC023491.2', 'AC007325.1', 'AC007325.4', 'AC007325.2'],\n",
      "      dtype='object', length=36601)\n"
     ]
    },
    {
     "data": {
      "text/plain": [
       "<Compressed Sparse Row sparse matrix of dtype 'float32'\n",
       "\twith 99304128 stored elements and shape (15642, 36601)>"
      ]
     },
     "execution_count": 99,
     "metadata": {},
     "output_type": "execute_result"
    }
   ],
   "source": [
    "print(bdata.var_names)\n",
    "bdata.X"
   ]
  },
  {
   "cell_type": "code",
   "execution_count": 102,
   "metadata": {},
   "outputs": [
    {
     "ename": "OSError",
     "evalue": "[Errno 28] Driver write request failed (file write failed: time = Thu Nov  7 03:26:38 2024\n, filename = 'output\\integrated_data.h5ad', file descriptor = 3, errno = 28, error message = 'No space left on device', buf = 0000023CF79A7608, total write size = 96980, bytes this sub-write = 96980, bytes actually written = 18446744073709551615, offset = 117982728)",
     "output_type": "error",
     "traceback": [
      "\u001b[1;31m---------------------------------------------------------------------------\u001b[0m",
      "\u001b[1;31mOSError\u001b[0m                                   Traceback (most recent call last)",
      "File \u001b[1;32mc:\\Users\\crisi\\Desktop\\Code\\UW\\CompBio\\endometrial_analysis\\.venv\\Lib\\site-packages\\anndata\\_io\\h5ad.py:88\u001b[0m, in \u001b[0;36mwrite_h5ad\u001b[1;34m(filepath, adata, as_dense, dataset_kwargs, **kwargs)\u001b[0m\n\u001b[0;32m     86\u001b[0m \u001b[38;5;28;01melif\u001b[39;00m \u001b[38;5;129;01mnot\u001b[39;00m (adata\u001b[38;5;241m.\u001b[39misbacked \u001b[38;5;129;01mand\u001b[39;00m Path(adata\u001b[38;5;241m.\u001b[39mfilename) \u001b[38;5;241m==\u001b[39m Path(filepath)):\n\u001b[0;32m     87\u001b[0m     \u001b[38;5;66;03m# If adata.isbacked, X should already be up to date\u001b[39;00m\n\u001b[1;32m---> 88\u001b[0m     \u001b[43mwrite_elem\u001b[49m\u001b[43m(\u001b[49m\u001b[43mf\u001b[49m\u001b[43m,\u001b[49m\u001b[43m \u001b[49m\u001b[38;5;124;43m\"\u001b[39;49m\u001b[38;5;124;43mX\u001b[39;49m\u001b[38;5;124;43m\"\u001b[39;49m\u001b[43m,\u001b[49m\u001b[43m \u001b[49m\u001b[43madata\u001b[49m\u001b[38;5;241;43m.\u001b[39;49m\u001b[43mX\u001b[49m\u001b[43m,\u001b[49m\u001b[43m \u001b[49m\u001b[43mdataset_kwargs\u001b[49m\u001b[38;5;241;43m=\u001b[39;49m\u001b[43mdataset_kwargs\u001b[49m\u001b[43m)\u001b[49m\n\u001b[0;32m     89\u001b[0m \u001b[38;5;28;01mif\u001b[39;00m \u001b[38;5;124m\"\u001b[39m\u001b[38;5;124mraw/X\u001b[39m\u001b[38;5;124m\"\u001b[39m \u001b[38;5;129;01min\u001b[39;00m as_dense \u001b[38;5;129;01mand\u001b[39;00m \u001b[38;5;28misinstance\u001b[39m(\n\u001b[0;32m     90\u001b[0m     adata\u001b[38;5;241m.\u001b[39mraw\u001b[38;5;241m.\u001b[39mX, (sparse\u001b[38;5;241m.\u001b[39mspmatrix, BaseCompressedSparseDataset)\n\u001b[0;32m     91\u001b[0m ):\n",
      "File \u001b[1;32mc:\\Users\\crisi\\Desktop\\Code\\UW\\CompBio\\endometrial_analysis\\.venv\\Lib\\site-packages\\anndata\\_io\\specs\\registry.py:378\u001b[0m, in \u001b[0;36mwrite_elem\u001b[1;34m(store, k, elem, dataset_kwargs)\u001b[0m\n\u001b[0;32m    361\u001b[0m \u001b[38;5;250m\u001b[39m\u001b[38;5;124;03m\"\"\"\u001b[39;00m\n\u001b[0;32m    362\u001b[0m \u001b[38;5;124;03mWrite an element to a storage group using anndata encoding.\u001b[39;00m\n\u001b[0;32m    363\u001b[0m \n\u001b[1;32m   (...)\u001b[0m\n\u001b[0;32m    376\u001b[0m \u001b[38;5;124;03m    E.g. for zarr this would be `chunks`, `compressor`.\u001b[39;00m\n\u001b[0;32m    377\u001b[0m \u001b[38;5;124;03m\"\"\"\u001b[39;00m\n\u001b[1;32m--> 378\u001b[0m \u001b[43mWriter\u001b[49m\u001b[43m(\u001b[49m\u001b[43m_REGISTRY\u001b[49m\u001b[43m)\u001b[49m\u001b[38;5;241;43m.\u001b[39;49m\u001b[43mwrite_elem\u001b[49m\u001b[43m(\u001b[49m\u001b[43mstore\u001b[49m\u001b[43m,\u001b[49m\u001b[43m \u001b[49m\u001b[43mk\u001b[49m\u001b[43m,\u001b[49m\u001b[43m \u001b[49m\u001b[43melem\u001b[49m\u001b[43m,\u001b[49m\u001b[43m \u001b[49m\u001b[43mdataset_kwargs\u001b[49m\u001b[38;5;241;43m=\u001b[39;49m\u001b[43mdataset_kwargs\u001b[49m\u001b[43m)\u001b[49m\n",
      "File \u001b[1;32mc:\\Users\\crisi\\Desktop\\Code\\UW\\CompBio\\endometrial_analysis\\.venv\\Lib\\site-packages\\anndata\\_io\\utils.py:247\u001b[0m, in \u001b[0;36mreport_write_key_on_error.<locals>.func_wrapper\u001b[1;34m(*args, **kwargs)\u001b[0m\n\u001b[0;32m    246\u001b[0m \u001b[38;5;28;01mtry\u001b[39;00m:\n\u001b[1;32m--> 247\u001b[0m     \u001b[38;5;28;01mreturn\u001b[39;00m \u001b[43mfunc\u001b[49m\u001b[43m(\u001b[49m\u001b[38;5;241;43m*\u001b[39;49m\u001b[43margs\u001b[49m\u001b[43m,\u001b[49m\u001b[43m \u001b[49m\u001b[38;5;241;43m*\u001b[39;49m\u001b[38;5;241;43m*\u001b[39;49m\u001b[43mkwargs\u001b[49m\u001b[43m)\u001b[49m\n\u001b[0;32m    248\u001b[0m \u001b[38;5;28;01mexcept\u001b[39;00m \u001b[38;5;167;01mException\u001b[39;00m \u001b[38;5;28;01mas\u001b[39;00m e:\n",
      "File \u001b[1;32mc:\\Users\\crisi\\Desktop\\Code\\UW\\CompBio\\endometrial_analysis\\.venv\\Lib\\site-packages\\anndata\\_io\\specs\\registry.py:328\u001b[0m, in \u001b[0;36mWriter.write_elem\u001b[1;34m(self, store, k, elem, dataset_kwargs, modifiers)\u001b[0m\n\u001b[0;32m    327\u001b[0m \u001b[38;5;28;01mif\u001b[39;00m \u001b[38;5;28mself\u001b[39m\u001b[38;5;241m.\u001b[39mcallback \u001b[38;5;129;01mis\u001b[39;00m \u001b[38;5;28;01mNone\u001b[39;00m:\n\u001b[1;32m--> 328\u001b[0m     \u001b[38;5;28;01mreturn\u001b[39;00m \u001b[43mwrite_func\u001b[49m\u001b[43m(\u001b[49m\u001b[43mstore\u001b[49m\u001b[43m,\u001b[49m\u001b[43m \u001b[49m\u001b[43mk\u001b[49m\u001b[43m,\u001b[49m\u001b[43m \u001b[49m\u001b[43melem\u001b[49m\u001b[43m,\u001b[49m\u001b[43m \u001b[49m\u001b[43mdataset_kwargs\u001b[49m\u001b[38;5;241;43m=\u001b[39;49m\u001b[43mdataset_kwargs\u001b[49m\u001b[43m)\u001b[49m\n\u001b[0;32m    329\u001b[0m \u001b[38;5;28;01mreturn\u001b[39;00m \u001b[38;5;28mself\u001b[39m\u001b[38;5;241m.\u001b[39mcallback(\n\u001b[0;32m    330\u001b[0m     write_func,\n\u001b[0;32m    331\u001b[0m     store,\n\u001b[1;32m   (...)\u001b[0m\n\u001b[0;32m    335\u001b[0m     iospec\u001b[38;5;241m=\u001b[39m\u001b[38;5;28mself\u001b[39m\u001b[38;5;241m.\u001b[39mregistry\u001b[38;5;241m.\u001b[39mget_spec(elem),\n\u001b[0;32m    336\u001b[0m )\n",
      "File \u001b[1;32mc:\\Users\\crisi\\Desktop\\Code\\UW\\CompBio\\endometrial_analysis\\.venv\\Lib\\site-packages\\anndata\\_io\\specs\\registry.py:71\u001b[0m, in \u001b[0;36mwrite_spec.<locals>.decorator.<locals>.wrapper\u001b[1;34m(g, k, *args, **kwargs)\u001b[0m\n\u001b[0;32m     69\u001b[0m \u001b[38;5;129m@wraps\u001b[39m(func)\n\u001b[0;32m     70\u001b[0m \u001b[38;5;28;01mdef\u001b[39;00m \u001b[38;5;21mwrapper\u001b[39m(g: GroupStorageType, k: \u001b[38;5;28mstr\u001b[39m, \u001b[38;5;241m*\u001b[39margs, \u001b[38;5;241m*\u001b[39m\u001b[38;5;241m*\u001b[39mkwargs):\n\u001b[1;32m---> 71\u001b[0m     result \u001b[38;5;241m=\u001b[39m \u001b[43mfunc\u001b[49m\u001b[43m(\u001b[49m\u001b[43mg\u001b[49m\u001b[43m,\u001b[49m\u001b[43m \u001b[49m\u001b[43mk\u001b[49m\u001b[43m,\u001b[49m\u001b[43m \u001b[49m\u001b[38;5;241;43m*\u001b[39;49m\u001b[43margs\u001b[49m\u001b[43m,\u001b[49m\u001b[43m \u001b[49m\u001b[38;5;241;43m*\u001b[39;49m\u001b[38;5;241;43m*\u001b[39;49m\u001b[43mkwargs\u001b[49m\u001b[43m)\u001b[49m\n\u001b[0;32m     72\u001b[0m     g[k]\u001b[38;5;241m.\u001b[39mattrs\u001b[38;5;241m.\u001b[39msetdefault(\u001b[38;5;124m\"\u001b[39m\u001b[38;5;124mencoding-type\u001b[39m\u001b[38;5;124m\"\u001b[39m, spec\u001b[38;5;241m.\u001b[39mencoding_type)\n",
      "File \u001b[1;32mc:\\Users\\crisi\\Desktop\\Code\\UW\\CompBio\\endometrial_analysis\\.venv\\Lib\\site-packages\\anndata\\_io\\specs\\methods.py:601\u001b[0m, in \u001b[0;36mwrite_sparse_compressed\u001b[1;34m(f, key, value, _writer, fmt, dataset_kwargs)\u001b[0m\n\u001b[0;32m    599\u001b[0m     dataset_kwargs \u001b[38;5;241m=\u001b[39m \u001b[38;5;28mdict\u001b[39m(maxshape\u001b[38;5;241m=\u001b[39m(\u001b[38;5;28;01mNone\u001b[39;00m,), \u001b[38;5;241m*\u001b[39m\u001b[38;5;241m*\u001b[39mdataset_kwargs)\n\u001b[1;32m--> 601\u001b[0m \u001b[43mg\u001b[49m\u001b[38;5;241;43m.\u001b[39;49m\u001b[43mcreate_dataset\u001b[49m\u001b[43m(\u001b[49m\u001b[38;5;124;43m\"\u001b[39;49m\u001b[38;5;124;43mdata\u001b[39;49m\u001b[38;5;124;43m\"\u001b[39;49m\u001b[43m,\u001b[49m\u001b[43m \u001b[49m\u001b[43mdata\u001b[49m\u001b[38;5;241;43m=\u001b[39;49m\u001b[43mvalue\u001b[49m\u001b[38;5;241;43m.\u001b[39;49m\u001b[43mdata\u001b[49m\u001b[43m,\u001b[49m\u001b[43m \u001b[49m\u001b[38;5;241;43m*\u001b[39;49m\u001b[38;5;241;43m*\u001b[39;49m\u001b[43mdataset_kwargs\u001b[49m\u001b[43m)\u001b[49m\n\u001b[0;32m    602\u001b[0m g\u001b[38;5;241m.\u001b[39mcreate_dataset(\u001b[38;5;124m\"\u001b[39m\u001b[38;5;124mindices\u001b[39m\u001b[38;5;124m\"\u001b[39m, data\u001b[38;5;241m=\u001b[39mvalue\u001b[38;5;241m.\u001b[39mindices, \u001b[38;5;241m*\u001b[39m\u001b[38;5;241m*\u001b[39mdataset_kwargs)\n",
      "File \u001b[1;32mc:\\Users\\crisi\\Desktop\\Code\\UW\\CompBio\\endometrial_analysis\\.venv\\Lib\\site-packages\\h5py\\_hl\\group.py:183\u001b[0m, in \u001b[0;36mGroup.create_dataset\u001b[1;34m(self, name, shape, dtype, data, **kwds)\u001b[0m\n\u001b[0;32m    181\u001b[0m         group \u001b[38;5;241m=\u001b[39m \u001b[38;5;28mself\u001b[39m\u001b[38;5;241m.\u001b[39mrequire_group(parent_path)\n\u001b[1;32m--> 183\u001b[0m dsid \u001b[38;5;241m=\u001b[39m \u001b[43mdataset\u001b[49m\u001b[38;5;241;43m.\u001b[39;49m\u001b[43mmake_new_dset\u001b[49m\u001b[43m(\u001b[49m\u001b[43mgroup\u001b[49m\u001b[43m,\u001b[49m\u001b[43m \u001b[49m\u001b[43mshape\u001b[49m\u001b[43m,\u001b[49m\u001b[43m \u001b[49m\u001b[43mdtype\u001b[49m\u001b[43m,\u001b[49m\u001b[43m \u001b[49m\u001b[43mdata\u001b[49m\u001b[43m,\u001b[49m\u001b[43m \u001b[49m\u001b[43mname\u001b[49m\u001b[43m,\u001b[49m\u001b[43m \u001b[49m\u001b[38;5;241;43m*\u001b[39;49m\u001b[38;5;241;43m*\u001b[39;49m\u001b[43mkwds\u001b[49m\u001b[43m)\u001b[49m\n\u001b[0;32m    184\u001b[0m dset \u001b[38;5;241m=\u001b[39m dataset\u001b[38;5;241m.\u001b[39mDataset(dsid)\n",
      "File \u001b[1;32mc:\\Users\\crisi\\Desktop\\Code\\UW\\CompBio\\endometrial_analysis\\.venv\\Lib\\site-packages\\h5py\\_hl\\dataset.py:168\u001b[0m, in \u001b[0;36mmake_new_dset\u001b[1;34m(parent, shape, dtype, data, name, chunks, compression, shuffle, fletcher32, maxshape, compression_opts, fillvalue, scaleoffset, track_times, external, track_order, dcpl, dapl, efile_prefix, virtual_prefix, allow_unknown_filter, rdcc_nslots, rdcc_nbytes, rdcc_w0, fill_time)\u001b[0m\n\u001b[0;32m    167\u001b[0m \u001b[38;5;28;01mif\u001b[39;00m (data \u001b[38;5;129;01mis\u001b[39;00m \u001b[38;5;129;01mnot\u001b[39;00m \u001b[38;5;28;01mNone\u001b[39;00m) \u001b[38;5;129;01mand\u001b[39;00m (\u001b[38;5;129;01mnot\u001b[39;00m \u001b[38;5;28misinstance\u001b[39m(data, Empty)):\n\u001b[1;32m--> 168\u001b[0m     \u001b[43mdset_id\u001b[49m\u001b[38;5;241;43m.\u001b[39;49m\u001b[43mwrite\u001b[49m\u001b[43m(\u001b[49m\u001b[43mh5s\u001b[49m\u001b[38;5;241;43m.\u001b[39;49m\u001b[43mALL\u001b[49m\u001b[43m,\u001b[49m\u001b[43m \u001b[49m\u001b[43mh5s\u001b[49m\u001b[38;5;241;43m.\u001b[39;49m\u001b[43mALL\u001b[49m\u001b[43m,\u001b[49m\u001b[43m \u001b[49m\u001b[43mdata\u001b[49m\u001b[43m)\u001b[49m\n\u001b[0;32m    170\u001b[0m \u001b[38;5;28;01mreturn\u001b[39;00m dset_id\n",
      "File \u001b[1;32mh5py\\\\_objects.pyx:54\u001b[0m, in \u001b[0;36mh5py._objects.with_phil.wrapper\u001b[1;34m()\u001b[0m\n",
      "File \u001b[1;32mh5py\\\\_objects.pyx:55\u001b[0m, in \u001b[0;36mh5py._objects.with_phil.wrapper\u001b[1;34m()\u001b[0m\n",
      "File \u001b[1;32mh5py\\\\h5d.pyx:281\u001b[0m, in \u001b[0;36mh5py.h5d.DatasetID.write\u001b[1;34m()\u001b[0m\n",
      "File \u001b[1;32mh5py\\\\_proxy.pyx:115\u001b[0m, in \u001b[0;36mh5py._proxy.dset_rw\u001b[1;34m()\u001b[0m\n",
      "\u001b[1;31mOSError\u001b[0m: [Errno 28] Can't synchronously write data (file write failed: time = Thu Nov  7 03:26:37 2024\n, filename = 'output\\integrated_data.h5ad', file descriptor = 3, errno = 28, error message = 'No space left on device', buf = 0000023CADDE9FB8, total write size = 96980, bytes this sub-write = 96980, bytes actually written = 18446744073709551615, offset = 117885748)",
      "\u001b[0mError raised while writing key 'X' of <class 'h5py._hl.group.Group'> to /",
      "\nDuring handling of the above exception, another exception occurred:\n",
      "\u001b[1;31mOSError\u001b[0m                                   Traceback (most recent call last)",
      "Cell \u001b[1;32mIn[102], line 3\u001b[0m\n\u001b[0;32m      1\u001b[0m bdata\u001b[38;5;241m.\u001b[39mobs\n\u001b[0;32m      2\u001b[0m output_file \u001b[38;5;241m=\u001b[39m \u001b[38;5;124m\"\u001b[39m\u001b[38;5;124moutput/integrated_data.h5ad\u001b[39m\u001b[38;5;124m\"\u001b[39m\n\u001b[1;32m----> 3\u001b[0m \u001b[43mbdata\u001b[49m\u001b[38;5;241;43m.\u001b[39;49m\u001b[43mwrite\u001b[49m\u001b[43m(\u001b[49m\u001b[43moutput_file\u001b[49m\u001b[43m)\u001b[49m\n",
      "File \u001b[1;32mc:\\Users\\crisi\\Desktop\\Code\\UW\\CompBio\\endometrial_analysis\\.venv\\Lib\\site-packages\\anndata\\_core\\anndata.py:1863\u001b[0m, in \u001b[0;36mAnnData.write_h5ad\u001b[1;34m(self, filename, compression, compression_opts, as_dense)\u001b[0m\n\u001b[0;32m   1860\u001b[0m \u001b[38;5;28;01mif\u001b[39;00m filename \u001b[38;5;129;01mis\u001b[39;00m \u001b[38;5;28;01mNone\u001b[39;00m:\n\u001b[0;32m   1861\u001b[0m     filename \u001b[38;5;241m=\u001b[39m \u001b[38;5;28mself\u001b[39m\u001b[38;5;241m.\u001b[39mfilename\n\u001b[1;32m-> 1863\u001b[0m \u001b[43mwrite_h5ad\u001b[49m\u001b[43m(\u001b[49m\n\u001b[0;32m   1864\u001b[0m \u001b[43m    \u001b[49m\u001b[43mPath\u001b[49m\u001b[43m(\u001b[49m\u001b[43mfilename\u001b[49m\u001b[43m)\u001b[49m\u001b[43m,\u001b[49m\n\u001b[0;32m   1865\u001b[0m \u001b[43m    \u001b[49m\u001b[38;5;28;43mself\u001b[39;49m\u001b[43m,\u001b[49m\n\u001b[0;32m   1866\u001b[0m \u001b[43m    \u001b[49m\u001b[43mcompression\u001b[49m\u001b[38;5;241;43m=\u001b[39;49m\u001b[43mcompression\u001b[49m\u001b[43m,\u001b[49m\n\u001b[0;32m   1867\u001b[0m \u001b[43m    \u001b[49m\u001b[43mcompression_opts\u001b[49m\u001b[38;5;241;43m=\u001b[39;49m\u001b[43mcompression_opts\u001b[49m\u001b[43m,\u001b[49m\n\u001b[0;32m   1868\u001b[0m \u001b[43m    \u001b[49m\u001b[43mas_dense\u001b[49m\u001b[38;5;241;43m=\u001b[39;49m\u001b[43mas_dense\u001b[49m\u001b[43m,\u001b[49m\n\u001b[0;32m   1869\u001b[0m \u001b[43m\u001b[49m\u001b[43m)\u001b[49m\n\u001b[0;32m   1871\u001b[0m \u001b[38;5;28;01mif\u001b[39;00m \u001b[38;5;28mself\u001b[39m\u001b[38;5;241m.\u001b[39misbacked:\n\u001b[0;32m   1872\u001b[0m     \u001b[38;5;28mself\u001b[39m\u001b[38;5;241m.\u001b[39mfile\u001b[38;5;241m.\u001b[39mfilename \u001b[38;5;241m=\u001b[39m filename\n",
      "File \u001b[1;32mc:\\Users\\crisi\\Desktop\\Code\\UW\\CompBio\\endometrial_analysis\\.venv\\Lib\\site-packages\\anndata\\_io\\h5ad.py:74\u001b[0m, in \u001b[0;36mwrite_h5ad\u001b[1;34m(filepath, adata, as_dense, dataset_kwargs, **kwargs)\u001b[0m\n\u001b[0;32m     71\u001b[0m \u001b[38;5;28;01mif\u001b[39;00m adata\u001b[38;5;241m.\u001b[39misbacked:  \u001b[38;5;66;03m# close so that we can reopen below\u001b[39;00m\n\u001b[0;32m     72\u001b[0m     adata\u001b[38;5;241m.\u001b[39mfile\u001b[38;5;241m.\u001b[39mclose()\n\u001b[1;32m---> 74\u001b[0m \u001b[43m\u001b[49m\u001b[38;5;28;43;01mwith\u001b[39;49;00m\u001b[43m \u001b[49m\u001b[43mh5py\u001b[49m\u001b[38;5;241;43m.\u001b[39;49m\u001b[43mFile\u001b[49m\u001b[43m(\u001b[49m\u001b[43mfilepath\u001b[49m\u001b[43m,\u001b[49m\u001b[43m \u001b[49m\u001b[43mmode\u001b[49m\u001b[43m)\u001b[49m\u001b[43m \u001b[49m\u001b[38;5;28;43;01mas\u001b[39;49;00m\u001b[43m \u001b[49m\u001b[43mf\u001b[49m\u001b[43m:\u001b[49m\n\u001b[0;32m     75\u001b[0m \u001b[43m    \u001b[49m\u001b[38;5;66;43;03m# TODO: Use spec writing system for this\u001b[39;49;00m\n\u001b[0;32m     76\u001b[0m \u001b[43m    \u001b[49m\u001b[38;5;66;43;03m# Currently can't use write_dispatched here because this function is also called to do an\u001b[39;49;00m\n\u001b[0;32m     77\u001b[0m \u001b[43m    \u001b[49m\u001b[38;5;66;43;03m# inplace update of a backed object, which would delete \"/\"\u001b[39;49;00m\n\u001b[0;32m     78\u001b[0m \u001b[43m    \u001b[49m\u001b[43mf\u001b[49m\u001b[43m \u001b[49m\u001b[38;5;241;43m=\u001b[39;49m\u001b[43m \u001b[49m\u001b[43mf\u001b[49m\u001b[43m[\u001b[49m\u001b[38;5;124;43m\"\u001b[39;49m\u001b[38;5;124;43m/\u001b[39;49m\u001b[38;5;124;43m\"\u001b[39;49m\u001b[43m]\u001b[49m\n\u001b[0;32m     79\u001b[0m \u001b[43m    \u001b[49m\u001b[43mf\u001b[49m\u001b[38;5;241;43m.\u001b[39;49m\u001b[43mattrs\u001b[49m\u001b[38;5;241;43m.\u001b[39;49m\u001b[43msetdefault\u001b[49m\u001b[43m(\u001b[49m\u001b[38;5;124;43m\"\u001b[39;49m\u001b[38;5;124;43mencoding-type\u001b[39;49m\u001b[38;5;124;43m\"\u001b[39;49m\u001b[43m,\u001b[49m\u001b[43m \u001b[49m\u001b[38;5;124;43m\"\u001b[39;49m\u001b[38;5;124;43manndata\u001b[39;49m\u001b[38;5;124;43m\"\u001b[39;49m\u001b[43m)\u001b[49m\n",
      "File \u001b[1;32mh5py\\\\_objects.pyx:54\u001b[0m, in \u001b[0;36mh5py._objects.with_phil.wrapper\u001b[1;34m()\u001b[0m\n",
      "File \u001b[1;32mh5py\\\\_objects.pyx:55\u001b[0m, in \u001b[0;36mh5py._objects.with_phil.wrapper\u001b[1;34m()\u001b[0m\n",
      "File \u001b[1;32mc:\\Users\\crisi\\Desktop\\Code\\UW\\CompBio\\endometrial_analysis\\.venv\\Lib\\site-packages\\h5py\\_hl\\files.py:598\u001b[0m, in \u001b[0;36mFile.__exit__\u001b[1;34m(self, *args)\u001b[0m\n\u001b[0;32m    595\u001b[0m \u001b[38;5;129m@with_phil\u001b[39m\n\u001b[0;32m    596\u001b[0m \u001b[38;5;28;01mdef\u001b[39;00m \u001b[38;5;21m__exit__\u001b[39m(\u001b[38;5;28mself\u001b[39m, \u001b[38;5;241m*\u001b[39margs):\n\u001b[0;32m    597\u001b[0m     \u001b[38;5;28;01mif\u001b[39;00m \u001b[38;5;28mself\u001b[39m\u001b[38;5;241m.\u001b[39mid:\n\u001b[1;32m--> 598\u001b[0m         \u001b[38;5;28;43mself\u001b[39;49m\u001b[38;5;241;43m.\u001b[39;49m\u001b[43mclose\u001b[49m\u001b[43m(\u001b[49m\u001b[43m)\u001b[49m\n",
      "File \u001b[1;32mc:\\Users\\crisi\\Desktop\\Code\\UW\\CompBio\\endometrial_analysis\\.venv\\Lib\\site-packages\\h5py\\_hl\\files.py:579\u001b[0m, in \u001b[0;36mFile.close\u001b[1;34m(self)\u001b[0m\n\u001b[0;32m    572\u001b[0m \u001b[38;5;28;01mwith\u001b[39;00m phil:\n\u001b[0;32m    573\u001b[0m     \u001b[38;5;66;03m# Check that the file is still open, otherwise skip\u001b[39;00m\n\u001b[0;32m    574\u001b[0m     \u001b[38;5;28;01mif\u001b[39;00m \u001b[38;5;28mself\u001b[39m\u001b[38;5;241m.\u001b[39mid\u001b[38;5;241m.\u001b[39mvalid:\n\u001b[0;32m    575\u001b[0m         \u001b[38;5;66;03m# We have to explicitly murder all open objects related to the file\u001b[39;00m\n\u001b[0;32m    576\u001b[0m \n\u001b[0;32m    577\u001b[0m         \u001b[38;5;66;03m# Close file-resident objects first, then the files.\u001b[39;00m\n\u001b[0;32m    578\u001b[0m         \u001b[38;5;66;03m# Otherwise we get errors in MPI mode.\u001b[39;00m\n\u001b[1;32m--> 579\u001b[0m         \u001b[38;5;28;43mself\u001b[39;49m\u001b[38;5;241;43m.\u001b[39;49m\u001b[43mid\u001b[49m\u001b[38;5;241;43m.\u001b[39;49m\u001b[43m_close_open_objects\u001b[49m\u001b[43m(\u001b[49m\u001b[43mh5f\u001b[49m\u001b[38;5;241;43m.\u001b[39;49m\u001b[43mOBJ_LOCAL\u001b[49m\u001b[43m \u001b[49m\u001b[38;5;241;43m|\u001b[39;49m\u001b[43m \u001b[49m\u001b[38;5;241;43m~\u001b[39;49m\u001b[43mh5f\u001b[49m\u001b[38;5;241;43m.\u001b[39;49m\u001b[43mOBJ_FILE\u001b[49m\u001b[43m)\u001b[49m\n\u001b[0;32m    580\u001b[0m         \u001b[38;5;28mself\u001b[39m\u001b[38;5;241m.\u001b[39mid\u001b[38;5;241m.\u001b[39m_close_open_objects(h5f\u001b[38;5;241m.\u001b[39mOBJ_LOCAL \u001b[38;5;241m|\u001b[39m h5f\u001b[38;5;241m.\u001b[39mOBJ_FILE)\n\u001b[0;32m    582\u001b[0m         \u001b[38;5;28mself\u001b[39m\u001b[38;5;241m.\u001b[39mid\u001b[38;5;241m.\u001b[39mclose()\n",
      "File \u001b[1;32mh5py\\\\_objects.pyx:54\u001b[0m, in \u001b[0;36mh5py._objects.with_phil.wrapper\u001b[1;34m()\u001b[0m\n",
      "File \u001b[1;32mh5py\\\\_objects.pyx:55\u001b[0m, in \u001b[0;36mh5py._objects.with_phil.wrapper\u001b[1;34m()\u001b[0m\n",
      "File \u001b[1;32mh5py\\\\h5f.pyx:355\u001b[0m, in \u001b[0;36mh5py.h5f.FileID._close_open_objects\u001b[1;34m()\u001b[0m\n",
      "\u001b[1;31mOSError\u001b[0m: [Errno 28] Driver write request failed (file write failed: time = Thu Nov  7 03:26:38 2024\n, filename = 'output\\integrated_data.h5ad', file descriptor = 3, errno = 28, error message = 'No space left on device', buf = 0000023CF79A7608, total write size = 96980, bytes this sub-write = 96980, bytes actually written = 18446744073709551615, offset = 117982728)"
     ]
    }
   ],
   "source": [
    "bdata.obs\n",
    "output_file = \"output/integrated_data.h5ad\"\n",
    "bdata.write(output_file)"
   ]
  },
  {
   "cell_type": "markdown",
   "metadata": {},
   "source": [
    "## Quality Control"
   ]
  },
  {
   "cell_type": "code",
   "execution_count": null,
   "metadata": {},
   "outputs": [],
   "source": [
    "adata.var['mt'] = adata.var_names.str.startswith('mt-')  # annotate the group of mitochondrial genes as 'mt'\n",
    "sc.pp.calculate_qc_metrics(adata, qc_vars=['mt'], percent_top=None, log1p=False, inplace=True)\n",
    "\n",
    "\n",
    "adata.obs.head()\n",
    "\n"
   ]
  },
  {
   "cell_type": "code",
   "execution_count": null,
   "metadata": {},
   "outputs": [],
   "source": [
    "sc.pl.violin(\n",
    "    adata, \n",
    "    [\n",
    "     'n_genes_by_counts', \n",
    "     'total_counts', \n",
    "     'pct_counts_mt'\n",
    "     ],\n",
    "    multi_panel=True\n",
    ")"
   ]
  },
  {
   "cell_type": "code",
   "execution_count": null,
   "metadata": {},
   "outputs": [],
   "source": [
    "sc.pl.scatter(adata, \"total_counts\", \"n_genes_by_counts\")"
   ]
  },
  {
   "cell_type": "markdown",
   "metadata": {},
   "source": [
    "### Normalization"
   ]
  },
  {
   "cell_type": "code",
   "execution_count": null,
   "metadata": {},
   "outputs": [],
   "source": [
    "adata.layers[\"counts\"] = adata.X.copy()\n",
    "sc.pp.normalize_total(adata, target_sum=1e4) \n",
    "sc.pp.log1p(adata) \n",
    "adata.raw = adata"
   ]
  },
  {
   "cell_type": "code",
   "execution_count": null,
   "metadata": {},
   "outputs": [],
   "source": [
    "sc.pp.highly_variable_genes(\n",
    "    adata,\n",
    "    n_top_genes=4000,\n",
    "    # subset=True, # to automatically subset to the 4000 genes\n",
    "    layer=\"counts\",\n",
    "    flavor=\"seurat_v3\"\n",
    ")\n",
    "sc.pl.highly_variable_genes(adata, log=True)"
   ]
  },
  {
   "cell_type": "code",
   "execution_count": null,
   "metadata": {},
   "outputs": [],
   "source": [
    "adata = adata[:, adata.var.highly_variable].copy()\n",
    "adata.raw.to_adata()"
   ]
  },
  {
   "cell_type": "markdown",
   "metadata": {},
   "source": [
    "### Standard Workflow"
   ]
  },
  {
   "cell_type": "code",
   "execution_count": null,
   "metadata": {},
   "outputs": [],
   "source": [
    "sc.pp.scale(adata) # z normalize the columns (genes)\n",
    "sc.tl.pca(adata)\n",
    "\n",
    "\n",
    "adata.obsm[\"X_pca\"]\n",
    "sc.pp.neighbors(adata) # compute nearest neighbors\n",
    "sc.tl.umap(adata)\n",
    "sc.pl.umap(adata, color=\"batch\")"
   ]
  },
  {
   "cell_type": "markdown",
   "metadata": {},
   "source": [
    "IF THE CLUSTERS ARE BY BATCH:: ADD THIS CODE:"
   ]
  },
  {
   "cell_type": "code",
   "execution_count": null,
   "metadata": {},
   "outputs": [],
   "source": [
    "\n",
    "import scanpy.external as sce\n",
    "sce.pp.bbknn(adata, batch_key=\"batch\")\n",
    "sc.tl.umap(adata)\n",
    "sc.pl.umap(adata, color=[\"batch\", \"cell_types\"], ncols=1)\n"
   ]
  },
  {
   "cell_type": "markdown",
   "metadata": {},
   "source": [
    "IF IT STILL DOESN'T WORK THEN REDO THE LOAD IN AND USE SCIVI\n",
    "https://ccbskillssem.github.io/assets/scvi_notebook.html\n",
    "\n",
    "https://www.youtube.com/watch?v=EKTg9NV5hEA"
   ]
  },
  {
   "cell_type": "markdown",
   "metadata": {},
   "source": [
    "## SCENIC"
   ]
  },
  {
   "cell_type": "markdown",
   "metadata": {},
   "source": [
    "##### STEP 1: IDENTIFY TF with arboreto \n"
   ]
  },
  {
   "cell_type": "code",
   "execution_count": null,
   "metadata": {},
   "outputs": [],
   "source": [
    "f_tfs = \"/ddn1/vol1/staging/leuven/stg_00002/lcb/cflerin/resources/allTFs_hg38.txt\"\n",
    "\n",
    "!pyscenic grn {f_loom_path_scenic} {f_tfs} -o adj.csv --num_workers 20\n",
    "\n",
    "adjacencies = pd.read_csv(\"adj.tsv\", index_col=False, sep='\\t')\n",
    "adjacencies.head()"
   ]
  },
  {
   "cell_type": "markdown",
   "metadata": {},
   "source": [
    "##### STEP 2: Refine regulons through pruning "
   ]
  },
  {
   "cell_type": "code",
   "execution_count": null,
   "metadata": {},
   "outputs": [],
   "source": [
    "\n",
    "# ranking databases\n",
    "f_db_glob = \"/ddn1/vol1/staging/leuven/res_00001/databases/cistarget/databases/homo_sapiens/hg38/refseq_r80/mc9nr/gene_based/*feather\"\n",
    "f_db_names = ' '.join( glob.glob(f_db_glob) )\n",
    "\n",
    "# motif databases\n",
    "f_motif_path = \"/ddn1/vol1/staging/leuven/res_00001/databases/cistarget/motif2tf/motifs-v9-nr.hgnc-m0.001-o0.0.tbl\""
   ]
  },
  {
   "cell_type": "code",
   "execution_count": null,
   "metadata": {
    "vscode": {
     "languageId": "powershell"
    }
   },
   "outputs": [],
   "source": [
    "!pyscenic ctx adj.tsv \\\n",
    "    {f_db_names} \\\n",
    "    --annotations_fname {f_motif_path} \\\n",
    "    --expression_mtx_fname {f_loom_path_scenic} \\\n",
    "    --output reg.csv \\\n",
    "    --mask_dropouts \\\n",
    "    --num_workers 20"
   ]
  },
  {
   "cell_type": "code",
   "execution_count": null,
   "metadata": {},
   "outputs": [],
   "source": [
    "nGenesDetectedPerCell = np.sum(adata.X>0, axis=1)\n",
    "percentiles = nGenesDetectedPerCell.quantile([.01, .05, .10, .50, 1])\n",
    "print(percentiles)"
   ]
  },
  {
   "cell_type": "code",
   "execution_count": null,
   "metadata": {},
   "outputs": [],
   "source": [
    "fig, ax = plt.subplots(1, 1, figsize=(8, 5), dpi=150)\n",
    "sns.distplot(nGenesDetectedPerCell, norm_hist=False, kde=False, bins='fd')\n",
    "for i,x in enumerate(percentiles):\n",
    "    fig.gca().axvline(x=x, ymin=0,ymax=1, color='red')\n",
    "    ax.text(x=x, y=ax.get_ylim()[1], s=f'{int(x)} ({percentiles.index.values[i]*100}%)', color='red', rotation=30, size='x-small',rotation_mode='anchor' )\n",
    "ax.set_xlabel('# of genes')\n",
    "ax.set_ylabel('# of cells')\n",
    "fig.tight_layout()"
   ]
  },
  {
   "cell_type": "code",
   "execution_count": null,
   "metadata": {
    "vscode": {
     "languageId": "powershell"
    }
   },
   "outputs": [],
   "source": [
    "!pyscenic aucell \\\n",
    "    {f_loom_path_scenic} \\\n",
    "    reg.csv \\\n",
    "    --output {f_pyscenic_output} \\\n",
    "    --num_workers 20"
   ]
  },
  {
   "cell_type": "markdown",
   "metadata": {},
   "source": [
    "##### STEP 3: Cluster cells around regulons"
   ]
  },
  {
   "cell_type": "code",
   "execution_count": null,
   "metadata": {},
   "outputs": [],
   "source": [
    "lf = lp.connect( f_pyscenic_output, mode='r+', validate=False )\n",
    "auc_mtx = pd.DataFrame( lf.ca.RegulonsAUC, index=lf.ca.CellID)\n",
    "lf.close()"
   ]
  },
  {
   "cell_type": "code",
   "execution_count": null,
   "metadata": {},
   "outputs": [],
   "source": [
    "runUmap = umap.UMAP(n_neighbors=10, min_dist=0.4, metric='correlation').fit_transform\n",
    "dr_umap = runUmap( auc_mtx )\n",
    "pd.DataFrame(dr_umap, columns=['X', 'Y'], index=auc_mtx.index).to_csv( \"scenic_umap.txt\", sep='\\t')\n",
    "# tSNE\n",
    "tsne = TSNE( n_jobs=20 )\n",
    "dr_tsne = tsne.fit_transform( auc_mtx )\n",
    "pd.DataFrame(dr_tsne, columns=['X', 'Y'], index=auc_mtx.index).to_csv( \"scenic_tsne.txt\", sep='\\t')"
   ]
  },
  {
   "cell_type": "markdown",
   "metadata": {},
   "source": [
    "#### STEP 4 Integrate the Output --- THIS LOOKS PROBLEMATIC AND VERY NOT RIGHT"
   ]
  },
  {
   "cell_type": "code",
   "execution_count": null,
   "metadata": {},
   "outputs": [],
   "source": [
    "# scenic output\n",
    "lf = lp.connect( f_pyscenic_output, mode='r+', validate=False )\n",
    "meta = json.loads(zlib.decompress(base64.b64decode( lf.attrs.MetaData )))\n",
    "#exprMat = pd.DataFrame( lf[:,:], index=lf.ra.Gene, columns=lf.ca.CellID)\n",
    "auc_mtx = pd.DataFrame( lf.ca.RegulonsAUC, index=lf.ca.CellID)\n",
    "regulons = lf.ra.Regulons\n",
    "dr_umap = pd.read_csv( 'scenic_umap.txt', sep='\\t', header=0, index_col=0 )\n",
    "dr_tsne = pd.read_csv( 'scenic_tsne.txt', sep='\\t', header=0, index_col=0 )\n",
    "###"
   ]
  },
  {
   "cell_type": "code",
   "execution_count": null,
   "metadata": {},
   "outputs": [],
   "source": [
    "auc_mtx.columns = auc_mtx.columns.str.replace('\\(','_(')\n",
    "regulons.dtype.names = tuple( [ x.replace(\"(\",\"_(\") for x in regulons.dtype.names ] )\n",
    "# regulon thresholds\n",
    "rt = meta['regulonThresholds']\n",
    "for i,x in enumerate(rt):\n",
    "    tmp = x.get('regulon').replace(\"(\",\"_(\")\n",
    "    x.update( {'regulon': tmp} )"
   ]
  },
  {
   "cell_type": "code",
   "execution_count": null,
   "metadata": {},
   "outputs": [],
   "source": [
    "tsneDF = pd.DataFrame(adata.obsm['X_tsne'], columns=['_X', '_Y'])\n",
    "\n",
    "Embeddings_X = pd.DataFrame( index=lf.ca.CellID )\n",
    "Embeddings_X = pd.concat( [\n",
    "        pd.DataFrame(adata.obsm['X_umap'],index=adata.obs.index)[0] ,\n",
    "        pd.DataFrame(adata.obsm['X_pca'],index=adata.obs.index)[0] ,\n",
    "        dr_tsne['X'] ,\n",
    "        dr_umap['X']\n",
    "    ], sort=False, axis=1, join='outer' )\n",
    "Embeddings_X.columns = ['1','2','3','4']\n",
    "\n",
    "Embeddings_Y = pd.DataFrame( index=lf.ca.CellID )\n",
    "Embeddings_Y = pd.concat( [\n",
    "        pd.DataFrame(adata.obsm['X_umap'],index=adata.obs.index)[1] ,\n",
    "        pd.DataFrame(adata.obsm['X_pca'],index=adata.obs.index)[1] ,\n",
    "        dr_tsne['Y'] ,\n",
    "        dr_umap['Y']\n",
    "    ], sort=False, axis=1, join='outer' )\n",
    "Embeddings_Y.columns = ['1','2','3','4']"
   ]
  },
  {
   "cell_type": "code",
   "execution_count": null,
   "metadata": {},
   "outputs": [],
   "source": []
  }
 ],
 "metadata": {
  "kernelspec": {
   "display_name": ".venv",
   "language": "python",
   "name": "python3"
  },
  "language_info": {
   "codemirror_mode": {
    "name": "ipython",
    "version": 3
   },
   "file_extension": ".py",
   "mimetype": "text/x-python",
   "name": "python",
   "nbconvert_exporter": "python",
   "pygments_lexer": "ipython3",
   "version": "3.12.0"
  }
 },
 "nbformat": 4,
 "nbformat_minor": 2
}
