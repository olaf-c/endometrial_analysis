{
 "cells": [
  {
   "cell_type": "markdown",
   "metadata": {},
   "source": []
  },
  {
   "cell_type": "code",
   "execution_count": null,
   "metadata": {
    "vscode": {
     "languageId": "powershell"
    }
   },
   "outputs": [
    {
     "name": "stdout",
     "output_type": "stream",
     "text": [
      "^C\n",
      "Note: you may need to restart the kernel to use updated packages.\n",
      "Requirement already satisfied: pymde in d:\\coding\\comp_bio\\endometrial_analysis\\scripts\\integration\\.venv\\lib\\site-packages (0.1.18)\n",
      "Requirement already satisfied: matplotlib in d:\\coding\\comp_bio\\endometrial_analysis\\scripts\\integration\\.venv\\lib\\site-packages (from pymde) (3.9.2)\n",
      "Requirement already satisfied: numpy>=1.17.5 in d:\\coding\\comp_bio\\endometrial_analysis\\scripts\\integration\\.venv\\lib\\site-packages (from pymde) (2.0.2)\n",
      "Requirement already satisfied: pynndescent in d:\\coding\\comp_bio\\endometrial_analysis\\scripts\\integration\\.venv\\lib\\site-packages (from pymde) (0.5.13)\n",
      "Requirement already satisfied: scipy in d:\\coding\\comp_bio\\endometrial_analysis\\scripts\\integration\\.venv\\lib\\site-packages (from pymde) (1.14.1)\n",
      "Requirement already satisfied: torch>=1.7.1 in d:\\coding\\comp_bio\\endometrial_analysis\\scripts\\integration\\.venv\\lib\\site-packages (from pymde) (2.5.1+cu124)\n",
      "Requirement already satisfied: torchvision>=0.8.2 in d:\\coding\\comp_bio\\endometrial_analysis\\scripts\\integration\\.venv\\lib\\site-packages (from pymde) (0.20.1)\n",
      "Requirement already satisfied: requests in d:\\coding\\comp_bio\\endometrial_analysis\\scripts\\integration\\.venv\\lib\\site-packages (from pymde) (2.32.3)\n",
      "Requirement already satisfied: filelock in d:\\coding\\comp_bio\\endometrial_analysis\\scripts\\integration\\.venv\\lib\\site-packages (from torch>=1.7.1->pymde) (3.16.1)\n",
      "Requirement already satisfied: typing-extensions>=4.8.0 in d:\\coding\\comp_bio\\endometrial_analysis\\scripts\\integration\\.venv\\lib\\site-packages (from torch>=1.7.1->pymde) (4.12.2)\n",
      "Requirement already satisfied: networkx in d:\\coding\\comp_bio\\endometrial_analysis\\scripts\\integration\\.venv\\lib\\site-packages (from torch>=1.7.1->pymde) (3.4.2)\n",
      "Requirement already satisfied: jinja2 in d:\\coding\\comp_bio\\endometrial_analysis\\scripts\\integration\\.venv\\lib\\site-packages (from torch>=1.7.1->pymde) (3.1.4)\n",
      "Requirement already satisfied: fsspec in d:\\coding\\comp_bio\\endometrial_analysis\\scripts\\integration\\.venv\\lib\\site-packages (from torch>=1.7.1->pymde) (2024.10.0)\n",
      "Requirement already satisfied: setuptools in d:\\coding\\comp_bio\\endometrial_analysis\\scripts\\integration\\.venv\\lib\\site-packages (from torch>=1.7.1->pymde) (75.5.0)\n",
      "Requirement already satisfied: sympy==1.13.1 in d:\\coding\\comp_bio\\endometrial_analysis\\scripts\\integration\\.venv\\lib\\site-packages (from torch>=1.7.1->pymde) (1.13.1)\n",
      "Requirement already satisfied: mpmath<1.4,>=1.1.0 in d:\\coding\\comp_bio\\endometrial_analysis\\scripts\\integration\\.venv\\lib\\site-packages (from sympy==1.13.1->torch>=1.7.1->pymde) (1.3.0)\n",
      "Requirement already satisfied: pillow!=8.3.*,>=5.3.0 in d:\\coding\\comp_bio\\endometrial_analysis\\scripts\\integration\\.venv\\lib\\site-packages (from torchvision>=0.8.2->pymde) (11.0.0)\n",
      "Requirement already satisfied: contourpy>=1.0.1 in d:\\coding\\comp_bio\\endometrial_analysis\\scripts\\integration\\.venv\\lib\\site-packages (from matplotlib->pymde) (1.3.1)\n",
      "Requirement already satisfied: cycler>=0.10 in d:\\coding\\comp_bio\\endometrial_analysis\\scripts\\integration\\.venv\\lib\\site-packages (from matplotlib->pymde) (0.12.1)\n",
      "Requirement already satisfied: fonttools>=4.22.0 in d:\\coding\\comp_bio\\endometrial_analysis\\scripts\\integration\\.venv\\lib\\site-packages (from matplotlib->pymde) (4.55.0)\n",
      "Requirement already satisfied: kiwisolver>=1.3.1 in d:\\coding\\comp_bio\\endometrial_analysis\\scripts\\integration\\.venv\\lib\\site-packages (from matplotlib->pymde) (1.4.7)\n",
      "Requirement already satisfied: packaging>=20.0 in d:\\coding\\comp_bio\\endometrial_analysis\\scripts\\integration\\.venv\\lib\\site-packages (from matplotlib->pymde) (24.2)\n",
      "Requirement already satisfied: pyparsing>=2.3.1 in d:\\coding\\comp_bio\\endometrial_analysis\\scripts\\integration\\.venv\\lib\\site-packages (from matplotlib->pymde) (3.2.0)\n",
      "Requirement already satisfied: python-dateutil>=2.7 in d:\\coding\\comp_bio\\endometrial_analysis\\scripts\\integration\\.venv\\lib\\site-packages (from matplotlib->pymde) (2.9.0.post0)\n",
      "Requirement already satisfied: scikit-learn>=0.18 in d:\\coding\\comp_bio\\endometrial_analysis\\scripts\\integration\\.venv\\lib\\site-packages (from pynndescent->pymde) (1.5.2)\n",
      "Requirement already satisfied: numba>=0.51.2 in d:\\coding\\comp_bio\\endometrial_analysis\\scripts\\integration\\.venv\\lib\\site-packages (from pynndescent->pymde) (0.60.0)\n",
      "Requirement already satisfied: llvmlite>=0.30 in d:\\coding\\comp_bio\\endometrial_analysis\\scripts\\integration\\.venv\\lib\\site-packages (from pynndescent->pymde) (0.43.0)\n",
      "Requirement already satisfied: joblib>=0.11 in d:\\coding\\comp_bio\\endometrial_analysis\\scripts\\integration\\.venv\\lib\\site-packages (from pynndescent->pymde) (1.4.2)\n",
      "Requirement already satisfied: charset-normalizer<4,>=2 in d:\\coding\\comp_bio\\endometrial_analysis\\scripts\\integration\\.venv\\lib\\site-packages (from requests->pymde) (3.4.0)\n",
      "Requirement already satisfied: idna<4,>=2.5 in d:\\coding\\comp_bio\\endometrial_analysis\\scripts\\integration\\.venv\\lib\\site-packages (from requests->pymde) (3.10)\n",
      "Requirement already satisfied: urllib3<3,>=1.21.1 in d:\\coding\\comp_bio\\endometrial_analysis\\scripts\\integration\\.venv\\lib\\site-packages (from requests->pymde) (2.2.3)\n",
      "Requirement already satisfied: certifi>=2017.4.17 in d:\\coding\\comp_bio\\endometrial_analysis\\scripts\\integration\\.venv\\lib\\site-packages (from requests->pymde) (2024.8.30)\n",
      "Requirement already satisfied: six>=1.5 in d:\\coding\\comp_bio\\endometrial_analysis\\scripts\\integration\\.venv\\lib\\site-packages (from python-dateutil>=2.7->matplotlib->pymde) (1.16.0)\n",
      "Requirement already satisfied: threadpoolctl>=3.1.0 in d:\\coding\\comp_bio\\endometrial_analysis\\scripts\\integration\\.venv\\lib\\site-packages (from scikit-learn>=0.18->pynndescent->pymde) (3.5.0)\n",
      "Requirement already satisfied: MarkupSafe>=2.0 in d:\\coding\\comp_bio\\endometrial_analysis\\scripts\\integration\\.venv\\lib\\site-packages (from jinja2->torch>=1.7.1->pymde) (3.0.2)\n",
      "Requirement already satisfied: leidenalg in d:\\coding\\comp_bio\\endometrial_analysis\\scripts\\integration\\.venv\\lib\\site-packages (0.10.2)Note: you may need to restart the kernel to use updated packages.\n",
      "\n",
      "Requirement already satisfied: igraph<0.12,>=0.10.0 in d:\\coding\\comp_bio\\endometrial_analysis\\scripts\\integration\\.venv\\lib\\site-packages (from leidenalg) (0.11.8)\n",
      "Requirement already satisfied: texttable>=1.6.2 in d:\\coding\\comp_bio\\endometrial_analysis\\scripts\\integration\\.venv\\lib\\site-packages (from igraph<0.12,>=0.10.0->leidenalg) (1.7.0)\n",
      "Requirement already satisfied: igraph in d:\\coding\\comp_bio\\endometrial_analysis\\scripts\\integration\\.venv\\lib\\site-packages (0.11.8)Note: you may need to restart the kernel to use updated packages.\n",
      "\n",
      "Requirement already satisfied: texttable>=1.6.2 in d:\\coding\\comp_bio\\endometrial_analysis\\scripts\\integration\\.venv\\lib\\site-packages (from igraph) (1.7.0)\n"
     ]
    }
   ],
   "source": [
    "\n",
    "%pip install pandas\n",
    "%pip install numpy\n",
    "%pip install scanpy\n",
    "%pip install anndata\n"
   ]
  },
  {
   "cell_type": "markdown",
   "metadata": {},
   "source": [
    "Import packages"
   ]
  },
  {
   "cell_type": "code",
   "execution_count": null,
   "metadata": {},
   "outputs": [],
   "source": [
    "#general\n",
    "import os\n",
    "import glob\n",
    "import pathlib\n",
    "import tarfile\n",
    "import numpy as np\n",
    "import scanpy as sc\n",
    "import pandas as pd\n",
    "\n",
    "import anndata as ad\n",
    "from anndata.experimental.multi_files import AnnCollection\n",
    "\n",
    "\n"
   ]
  },
  {
   "cell_type": "code",
   "execution_count": null,
   "metadata": {},
   "outputs": [],
   "source": [
    "import pathlib\n",
    "current_directory = pathlib.Path.cwd()\n",
    "module_directory = current_directory.parent.parent\n",
    "input_path = module_directory / \"input\"\n",
    "zip_path = input_path / \"biostudiesarrayE-MTAB-14039\"\n",
    "extracted_path = input_path / \"extracted_data\"\n",
    "hd5a_path = input_path / 'hd5a_files'\n",
    "scrna_metadata_path = input_path /\"scRNA_metadata\"\n"
   ]
  },
  {
   "cell_type": "code",
   "execution_count": null,
   "metadata": {},
   "outputs": [],
   "source": [
    "import shutil\n",
    "\n",
    "total, used, free = shutil.disk_usage(\"/\")\n",
    "print(f\"Total: {total // (2**30)} GiB\")\n",
    "print(f\"Used: {used // (2**30)} GiB\")\n",
    "print(f\"Free: {free // (2**30)} GiB\")"
   ]
  },
  {
   "cell_type": "code",
   "execution_count": null,
   "metadata": {},
   "outputs": [],
   "source": [
    "\n",
    "# Function to extract tar.gz files\n",
    "def extract_tar_gz(tar_gz_path, extract_dir):\n",
    "    with tarfile.open(tar_gz_path, \"r:gz\") as tar:\n",
    "        tar.extractall(path=extract_dir)\n",
    "\n",
    "# Directory containing your datasets\n",
    "  # Folder to save the extracted files\n",
    "os.makedirs(extracted_path, exist_ok=True)\n",
    "\n",
    "# List all top-level files in the input directory\n",
    "tar_gz_files = [f for f in os.listdir(zip_path) if f.endswith('.tar.gz')]\n",
    "\n",
    "# Extract tar.gz files\n",
    "for tar_gz_file in tar_gz_files:\n",
    "    tar_gz_path = os.path.join(zip_path, tar_gz_file)\n",
    "    \n",
    "    # Extract the tar.gz file to the extracted directory\n",
    "    extract_tar_gz(tar_gz_path, extracted_path)\n"
   ]
  },
  {
   "cell_type": "code",
   "execution_count": null,
   "metadata": {},
   "outputs": [],
   "source": [
    "\n",
    "# Directory where the files have been extracted\n",
    "# List to store directory names under the 'work' directory\n",
    "dataset_dirs = []\n",
    "\n",
    "# Traverse the 'work' directory to find subdirectories\n",
    "for root, dirs, files in os.walk(extracted_path):\n",
    "    # Only consider directories directly under the 'work' directory\n",
    "    if \"work\" in root:\n",
    "        for dir_name in dirs:\n",
    "            path = os.path.join(root, dir_name)\n",
    "            # Append the directory name under 'work'\n",
    "            dataset_dirs.append(path)\n",
    "\n",
    "# Now dataset_dirs contains the names of all subdirectories under 'work'\n",
    "print(\"Dataset directories under 'work':\", dataset_dirs)\n"
   ]
  },
  {
   "cell_type": "code",
   "execution_count": null,
   "metadata": {},
   "outputs": [],
   "source": [
    "print(dataset_dirs)"
   ]
  },
  {
   "cell_type": "markdown",
   "metadata": {},
   "source": [
    "\n",
    "Docs: https://anndata.readthedocs.io/en/latest/tutorials/notebooks/anncollection.html\n",
    "https://ccbskillssem.github.io/assets/scvi_notebook.html\n",
    "\n",
    "warning: \"If you use join='outer' this fills 0s for sparse data when variables are absent in a batch. Use this with care. Dense data is filled with NaN.\"\n",
    "\n",
    "https://discourse.scverse.org/t/how-to-concatenate-anndata-properly/887/2\n",
    "strongly recommends datacleaning each dataset before concatenating -- assuming that they did it for us"
   ]
  },
  {
   "cell_type": "code",
   "execution_count": null,
   "metadata": {},
   "outputs": [],
   "source": [
    "\n",
    "if not os.path.exists(hd5a_path):\n",
    "    os.makedirs(hd5a_path) \n",
    "combined_adatas_dict = {}\n",
    "for directory in dataset_dirs:\n",
    "   adata = sc.read_10x_mtx(directory)\n",
    "    adata.X = adata.X.tocsr()\n",
    "    #dir_name = directory.split(\"\\\\\")[-1]\n",
    "    dir_name = os.path.basename(directory) #platform independent\n",
    "    h5ad_filename = f\"{dir_name}.h5ad\"\n",
    "\n",
    "    h5ad_path = os.path.join(hd5a_path, h5ad_filename)\n",
    "   combined_adata.write(h5ad_path)\n",
    "    adatas_dict[dir_name] = h5ad_path\n"
   ]
  },
  {
   "cell_type": "code",
   "execution_count": null,
   "metadata": {},
   "outputs": [],
   "source": [
    "print(adatas_dict)"
   ]
  },
  {
   "cell_type": "code",
   "execution_count": null,
   "metadata": {},
   "outputs": [],
   "source": [
    "\n",
    "combined_on_disk_name = scrna_output/'data_combined_on_disk.h5ad'\n",
    "#os.remove(combined_on_disk_name)\n",
    "ad.experimental.concat_on_disk(\n",
    "    adatas_dict,          # List of paths to the individual .h5ad files\n",
    "    combined_on_disk_name,  # Path to the combined output file\n",
    "    label='dataset'      # Optional: label for the datasets\n",
    ")"
   ]
  }
 ],
 "metadata": {
  "kernelspec": {
   "display_name": ".venv",
   "language": "python",
   "name": "python3"
  },
  "language_info": {
   "codemirror_mode": {
    "name": "ipython",
    "version": 3
   },
   "file_extension": ".py",
   "mimetype": "text/x-python",
   "name": "python",
   "nbconvert_exporter": "python",
   "pygments_lexer": "ipython3",
   "version": "3.12.4"
  }
 },
 "nbformat": 4,
 "nbformat_minor": 2
}
